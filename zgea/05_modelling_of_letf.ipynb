{
 "cells": [
  {
   "cell_type": "markdown",
   "id": "mexican-security",
   "metadata": {},
   "source": [
    "# Modelling of (L)ETFs\n",
    "\n",
    "In this section we will model (L)ETFs out of our basic asset classes. To verify our model, we check the modeled results aginst real ETFs for the same underlaying. We start with ETFs from US and if we get reasonable results here, we also check against EU ETFs, if possible."
   ]
  },
  {
   "cell_type": "markdown",
   "id": "composite-applicant",
   "metadata": {},
   "source": [
    "Again, hat bogleheads there is a thread about a LETF model, which can be used as source four our work here: https://www.bogleheads.org/forum/viewtopic.php?f=10&t=272640#top\n",
    "\n",
    "In the [post](https://www.bogleheads.org/forum/viewtopic.php?p=4421454#p4421454) the user `siamond`, which is also maintaining Simbas Backtest Spreadsheet, comes up with a model, which can more or less be seen as final. Later another user makes this model even more realistic, by introducing some more correction values, for which timeseries are available. However it is often hard to get those timeseries from 1943. So will use the model of `siamond` here, which uses data, we already have and abstracts the other values in a higher adjustment factor, which is some kind of curve fitting. \n",
    "\n",
    "In this model the daily return of a (L)ETF $r_{return}$ is calculated by:\n",
    "\n",
    "$$r_{letf} = L \\cdot r_{index} - ER_{daily} - (L-1) \\cdot BR_{daily} + A_{daily}$$\n",
    "\n",
    "With the following terms:\n",
    "* $r_{index}$ is the daily return of the underlaying \n",
    "* $L$ is the leverage factor\n",
    "* $ER_{daily}$ is the daily expense ratio of the ETF\n",
    "* $BR_{daily}$ is the daily borrowing rate\n",
    "* $A_{daily}$ is an adjustment factor, which abstracts away other tracking error and ETF expenses \n",
    "\n",
    "\n",
    "For calculating daily percentage values out of yearly values, we use the geometric mean, which is defined as:\n",
    "\n",
    "$$x_{daily} = \\sqrt[\\frac{1}{365}]{x_{yearly} + 1} - 1$$\n",
    "\n",
    "There are many small details about this formula discussed in the thread. For example to use 360 days per year instead of 365 for to not use geometric mean for the borrowing rate. However during my experiments I found out, that using 365 days and geometric mean is leading more or less to the same results. "
   ]
  },
  {
   "cell_type": "code",
   "execution_count": null,
   "id": "natural-affiliation",
   "metadata": {},
   "outputs": [],
   "source": [
    "import pandas as pd\n",
    "from pathlib import Path"
   ]
  },
  {
   "cell_type": "code",
   "execution_count": null,
   "id": "fiscal-nancy",
   "metadata": {},
   "outputs": [],
   "source": [
    "from utils.data import download_from_yahoo, download_from_investing\n",
    "from utils.math import calc_returns, calc_growth, normalize, reindex_and_fill\n",
    "from utils.plots import draw_growth_chart, draw_telltale_chart"
   ]
  },
  {
   "cell_type": "code",
   "execution_count": null,
   "id": "generic-punch",
   "metadata": {},
   "outputs": [],
   "source": [
    "# implement discussed leveraged ETF\n",
    "def calc_letf(daily_returns, er, borrowing_rate=None, leverage = 1, adjustment_factor = 0, days_in_year = 365, percent=100):\n",
    "    def gmean(x):\n",
    "        return (x + 1)**(1 / days_in_year) - 1\n",
    "    \n",
    "    assert (leverage == 1) or (borrowing_rate is not None), \"If leverage is not 1, you must provide the ffr argument!\"\n",
    "    \n",
    "    if borrowing_rate is not None:\n",
    "        daily_borrowing_rate = (leverage - 1) * gmean(-borrowing_rate/percent)\n",
    "    else:\n",
    "        daily_borrowing_rate = 0\n",
    "        \n",
    "    daily_adjustment_factor = gmean(adjustment_factor/percent)\n",
    "    daily_er = gmean(-er/percent)\n",
    "    \n",
    "    return daily_returns * leverage + daily_er + daily_borrowing_rate + daily_adjustment_factor\n",
    "    "
   ]
  },
  {
   "cell_type": "code",
   "execution_count": null,
   "id": "regulation-stick",
   "metadata": {},
   "outputs": [],
   "source": [
    "# load raw and clean data\n",
    "clean_data_path = Path(\"clean_data\")\n",
    "raw_data_path = Path(\"raw_data\")"
   ]
  },
  {
   "cell_type": "code",
   "execution_count": null,
   "id": "atmospheric-depth",
   "metadata": {},
   "outputs": [],
   "source": [
    "# get preprocessed asset data and convert to have useable index\n",
    "assets_path = clean_data_path / \"assets.xlsx\"\n",
    "assets = pd.read_excel(assets_path, index_col = 0)\n",
    "assets.index = pd.to_datetime(assets.index)\n",
    "assets.head()"
   ]
  },
  {
   "cell_type": "code",
   "execution_count": null,
   "id": "square-demonstration",
   "metadata": {},
   "outputs": [],
   "source": [
    "# get preprocessed borrowing rates and convert to have useable index\n",
    "borrowing = pd.read_excel(clean_data_path / \"borrowing_rate.xlsx\", index_col = 0)\n",
    "borrowing.index = pd.to_datetime(borrowing.index)\n",
    "borrowing = borrowing['borrowing_rate']\n",
    "borrowing.head()"
   ]
  },
  {
   "cell_type": "code",
   "execution_count": null,
   "id": "governing-glucose",
   "metadata": {},
   "outputs": [],
   "source": [
    "# calculate daily (percentage) returns\n",
    "assets_daily_returns = calc_returns(assets, freq=\"D\")\n",
    "assets_daily_returns.head()"
   ]
  },
  {
   "cell_type": "markdown",
   "id": "parental-atmosphere",
   "metadata": {},
   "source": [
    "## S&P 500 (L)ETFs\n",
    "\n",
    "Let's start buy using the S&P 500 index an create ETFs with 1x, 2x and 3x leverage here. The comparison ETFs are:\n",
    "* S&P 500 x1 => SPY (+ dividends)\n",
    "* S&P 500 x2 => ULPIX (+ dividends)\n",
    "* S&P 500 x3 => UPRO (+ dividends)"
   ]
  },
  {
   "cell_type": "code",
   "execution_count": null,
   "id": "casual-questionnaire",
   "metadata": {},
   "outputs": [],
   "source": [
    "spy = download_from_yahoo(\"SPY\", adjust=True)\n",
    "spy = reindex_and_fill(spy, min(spy.index), max(spy.index), freq=\"D\")\n",
    "spy.head()"
   ]
  },
  {
   "cell_type": "markdown",
   "id": "amino-oxford",
   "metadata": {},
   "source": [
    "Now we compare the SPY ETF growth with our S&P 500 time-series. In the telltale chart, we use the SPY as refernce. "
   ]
  },
  {
   "cell_type": "code",
   "execution_count": null,
   "id": "geographic-attention",
   "metadata": {},
   "outputs": [],
   "source": [
    "draw_growth_chart(\n",
    "    {\n",
    "        'SPY (S&P 500 x1)': normalize(spy, assets['sp500+div']),\n",
    "        'S&P 500 (incl. dividends)': assets['sp500+div'],\n",
    "    },\n",
    "    \"S&P 500\",\n",
    "    overlapping_only = True,\n",
    ")\n",
    "draw_telltale_chart(\n",
    "    normalize(spy, assets['sp500+div']),\n",
    "    {\n",
    "        'S&P 500': assets['sp500+div'],\n",
    "    },\n",
    "    \"S&P 500 (reference: SPY)\",\n",
    "    overlapping_only = True,\n",
    ")"
   ]
  },
  {
   "cell_type": "markdown",
   "id": "historical-wyoming",
   "metadata": {},
   "source": [
    "We can see, that our S&P 500 time-series is already tracking the SPY very well. However over many years the S&P 500 is diverging from the SPY reference. This is, because we did not take the Expense Ratio of the SPY into account. For this we now model a an ETF. The SPY ETF has an ER of 0,09%. "
   ]
  },
  {
   "cell_type": "code",
   "execution_count": null,
   "id": "theoretical-superintendent",
   "metadata": {},
   "outputs": [],
   "source": [
    "etfs = pd.DataFrame(index=assets.index)"
   ]
  },
  {
   "cell_type": "code",
   "execution_count": null,
   "id": "exclusive-wrong",
   "metadata": {},
   "outputs": [],
   "source": [
    "etfs['1x_sp500_us'] = calc_growth(calc_letf(\n",
    "    assets_daily_returns['sp500+div'], \n",
    "    er=0.09, \n",
    "    percent=100\n",
    "), percent=1)\n",
    "etfs.head()"
   ]
  },
  {
   "cell_type": "code",
   "execution_count": null,
   "id": "adjusted-antique",
   "metadata": {},
   "outputs": [],
   "source": [
    "n = normalize(spy, etfs['1x_sp500_us'])\n",
    "draw_growth_chart(\n",
    "    {\n",
    "        'SPY (S&P 500 x1)': n,\n",
    "        '1x S&P 500 (model)': etfs['1x_sp500_us'],\n",
    "    },\n",
    "    \"S&P 500\",\n",
    "    overlapping_only = True,\n",
    ")\n",
    "draw_telltale_chart(\n",
    "    n,\n",
    "    {\n",
    "        '1x S&P 500 (model)': etfs['1x_sp500_us'],\n",
    "    },\n",
    "    \"S&P 500 (reference: SPY)\",\n",
    "    overlapping_only = True,\n",
    ")"
   ]
  },
  {
   "cell_type": "markdown",
   "id": "cheap-judgment",
   "metadata": {},
   "source": [
    "With the expense ratio of 0,09% our ETF model is not diverging anymore so strong. But there is still a positive offset, which slightly grows over time. Thus we introduce additionally 0,04% per year as adjustment factor. This adjustment factor takes further tracking errors of the ETF into account."
   ]
  },
  {
   "cell_type": "code",
   "execution_count": null,
   "id": "affecting-nightmare",
   "metadata": {},
   "outputs": [],
   "source": [
    "etfs['1x_sp500_us'] = calc_growth(calc_letf(\n",
    "    assets_daily_returns['sp500+div'], \n",
    "    er=0.09, \n",
    "    adjustment_factor=-0.04,\n",
    "    percent=100,\n",
    "), percent=1)\n",
    "etfs.head()"
   ]
  },
  {
   "cell_type": "code",
   "execution_count": null,
   "id": "developmental-mileage",
   "metadata": {},
   "outputs": [],
   "source": [
    "n = normalize(spy, etfs['1x_sp500_us'])\n",
    "draw_growth_chart(\n",
    "    {\n",
    "        'SPY (S&P 500 x1)': n,\n",
    "        '1x S&P 500 (model)': etfs['1x_sp500_us'],\n",
    "    },\n",
    "    \"S&P 500\",\n",
    "    overlapping_only = True,\n",
    ")\n",
    "draw_telltale_chart(\n",
    "    n,\n",
    "    {\n",
    "        '1x S&P 500 (model)': etfs['1x_sp500_us'],\n",
    "    },\n",
    "    \"S&P 500 (reference: SPY)\",\n",
    "    overlapping_only = True,\n",
    ")"
   ]
  },
  {
   "cell_type": "markdown",
   "id": "liberal-science",
   "metadata": {},
   "source": [
    "Eventhough our ETF model is slighly higher for many years, we clearly see that the difference is not growing anymore. Thus it seems that the model is tracking the SPY good enough. "
   ]
  },
  {
   "cell_type": "markdown",
   "id": "embedded-adventure",
   "metadata": {},
   "source": [
    "Next we concentrate on a leverage of 2 and compare it to the ULPIX."
   ]
  },
  {
   "cell_type": "code",
   "execution_count": null,
   "id": "difficult-angel",
   "metadata": {},
   "outputs": [],
   "source": [
    "ulpix = download_from_yahoo(\"ULPIX\", adjust=True)\n",
    "ulpix = reindex_and_fill(ulpix, min(ulpix.index), max(ulpix.index), freq=\"D\")\n",
    "ulpix.head()"
   ]
  },
  {
   "cell_type": "code",
   "execution_count": null,
   "id": "english-tuesday",
   "metadata": {},
   "outputs": [],
   "source": [
    "n = normalize(ulpix, assets['sp500+div'])\n",
    "draw_growth_chart(\n",
    "    {\n",
    "        'ULPIX (S&P 500 x2)': n,\n",
    "        'S&P 500 (incl. dividends)': assets['sp500+div'],\n",
    "    },\n",
    "    \"S&P 500\",\n",
    "    overlapping_only = True,\n",
    ")\n",
    "draw_telltale_chart(\n",
    "    n,\n",
    "    {\n",
    "        'S&P 500 (incl. dividends)': assets['sp500+div'],\n",
    "    },\n",
    "    \"S&P 500 (reference: ULPIX)\",\n",
    "    overlapping_only = True,\n",
    ")"
   ]
  },
  {
   "cell_type": "markdown",
   "id": "eleven-diabetes",
   "metadata": {},
   "source": [
    "Comparing the ULPIX with our S&P 500 time-series reviels, that it was underperforming the index by a long periode. Only recently since the corona crash it recovers. \n",
    "\n",
    "ULPIX has an expanse ratio of 1,51%. So we can create an ETF model out of it."
   ]
  },
  {
   "cell_type": "code",
   "execution_count": null,
   "id": "regular-filename",
   "metadata": {},
   "outputs": [],
   "source": [
    "etfs['2x_sp500_us'] = calc_growth(calc_letf(\n",
    "    assets_daily_returns['sp500+div'], \n",
    "    borrowing_rate=borrowing,\n",
    "    leverage=2,\n",
    "    er=1.51, \n",
    "    adjustment_factor=0.0,\n",
    "    percent=100\n",
    "), percent=1)\n",
    "etfs.head()"
   ]
  },
  {
   "cell_type": "code",
   "execution_count": null,
   "id": "wicked-malta",
   "metadata": {},
   "outputs": [],
   "source": [
    "n = normalize(ulpix, etfs['2x_sp500_us'])\n",
    "draw_growth_chart(\n",
    "    {\n",
    "        'ULPIX (S&P 500 x2)': n,\n",
    "        '2x S&P 500 (model)': etfs['2x_sp500_us'],\n",
    "    },\n",
    "    \"S&P 500\",\n",
    "    overlapping_only = True,\n",
    ")\n",
    "draw_telltale_chart(\n",
    "    n,\n",
    "    {\n",
    "        '2x S&P 500 (model)': etfs['2x_sp500_us'],\n",
    "    },\n",
    "    \"S&P 500 (reference: ULPIX)\",\n",
    "    overlapping_only = True,\n",
    ")"
   ]
  },
  {
   "cell_type": "markdown",
   "id": "ordered-france",
   "metadata": {},
   "source": [
    "As we can see, our model diverges over time from the ULPIX. So we have to add an adjustment factor for keeping further costs into account. We chose here -1.1% per year. "
   ]
  },
  {
   "cell_type": "code",
   "execution_count": null,
   "id": "through-soviet",
   "metadata": {},
   "outputs": [],
   "source": [
    "etfs['2x_sp500_us'] = calc_growth(calc_letf(\n",
    "    assets_daily_returns['sp500+div'], \n",
    "    borrowing_rate=borrowing,\n",
    "    leverage=2,\n",
    "    er=1.51, \n",
    "    adjustment_factor=-1.1,\n",
    "    percent=100\n",
    "), percent=1)\n",
    "etfs.head()"
   ]
  },
  {
   "cell_type": "code",
   "execution_count": null,
   "id": "legitimate-biology",
   "metadata": {},
   "outputs": [],
   "source": [
    "n = normalize(ulpix, etfs['2x_sp500_us'])\n",
    "draw_growth_chart(\n",
    "    {\n",
    "        'ULPIX (S&P 500 x2)': n,\n",
    "        '2x S&P 500 (model)': etfs['2x_sp500_us'],\n",
    "    },\n",
    "    \"S&P 500\",\n",
    "    overlapping_only = True,\n",
    ")\n",
    "draw_telltale_chart(\n",
    "    n,\n",
    "    {\n",
    "        '2x S&P 500 (model)': etfs['2x_sp500_us'],\n",
    "    },\n",
    "    \"S&P 500 (reference: ULPIX)\",\n",
    "    overlapping_only = True,\n",
    ")"
   ]
  },
  {
   "cell_type": "markdown",
   "id": "supported-heading",
   "metadata": {},
   "source": [
    "Now the error curve ist mostly flat and not growing over time. There are several huge spikes like the on on 13th of March 2020. On that day the S&P 500 increased quite a lot, while the ULPIX did not increase. This can also be seen on other platforms, when comparing ULPIX with S&P 500 on that day. So, we can assume, that those are the tracking errors of the fund. Apart from that, especially the mid- and longterm trend seems to be fine for our model. "
   ]
  },
  {
   "cell_type": "markdown",
   "id": "crucial-victim",
   "metadata": {},
   "source": [
    "Let's download the UPRO data and model this LETF."
   ]
  },
  {
   "cell_type": "code",
   "execution_count": null,
   "id": "chemical-citizenship",
   "metadata": {},
   "outputs": [],
   "source": [
    "upro = download_from_yahoo(\"UPRO\", adjust=True)\n",
    "upro.head()"
   ]
  },
  {
   "cell_type": "code",
   "execution_count": null,
   "id": "light-webcam",
   "metadata": {},
   "outputs": [],
   "source": [
    "n = normalize(upro, assets['sp500+div'])\n",
    "draw_growth_chart(\n",
    "    {\n",
    "        'UPRO (S&P 500 x3)': n,\n",
    "        'S&P 500 (incl. dividends)': assets['sp500+div'],\n",
    "    },\n",
    "    \"S&P 500\",\n",
    "    overlapping_only = True,\n",
    ")\n",
    "draw_telltale_chart(\n",
    "    n,\n",
    "    {\n",
    "        'S&P 500 (incl. dividends)': assets['sp500+div'],\n",
    "    },\n",
    "    \"S&P 500 (reference: UPRO)\",\n",
    "    overlapping_only = True,\n",
    ")"
   ]
  },
  {
   "cell_type": "markdown",
   "id": "filled-block",
   "metadata": {},
   "source": [
    "Obvoisly the UPRO has outperformed the S&P 500 in the bullish market phase after the financial crisis. "
   ]
  },
  {
   "cell_type": "code",
   "execution_count": null,
   "id": "front-barrier",
   "metadata": {},
   "outputs": [],
   "source": [
    "etfs['3x_sp500_us'] = calc_growth(calc_letf(\n",
    "    assets_daily_returns['sp500+div'], \n",
    "    borrowing_rate=borrowing,\n",
    "    leverage=3,\n",
    "    er=0.91, \n",
    "    adjustment_factor=0.0,\n",
    "    percent=100\n",
    "), percent=1)\n",
    "etfs.head()"
   ]
  },
  {
   "cell_type": "code",
   "execution_count": null,
   "id": "close-madison",
   "metadata": {},
   "outputs": [],
   "source": [
    "n = normalize(upro, etfs['3x_sp500_us'])\n",
    "draw_growth_chart(\n",
    "    {\n",
    "        'UPRO (S&P 500 x3)': n,\n",
    "        '3x S&P 500 (model)': etfs['3x_sp500_us'],\n",
    "    },\n",
    "    \"S&P 500\",\n",
    "    overlapping_only = True,\n",
    ")\n",
    "draw_telltale_chart(\n",
    "    n,\n",
    "    {\n",
    "        '3x S&P 500 (model)': etfs['3x_sp500_us'],\n",
    "    },\n",
    "    \"S&P 500 (reference: UPRO)\",\n",
    "    overlapping_only = True,\n",
    ")"
   ]
  },
  {
   "cell_type": "markdown",
   "id": "cellular-clinton",
   "metadata": {},
   "source": [
    "Also here, the model is in generel following the UPRO, but it diverges over time from it. So we also set here an adjustment factor of -1.0%."
   ]
  },
  {
   "cell_type": "code",
   "execution_count": null,
   "id": "promotional-colonial",
   "metadata": {},
   "outputs": [],
   "source": [
    "etfs['3x_sp500_us'] = calc_growth(calc_letf(\n",
    "    assets_daily_returns['sp500+div'], \n",
    "    borrowing_rate=borrowing,\n",
    "    leverage=3,\n",
    "    er=0.91, \n",
    "    adjustment_factor=-1.0,\n",
    "    percent=100\n",
    "), percent=1)\n",
    "etfs.head()"
   ]
  },
  {
   "cell_type": "code",
   "execution_count": null,
   "id": "dutch-model",
   "metadata": {},
   "outputs": [],
   "source": [
    "n = normalize(upro, etfs['3x_sp500_us'])\n",
    "draw_growth_chart(\n",
    "    {\n",
    "        'UPRO (S&P 500 x3)': n,\n",
    "        '3x S&P 500 (model)': etfs['3x_sp500_us'],\n",
    "    },\n",
    "    \"S&P 500\",\n",
    "    overlapping_only = True,\n",
    ")\n",
    "draw_telltale_chart(\n",
    "    n,\n",
    "    {\n",
    "        '3x S&P 500 (model)': etfs['3x_sp500_us'],\n",
    "    },\n",
    "    \"S&P 500 (reference: UPRO)\",\n",
    "    overlapping_only = True,\n",
    ")"
   ]
  },
  {
   "cell_type": "markdown",
   "id": "amber-forum",
   "metadata": {},
   "source": [
    "This makes the model stable, so we now also found a model for the UPRO. In the next step, we focus on leverage ETFs from europe for the S&P 500. \n",
    "\n",
    "Here we take: \n",
    "* S&P 500 1x => iShares Core S&P 500 UCITS ETF (ticker `SXR8`)\n",
    "* S&P 500 2x => S&P 500 2x Leveraged Daily Swap UCITS ETF (ticker `DBPG`)\n",
    "* S&P 500 3x => WisdomTree S&P 500 3x Daily Leveraged (ticker `3USL`)*\n",
    "\n",
    "__*) Keep in mind that the WisdomTree is not an ETF, but an ETN. This includes a higher risk when the emittent gets bunkrupt.__\n",
    "\n",
    "Since all those ETP prices are given in EUR, we have to calculate the USD price out of it, before we can use it to compare our modelling. The following function will help us with that."
   ]
  },
  {
   "cell_type": "code",
   "execution_count": null,
   "id": "specified-lindsay",
   "metadata": {},
   "outputs": [],
   "source": [
    "def to_usd(data):\n",
    "    assert min(data.index) >= min(eurusd.index)\n",
    "    assert max(data.index) <= max(eurusd.index)\n",
    "    return data * eurusd.loc[min(data.index):max(data.index)]\n",
    "\n",
    "eurusd = download_from_yahoo(\"EURUSD=X\")\n",
    "eurusd.head()"
   ]
  },
  {
   "cell_type": "code",
   "execution_count": null,
   "id": "biological-miracle",
   "metadata": {},
   "outputs": [],
   "source": [
    "sxr8 = to_usd(download_from_yahoo(\"SXR8.DE\", adjust=True))\n",
    "sxr8.head()"
   ]
  },
  {
   "cell_type": "code",
   "execution_count": null,
   "id": "canadian-michael",
   "metadata": {},
   "outputs": [],
   "source": [
    "n = normalize(sxr8, assets['sp500+div'])\n",
    "draw_growth_chart(\n",
    "    {\n",
    "        'SXR8 (S&P 500 x1)': n,\n",
    "        'S&P 500 (incl. dividends)': assets['sp500+div'],\n",
    "    },\n",
    "    \"S&P 500\",\n",
    "    overlapping_only = True,\n",
    ")"
   ]
  },
  {
   "cell_type": "markdown",
   "id": "widespread-newspaper",
   "metadata": {},
   "source": [
    "We can see a huge glitch in the ETF at the 24.10.2010. Due to this glitch the ETF lacks behinds the real index. Since other exchange places like Frankfurt oder Milan does not show this glitch (but does not provide data for the years before), we ignore it and just take the ETF from beginning of 2011 for comparison."
   ]
  },
  {
   "cell_type": "code",
   "execution_count": null,
   "id": "signed-brazilian",
   "metadata": {},
   "outputs": [],
   "source": [
    "sxr8 = to_usd(download_from_yahoo(\"SXR8.DE\", adjust=True)).loc['2011':]\n",
    "sxr8.head()"
   ]
  },
  {
   "cell_type": "code",
   "execution_count": null,
   "id": "solar-slide",
   "metadata": {},
   "outputs": [],
   "source": [
    "n = normalize(sxr8, assets['sp500+div'])\n",
    "draw_growth_chart(\n",
    "    {\n",
    "        'SXR8 (S&P 500 x1)': n,\n",
    "        'S&P 500 (incl. dividends)': assets['sp500+div'],\n",
    "    },\n",
    "    \"S&P 500\",\n",
    "    overlapping_only = True,\n",
    ")"
   ]
  },
  {
   "cell_type": "markdown",
   "id": "advanced-proposal",
   "metadata": {},
   "source": [
    "Now both time-lines are following each-other, but the real index outperforms over time the ETF, which is logical because of the expense ratio. Now we create the model for this ETF. As expense ratio, we set a value of 0,07% per year."
   ]
  },
  {
   "cell_type": "code",
   "execution_count": null,
   "id": "initial-utilization",
   "metadata": {},
   "outputs": [],
   "source": [
    "etfs['1x_sp500_eu'] = calc_growth(calc_letf(\n",
    "    assets_daily_returns['sp500+div'], \n",
    "    er=0.07, \n",
    "    percent=100,\n",
    "    adjustment_factor=0,\n",
    "), percent=1)\n",
    "etfs.head()"
   ]
  },
  {
   "cell_type": "code",
   "execution_count": null,
   "id": "approximate-edition",
   "metadata": {},
   "outputs": [],
   "source": [
    "n = normalize(sxr8, etfs['1x_sp500_eu'])\n",
    "draw_growth_chart(\n",
    "    {\n",
    "        'SXR8 (S&P 500 x1)': n,\n",
    "        '1x S&P 500 (model)': etfs['1x_sp500_eu'],\n",
    "    },\n",
    "    \"S&P 500\",\n",
    "    overlapping_only = True,\n",
    ")\n",
    "draw_telltale_chart(\n",
    "    n,\n",
    "    {\n",
    "        '1x S&P 500 (model)': etfs['1x_sp500_eu'],\n",
    "    },\n",
    "    \"S&P 500 (reference: SXR8)\",\n",
    "    overlapping_only = True,\n",
    ")"
   ]
  },
  {
   "cell_type": "markdown",
   "id": "weird-anger",
   "metadata": {},
   "source": [
    "So even with applying an expense ration of 0.07%, our model still diverges from the real ETF. To compensate this, we introduce an adjustment-factor of -0.3% per year."
   ]
  },
  {
   "cell_type": "code",
   "execution_count": null,
   "id": "distant-tiger",
   "metadata": {},
   "outputs": [],
   "source": [
    "etfs['1x_sp500_eu'] = calc_growth(calc_letf(\n",
    "    assets_daily_returns['sp500+div'], \n",
    "    er=0.07, \n",
    "    percent=100,\n",
    "    adjustment_factor=-0.3,\n",
    "), percent=1)\n",
    "etfs.head()"
   ]
  },
  {
   "cell_type": "code",
   "execution_count": null,
   "id": "imperial-tobacco",
   "metadata": {},
   "outputs": [],
   "source": [
    "n = normalize(sxr8, etfs['1x_sp500_eu'])\n",
    "draw_growth_chart(\n",
    "    {\n",
    "        'SXR8 (S&P 500 x1)': n,\n",
    "        '1x S&P 500 (model)': etfs['1x_sp500_eu'],\n",
    "    },\n",
    "    \"S&P 500\",\n",
    "    overlapping_only = True,\n",
    ")\n",
    "draw_telltale_chart(\n",
    "    n,\n",
    "    {\n",
    "        '1x S&P 500 (model)': etfs['1x_sp500_eu'],\n",
    "    },\n",
    "    \"S&P 500 (reference: SXR8)\",\n",
    "    overlapping_only = True,\n",
    ")"
   ]
  },
  {
   "cell_type": "markdown",
   "id": "viral-arcade",
   "metadata": {},
   "source": [
    "Now we just see a lot of noise, which probably comes from the EUR to USD translation, but the mean value of the curve is flat. Thus our model now tracks the real ETF very good. \n",
    "\n",
    "As next step we investigate in the DBPG as 2x leverages S&P 500 ETF."
   ]
  },
  {
   "cell_type": "code",
   "execution_count": null,
   "id": "frozen-constant",
   "metadata": {},
   "outputs": [],
   "source": [
    "dbpg = to_usd(download_from_yahoo(\"DBPG.DE\", adjust=True))\n",
    "dbpg.head()"
   ]
  },
  {
   "cell_type": "code",
   "execution_count": null,
   "id": "classified-inspector",
   "metadata": {},
   "outputs": [],
   "source": [
    "n = normalize(dbpg, assets['sp500+div'])\n",
    "draw_growth_chart(\n",
    "    {\n",
    "        'DBPG (S&P 500 x2)': n,\n",
    "        'S&P 500 (incl. dividends)': assets['sp500+div'],\n",
    "    },\n",
    "    \"S&P 500\",\n",
    "    overlapping_only = True,\n",
    ")"
   ]
  },
  {
   "cell_type": "markdown",
   "id": "smart-counter",
   "metadata": {},
   "source": [
    "Here again, we see a lot of glitches in the chart until mid of 2011. Thus we will start our comparison just from 2012."
   ]
  },
  {
   "cell_type": "code",
   "execution_count": null,
   "id": "arabic-advice",
   "metadata": {},
   "outputs": [],
   "source": [
    "dbpg = to_usd(download_from_yahoo(\"DBPG.DE\", adjust=True)).loc['2012':]\n",
    "dbpg.head()"
   ]
  },
  {
   "cell_type": "code",
   "execution_count": null,
   "id": "imposed-confusion",
   "metadata": {},
   "outputs": [],
   "source": [
    "n = normalize(dbpg, assets['sp500+div'])\n",
    "draw_growth_chart(\n",
    "    {\n",
    "        'DBPG (S&P 500 x2)': n,\n",
    "        'S&P 500 (incl. dividends)': assets['sp500+div'],\n",
    "    },\n",
    "    \"S&P 500\",\n",
    "    overlapping_only = True,\n",
    ")"
   ]
  },
  {
   "cell_type": "markdown",
   "id": "intense-president",
   "metadata": {},
   "source": [
    "Now we apply our model with leverage factor 2 and an expense ratio of 0.6%."
   ]
  },
  {
   "cell_type": "code",
   "execution_count": null,
   "id": "above-austin",
   "metadata": {},
   "outputs": [],
   "source": [
    "etfs['2x_sp500_eu'] = calc_growth(calc_letf(\n",
    "    assets_daily_returns['sp500+div'], \n",
    "    borrowing_rate=borrowing,\n",
    "    leverage=2,\n",
    "    er=0.6, \n",
    "    adjustment_factor=0.0,\n",
    "    percent=100\n",
    "), percent=1)\n",
    "etfs.head()"
   ]
  },
  {
   "cell_type": "code",
   "execution_count": null,
   "id": "fundamental-spirit",
   "metadata": {},
   "outputs": [],
   "source": [
    "n = normalize(dbpg, etfs['2x_sp500_eu'])\n",
    "draw_growth_chart(\n",
    "    {\n",
    "        'DBPG (S&P 500 x2)': n,\n",
    "        '2x S&P 500 (model)': etfs['2x_sp500_eu'],\n",
    "    },\n",
    "    \"S&P 500\",\n",
    "    overlapping_only = True,\n",
    ")\n",
    "draw_telltale_chart(\n",
    "    n,\n",
    "    {\n",
    "        '2x S&P 500 (model)': etfs['2x_sp500_eu'],\n",
    "    },\n",
    "    \"S&P 500 (reference: DBPG)\",\n",
    "    overlapping_only = True,\n",
    ")"
   ]
  },
  {
   "cell_type": "markdown",
   "id": "destroyed-shark",
   "metadata": {},
   "source": [
    "Our model is following the ETF, but is diverging. Thus we introduce also here an adjutment factor of -1.2%."
   ]
  },
  {
   "cell_type": "code",
   "execution_count": null,
   "id": "closing-fight",
   "metadata": {},
   "outputs": [],
   "source": [
    "etfs['2x_sp500_eu'] = calc_growth(calc_letf(\n",
    "    assets_daily_returns['sp500+div'], \n",
    "    borrowing_rate=borrowing,\n",
    "    leverage=2,\n",
    "    er=0.6, \n",
    "    adjustment_factor=-1.2,\n",
    "    percent=100\n",
    "), percent=1)\n",
    "etfs.head()"
   ]
  },
  {
   "cell_type": "code",
   "execution_count": null,
   "id": "cordless-remains",
   "metadata": {},
   "outputs": [],
   "source": [
    "n = normalize(dbpg, etfs['2x_sp500_eu'])\n",
    "draw_growth_chart(\n",
    "    {\n",
    "        'DBPG (S&P 500 x2)': n,\n",
    "        '2x S&P 500 (model)': etfs['2x_sp500_eu'],\n",
    "    },\n",
    "    \"S&P 500\",\n",
    "    overlapping_only = True,\n",
    ")\n",
    "draw_telltale_chart(\n",
    "    n,\n",
    "    {\n",
    "        '2x S&P 500 (model)': etfs['2x_sp500_eu'],\n",
    "    },\n",
    "    \"S&P 500 (reference: DBPG)\",\n",
    "    overlapping_only = True,\n",
    ")"
   ]
  },
  {
   "cell_type": "markdown",
   "id": "considerable-chapel",
   "metadata": {},
   "source": [
    "Now our model is following the ETF quite well with a flat error curve. \n",
    "\n",
    "Time to focus on the 3x leveraged ETN 3USL."
   ]
  },
  {
   "cell_type": "code",
   "execution_count": null,
   "id": "complicated-gothic",
   "metadata": {},
   "outputs": [],
   "source": [
    "usl3 = to_usd(download_from_yahoo(\"3USL.MI\", adjust=True))\n",
    "usl3.head()"
   ]
  },
  {
   "cell_type": "code",
   "execution_count": null,
   "id": "robust-savage",
   "metadata": {},
   "outputs": [],
   "source": [
    "n = normalize(usl3, assets['sp500+div'])\n",
    "draw_growth_chart(\n",
    "    {\n",
    "        '3USL (S&P 500 x3)': n,\n",
    "        'S&P 500 (incl. dividends)': assets['sp500+div'],\n",
    "    },\n",
    "    \"S&P 500\",\n",
    "    overlapping_only = True,\n",
    ")"
   ]
  },
  {
   "cell_type": "code",
   "execution_count": null,
   "id": "dying-liquid",
   "metadata": {},
   "outputs": [],
   "source": [
    "etfs['3x_sp500_eu'] = calc_growth(calc_letf(\n",
    "    assets_daily_returns['sp500+div'], \n",
    "    borrowing_rate=borrowing,\n",
    "    leverage=3,\n",
    "    er=0.75, \n",
    "    adjustment_factor=0,\n",
    "    percent=100\n",
    "), percent=1)\n",
    "etfs.head()"
   ]
  },
  {
   "cell_type": "code",
   "execution_count": null,
   "id": "skilled-mitchell",
   "metadata": {},
   "outputs": [],
   "source": [
    "n = normalize(usl3, etfs['3x_sp500_eu'])\n",
    "draw_growth_chart(\n",
    "    {\n",
    "        '3USL (S&P 500 x3)': n,\n",
    "        '3x S&P 500 (model)': etfs['3x_sp500_eu'],\n",
    "    },\n",
    "    \"S&P 500\",\n",
    "    overlapping_only = True,\n",
    ")\n",
    "draw_telltale_chart(\n",
    "    n,\n",
    "    {\n",
    "        '3x S&P 500 (model)': etfs['3x_sp500_eu'],\n",
    "    },\n",
    "    \"S&P 500 (reference: 3USL)\",\n",
    "    overlapping_only = True,\n",
    ")"
   ]
  },
  {
   "cell_type": "markdown",
   "id": "miniature-manufacturer",
   "metadata": {},
   "source": [
    "For this ETN we introduce an adjustment factor of -2.75%. This is a very huge factor, especially compared to the UPRO ETF, which just needed a factor of -1%."
   ]
  },
  {
   "cell_type": "code",
   "execution_count": null,
   "id": "assumed-fraction",
   "metadata": {},
   "outputs": [],
   "source": [
    "etfs['3x_sp500_eu'] = calc_growth(calc_letf(\n",
    "    assets_daily_returns['sp500+div'], \n",
    "    borrowing_rate=borrowing,\n",
    "    leverage=3,\n",
    "    er=0.75, \n",
    "    adjustment_factor=-2.75,\n",
    "    percent=100\n",
    "), percent=1)\n",
    "etfs.head()"
   ]
  },
  {
   "cell_type": "code",
   "execution_count": null,
   "id": "involved-superior",
   "metadata": {},
   "outputs": [],
   "source": [
    "n = normalize(usl3, etfs['3x_sp500_eu'])\n",
    "draw_growth_chart(\n",
    "    {\n",
    "        '3USL (S&P 500 x3)': n,\n",
    "        '3x S&P 500 (model)': etfs['3x_sp500_eu'],\n",
    "    },\n",
    "    \"S&P 500\",\n",
    "    overlapping_only = True,\n",
    ")\n",
    "draw_telltale_chart(\n",
    "    n,\n",
    "    {\n",
    "        '3x S&P 500 (model)': etfs['3x_sp500_eu'],\n",
    "    },\n",
    "    \"S&P 500 (reference: 3USL)\",\n",
    "    overlapping_only = True,\n",
    ")"
   ]
  },
  {
   "cell_type": "markdown",
   "id": "chemical-namibia",
   "metadata": {},
   "source": [
    "Also here our model is now following the ETN."
   ]
  },
  {
   "cell_type": "markdown",
   "id": "abroad-shannon",
   "metadata": {},
   "source": [
    "## Nasdaq-100 (L)ETFs\n",
    "\n",
    "After modelling all S&P 500 ETFs, we can now model ETFs for the Nasdaq-100. Also here we first chose 3 US ETFs for comparison:\n",
    "\n",
    "* Nasdaq-100 x1 => QQQ (+ dividends)\n",
    "* Nasdaq-100 x2 => QLD (+ dividends)\n",
    "* Nasdaq-100 x3 => TQQQ (+ dividends)\n"
   ]
  },
  {
   "cell_type": "code",
   "execution_count": null,
   "id": "standard-associate",
   "metadata": {},
   "outputs": [],
   "source": [
    "qqq = download_from_yahoo(\"QQQ\", adjust=True)\n",
    "qqq.head()"
   ]
  },
  {
   "cell_type": "code",
   "execution_count": null,
   "id": "colonial-facility",
   "metadata": {},
   "outputs": [],
   "source": [
    "n = normalize(qqq, assets['ndx100+div'])\n",
    "draw_growth_chart(\n",
    "    {\n",
    "        'QQQ (Nasdaq-100 x1)': n,\n",
    "        'Nasdaq-100': assets['ndx100+div'],\n",
    "    },\n",
    "    \"Nasdaq-100\",\n",
    "    overlapping_only = True,\n",
    ")"
   ]
  },
  {
   "cell_type": "markdown",
   "id": "designing-karma",
   "metadata": {},
   "source": [
    "As usual the pure index is outperforming the ETF slightly, due to the costs. So we start modelling the ETF with an expense ratio of 0.2% per year."
   ]
  },
  {
   "cell_type": "code",
   "execution_count": null,
   "id": "enormous-recruitment",
   "metadata": {},
   "outputs": [],
   "source": [
    "etfs['1x_ndx100_us'] = calc_growth(calc_letf(\n",
    "    assets_daily_returns['ndx100+div'], \n",
    "    borrowing_rate=borrowing,\n",
    "    leverage=1,\n",
    "    er=0.2, \n",
    "    adjustment_factor=-0.00,\n",
    "    percent=100\n",
    "), percent=1)\n",
    "etfs.head()"
   ]
  },
  {
   "cell_type": "code",
   "execution_count": null,
   "id": "moral-humanity",
   "metadata": {},
   "outputs": [],
   "source": [
    "n = normalize(qqq, etfs['1x_ndx100_us'])\n",
    "draw_growth_chart(\n",
    "    {\n",
    "        'QQQ (Nasdaq-100 1x)': n,\n",
    "        '1x Nasdaq-100 (model)': etfs['1x_ndx100_us'],\n",
    "    },\n",
    "    \"Nasdaq-100\",\n",
    "    overlapping_only = True,\n",
    ")\n",
    "draw_telltale_chart(\n",
    "    n,\n",
    "    {\n",
    "        '1x Nasdaq-100 (model)': etfs['1x_ndx100_us'],\n",
    "    },\n",
    "    \"Nasdaq-100 (reference: QQQ)\",\n",
    "    overlapping_only = True,\n",
    ")"
   ]
  },
  {
   "cell_type": "markdown",
   "id": "molecular-australian",
   "metadata": {},
   "source": [
    "We see a strong noise in the beginning of the ETF until 2005. After this date the error curve is very flat and the average error is much below 1%. We can optimize it slightly by settings an adjustment factor of -0.01%."
   ]
  },
  {
   "cell_type": "code",
   "execution_count": null,
   "id": "boring-salvation",
   "metadata": {},
   "outputs": [],
   "source": [
    "etfs['1x_ndx100_us'] = calc_growth(calc_letf(\n",
    "    assets_daily_returns['ndx100+div'], \n",
    "    borrowing_rate=borrowing,\n",
    "    leverage=1,\n",
    "    er=0.2, \n",
    "    adjustment_factor=-0.01,\n",
    "    percent=100\n",
    "), percent=1)\n",
    "etfs.head()"
   ]
  },
  {
   "cell_type": "code",
   "execution_count": null,
   "id": "owned-replica",
   "metadata": {},
   "outputs": [],
   "source": [
    "n = normalize(qqq, etfs['1x_ndx100_us'])\n",
    "draw_growth_chart(\n",
    "    {\n",
    "        'QQQ (Nasdaq-100 1x)': n,\n",
    "        '1x Nasdaq-100 (model)': etfs['1x_ndx100_us'],\n",
    "    },\n",
    "    \"Nasdaq-100\",\n",
    "    overlapping_only = True,\n",
    ")\n",
    "draw_telltale_chart(\n",
    "    n,\n",
    "    {\n",
    "        '1x Nasdaq-100 (model)': etfs['1x_ndx100_us'],\n",
    "    },\n",
    "    \"Nasdaq-100 (reference: QQQ)\",\n",
    "    overlapping_only = True,\n",
    ")"
   ]
  },
  {
   "cell_type": "markdown",
   "id": "micro-proportion",
   "metadata": {},
   "source": [
    "As next step we model a 2x leverages ETF and compare it with QLD."
   ]
  },
  {
   "cell_type": "code",
   "execution_count": null,
   "id": "beneficial-tooth",
   "metadata": {},
   "outputs": [],
   "source": [
    "qld = download_from_yahoo(\"QLD\", adjust=True)\n",
    "qld.head()"
   ]
  },
  {
   "cell_type": "code",
   "execution_count": null,
   "id": "packed-specific",
   "metadata": {},
   "outputs": [],
   "source": [
    "n = normalize(qld, assets['ndx100+div'])\n",
    "draw_growth_chart(\n",
    "    {\n",
    "        'QLD (Nasdaq-100 x2)': n,\n",
    "        'Nasdaq-100': assets['ndx100+div'],\n",
    "    },\n",
    "    \"Nasdaq-100\",\n",
    "    overlapping_only = True,\n",
    ")"
   ]
  },
  {
   "cell_type": "markdown",
   "id": "funky-caution",
   "metadata": {},
   "source": [
    "We model this ETF with an expense ratio of 0.95%."
   ]
  },
  {
   "cell_type": "code",
   "execution_count": null,
   "id": "present-skill",
   "metadata": {},
   "outputs": [],
   "source": [
    "etfs['2x_ndx100_us'] = calc_growth(calc_letf(\n",
    "    assets_daily_returns['ndx100+div'], \n",
    "    borrowing_rate=borrowing,\n",
    "    leverage=2,\n",
    "    er=0.95, \n",
    "    adjustment_factor=-0.00,\n",
    "    percent=100\n",
    "), percent=1)\n",
    "etfs.head()"
   ]
  },
  {
   "cell_type": "code",
   "execution_count": null,
   "id": "fresh-racing",
   "metadata": {},
   "outputs": [],
   "source": [
    "n = normalize(qld, etfs['2x_ndx100_us'])\n",
    "draw_growth_chart(\n",
    "    {\n",
    "        'QLD (Nasdaq-100 2x)': n,\n",
    "        '2x Nasdaq-100 (model)': etfs['2x_ndx100_us'],\n",
    "    },\n",
    "    \"Nasdaq-100\",\n",
    "    overlapping_only = True,\n",
    ")\n",
    "draw_telltale_chart(\n",
    "    n,\n",
    "    {\n",
    "        '2x Nasdaq-100 (model)': etfs['2x_ndx100_us'],\n",
    "    },\n",
    "    \"Nasdaq-100 (reference: QLD)\",\n",
    "    overlapping_only = True,\n",
    ")"
   ]
  },
  {
   "cell_type": "markdown",
   "id": "impressed-complex",
   "metadata": {},
   "source": [
    "Here we use an adjustment factor of -0.55%"
   ]
  },
  {
   "cell_type": "code",
   "execution_count": null,
   "id": "frozen-pixel",
   "metadata": {},
   "outputs": [],
   "source": [
    "etfs['2x_ndx100_us'] = calc_growth(calc_letf(\n",
    "    assets_daily_returns['ndx100+div'], \n",
    "    borrowing_rate=borrowing,\n",
    "    leverage=2,\n",
    "    er=0.95, \n",
    "    adjustment_factor=-0.55,\n",
    "    percent=100\n",
    "), percent=1)\n",
    "etfs.head()"
   ]
  },
  {
   "cell_type": "code",
   "execution_count": null,
   "id": "dutch-librarian",
   "metadata": {},
   "outputs": [],
   "source": [
    "n = normalize(qld, etfs['2x_ndx100_us'])\n",
    "draw_growth_chart(\n",
    "    {\n",
    "        'QLD (Nasdaq-100 2x)': n,\n",
    "        '2x Nasdaq-100 (model)': etfs['2x_ndx100_us'],\n",
    "    },\n",
    "    \"Nasdaq-100\",\n",
    "    overlapping_only = True,\n",
    ")\n",
    "draw_telltale_chart(\n",
    "    n,\n",
    "    {\n",
    "        '2x Nasdaq-100 (model)': etfs['2x_ndx100_us'],\n",
    "    },\n",
    "    \"Nasdaq-100 (reference: QLD)\",\n",
    "    overlapping_only = True,\n",
    ")"
   ]
  },
  {
   "cell_type": "markdown",
   "id": "norman-composition",
   "metadata": {},
   "source": [
    "Is is very hard to find an adjustment factor, which keeps the error curve flat. It seems, that the expense ratio or costs of this ETF have changed over time. But with an adjustment factor of -0.55% the curve looks more or less reasonable and is slightly underperforming the ETF, which is also not too bad for a backtest. \n",
    "\n",
    "The last U.S. ETF we look for is TQQQ."
   ]
  },
  {
   "cell_type": "code",
   "execution_count": null,
   "id": "radical-degree",
   "metadata": {},
   "outputs": [],
   "source": [
    "tqqq = download_from_yahoo(\"TQQQ\", adjust=True)\n",
    "tqqq.head()"
   ]
  },
  {
   "cell_type": "code",
   "execution_count": null,
   "id": "independent-explanation",
   "metadata": {},
   "outputs": [],
   "source": [
    "n = normalize(tqqq, assets['ndx100+div'])\n",
    "draw_growth_chart(\n",
    "    {\n",
    "        'TQQQ (Nasdaq-100 x3)': n,\n",
    "        'Nasdaq-100': assets['ndx100+div'],\n",
    "    },\n",
    "    \"Nasdaq-100\",\n",
    "    overlapping_only = True,\n",
    ")"
   ]
  },
  {
   "cell_type": "markdown",
   "id": "relative-chain",
   "metadata": {},
   "source": [
    "For our first modelling of the TQQQ, we set the expense ratio to 0.96%."
   ]
  },
  {
   "cell_type": "code",
   "execution_count": null,
   "id": "express-syndication",
   "metadata": {},
   "outputs": [],
   "source": [
    "etfs['3x_ndx100_us'] = calc_growth(calc_letf(\n",
    "    assets_daily_returns['ndx100+div'], \n",
    "    borrowing_rate=borrowing,\n",
    "    leverage=3,\n",
    "    er=0.95, \n",
    "    adjustment_factor=0,\n",
    "    percent=100\n",
    "), percent=1)\n",
    "etfs.head()"
   ]
  },
  {
   "cell_type": "code",
   "execution_count": null,
   "id": "cathedral-andrews",
   "metadata": {},
   "outputs": [],
   "source": [
    "n = normalize(tqqq, etfs['3x_ndx100_us'])\n",
    "draw_growth_chart(\n",
    "    {\n",
    "        'TQQQ (Nasdaq-100 3x)': n,\n",
    "        '3x Nasdaq-100 (model)': etfs['3x_ndx100_us'],\n",
    "    },\n",
    "    \"Nasdaq-100\",\n",
    "    overlapping_only = True,\n",
    ")\n",
    "draw_telltale_chart(\n",
    "    n,\n",
    "    {\n",
    "        '3x Nasdaq-100 (model)': etfs['3x_ndx100_us'],\n",
    "    },\n",
    "    \"Nasdaq-100 (reference: TQQQ)\",\n",
    "    overlapping_only = True,\n",
    ")"
   ]
  },
  {
   "cell_type": "markdown",
   "id": "chinese-thursday",
   "metadata": {},
   "source": [
    "And to flatten the error curve, we set an adjustment-factor of -1.1%."
   ]
  },
  {
   "cell_type": "code",
   "execution_count": null,
   "id": "straight-ridge",
   "metadata": {},
   "outputs": [],
   "source": [
    "etfs['3x_ndx100_us'] = calc_growth(calc_letf(\n",
    "    assets_daily_returns['ndx100+div'], \n",
    "    borrowing_rate=borrowing,\n",
    "    leverage=3,\n",
    "    er=0.95, \n",
    "    adjustment_factor=-1.1,\n",
    "    percent=100\n",
    "), percent=1)\n",
    "etfs.head()"
   ]
  },
  {
   "cell_type": "code",
   "execution_count": null,
   "id": "center-cooper",
   "metadata": {},
   "outputs": [],
   "source": [
    "n = normalize(tqqq, etfs['3x_ndx100_us'])\n",
    "draw_growth_chart(\n",
    "    {\n",
    "        'TQQQ (Nasdaq-100 3x)': n,\n",
    "        '3x Nasdaq-100 (model)': etfs['3x_ndx100_us'],\n",
    "    },\n",
    "    \"Nasdaq-100\",\n",
    "    overlapping_only = True,\n",
    ")\n",
    "draw_telltale_chart(\n",
    "    n,\n",
    "    {\n",
    "        '3x Nasdaq-100 (model)': etfs['3x_ndx100_us'],\n",
    "    },\n",
    "    \"Nasdaq-100 (reference: TQQQ)\",\n",
    "    overlapping_only = True,\n",
    ")"
   ]
  },
  {
   "cell_type": "markdown",
   "id": "mighty-diary",
   "metadata": {},
   "source": [
    "Also here it is hard to get a flat curve, but the overall error is with maximum -3% not so bad.\n",
    "\n",
    "Now, we can focus on european ETFs for the Nasdaq-100. The following ETFs can be chosen as reference:\n",
    "* Nasdaq-100 1x => PowerShares EQQQ Nasdaq-100 UCITS ETF (`EQQQ`)\n",
    "* Nasdaq-100 2x => Lyxor Nasdaq-100 Daily (2x) Leveraged UCITS ETF (`L8I7`)\n",
    "* Nasdaq-100 3x => WisdomTree NASDAQ 100 3x Daily Leveraged (`QQQ3`)*\n",
    "\n",
    "__*) Keep in mind that the WisdomTree is not an ETF, but an ETN. This includes a higher risk when the emittent gets bunkrupt.__\n",
    "\n",
    "Again all ETPs are trades in EUR, thus we have to transform the price first to USD before we can work with it.\n",
    "\n",
    "Let's start with EQQQ."
   ]
  },
  {
   "cell_type": "code",
   "execution_count": null,
   "id": "friendly-assumption",
   "metadata": {},
   "outputs": [],
   "source": [
    "eqqq = to_usd(download_from_yahoo(\"EQQQ.MI\", adjust=True))\n",
    "eqqq.head()"
   ]
  },
  {
   "cell_type": "code",
   "execution_count": null,
   "id": "productive-story",
   "metadata": {},
   "outputs": [],
   "source": [
    "n = normalize(eqqq, assets['ndx100+div'])\n",
    "draw_growth_chart(\n",
    "    {\n",
    "        'EQQQ (Nasdaq-100 1x)': n,\n",
    "        'Nasdaq-100 (incl. dividends)': assets['ndx100+div'],\n",
    "    },\n",
    "    \"Nasdaq-100\",\n",
    "    overlapping_only = True,\n",
    ")"
   ]
  },
  {
   "cell_type": "markdown",
   "id": "tired-extraction",
   "metadata": {},
   "source": [
    "For modelling this ETF, we use an expense ratio of 0,33%."
   ]
  },
  {
   "cell_type": "code",
   "execution_count": null,
   "id": "incorporated-index",
   "metadata": {},
   "outputs": [],
   "source": [
    "etfs['1x_ndx100_eu'] = calc_growth(calc_letf(\n",
    "    assets_daily_returns['ndx100+div'], \n",
    "    borrowing_rate=borrowing,\n",
    "    leverage=1,\n",
    "    er=0.33, \n",
    "    adjustment_factor=0,\n",
    "    percent=100\n",
    "), percent=1)\n",
    "etfs.head()"
   ]
  },
  {
   "cell_type": "code",
   "execution_count": null,
   "id": "engaging-relative",
   "metadata": {},
   "outputs": [],
   "source": [
    "n = normalize(eqqq, etfs['1x_ndx100_eu'])\n",
    "draw_growth_chart(\n",
    "    {\n",
    "        'EQQQ (Nasdaq-100 1x)': n,\n",
    "        '1x Nasdaq-100 (model)': etfs['1x_ndx100_eu'],\n",
    "    },\n",
    "    \"Nasdaq-100\",\n",
    "    overlapping_only = True,\n",
    ")\n",
    "draw_telltale_chart(\n",
    "    n,\n",
    "    {\n",
    "        '1x Nasdaq-100 (model)': etfs['1x_ndx100_eu'],\n",
    "    },\n",
    "    \"Nasdaq-100 (reference: EQQQ)\",\n",
    "    overlapping_only = True,\n",
    ")"
   ]
  },
  {
   "cell_type": "markdown",
   "id": "bronze-inclusion",
   "metadata": {},
   "source": [
    "Furthermore we apply an adjustment-factor of -0.8%."
   ]
  },
  {
   "cell_type": "code",
   "execution_count": null,
   "id": "assured-dinner",
   "metadata": {},
   "outputs": [],
   "source": [
    "etfs['1x_ndx100_eu'] = calc_growth(calc_letf(\n",
    "    assets_daily_returns['ndx100+div'], \n",
    "    borrowing_rate=borrowing,\n",
    "    leverage=1,\n",
    "    er=0.33, \n",
    "    adjustment_factor=-0.8,\n",
    "    percent=100\n",
    "), percent=1)\n",
    "etfs.head()"
   ]
  },
  {
   "cell_type": "code",
   "execution_count": null,
   "id": "confirmed-pacific",
   "metadata": {},
   "outputs": [],
   "source": [
    "n = normalize(eqqq, etfs['1x_ndx100_eu'])\n",
    "draw_growth_chart(\n",
    "    {\n",
    "        'EQQQ (Nasdaq-100 1x)': n,\n",
    "        '1x Nasdaq-100 (model)': etfs['1x_ndx100_eu'],\n",
    "    },\n",
    "    \"Nasdaq-100\",\n",
    "    overlapping_only = True,\n",
    ")\n",
    "draw_telltale_chart(\n",
    "    n,\n",
    "    {\n",
    "        '1x Nasdaq-100 (model)': etfs['1x_ndx100_eu'],\n",
    "    },\n",
    "    \"Nasdaq-100 (reference: EQQQ)\",\n",
    "    overlapping_only = True,\n",
    ")"
   ]
  },
  {
   "cell_type": "markdown",
   "id": "curious-resort",
   "metadata": {},
   "source": [
    "Now the curve is reasonable flat and we can go on with the L8I7."
   ]
  },
  {
   "cell_type": "code",
   "execution_count": null,
   "id": "great-slovak",
   "metadata": {},
   "outputs": [],
   "source": [
    "l8i7 = to_usd(download_from_yahoo(\"L8I7.DE\", adjust=True))\n",
    "l8i7.head()"
   ]
  },
  {
   "cell_type": "code",
   "execution_count": null,
   "id": "ordered-violation",
   "metadata": {},
   "outputs": [],
   "source": [
    "n = normalize(l8i7, assets['ndx100+div'])\n",
    "draw_growth_chart(\n",
    "    {\n",
    "        'L8I7 (Nasdaq-100 2x)': n,\n",
    "        'Nasdaq-100 (incl. dividends)': assets['ndx100+div'],\n",
    "    },\n",
    "    \"Nasdaq-100\",\n",
    "    overlapping_only = True,\n",
    ")"
   ]
  },
  {
   "cell_type": "markdown",
   "id": "visible-decimal",
   "metadata": {},
   "source": [
    "For this ETF we have extremly little history. It is very hard to reasonably fit the curves together, but this is the only ETF, which I found on europe for 2x Nasdaq-100. Thus we have to try our best here. We start with an expense ratio of 0.6%. "
   ]
  },
  {
   "cell_type": "code",
   "execution_count": null,
   "id": "right-placement",
   "metadata": {},
   "outputs": [],
   "source": [
    "etfs['2x_ndx100_eu'] = calc_growth(calc_letf(\n",
    "    assets_daily_returns['ndx100+div'], \n",
    "    borrowing_rate=borrowing,\n",
    "    leverage=2,\n",
    "    er=0.6, \n",
    "    adjustment_factor=0,\n",
    "    percent=100\n",
    "), percent=1)\n",
    "etfs.head()"
   ]
  },
  {
   "cell_type": "code",
   "execution_count": null,
   "id": "catholic-iraqi",
   "metadata": {},
   "outputs": [],
   "source": [
    "n = normalize(l8i7, etfs['2x_ndx100_eu'])\n",
    "draw_growth_chart(\n",
    "    {\n",
    "        'L8I7 (Nasdaq-100 2x)': n,\n",
    "        '2x Nasdaq-100 (model)': etfs['2x_ndx100_eu'],\n",
    "    },\n",
    "    \"Nasdaq-100\",\n",
    "    overlapping_only = True,\n",
    ")\n",
    "draw_telltale_chart(\n",
    "    n,\n",
    "    {\n",
    "        '2x Nasdaq-100 (model)': etfs['2x_ndx100_eu'],\n",
    "    },\n",
    "    \"Nasdaq-100 (reference: L8I7)\",\n",
    "    overlapping_only = True,\n",
    ")"
   ]
  },
  {
   "cell_type": "markdown",
   "id": "thermal-gospel",
   "metadata": {},
   "source": [
    "We already have a very good fit. But we can slightly improve it by using an adjustment-factor of -0.2%."
   ]
  },
  {
   "cell_type": "code",
   "execution_count": null,
   "id": "royal-spare",
   "metadata": {},
   "outputs": [],
   "source": [
    "etfs['2x_ndx100_eu'] = calc_growth(calc_letf(\n",
    "    assets_daily_returns['ndx100+div'], \n",
    "    borrowing_rate=borrowing,\n",
    "    leverage=2,\n",
    "    er=0.6, \n",
    "    adjustment_factor=-0.2,\n",
    "    percent=100\n",
    "), percent=1)\n",
    "etfs.head()"
   ]
  },
  {
   "cell_type": "code",
   "execution_count": null,
   "id": "neither-discovery",
   "metadata": {},
   "outputs": [],
   "source": [
    "n = normalize(l8i7, etfs['2x_ndx100_eu'])\n",
    "draw_growth_chart(\n",
    "    {\n",
    "        'L8I7 (Nasdaq-100 2x)': n,\n",
    "        '2x Nasdaq-100 (model)': etfs['2x_ndx100_eu'],\n",
    "    },\n",
    "    \"Nasdaq-100\",\n",
    "    overlapping_only = True,\n",
    ")\n",
    "draw_telltale_chart(\n",
    "    n,\n",
    "    {\n",
    "        '2x Nasdaq-100 (model)': etfs['2x_ndx100_eu'],\n",
    "    },\n",
    "    \"Nasdaq-100 (reference: L8I7)\",\n",
    "    overlapping_only = True,\n",
    ")"
   ]
  },
  {
   "cell_type": "markdown",
   "id": "peripheral-weather",
   "metadata": {},
   "source": [
    "Let's keep it like this and go on with the ETN QQQ3 from WisdomTree."
   ]
  },
  {
   "cell_type": "code",
   "execution_count": null,
   "id": "subsequent-google",
   "metadata": {},
   "outputs": [],
   "source": [
    "qqq3 = download_from_investing(\"boost-nasdaq-100-3x-leverage\", start_date=\"2014-02-26\", category=\"etfs\")\n",
    "qqq3 = reindex_and_fill(qqq3, min(qqq3.index), max(qqq3.index), freq=\"D\")\n",
    "qqq3 = to_usd(qqq3)\n",
    "qqq3.head()"
   ]
  },
  {
   "cell_type": "code",
   "execution_count": null,
   "id": "mysterious-filing",
   "metadata": {},
   "outputs": [],
   "source": [
    "n = normalize(qqq3, assets['ndx100+div'])\n",
    "draw_growth_chart(\n",
    "    {\n",
    "        'QQQ3 (Nasdaq-100 3x)': n,\n",
    "        'Nasdaq-100 (incl. dividends)': assets['ndx100+div'],\n",
    "    },\n",
    "    \"Nasdaq-100\",\n",
    "    overlapping_only = True,\n",
    ")"
   ]
  },
  {
   "cell_type": "markdown",
   "id": "average-economics",
   "metadata": {},
   "source": [
    "For our model we start with an expense ratio of 0.75%."
   ]
  },
  {
   "cell_type": "code",
   "execution_count": null,
   "id": "occupied-chile",
   "metadata": {},
   "outputs": [],
   "source": [
    "etfs['3x_ndx100_eu'] = calc_growth(calc_letf(\n",
    "    assets_daily_returns['ndx100+div'], \n",
    "    borrowing_rate=borrowing,\n",
    "    leverage=3,\n",
    "    er=0.75, \n",
    "    adjustment_factor=0,\n",
    "    percent=100\n",
    "), percent=1)\n",
    "etfs.head()"
   ]
  },
  {
   "cell_type": "code",
   "execution_count": null,
   "id": "social-baghdad",
   "metadata": {},
   "outputs": [],
   "source": [
    "n = normalize(qqq3, etfs['3x_ndx100_eu'])\n",
    "draw_growth_chart(\n",
    "    {\n",
    "        'QQQ3 (Nasdaq-100 3x)': n,\n",
    "        '3x Nasdaq-100 (model)': etfs['3x_ndx100_eu'],\n",
    "    },\n",
    "    \"Nasdaq-100\",\n",
    "    overlapping_only = True,\n",
    ")\n",
    "draw_telltale_chart(\n",
    "    n,\n",
    "    {\n",
    "        '3x Nasdaq-100 (model)': etfs['3x_ndx100_eu'],\n",
    "    },\n",
    "    \"Nasdaq-100 (reference: QQQ3)\",\n",
    "    overlapping_only = True,\n",
    ")"
   ]
  },
  {
   "cell_type": "markdown",
   "id": "permanent-blind",
   "metadata": {},
   "source": [
    "To flatten the curve we also add an adjutment-factor of -2.1%. This is again, quite high, compared to the other ETFs, but we have seen the same effect with the WisdomTree 3x S&P 500 ETN. "
   ]
  },
  {
   "cell_type": "code",
   "execution_count": null,
   "id": "known-intellectual",
   "metadata": {},
   "outputs": [],
   "source": [
    "etfs['3x_ndx100_eu'] = calc_growth(calc_letf(\n",
    "    assets_daily_returns['ndx100+div'], \n",
    "    borrowing_rate=borrowing,\n",
    "    leverage=3,\n",
    "    er=0.75, \n",
    "    adjustment_factor=-2.1,\n",
    "    percent=100\n",
    "), percent=1)\n",
    "etfs.head()"
   ]
  },
  {
   "cell_type": "code",
   "execution_count": null,
   "id": "spoken-treasury",
   "metadata": {},
   "outputs": [],
   "source": [
    "n = normalize(qqq3, etfs['3x_ndx100_eu'])\n",
    "draw_growth_chart(\n",
    "    {\n",
    "        'QQQ3 (Nasdaq-100 3x)': n,\n",
    "        '3x Nasdaq-100 (model)': etfs['3x_ndx100_eu'],\n",
    "    },\n",
    "    \"Nasdaq-100\",\n",
    "    overlapping_only = True,\n",
    ")\n",
    "draw_telltale_chart(\n",
    "    n,\n",
    "    {\n",
    "        '3x Nasdaq-100 (model)': etfs['3x_ndx100_eu'],\n",
    "    },\n",
    "    \"Nasdaq-100 (reference: QQQ3)\",\n",
    "    overlapping_only = True,\n",
    ")"
   ]
  },
  {
   "cell_type": "markdown",
   "id": "returning-premium",
   "metadata": {},
   "source": [
    "## Gold ETFs\n",
    "\n",
    "The next step is to model Gold ETFs with and without leverage factor. For the U.S. we have the following ETFs available:\n",
    "\n",
    "* 1x Gold => SPDR Gold Shares (`GLD`)\n",
    "* 2x Gold => ProShares Ultra Gold (`UGL`)\n",
    "\n",
    "It seems, that there is not 3x leveraged Gold ETF available."
   ]
  },
  {
   "cell_type": "code",
   "execution_count": null,
   "id": "confidential-hometown",
   "metadata": {},
   "outputs": [],
   "source": [
    "gld = download_from_yahoo(\"GLD\", adjust=True)\n",
    "gld.head()"
   ]
  },
  {
   "cell_type": "code",
   "execution_count": null,
   "id": "forbidden-accused",
   "metadata": {},
   "outputs": [],
   "source": [
    "n = normalize(gld, assets['gold'])\n",
    "draw_growth_chart(\n",
    "    {\n",
    "        'GLD (Gold 1x)': n,\n",
    "        'Gold': assets['gold'],\n",
    "    },\n",
    "    \"Gold\",\n",
    "    overlapping_only = True,\n",
    ")"
   ]
  },
  {
   "cell_type": "markdown",
   "id": "ecological-steering",
   "metadata": {},
   "source": [
    "As we can see, there is just a small difference between the real gold-price and the gold ETF. We now apply our model with an expense ratio of 0.4%."
   ]
  },
  {
   "cell_type": "code",
   "execution_count": null,
   "id": "affecting-proposition",
   "metadata": {},
   "outputs": [],
   "source": [
    "etfs['1x_gold_us'] = calc_growth(calc_letf(\n",
    "    assets_daily_returns['gold'], \n",
    "    borrowing_rate=borrowing,\n",
    "    leverage=1,\n",
    "    er=0.4, \n",
    "    adjustment_factor=0,\n",
    "    percent=100\n",
    "), percent=1)\n",
    "etfs.head()"
   ]
  },
  {
   "cell_type": "code",
   "execution_count": null,
   "id": "dried-neighborhood",
   "metadata": {},
   "outputs": [],
   "source": [
    "n = normalize(gld, etfs['1x_gold_us'])\n",
    "draw_growth_chart(\n",
    "    {\n",
    "        'GLD (Gold 1x)': n,\n",
    "        '1x Gold (model)': etfs['1x_gold_us'],\n",
    "    },\n",
    "    \"Gold\",\n",
    "    overlapping_only = True,\n",
    ")\n",
    "draw_telltale_chart(\n",
    "    n,\n",
    "    {\n",
    "        '1x Gold (model)': etfs['1x_gold_us'],\n",
    "    },\n",
    "    \"Gold (reference: GLD)\",\n",
    "    overlapping_only = True,\n",
    ")"
   ]
  },
  {
   "cell_type": "markdown",
   "id": "metallic-seattle",
   "metadata": {},
   "source": [
    "Except of the noise, we have a very flat error curve, so we don't need to add an adjustment-factor to this model.\n",
    "\n",
    "Let's continue with UGL as 2x leveraged gold ETF."
   ]
  },
  {
   "cell_type": "code",
   "execution_count": null,
   "id": "loose-container",
   "metadata": {},
   "outputs": [],
   "source": [
    "ugl = download_from_yahoo(\"UGL\", adjust=True)\n",
    "ugl.head()"
   ]
  },
  {
   "cell_type": "code",
   "execution_count": null,
   "id": "concerned-pepper",
   "metadata": {},
   "outputs": [],
   "source": [
    "n = normalize(ugl, assets['gold'])\n",
    "draw_growth_chart(\n",
    "    {\n",
    "        'UGL (Gold 2x)': n,\n",
    "        'Gold': assets['gold'],\n",
    "    },\n",
    "    \"Gold\",\n",
    "    overlapping_only = True,\n",
    ")"
   ]
  },
  {
   "cell_type": "markdown",
   "id": "extraordinary-directive",
   "metadata": {},
   "source": [
    "For the model, we chose an expense ratio of 0.95%."
   ]
  },
  {
   "cell_type": "code",
   "execution_count": null,
   "id": "martial-split",
   "metadata": {},
   "outputs": [],
   "source": [
    "etfs['2x_gold_us'] = calc_growth(calc_letf(\n",
    "    assets_daily_returns['gold'], \n",
    "    borrowing_rate=borrowing,\n",
    "    leverage=2,\n",
    "    er=0.95, \n",
    "    adjustment_factor=0,\n",
    "    percent=100\n",
    "), percent=1)\n",
    "etfs.head()"
   ]
  },
  {
   "cell_type": "code",
   "execution_count": null,
   "id": "waiting-emphasis",
   "metadata": {},
   "outputs": [],
   "source": [
    "n = normalize(ugl, etfs['2x_gold_us'])\n",
    "draw_growth_chart(\n",
    "    {\n",
    "        'UGL (Gold 2x)': n,\n",
    "        '2x Gold (model)': etfs['2x_gold_us'],\n",
    "    },\n",
    "    \"Gold\",\n",
    "    overlapping_only = True,\n",
    ")\n",
    "draw_telltale_chart(\n",
    "    n,\n",
    "    {\n",
    "        '2x Gold (model)': etfs['2x_gold_us'],\n",
    "    },\n",
    "    \"Gold (reference: UGL)\",\n",
    "    overlapping_only = True,\n",
    ")"
   ]
  },
  {
   "cell_type": "markdown",
   "id": "effective-policy",
   "metadata": {},
   "source": [
    "Furthermore, we add an adjustment-factor of -2% to it."
   ]
  },
  {
   "cell_type": "code",
   "execution_count": null,
   "id": "molecular-radiation",
   "metadata": {},
   "outputs": [],
   "source": [
    "etfs['2x_gold_us'] = calc_growth(calc_letf(\n",
    "    assets_daily_returns['gold'], \n",
    "    borrowing_rate=borrowing,\n",
    "    leverage=2,\n",
    "    er=0.95, \n",
    "    adjustment_factor=-2.0,\n",
    "    percent=100\n",
    "), percent=1)\n",
    "etfs.head()"
   ]
  },
  {
   "cell_type": "code",
   "execution_count": null,
   "id": "satisfactory-horror",
   "metadata": {},
   "outputs": [],
   "source": [
    "n = normalize(ugl, etfs['2x_gold_us'])\n",
    "draw_growth_chart(\n",
    "    {\n",
    "        'UGL (Gold 2x)': n,\n",
    "        '2x Gold (model)': etfs['2x_gold_us'],\n",
    "    },\n",
    "    \"Gold\",\n",
    "    overlapping_only = True,\n",
    ")\n",
    "draw_telltale_chart(\n",
    "    n,\n",
    "    {\n",
    "        '2x Gold (model)': etfs['2x_gold_us'],\n",
    "    },\n",
    "    \"Gold (reference: UGL)\",\n",
    "    overlapping_only = True,\n",
    ")"
   ]
  },
  {
   "cell_type": "markdown",
   "id": "aerial-salvation",
   "metadata": {},
   "source": [
    "The introduced adjustment-factor for our 2x Gold ETF is very high, especially compared to the other U.S. ETFs. However it is well known, that Gold and Silver ETFs have a huge tracking error, due to the usage of Swaps. See http://www.columbia.edu/~klg2138/FieldsPaper_v4.pdf for more details. "
   ]
  },
  {
   "cell_type": "markdown",
   "id": "lightweight-personal",
   "metadata": {},
   "source": [
    "As next step we look for europe Gold ETCs. Here the following are available:\n",
    "\n",
    "* 1x Gold => Invesco Physical Gold ETC (`SGLD`)\n",
    "* 3x Gold => WisdomTree Gold 3x Daily Leveraged (`3GOL`)\n",
    "\n",
    "I was not able to find a 2x leveraged ETC for Gold in europe.\n",
    "\n",
    "We start with SGLD and since the data has some glitches at the end of 2021, we just take the data until beginning of November 2021. "
   ]
  },
  {
   "cell_type": "code",
   "execution_count": null,
   "id": "brown-industry",
   "metadata": {},
   "outputs": [],
   "source": [
    "sgld = download_from_yahoo(\"SGLD.L\", adjust=True).loc[:'2021-01-01']\n",
    "sgld.head()"
   ]
  },
  {
   "cell_type": "code",
   "execution_count": null,
   "id": "subtle-invitation",
   "metadata": {},
   "outputs": [],
   "source": [
    "n = normalize(sgld, assets['gold'])\n",
    "draw_growth_chart(\n",
    "    {\n",
    "        'SGLD (Gold 1x)': n,\n",
    "        'Gold': assets['gold'],\n",
    "    },\n",
    "    \"Gold\",\n",
    "    overlapping_only = True,\n",
    ")"
   ]
  },
  {
   "cell_type": "markdown",
   "id": "sunset-restaurant",
   "metadata": {},
   "source": [
    "We model this ETC with an expense ratio of 0.12%."
   ]
  },
  {
   "cell_type": "code",
   "execution_count": null,
   "id": "durable-sheet",
   "metadata": {},
   "outputs": [],
   "source": [
    "etfs['1x_gold_eu'] = calc_growth(calc_letf(\n",
    "    assets_daily_returns['gold'], \n",
    "    borrowing_rate=borrowing,\n",
    "    leverage=1,\n",
    "    er=0.12, \n",
    "    adjustment_factor=0.0,\n",
    "    percent=100\n",
    "), percent=1)\n",
    "etfs.head()"
   ]
  },
  {
   "cell_type": "code",
   "execution_count": null,
   "id": "respected-mandate",
   "metadata": {},
   "outputs": [],
   "source": [
    "n = normalize(gld, etfs['1x_gold_eu'])\n",
    "draw_growth_chart(\n",
    "    {\n",
    "        'SGLD (Gold 1x)': n,\n",
    "        '1x Gold (model)': etfs['1x_gold_eu'],\n",
    "    },\n",
    "    \"Gold\",\n",
    "    overlapping_only = True,\n",
    ")\n",
    "draw_telltale_chart(\n",
    "    n,\n",
    "    {\n",
    "        '1x Gold (model)': etfs['1x_gold_eu'],\n",
    "    },\n",
    "    \"Gold (reference: SGLD)\",\n",
    "    overlapping_only = True,\n",
    ")"
   ]
  },
  {
   "cell_type": "markdown",
   "id": "intended-citizenship",
   "metadata": {},
   "source": [
    "The error curve is still diverging, thus we introduce an adjustment-factor of -0.28%"
   ]
  },
  {
   "cell_type": "code",
   "execution_count": null,
   "id": "bored-olympus",
   "metadata": {},
   "outputs": [],
   "source": [
    "etfs['1x_gold_eu'] = calc_growth(calc_letf(\n",
    "    assets_daily_returns['gold'], \n",
    "    borrowing_rate=borrowing,\n",
    "    leverage=1,\n",
    "    er=0.12, \n",
    "    adjustment_factor=-0.28,\n",
    "    percent=100\n",
    "), percent=1)\n",
    "etfs.head()"
   ]
  },
  {
   "cell_type": "code",
   "execution_count": null,
   "id": "qualified-possibility",
   "metadata": {},
   "outputs": [],
   "source": [
    "n = normalize(gld, etfs['1x_gold_eu'])\n",
    "draw_growth_chart(\n",
    "    {\n",
    "        'SGLD (Gold 1x)': n,\n",
    "        '1x Gold (model)': etfs['1x_gold_eu'],\n",
    "    },\n",
    "    \"Gold\",\n",
    "    overlapping_only = True,\n",
    ")\n",
    "draw_telltale_chart(\n",
    "    n,\n",
    "    {\n",
    "        '1x Gold (model)': etfs['1x_gold_eu'],\n",
    "    },\n",
    "    \"Gold (reference: SGLD)\",\n",
    "    overlapping_only = True,\n",
    ")"
   ]
  },
  {
   "cell_type": "markdown",
   "id": "institutional-campaign",
   "metadata": {},
   "source": [
    "With those settings we reach a quite good error curve and we can proceed with 3GOL. "
   ]
  },
  {
   "cell_type": "code",
   "execution_count": null,
   "id": "sacred-guest",
   "metadata": {},
   "outputs": [],
   "source": [
    "gol3 = to_usd(download_from_yahoo(\"3GOL.MI\", adjust=True))\n",
    "gol3.head()"
   ]
  },
  {
   "cell_type": "code",
   "execution_count": null,
   "id": "editorial-violation",
   "metadata": {},
   "outputs": [],
   "source": [
    "n = normalize(gol3, assets['gold'])\n",
    "draw_growth_chart(\n",
    "    {\n",
    "        '3GOL (Gold 3x)': n,\n",
    "        'Gold': assets['gold'],\n",
    "    },\n",
    "    \"Gold\",\n",
    "    overlapping_only = True,\n",
    ")"
   ]
  },
  {
   "cell_type": "markdown",
   "id": "thirty-parker",
   "metadata": {},
   "source": [
    "We start our modeling here with an expense ratio of 0.99%."
   ]
  },
  {
   "cell_type": "code",
   "execution_count": null,
   "id": "lonely-nicholas",
   "metadata": {},
   "outputs": [],
   "source": [
    "etfs['3x_gold_eu'] = calc_growth(calc_letf(\n",
    "    assets_daily_returns['gold'], \n",
    "    borrowing_rate=borrowing,\n",
    "    leverage=3,\n",
    "    er=0.99, \n",
    "    adjustment_factor=0.0,\n",
    "    percent=100\n",
    "), percent=1)\n",
    "etfs.head()"
   ]
  },
  {
   "cell_type": "code",
   "execution_count": null,
   "id": "foreign-recovery",
   "metadata": {},
   "outputs": [],
   "source": [
    "n = normalize(gol3, etfs['3x_gold_eu'])\n",
    "draw_growth_chart(\n",
    "    {\n",
    "        '3GOL (Gold 3x)': n,\n",
    "        '3x Gold (model)': etfs['3x_gold_eu'],\n",
    "    },\n",
    "    \"Gold\",\n",
    "    overlapping_only = True,\n",
    ")\n",
    "draw_telltale_chart(\n",
    "    n,\n",
    "    {\n",
    "        '3x Gold (model)': etfs['3x_gold_eu'],\n",
    "    },\n",
    "    \"Gold (reference: 3GOL)\",\n",
    "    overlapping_only = True,\n",
    ")"
   ]
  },
  {
   "cell_type": "markdown",
   "id": "opened-practitioner",
   "metadata": {},
   "source": [
    "In the error curve, we can see several glitches, starting of 2014. Thus for further tests, we will ignore the data before April 2014."
   ]
  },
  {
   "cell_type": "code",
   "execution_count": null,
   "id": "altered-copyright",
   "metadata": {},
   "outputs": [],
   "source": [
    "gol3 = gol3.loc['2014-04-01':]"
   ]
  },
  {
   "cell_type": "code",
   "execution_count": null,
   "id": "terminal-civilian",
   "metadata": {},
   "outputs": [],
   "source": [
    "n = normalize(gol3, etfs['3x_gold_eu'])\n",
    "draw_growth_chart(\n",
    "    {\n",
    "        '3GOL (Gold 3x)': n,\n",
    "        '3x Gold (model)': etfs['3x_gold_eu'],\n",
    "    },\n",
    "    \"Gold\",\n",
    "    overlapping_only = True,\n",
    ")\n",
    "draw_telltale_chart(\n",
    "    n,\n",
    "    {\n",
    "        '3x Gold (model)': etfs['3x_gold_eu'],\n",
    "    },\n",
    "    \"Gold (reference: 3GOL)\",\n",
    "    overlapping_only = True,\n",
    ")"
   ]
  },
  {
   "cell_type": "markdown",
   "id": "suburban-ticket",
   "metadata": {},
   "source": [
    "Now we introduce an adjustment-factor of -4%, which is very huge, but it is in-sync with other WisdomTree ETNs and also with the Gold-ETFs from U.S."
   ]
  },
  {
   "cell_type": "code",
   "execution_count": null,
   "id": "square-valve",
   "metadata": {},
   "outputs": [],
   "source": [
    "etfs['3x_gold_eu'] = calc_growth(calc_letf(\n",
    "    assets_daily_returns['gold'], \n",
    "    borrowing_rate=borrowing,\n",
    "    leverage=3,\n",
    "    er=0.99, \n",
    "    adjustment_factor=-4.0,\n",
    "    percent=100\n",
    "), percent=1)\n",
    "etfs.head()"
   ]
  },
  {
   "cell_type": "code",
   "execution_count": null,
   "id": "continental-russian",
   "metadata": {},
   "outputs": [],
   "source": [
    "n = normalize(gol3, etfs['3x_gold_eu'])\n",
    "draw_growth_chart(\n",
    "    {\n",
    "        '3GOL (Gold 3x)': n,\n",
    "        '3x Gold (model)': etfs['3x_gold_eu'],\n",
    "    },\n",
    "    \"Gold\",\n",
    "    overlapping_only = True,\n",
    ")\n",
    "draw_telltale_chart(\n",
    "    n,\n",
    "    {\n",
    "        '3x Gold (model)': etfs['3x_gold_eu'],\n",
    "    },\n",
    "    \"Gold (reference: 3GOL)\",\n",
    "    overlapping_only = True,\n",
    ")"
   ]
  },
  {
   "cell_type": "markdown",
   "id": "prime-istanbul",
   "metadata": {},
   "source": [
    "It seems, that it is very hard to model leveraged Gold ETFs/ETCs. But for a rough exstimation during our backtest, it should be ok."
   ]
  },
  {
   "cell_type": "markdown",
   "id": "occupational-sterling",
   "metadata": {},
   "source": [
    "## Short Term Treasury Bonds\n",
    "\n",
    "In the U.S. the following ETFs are available:\n",
    "    \n",
    "    * 1x STT => iShares 1-3 Year Treasury Bond ETF (`SHY`)\n",
    "\n",
    "I was not able to find a leveraged ETF for STT. Thus we will just introduce artificial leveraged ETFs for Short Term Treasury bonds with adjustment-factors that seems to be true for normal ETFs. "
   ]
  },
  {
   "cell_type": "code",
   "execution_count": null,
   "id": "protecting-doctrine",
   "metadata": {},
   "outputs": [],
   "source": [
    "shy = download_from_yahoo(\"SHY\", adjust=True)\n",
    "shy.head()"
   ]
  },
  {
   "cell_type": "code",
   "execution_count": null,
   "id": "general-wallpaper",
   "metadata": {},
   "outputs": [],
   "source": [
    "n = normalize(shy, assets['stt_us'])\n",
    "draw_growth_chart(\n",
    "    {\n",
    "        'SHY (STT 1x)': n,\n",
    "        'STT (US, 1-3 years)': assets['stt_us'],\n",
    "    },\n",
    "    \"Short Term Treasuries\",\n",
    "    overlapping_only = True,\n",
    ")"
   ]
  },
  {
   "cell_type": "markdown",
   "id": "classical-model",
   "metadata": {},
   "source": [
    "We model the ETF with an expense ratio of 0.15%."
   ]
  },
  {
   "cell_type": "code",
   "execution_count": null,
   "id": "banner-disabled",
   "metadata": {},
   "outputs": [],
   "source": [
    "etfs['1x_stt_us'] = calc_growth(calc_letf(\n",
    "    assets_daily_returns['stt_us'], \n",
    "    borrowing_rate=borrowing,\n",
    "    leverage=1,\n",
    "    er=0.15, \n",
    "    adjustment_factor=0.0,\n",
    "    percent=100\n",
    "), percent=1)\n",
    "etfs.head()"
   ]
  },
  {
   "cell_type": "code",
   "execution_count": null,
   "id": "moral-annotation",
   "metadata": {},
   "outputs": [],
   "source": [
    "n = normalize(shy, etfs['1x_stt_us'])\n",
    "draw_growth_chart(\n",
    "    {\n",
    "        'SHY (STT 1x)': n,\n",
    "        '1x STT (model)': etfs['1x_stt_us'],\n",
    "    },\n",
    "    \"Short Term Treasury Bonds\",\n",
    "    overlapping_only = True,\n",
    ")\n",
    "draw_telltale_chart(\n",
    "    n,\n",
    "    {\n",
    "        '1x STT (model)': etfs['1x_stt_us'],\n",
    "    },\n",
    "    \"Short Term Treasury Bonds (reference: SHY)\",\n",
    "    overlapping_only = True,\n",
    ")"
   ]
  },
  {
   "cell_type": "markdown",
   "id": "supposed-profile",
   "metadata": {},
   "source": [
    "Furthermore, we add an negative adjustment-factor of -0.15%"
   ]
  },
  {
   "cell_type": "code",
   "execution_count": null,
   "id": "colored-indianapolis",
   "metadata": {},
   "outputs": [],
   "source": [
    "etfs['1x_stt_us'] = calc_growth(calc_letf(\n",
    "    assets_daily_returns['stt_us'], \n",
    "    borrowing_rate=borrowing,\n",
    "    leverage=1,\n",
    "    er=0.15, \n",
    "    adjustment_factor=-0.15,\n",
    "    percent=100\n",
    "), percent=1)\n",
    "etfs.head()"
   ]
  },
  {
   "cell_type": "code",
   "execution_count": null,
   "id": "homeless-guatemala",
   "metadata": {},
   "outputs": [],
   "source": [
    "n = normalize(shy, etfs['1x_stt_us'])\n",
    "draw_growth_chart(\n",
    "    {\n",
    "        'SHY (STT 1x)': n,\n",
    "        '1x STT (model)': etfs['1x_stt_us'],\n",
    "    },\n",
    "    \"Short Term Treasury Bonds\",\n",
    "    overlapping_only = True,\n",
    ")\n",
    "draw_telltale_chart(\n",
    "    n,\n",
    "    {\n",
    "        '1x STT (model)': etfs['1x_stt_us'],\n",
    "    },\n",
    "    \"Short Term Treasury Bonds (reference: SHY)\",\n",
    "    overlapping_only = True,\n",
    ")"
   ]
  },
  {
   "cell_type": "markdown",
   "id": "inner-amendment",
   "metadata": {},
   "source": [
    "The error is quite low. Keep in mind, that the treasury bond data is completly simulated. For such simulated data the error is really excellent! "
   ]
  },
  {
   "cell_type": "markdown",
   "id": "colonial-delight",
   "metadata": {},
   "source": [
    "For a 2x STT ETF, we just assume an expense ratio of 0.95% as we have seen with many leveraged ETFs and an adjustment-factor of -0.5%."
   ]
  },
  {
   "cell_type": "code",
   "execution_count": null,
   "id": "celtic-lingerie",
   "metadata": {},
   "outputs": [],
   "source": [
    "etfs['2x_stt_us'] = calc_growth(calc_letf(\n",
    "    assets_daily_returns['stt_us'], \n",
    "    borrowing_rate=borrowing,\n",
    "    leverage=2,\n",
    "    er=0.95, \n",
    "    adjustment_factor=-0.5,\n",
    "    percent=100\n",
    "), percent=1)\n",
    "etfs.head()"
   ]
  },
  {
   "cell_type": "code",
   "execution_count": null,
   "id": "genuine-bibliography",
   "metadata": {},
   "outputs": [],
   "source": [
    "n = normalize(shy, etfs['2x_stt_us'])\n",
    "draw_growth_chart(\n",
    "    {\n",
    "        'SHY (STT 1x)': n,\n",
    "        '2x STT (model)': etfs['2x_stt_us'],\n",
    "    },\n",
    "    \"Short Term Treasury Bonds\",\n",
    "    overlapping_only = True,\n",
    ")"
   ]
  },
  {
   "cell_type": "markdown",
   "id": "inner-edinburgh",
   "metadata": {},
   "source": [
    "As you can see the assumed costs, which are in sync with other leveraged ETFs are high enough to completely destroy the performance of such an ETF. Maybe this is the reason, why no leveraged STT ETFs are available at all?\n",
    "\n",
    "We also simulate a 3x leveraged ETF, where we assume an expense ratio of 0.95% and an adjustment-factor of -1.0%."
   ]
  },
  {
   "cell_type": "code",
   "execution_count": null,
   "id": "composite-bleeding",
   "metadata": {},
   "outputs": [],
   "source": [
    "etfs['3x_stt_us'] = calc_growth(calc_letf(\n",
    "    assets_daily_returns['stt_us'], \n",
    "    borrowing_rate=borrowing,\n",
    "    leverage=3,\n",
    "    er=0.95, \n",
    "    adjustment_factor=-1.0,\n",
    "    percent=100\n",
    "), percent=1)\n",
    "etfs.head()"
   ]
  },
  {
   "cell_type": "code",
   "execution_count": null,
   "id": "expensive-muscle",
   "metadata": {},
   "outputs": [],
   "source": [
    "n = normalize(shy, etfs['3x_stt_us'])\n",
    "draw_growth_chart(\n",
    "    {\n",
    "        'SHY (STT 1x)': n,\n",
    "        '3x STT (model)': etfs['3x_stt_us'],\n",
    "    },\n",
    "    \"Short Term Treasury Bonds\",\n",
    "    overlapping_only = True,\n",
    ")"
   ]
  },
  {
   "cell_type": "markdown",
   "id": "sized-screening",
   "metadata": {},
   "source": [
    "And also here we can see, that the performance gain of the leverage factor is not high enough to compendate the costs."
   ]
  },
  {
   "cell_type": "markdown",
   "id": "boring-frank",
   "metadata": {},
   "source": [
    "For europe we have the following ETFs available:\n",
    "* 1x STT => iShares $ Treasury Bond 1-3yr UCITS ETF (`IBTA`)\n",
    "\n",
    "Also for europe, I was not able to find any leveraged ETF. "
   ]
  },
  {
   "cell_type": "code",
   "execution_count": null,
   "id": "uniform-copyright",
   "metadata": {},
   "outputs": [],
   "source": [
    "ibta = download_from_yahoo(\"IBTA.L\", adjust=True)\n",
    "ibta.head()"
   ]
  },
  {
   "cell_type": "code",
   "execution_count": null,
   "id": "impressed-current",
   "metadata": {},
   "outputs": [],
   "source": [
    "n = normalize(ibta, assets['stt_eu'])\n",
    "draw_growth_chart(\n",
    "    {\n",
    "        'IBTA (STT 1x)': n,\n",
    "        'STT (EU, 1-3 years)': assets['stt_eu'],\n",
    "    },\n",
    "    \"Short Term Treasuries\",\n",
    "    overlapping_only = True,\n",
    ")"
   ]
  },
  {
   "cell_type": "markdown",
   "id": "finnish-compensation",
   "metadata": {},
   "source": [
    "We model this ETF with an expense ratio of 0.07%."
   ]
  },
  {
   "cell_type": "code",
   "execution_count": null,
   "id": "associate-listing",
   "metadata": {},
   "outputs": [],
   "source": [
    "etfs['1x_stt_eu'] = calc_growth(calc_letf(\n",
    "    assets_daily_returns['stt_eu'], \n",
    "    borrowing_rate=borrowing,\n",
    "    leverage=1,\n",
    "    er=0.07, \n",
    "    adjustment_factor=0.00,\n",
    "    percent=100\n",
    "), percent=1)\n",
    "etfs.head()"
   ]
  },
  {
   "cell_type": "code",
   "execution_count": null,
   "id": "precious-disposition",
   "metadata": {},
   "outputs": [],
   "source": [
    "n = normalize(ibta, etfs['1x_stt_eu'])\n",
    "draw_growth_chart(\n",
    "    {\n",
    "        'IBTA (STT 1x)': n,\n",
    "        '1x STT (model)': etfs['1x_stt_eu'],\n",
    "    },\n",
    "    \"Short Term Treasury Bonds\",\n",
    "    overlapping_only = True,\n",
    ")\n",
    "draw_telltale_chart(\n",
    "    n,\n",
    "    {\n",
    "        '1x STT (model)': etfs['1x_stt_eu'],\n",
    "    },\n",
    "    \"Short Term Treasury Bonds (reference: IBTA)\",\n",
    "    overlapping_only = True,\n",
    ")"
   ]
  },
  {
   "cell_type": "markdown",
   "id": "better-nickname",
   "metadata": {},
   "source": [
    "Also here the error is very low with maximum 1%. \n",
    "\n",
    "Here again, we model now a 2x leveraged ETF with 0.95% expense ratio and -0.5% adjustment factor."
   ]
  },
  {
   "cell_type": "code",
   "execution_count": null,
   "id": "electrical-rabbit",
   "metadata": {},
   "outputs": [],
   "source": [
    "etfs['2x_stt_eu'] = calc_growth(calc_letf(\n",
    "    assets_daily_returns['stt_eu'], \n",
    "    borrowing_rate=borrowing,\n",
    "    leverage=2,\n",
    "    er=0.95, \n",
    "    adjustment_factor=-0.5,\n",
    "    percent=100\n",
    "), percent=1)\n",
    "etfs.head()"
   ]
  },
  {
   "cell_type": "code",
   "execution_count": null,
   "id": "pediatric-labor",
   "metadata": {},
   "outputs": [],
   "source": [
    "n = normalize(ibta, etfs['2x_stt_eu'])\n",
    "draw_growth_chart(\n",
    "    {\n",
    "        'IBTA (STT 1x)': n,\n",
    "        '2x STT (model)': etfs['2x_stt_eu'],\n",
    "    },\n",
    "    \"Short Term Treasury Bonds\",\n",
    "    overlapping_only = True,\n",
    ")"
   ]
  },
  {
   "cell_type": "markdown",
   "id": "present-society",
   "metadata": {},
   "source": [
    "And as we already have seen it for the US ETF, the leveraged version underperfroms the unleveraged version.\n",
    "\n",
    "But we also model a 3x leveraged ETF with 0.95% expense ratio and -1.0% adjustment-factor."
   ]
  },
  {
   "cell_type": "code",
   "execution_count": null,
   "id": "written-darwin",
   "metadata": {},
   "outputs": [],
   "source": [
    "etfs['3x_stt_eu'] = calc_growth(calc_letf(\n",
    "    assets_daily_returns['stt_eu'], \n",
    "    borrowing_rate=borrowing,\n",
    "    leverage=2,\n",
    "    er=0.95, \n",
    "    adjustment_factor=-1.0,\n",
    "    percent=100\n",
    "), percent=1)\n",
    "etfs.head()"
   ]
  },
  {
   "cell_type": "code",
   "execution_count": null,
   "id": "arbitrary-single",
   "metadata": {},
   "outputs": [],
   "source": [
    "n = normalize(ibta, etfs['3x_stt_eu'])\n",
    "draw_growth_chart(\n",
    "    {\n",
    "        'IBTA (STT 1x)': n,\n",
    "        '3x STT (model)': etfs['3x_stt_eu'],\n",
    "    },\n",
    "    \"Short Term Treasury Bonds\",\n",
    "    overlapping_only = True,\n",
    ")"
   ]
  },
  {
   "cell_type": "markdown",
   "id": "wrapped-enlargement",
   "metadata": {},
   "source": [
    "And the performance of this version is even worse. "
   ]
  },
  {
   "cell_type": "markdown",
   "id": "elect-peace",
   "metadata": {},
   "source": [
    "## Intermediate Term Treasury Bonds\n",
    "\n",
    "For the intermediate term treasury bonds, we can find different ETFs with all leverage factors. So we chose for our modeling the following ones:\n",
    "\n",
    "* 1x ITT => Vanguard Intermediate-Term Treasury Fund Investor Shares (`VFITX`)\n",
    "* 2x ITT => ProShares Ultra 7-10 Year Treasury (`UST`)\n",
    "* 3x ITT => Direxion Daily 7-10 Year Treasury Bull 3X Shares (`TYD`)\n",
    "\n",
    "Keep in mind, that our ITT (US) data was modelled to fit to a maturity duration between 5-10 years. Thus the 2x and 3x leverage ETFs do not fit exaclty to this."
   ]
  },
  {
   "cell_type": "code",
   "execution_count": null,
   "id": "republican-sample",
   "metadata": {},
   "outputs": [],
   "source": [
    "vfitx = download_from_yahoo(\"VFITX\", adjust=True)\n",
    "vfitx.head()"
   ]
  },
  {
   "cell_type": "code",
   "execution_count": null,
   "id": "expressed-psychiatry",
   "metadata": {},
   "outputs": [],
   "source": [
    "n = normalize(vfitx, assets['itt_us'])\n",
    "draw_growth_chart(\n",
    "    {\n",
    "        'VFITX (ITT 1x)': n,\n",
    "        'ITT (US, 10-5 years)': assets['itt_us'],\n",
    "    },\n",
    "    \"Intermidiate Term Treasuries\",\n",
    "    overlapping_only = True,\n",
    ")"
   ]
  },
  {
   "cell_type": "markdown",
   "id": "unknown-antenna",
   "metadata": {},
   "source": [
    "Let's model the 1x leveraged ETF with an expension rate of 0.20%."
   ]
  },
  {
   "cell_type": "code",
   "execution_count": null,
   "id": "crucial-fetish",
   "metadata": {},
   "outputs": [],
   "source": [
    "etfs['1x_itt_us'] = calc_growth(calc_letf(\n",
    "    assets_daily_returns['itt_us'], \n",
    "    borrowing_rate=borrowing,\n",
    "    leverage=1,\n",
    "    er=0.2, \n",
    "    adjustment_factor=0,\n",
    "    percent=100\n",
    "), percent=1)\n",
    "etfs.head()"
   ]
  },
  {
   "cell_type": "code",
   "execution_count": null,
   "id": "prerequisite-reserve",
   "metadata": {},
   "outputs": [],
   "source": [
    "n = normalize(vfitx, etfs['1x_itt_us'])\n",
    "draw_growth_chart(\n",
    "    {\n",
    "        'VFITX (ITT 1x)': n,\n",
    "        '1x ITT (model)': etfs['1x_itt_us'],\n",
    "    },\n",
    "    \"Intermidiate Term Treasuries\",\n",
    "    overlapping_only = True,\n",
    ")\n",
    "draw_telltale_chart(\n",
    "    n,\n",
    "    {\n",
    "        '1x ITT (model)': etfs['1x_itt_us'],\n",
    "    },\n",
    "    \"Intermidiate Term Treasury Bonds (reference: VFITX)\",\n",
    "    overlapping_only = True,\n",
    ")"
   ]
  },
  {
   "cell_type": "markdown",
   "id": "endangered-terminal",
   "metadata": {},
   "source": [
    "Our model is still diverging from the ETF, so we add an adjustment factor of -0.5%."
   ]
  },
  {
   "cell_type": "code",
   "execution_count": null,
   "id": "expensive-thickness",
   "metadata": {},
   "outputs": [],
   "source": [
    "etfs['1x_itt_us'] = calc_growth(calc_letf(\n",
    "    assets_daily_returns['itt_us'], \n",
    "    borrowing_rate=borrowing,\n",
    "    leverage=1,\n",
    "    er=0.2, \n",
    "    adjustment_factor=-0.5,\n",
    "    percent=100\n",
    "), percent=1)\n",
    "etfs.head()"
   ]
  },
  {
   "cell_type": "code",
   "execution_count": null,
   "id": "rational-coral",
   "metadata": {},
   "outputs": [],
   "source": [
    "n = normalize(vfitx, etfs['1x_itt_us'])\n",
    "draw_growth_chart(\n",
    "    {\n",
    "        'VFITX (ITT 1x)': n,\n",
    "        '1x ITT (model)': etfs['1x_itt_us'],\n",
    "    },\n",
    "    \"Intermidiate Term Treasuries\",\n",
    "    overlapping_only = True,\n",
    ")\n",
    "draw_telltale_chart(\n",
    "    n,\n",
    "    {\n",
    "        '1x ITT (model)': etfs['1x_itt_us'],\n",
    "    },\n",
    "    \"Intermidiate Term Treasury Bonds (reference: VFITX)\",\n",
    "    overlapping_only = True,\n",
    ")"
   ]
  },
  {
   "cell_type": "markdown",
   "id": "conceptual-administration",
   "metadata": {},
   "source": [
    "Now we have a quite good fit, thus we can focus on UST."
   ]
  },
  {
   "cell_type": "code",
   "execution_count": null,
   "id": "virgin-wiring",
   "metadata": {},
   "outputs": [],
   "source": [
    "ust = download_from_yahoo(\"UST\", adjust=True)\n",
    "ust.head()"
   ]
  },
  {
   "cell_type": "code",
   "execution_count": null,
   "id": "restricted-timer",
   "metadata": {},
   "outputs": [],
   "source": [
    "n = normalize(ust, assets['itt_us'])\n",
    "draw_growth_chart(\n",
    "    {\n",
    "        'UST (ITT 2x)': n,\n",
    "        'ITT (US, 10-5 years)': assets['itt_us'],\n",
    "    },\n",
    "    \"Intermidiate Term Treasuries\",\n",
    "    overlapping_only = True,\n",
    ")"
   ]
  },
  {
   "cell_type": "markdown",
   "id": "backed-cleanup",
   "metadata": {},
   "source": [
    "UST has an expense ratio of 0.95%."
   ]
  },
  {
   "cell_type": "code",
   "execution_count": null,
   "id": "blind-registration",
   "metadata": {},
   "outputs": [],
   "source": [
    "etfs['2x_itt_us'] = calc_growth(calc_letf(\n",
    "    assets_daily_returns['itt_us'], \n",
    "    borrowing_rate=borrowing,\n",
    "    leverage=2,\n",
    "    er=0.95, \n",
    "    adjustment_factor=0,\n",
    "    percent=100\n",
    "), percent=1)\n",
    "etfs.head()"
   ]
  },
  {
   "cell_type": "code",
   "execution_count": null,
   "id": "coordinate-cedar",
   "metadata": {},
   "outputs": [],
   "source": [
    "n = normalize(ust, etfs['2x_itt_us'])\n",
    "draw_growth_chart(\n",
    "    {\n",
    "        'UST (ITT 2x)': n,\n",
    "        '2x ITT (model)': etfs['2x_itt_us'],\n",
    "    },\n",
    "    \"Intermidiate Term Treasuries\",\n",
    "    overlapping_only = True,\n",
    ")\n",
    "draw_telltale_chart(\n",
    "    n,\n",
    "    {\n",
    "        '2x ITT (model)': etfs['2x_itt_us'],\n",
    "    },\n",
    "    \"Intermidiate Term Treasury Bonds (reference: UST)\",\n",
    "    overlapping_only = True,\n",
    ")"
   ]
  },
  {
   "cell_type": "markdown",
   "id": "running-cisco",
   "metadata": {},
   "source": [
    "As we can see our ITT fund is underformorming. The reason for this difference is most probably the different average maturity duration between our model and the real ETF. Thus we chose the european ITT variant, which we modelled with band between 7-10 years and add small positive adjustment factor of 0.1%."
   ]
  },
  {
   "cell_type": "code",
   "execution_count": null,
   "id": "stunning-rally",
   "metadata": {},
   "outputs": [],
   "source": [
    "etfs['2x_itt_us'] = calc_growth(calc_letf(\n",
    "    assets_daily_returns['itt_eu'], \n",
    "    borrowing_rate=borrowing,\n",
    "    leverage=2,\n",
    "    er=0.95, \n",
    "    adjustment_factor=0.1,\n",
    "    percent=100\n",
    "), percent=1)\n",
    "etfs.head()"
   ]
  },
  {
   "cell_type": "code",
   "execution_count": null,
   "id": "orange-maximum",
   "metadata": {},
   "outputs": [],
   "source": [
    "n = normalize(ust, etfs['2x_itt_us'])\n",
    "draw_growth_chart(\n",
    "    {\n",
    "        'UST (ITT 2x)': n,\n",
    "        '2x ITT (model)': etfs['2x_itt_us'],\n",
    "    },\n",
    "    \"Intermidiate Term Treasuries\",\n",
    "    overlapping_only = True,\n",
    ")\n",
    "draw_telltale_chart(\n",
    "    n,\n",
    "    {\n",
    "        '2x ITT (model)': etfs['2x_itt_us'],\n",
    "    },\n",
    "    \"Intermidiate Term Treasury Bonds (reference: UST)\",\n",
    "    overlapping_only = True,\n",
    ")"
   ]
  },
  {
   "cell_type": "markdown",
   "id": "unable-triangle",
   "metadata": {},
   "source": [
    "Now we have a quite good fit.\n",
    "\n",
    "As last example we look at TYD and here we directly compare it to the `itt_eu` model, because of the better fitting maturity duration."
   ]
  },
  {
   "cell_type": "code",
   "execution_count": null,
   "id": "organizational-earthquake",
   "metadata": {},
   "outputs": [],
   "source": [
    "tyd = download_from_yahoo(\"TYD\", adjust=True)\n",
    "tyd.head()"
   ]
  },
  {
   "cell_type": "code",
   "execution_count": null,
   "id": "reverse-hello",
   "metadata": {},
   "outputs": [],
   "source": [
    "n = normalize(tyd, assets['itt_eu'])\n",
    "draw_growth_chart(\n",
    "    {\n",
    "        'TYD (ITT 2x)': n,\n",
    "        'ITT (EU, 10-7 years)': assets['itt_eu'],\n",
    "    },\n",
    "    \"Intermidiate Term Treasuries\",\n",
    "    overlapping_only = True,\n",
    ")"
   ]
  },
  {
   "cell_type": "markdown",
   "id": "maritime-lancaster",
   "metadata": {},
   "source": [
    "We create here a model with an expense ration of 1.09%."
   ]
  },
  {
   "cell_type": "code",
   "execution_count": null,
   "id": "federal-arrival",
   "metadata": {},
   "outputs": [],
   "source": [
    "etfs['3x_itt_us'] = calc_growth(calc_letf(\n",
    "    assets_daily_returns['itt_eu'], \n",
    "    borrowing_rate=borrowing,\n",
    "    leverage=3,\n",
    "    er=1.09, \n",
    "    adjustment_factor=0.0,\n",
    "    percent=100\n",
    "), percent=1)\n",
    "etfs.head()"
   ]
  },
  {
   "cell_type": "code",
   "execution_count": null,
   "id": "mathematical-bradley",
   "metadata": {},
   "outputs": [],
   "source": [
    "n = normalize(tyd, etfs['3x_itt_us'])\n",
    "draw_growth_chart(\n",
    "    {\n",
    "        'TYD (ITT 3x)': n,\n",
    "        '3x ITT (model)': etfs['3x_itt_us'],\n",
    "    },\n",
    "    \"Intermidiate Term Treasuries\",\n",
    "    overlapping_only = True,\n",
    ")\n",
    "draw_telltale_chart(\n",
    "    n,\n",
    "    {\n",
    "        '3x ITT (model)': etfs['3x_itt_us'],\n",
    "    },\n",
    "    \"Intermidiate Term Treasury Bonds (reference: TYD)\",\n",
    "    overlapping_only = True,\n",
    ")"
   ]
  },
  {
   "cell_type": "markdown",
   "id": "smooth-terminology",
   "metadata": {},
   "source": [
    "As we can see, the error is mostly stable. Just in the years before 2011, the error starts increasing a lot and afterwards it is keeping its level. If we would not try to fit the curve with an adjustment factor, we would just introduce a huge negative drift to our model. Instead we look at the curve just from 2011 and keep away the years before from comparison. Maybe the cost structure was much higher in those years, but without historical data, we cannot check this. "
   ]
  },
  {
   "cell_type": "code",
   "execution_count": null,
   "id": "sharp-favorite",
   "metadata": {},
   "outputs": [],
   "source": [
    "tyd = tyd.loc['2011':]"
   ]
  },
  {
   "cell_type": "code",
   "execution_count": null,
   "id": "naval-inspiration",
   "metadata": {},
   "outputs": [],
   "source": [
    "n = normalize(tyd, etfs['3x_itt_us'])\n",
    "draw_growth_chart(\n",
    "    {\n",
    "        'TYD (ITT 3x)': n,\n",
    "        '3x ITT (model)': etfs['3x_itt_us'],\n",
    "    },\n",
    "    \"Intermidiate Term Treasuries\",\n",
    "    overlapping_only = True,\n",
    ")\n",
    "draw_telltale_chart(\n",
    "    n,\n",
    "    {\n",
    "        '3x ITT (model)': etfs['3x_itt_us'],\n",
    "    },\n",
    "    \"Intermidiate Term Treasury Bonds (reference: TYD)\",\n",
    "    overlapping_only = True,\n",
    ")"
   ]
  },
  {
   "cell_type": "markdown",
   "id": "macro-military",
   "metadata": {},
   "source": [
    "We can see, that the error is now mostly constant (there is a lot of noise and a huge glitch in 2014). "
   ]
  },
  {
   "cell_type": "markdown",
   "id": "norwegian-celebration",
   "metadata": {},
   "source": [
    "In europe, we have the following fitting ETFs available:\n",
    "\n",
    "* 1x ITT => iShares $ Treasury Bd 7-10y ETF USD Acc (`SXRM`)\n",
    "* 3x ITT => WisdomTree US Treasuries 10Y 3x Daily Leveraged (`3TYL`)\n",
    "\n",
    "For the 2x ITT, we just copy the values from the US ETF. "
   ]
  },
  {
   "cell_type": "code",
   "execution_count": null,
   "id": "certain-uniform",
   "metadata": {},
   "outputs": [],
   "source": [
    "sxrm = download_from_yahoo(\"SXRM.DE\", adjust=True)\n",
    "sxrm.head()"
   ]
  },
  {
   "cell_type": "code",
   "execution_count": null,
   "id": "referenced-rocket",
   "metadata": {},
   "outputs": [],
   "source": [
    "n = normalize(sxrm, assets['itt_eu'])\n",
    "draw_growth_chart(\n",
    "    {\n",
    "        'SXRM (ITT 1x)': n,\n",
    "        'ITT (EU, 10-7 years)': assets['itt_eu'],\n",
    "    },\n",
    "    \"Intermidiate Term Treasuries\",\n",
    "    overlapping_only = True,\n",
    ")"
   ]
  },
  {
   "cell_type": "markdown",
   "id": "bearing-testimony",
   "metadata": {},
   "source": [
    "We see huge glitches before 2012, thus we just take the data afterwards into account. Furthermore we model the ETF with an expense ratio of 0.07%."
   ]
  },
  {
   "cell_type": "code",
   "execution_count": null,
   "id": "celtic-coaching",
   "metadata": {},
   "outputs": [],
   "source": [
    "sxrm = sxrm.loc['2012':]"
   ]
  },
  {
   "cell_type": "code",
   "execution_count": null,
   "id": "catholic-round",
   "metadata": {},
   "outputs": [],
   "source": [
    "etfs['1x_itt_eu'] = calc_growth(calc_letf(\n",
    "    assets_daily_returns['itt_eu'], \n",
    "    borrowing_rate=borrowing,\n",
    "    leverage=1,\n",
    "    er=0.07, \n",
    "    adjustment_factor=0.0,\n",
    "    percent=100\n",
    "), percent=1)\n",
    "etfs.head()"
   ]
  },
  {
   "cell_type": "code",
   "execution_count": null,
   "id": "thrown-finance",
   "metadata": {},
   "outputs": [],
   "source": [
    "n = normalize(sxrm, etfs['1x_itt_eu'])\n",
    "draw_growth_chart(\n",
    "    {\n",
    "        'SXRM (ITT 1x)': n,\n",
    "        '1x ITT (model)': etfs['1x_itt_eu'],\n",
    "    },\n",
    "    \"Intermidiate Term Treasuries\",\n",
    "    overlapping_only = True,\n",
    ")\n",
    "draw_telltale_chart(\n",
    "    n,\n",
    "    {\n",
    "        '1x ITT (model)': etfs['1x_itt_eu'],\n",
    "    },\n",
    "    \"Intermidiate Term Treasury Bonds (reference: SXRM)\",\n",
    "    overlapping_only = True,\n",
    ")"
   ]
  },
  {
   "cell_type": "markdown",
   "id": "passive-sunday",
   "metadata": {},
   "source": [
    "We still diverge from the ETF, thus we introduce an adjustment-factor of -0.2%."
   ]
  },
  {
   "cell_type": "code",
   "execution_count": null,
   "id": "careful-ferry",
   "metadata": {},
   "outputs": [],
   "source": [
    "etfs['1x_itt_eu'] = calc_growth(calc_letf(\n",
    "    assets_daily_returns['itt_eu'], \n",
    "    borrowing_rate=borrowing,\n",
    "    leverage=1,\n",
    "    er=0.07, \n",
    "    adjustment_factor=-0.15,\n",
    "    percent=100\n",
    "), percent=1)\n",
    "etfs.head()"
   ]
  },
  {
   "cell_type": "code",
   "execution_count": null,
   "id": "smart-reply",
   "metadata": {},
   "outputs": [],
   "source": [
    "n = normalize(sxrm, etfs['1x_itt_eu'])\n",
    "draw_growth_chart(\n",
    "    {\n",
    "        'SXRM (ITT 1x)': n,\n",
    "        '1x ITT (model)': etfs['1x_itt_eu'],\n",
    "    },\n",
    "    \"Intermidiate Term Treasuries\",\n",
    "    overlapping_only = True,\n",
    ")\n",
    "draw_telltale_chart(\n",
    "    n,\n",
    "    {\n",
    "        '1x ITT (model)': etfs['1x_itt_eu'],\n",
    "    },\n",
    "    \"Intermidiate Term Treasury Bonds (reference: SXRM)\",\n",
    "    overlapping_only = True,\n",
    ")"
   ]
  },
  {
   "cell_type": "markdown",
   "id": "transparent-vertex",
   "metadata": {},
   "source": [
    "The error curve is now quite float and the error is low. So we focus on the leveraged ETFs. Since there is no europeen 2x leveraged ETF available, we just copy the data from the US ETF (which has been modelled with europeen ITT data anyway) and directly focus on 3TYL as 3x leveraged ITT ETN. "
   ]
  },
  {
   "cell_type": "code",
   "execution_count": null,
   "id": "negative-brooks",
   "metadata": {},
   "outputs": [],
   "source": [
    "etfs['2x_itt_eu'] = etfs['2x_itt_us'].copy()"
   ]
  },
  {
   "cell_type": "code",
   "execution_count": null,
   "id": "unlimited-citation",
   "metadata": {},
   "outputs": [],
   "source": [
    "tyl3 = to_usd(download_from_yahoo(\"3TYL.L\", adjust=True))\n",
    "tyl3.head()"
   ]
  },
  {
   "cell_type": "code",
   "execution_count": null,
   "id": "weird-surname",
   "metadata": {},
   "outputs": [],
   "source": [
    "n = normalize(tyl3, assets['itt_eu'])\n",
    "draw_growth_chart(\n",
    "    {\n",
    "        '3TYL (ITT 2x)': n,\n",
    "        'ITT (EU, 10-7 years)': assets['itt_eu'],\n",
    "    },\n",
    "    \"Intermidiate Term Treasuries\",\n",
    "    overlapping_only = True,\n",
    ")"
   ]
  },
  {
   "cell_type": "markdown",
   "id": "exact-congo",
   "metadata": {},
   "source": [
    "As we can see the data-quality is very bad. We have a huge spike in Nov. 2021 and the data before Aug. 2017 does also not look correct. So we have to restrict the comparison periode to Aug. 2017 until Nov. 2021."
   ]
  },
  {
   "cell_type": "code",
   "execution_count": null,
   "id": "bearing-stage",
   "metadata": {},
   "outputs": [],
   "source": [
    "tyl3 = tyl3.loc['2017-08-01':'2021-11-01']"
   ]
  },
  {
   "cell_type": "code",
   "execution_count": null,
   "id": "protective-meeting",
   "metadata": {},
   "outputs": [],
   "source": [
    "n = normalize(tyl3, assets['itt_eu'])\n",
    "draw_growth_chart(\n",
    "    {\n",
    "        '3TYL (ITT 2x)': n,\n",
    "        'ITT (EU, 10-7 years)': assets['itt_eu'],\n",
    "    },\n",
    "    \"Intermidiate Term Treasuries\",\n",
    "    overlapping_only = True,\n",
    ")"
   ]
  },
  {
   "cell_type": "markdown",
   "id": "young-lewis",
   "metadata": {},
   "source": [
    "It seems that there are still glitches in the year 2018 with long periodes without data, but we will now model our ETF and then look if we can use the data for comparison. As expense ratio we chose a value of 0.3%."
   ]
  },
  {
   "cell_type": "code",
   "execution_count": null,
   "id": "present-bruce",
   "metadata": {},
   "outputs": [],
   "source": [
    "etfs['3x_itt_eu'] = calc_growth(calc_letf(\n",
    "    assets_daily_returns['itt_eu'], \n",
    "    borrowing_rate=borrowing,\n",
    "    leverage=3,\n",
    "    er=0.3, \n",
    "    adjustment_factor=-0.0,\n",
    "    percent=100\n",
    "), percent=1)\n",
    "etfs.head()"
   ]
  },
  {
   "cell_type": "code",
   "execution_count": null,
   "id": "popular-acrylic",
   "metadata": {},
   "outputs": [],
   "source": [
    "n = normalize(tyl3, etfs['3x_itt_eu'])\n",
    "draw_growth_chart(\n",
    "    {\n",
    "        '3TYL (ITT 3x)': n,\n",
    "        '3x ITT (model)': etfs['3x_itt_eu'],\n",
    "    },\n",
    "    \"Intermidiate Term Treasuries\",\n",
    "    overlapping_only = True,\n",
    ")\n",
    "draw_telltale_chart(\n",
    "    n,\n",
    "    {\n",
    "        '3x ITT (model)': etfs['3x_itt_eu'],\n",
    "    },\n",
    "    \"Intermidiate Term Treasury Bonds (reference: 3TYL)\",\n",
    "    overlapping_only = True,\n",
    ")"
   ]
  },
  {
   "cell_type": "markdown",
   "id": "unusual-section",
   "metadata": {},
   "source": [
    "To flatten the curve, we add an adjustment-factor of -2.5%, which is a high factor, but we already know that the WidomTree ETNs have very high tracking errors."
   ]
  },
  {
   "cell_type": "code",
   "execution_count": null,
   "id": "different-switch",
   "metadata": {},
   "outputs": [],
   "source": [
    "etfs['3x_itt_eu'] = calc_growth(calc_letf(\n",
    "    assets_daily_returns['itt_eu'], \n",
    "    borrowing_rate=borrowing,\n",
    "    leverage=3,\n",
    "    er=0.3, \n",
    "    adjustment_factor=-2.5,\n",
    "    percent=100\n",
    "), percent=1)\n",
    "etfs.head()"
   ]
  },
  {
   "cell_type": "code",
   "execution_count": null,
   "id": "framed-beijing",
   "metadata": {},
   "outputs": [],
   "source": [
    "n = normalize(tyl3, etfs['3x_itt_eu'])\n",
    "draw_growth_chart(\n",
    "    {\n",
    "        '3TYL (ITT 3x)': n,\n",
    "        '3x ITT (model)': etfs['3x_itt_eu'],\n",
    "    },\n",
    "    \"Intermidiate Term Treasuries\",\n",
    "    overlapping_only = True,\n",
    ")\n",
    "draw_telltale_chart(\n",
    "    n,\n",
    "    {\n",
    "        '3x ITT (model)': etfs['3x_itt_eu'],\n",
    "    },\n",
    "    \"Intermidiate Term Treasury Bonds (reference: 3TYL)\",\n",
    "    overlapping_only = True,\n",
    ")"
   ]
  },
  {
   "cell_type": "markdown",
   "id": "bacterial-duration",
   "metadata": {},
   "source": [
    "The fit is not perfect, but our model mostly follows the reference. "
   ]
  },
  {
   "cell_type": "markdown",
   "id": "rental-technical",
   "metadata": {},
   "source": [
    "## Long Term Treasury Bonds\n",
    "\n",
    "As reference for the long term treasury bonds we select the following U.S. funds:\n",
    "\n",
    "* 1x LTT => Vanguard Long-Term Treasury Fund Investor Shares (`VUSTX`)\n",
    "* 2x LTT => ProShares Ultra 20+ Year Treasury (`UBT`)\n",
    "* 3x LTT => Direxion Daily 20+ Year Treasury Bull 3X Shares (`TMF`)\n",
    "    \n",
    "Also here, we have to notice that the maturity duration of UBT and TMF is not 10-30 years but 20-30 years, which means that also here the european LTT models fits better. "
   ]
  },
  {
   "cell_type": "code",
   "execution_count": null,
   "id": "backed-theater",
   "metadata": {},
   "outputs": [],
   "source": [
    "vustx = download_from_yahoo(\"VUSTX\", adjust=True)\n",
    "vustx.head()"
   ]
  },
  {
   "cell_type": "code",
   "execution_count": null,
   "id": "accompanied-departure",
   "metadata": {},
   "outputs": [],
   "source": [
    "n = normalize(vustx, assets['ltt_us'])\n",
    "draw_growth_chart(\n",
    "    {\n",
    "        'VUSTX (LTT 1x)': n,\n",
    "        'LTT (US, 10-30 years)': assets['ltt_us'],\n",
    "    },\n",
    "    \"Long Term Treasuries\",\n",
    "    overlapping_only = True,\n",
    ")"
   ]
  },
  {
   "cell_type": "markdown",
   "id": "classical-compatibility",
   "metadata": {},
   "source": [
    "For modelling our ETF we chose an expense ratio of 0.20%."
   ]
  },
  {
   "cell_type": "code",
   "execution_count": null,
   "id": "wrong-geography",
   "metadata": {},
   "outputs": [],
   "source": [
    "etfs['1x_ltt_us'] = calc_growth(calc_letf(\n",
    "    assets_daily_returns['ltt_us'], \n",
    "    borrowing_rate=borrowing,\n",
    "    leverage=1,\n",
    "    er=0.2, \n",
    "    adjustment_factor=-0,\n",
    "    percent=100\n",
    "), percent=1)\n",
    "etfs.head()"
   ]
  },
  {
   "cell_type": "code",
   "execution_count": null,
   "id": "registered-hazard",
   "metadata": {},
   "outputs": [],
   "source": [
    "n = normalize(vustx, etfs['1x_ltt_us'])\n",
    "draw_growth_chart(\n",
    "    {\n",
    "        'VUSTX (LTT 1x)': n,\n",
    "        '1x LTT (model)': etfs['1x_ltt_us'],\n",
    "    },\n",
    "    \"Long Term Treasuries\",\n",
    "    overlapping_only = True,\n",
    ")\n",
    "draw_telltale_chart(\n",
    "    n,\n",
    "    {\n",
    "        '1x LTT (model)': etfs['1x_ltt_us'],\n",
    "    },\n",
    "    \"Long Term Treasury Bonds (reference: VUSTX)\",\n",
    "    overlapping_only = True,\n",
    ")"
   ]
  },
  {
   "cell_type": "markdown",
   "id": "perceived-mongolia",
   "metadata": {},
   "source": [
    "We have a quite good fit here. Between 2000 and 2015 the model is drifting ahead of the fund, so maybe in those years the expense ratio was higher, but in 2020 the error curve is coming back to the reference. \n",
    "\n",
    "For the UBT, we use the european LTT model as base."
   ]
  },
  {
   "cell_type": "code",
   "execution_count": null,
   "id": "alternative-communist",
   "metadata": {},
   "outputs": [],
   "source": [
    "ubt = download_from_yahoo(\"UBT\", adjust=True)\n",
    "ubt.head()"
   ]
  },
  {
   "cell_type": "code",
   "execution_count": null,
   "id": "elementary-employee",
   "metadata": {},
   "outputs": [],
   "source": [
    "n = normalize(ubt, assets['ltt_eu'])\n",
    "draw_growth_chart(\n",
    "    {\n",
    "        'UBT (LTT 2x)': n,\n",
    "        'LTT (EU, 20-30 years)': assets['ltt_eu'],\n",
    "    },\n",
    "    \"Long Term Treasuries\",\n",
    "    overlapping_only = True,\n",
    ")"
   ]
  },
  {
   "cell_type": "markdown",
   "id": "retained-assets",
   "metadata": {},
   "source": [
    "We model the ETF with an expense ratio of 0.95%."
   ]
  },
  {
   "cell_type": "code",
   "execution_count": null,
   "id": "indonesian-watch",
   "metadata": {},
   "outputs": [],
   "source": [
    "etfs['2x_ltt_us'] = calc_growth(calc_letf(\n",
    "    assets_daily_returns['ltt_eu'], \n",
    "    borrowing_rate=borrowing,\n",
    "    leverage=2,\n",
    "    er=0.95, \n",
    "    adjustment_factor=-0,\n",
    "    percent=100\n",
    "), percent=1)\n",
    "etfs.head()"
   ]
  },
  {
   "cell_type": "code",
   "execution_count": null,
   "id": "wanted-smart",
   "metadata": {},
   "outputs": [],
   "source": [
    "n = normalize(ubt, etfs['2x_ltt_us'])\n",
    "draw_growth_chart(\n",
    "    {\n",
    "        'UBT (LTT 2x)': n,\n",
    "        '2x LTT (model)': etfs['2x_ltt_us'],\n",
    "    },\n",
    "    \"Long Term Treasuries\",\n",
    "    overlapping_only = True,\n",
    ")\n",
    "draw_telltale_chart(\n",
    "    n,\n",
    "    {\n",
    "        '2x LTT (model)': etfs['2x_ltt_us'],\n",
    "    },\n",
    "    \"Long Term Treasury Bonds (reference: UBT)\",\n",
    "    overlapping_only = True,\n",
    ")"
   ]
  },
  {
   "cell_type": "markdown",
   "id": "alert-project",
   "metadata": {},
   "source": [
    "This is out of the box a very good fit. So we can dirctly focus on TMF."
   ]
  },
  {
   "cell_type": "code",
   "execution_count": null,
   "id": "composed-great",
   "metadata": {},
   "outputs": [],
   "source": [
    "tmf = download_from_yahoo(\"TMF\", adjust=True)\n",
    "tmf.head()"
   ]
  },
  {
   "cell_type": "code",
   "execution_count": null,
   "id": "integral-sheffield",
   "metadata": {},
   "outputs": [],
   "source": [
    "n = normalize(tmf, assets['ltt_eu'])\n",
    "draw_growth_chart(\n",
    "    {\n",
    "        'TMF (LTT 3x)': n,\n",
    "        'LTT (EU, 20-30 years)': assets['ltt_eu'],\n",
    "    },\n",
    "    \"Long Term Treasuries\",\n",
    "    overlapping_only = True,\n",
    ")"
   ]
  },
  {
   "cell_type": "markdown",
   "id": "double-providence",
   "metadata": {},
   "source": [
    "Here we use an expense ratio of 1.06%."
   ]
  },
  {
   "cell_type": "code",
   "execution_count": null,
   "id": "completed-thanks",
   "metadata": {},
   "outputs": [],
   "source": [
    "etfs['3x_ltt_us'] = calc_growth(calc_letf(\n",
    "    assets_daily_returns['ltt_eu'], \n",
    "    borrowing_rate=borrowing,\n",
    "    leverage=3,\n",
    "    er=1.06, \n",
    "    adjustment_factor=-0,\n",
    "    percent=100\n",
    "), percent=1)\n",
    "etfs.head()"
   ]
  },
  {
   "cell_type": "code",
   "execution_count": null,
   "id": "afraid-algeria",
   "metadata": {},
   "outputs": [],
   "source": [
    "n = normalize(tmf, etfs['3x_ltt_us'])\n",
    "draw_growth_chart(\n",
    "    {\n",
    "        'TMF (LTT 3x)': n,\n",
    "        '3x LTT (model)': etfs['3x_ltt_us'],\n",
    "    },\n",
    "    \"Long Term Treasuries\",\n",
    "    overlapping_only = True,\n",
    ")\n",
    "draw_telltale_chart(\n",
    "    n,\n",
    "    {\n",
    "        '3x LTT (model)': etfs['3x_ltt_us'],\n",
    "    },\n",
    "    \"Long Term Treasury Bonds (reference: TMF)\",\n",
    "    overlapping_only = True,\n",
    ")"
   ]
  },
  {
   "cell_type": "markdown",
   "id": "comic-homework",
   "metadata": {},
   "source": [
    "Our model is diverging a lot over time, so we have to add an adjustment-factor of 1%."
   ]
  },
  {
   "cell_type": "code",
   "execution_count": null,
   "id": "modular-aggregate",
   "metadata": {},
   "outputs": [],
   "source": [
    "etfs['3x_ltt_us'] = calc_growth(calc_letf(\n",
    "    assets_daily_returns['ltt_eu'], \n",
    "    borrowing_rate=borrowing,\n",
    "    leverage=3,\n",
    "    er=1.06, \n",
    "    adjustment_factor=-1.0,\n",
    "    percent=100\n",
    "), percent=1)\n",
    "etfs.head()"
   ]
  },
  {
   "cell_type": "code",
   "execution_count": null,
   "id": "boolean-lighting",
   "metadata": {},
   "outputs": [],
   "source": [
    "n = normalize(tmf, etfs['3x_ltt_us'])\n",
    "draw_growth_chart(\n",
    "    {\n",
    "        'TMF (LTT 3x)': n,\n",
    "        '3x LTT (model)': etfs['3x_ltt_us'],\n",
    "    },\n",
    "    \"Long Term Treasuries\",\n",
    "    overlapping_only = True,\n",
    ")\n",
    "draw_telltale_chart(\n",
    "    n,\n",
    "    {\n",
    "        '3x LTT (model)': etfs['3x_ltt_us'],\n",
    "    },\n",
    "    \"Long Term Treasury Bonds (reference: TMF)\",\n",
    "    overlapping_only = True,\n",
    ")"
   ]
  },
  {
   "cell_type": "markdown",
   "id": "ideal-three",
   "metadata": {},
   "source": [
    "As we can see the strongest drift is between 2009 and 2011. Afterwards the curve is mostly flat. Let's restrict the comparison to the time afterwards."
   ]
  },
  {
   "cell_type": "code",
   "execution_count": null,
   "id": "forty-prefix",
   "metadata": {},
   "outputs": [],
   "source": [
    "tmf = tmf.loc['2011':]"
   ]
  },
  {
   "cell_type": "code",
   "execution_count": null,
   "id": "tough-vulnerability",
   "metadata": {},
   "outputs": [],
   "source": [
    "n = normalize(tmf, etfs['3x_ltt_us'])\n",
    "draw_growth_chart(\n",
    "    {\n",
    "        'TMF (LTT 3x)': n,\n",
    "        '3x LTT (model)': etfs['3x_ltt_us'],\n",
    "    },\n",
    "    \"Long Term Treasuries\",\n",
    "    overlapping_only = True,\n",
    ")\n",
    "draw_telltale_chart(\n",
    "    n,\n",
    "    {\n",
    "        '3x LTT (model)': etfs['3x_ltt_us'],\n",
    "    },\n",
    "    \"Long Term Treasury Bonds (reference: TMF)\",\n",
    "    overlapping_only = True,\n",
    ")"
   ]
  },
  {
   "cell_type": "markdown",
   "id": "short-bachelor",
   "metadata": {},
   "source": [
    "This is a very good fit. It is unclear, why from 2009 to 2011 the curve was growing so strong. Maybe the costs where "
   ]
  },
  {
   "cell_type": "markdown",
   "id": "possible-batch",
   "metadata": {},
   "source": [
    "For europe we only have one Lont Term Treasury Fund, which is DTLA. This fund has not leverage factor, thus for the 2x and 3x leverage factors, we just can copy the values from the US ETFs. "
   ]
  },
  {
   "cell_type": "code",
   "execution_count": null,
   "id": "different-beverage",
   "metadata": {},
   "outputs": [],
   "source": [
    "dtla = download_from_yahoo(\"DTLA.L\", adjust=True)\n",
    "dtla.head()"
   ]
  },
  {
   "cell_type": "code",
   "execution_count": null,
   "id": "integral-portsmouth",
   "metadata": {},
   "outputs": [],
   "source": [
    "n = normalize(dtla, assets['ltt_eu'])\n",
    "draw_growth_chart(\n",
    "    {\n",
    "        'DTLA (LTT 1x)': n,\n",
    "        'LTT (EU, 20-30 years)': assets['ltt_eu'],\n",
    "    },\n",
    "    \"Long Term Treasuries\",\n",
    "    overlapping_only = True,\n",
    ")"
   ]
  },
  {
   "cell_type": "markdown",
   "id": "banner-corpus",
   "metadata": {},
   "source": [
    "We already have a very good fit. However we still model the ETF with an expense ratio of 0.07%."
   ]
  },
  {
   "cell_type": "code",
   "execution_count": null,
   "id": "resident-person",
   "metadata": {},
   "outputs": [],
   "source": [
    "etfs['1x_ltt_eu'] = calc_growth(calc_letf(\n",
    "    assets_daily_returns['ltt_eu'], \n",
    "    borrowing_rate=borrowing,\n",
    "    leverage=1,\n",
    "    er=0.07, \n",
    "    adjustment_factor=0.0,\n",
    "    percent=100\n",
    "), percent=1)\n",
    "etfs.head()"
   ]
  },
  {
   "cell_type": "code",
   "execution_count": null,
   "id": "informational-costs",
   "metadata": {},
   "outputs": [],
   "source": [
    "n = normalize(dtla, etfs['1x_ltt_eu'])\n",
    "draw_growth_chart(\n",
    "    {\n",
    "        'DTLA (LTT 1x)': n,\n",
    "        '1x LTT (model)': etfs['1x_ltt_eu'],\n",
    "    },\n",
    "    \"Long Term Treasuries\",\n",
    "    overlapping_only = True,\n",
    ")\n",
    "draw_telltale_chart(\n",
    "    n,\n",
    "    {\n",
    "        '1x LTT (model)': etfs['1x_ltt_eu'],\n",
    "    },\n",
    "    \"Long Term Treasury Bonds (reference: DTLA)\",\n",
    "    overlapping_only = True,\n",
    ")"
   ]
  },
  {
   "cell_type": "markdown",
   "id": "lesbian-vienna",
   "metadata": {},
   "source": [
    "This looks fine. The remaining ETFs can be copied from the US, since we anyway do not have any reference to compare with."
   ]
  },
  {
   "cell_type": "code",
   "execution_count": null,
   "id": "previous-screening",
   "metadata": {},
   "outputs": [],
   "source": [
    "etfs['2x_ltt_eu'] = etfs['2x_ltt_us']\n",
    "etfs['3x_ltt_eu'] = etfs['3x_ltt_us']"
   ]
  },
  {
   "cell_type": "markdown",
   "id": "western-solid",
   "metadata": {},
   "source": [
    "Let's normalize all ETFs to a start of $100 in 1943 and then we draw them all in one graph."
   ]
  },
  {
   "cell_type": "code",
   "execution_count": null,
   "id": "exact-shelter",
   "metadata": {},
   "outputs": [],
   "source": [
    "for c in etfs.columns:\n",
    "    etfs[c] = normalize(etfs[c], start_value=100)\n",
    "etfs.head()"
   ]
  },
  {
   "cell_type": "markdown",
   "id": "durable-chicken",
   "metadata": {},
   "source": [
    "## Review: S&P 500 ETFs\n",
    "\n",
    "Let's now review all assets class by class. We first start with S&P 500."
   ]
  },
  {
   "cell_type": "code",
   "execution_count": null,
   "id": "systematic-dimension",
   "metadata": {},
   "outputs": [],
   "source": [
    "draw_growth_chart(\n",
    "    {\n",
    "        '1x S&P 500': etfs['1x_sp500_us'],\n",
    "        '2x S&P 500': etfs['2x_sp500_us'],\n",
    "        '3x S&P 500': etfs['3x_sp500_us'],\n",
    "    },\n",
    "    \"S&P 500 ETFs (US)\",\n",
    "    overlapping_only = True,\n",
    ")   "
   ]
  },
  {
   "cell_type": "markdown",
   "id": "dangerous-minute",
   "metadata": {},
   "source": [
    "## Review: Nasdaq-100 ETFs\n"
   ]
  },
  {
   "cell_type": "code",
   "execution_count": null,
   "id": "absent-universal",
   "metadata": {},
   "outputs": [],
   "source": [
    "draw_growth_chart(\n",
    "    {\n",
    "        '1x Nasdaq-100': etfs['1x_ndx100_us'],\n",
    "        '2x Nasdaq-100': etfs['2x_ndx100_us'],\n",
    "        '3x Nasdaq-100': etfs['3x_ndx100_us'],\n",
    "    },\n",
    "    \"Nasdaq-100 (US)\",\n",
    "    overlapping_only = True,\n",
    ")   "
   ]
  },
  {
   "cell_type": "code",
   "execution_count": null,
   "id": "political-employee",
   "metadata": {},
   "outputs": [],
   "source": [
    "draw_growth_chart(\n",
    "    {\n",
    "        '1x Nasdaq-100': etfs['1x_ndx100_eu'],\n",
    "        '2x Nasdaq-100': etfs['2x_ndx100_eu'],\n",
    "        '3x Nasdaq-100': etfs['3x_ndx100_eu'],\n",
    "    },\n",
    "    \"Nasdaq-100 (EU)\",\n",
    "    overlapping_only = True,\n",
    ") "
   ]
  },
  {
   "cell_type": "markdown",
   "id": "partial-desperate",
   "metadata": {},
   "source": [
    "## Review: Gold ETFs"
   ]
  },
  {
   "cell_type": "code",
   "execution_count": null,
   "id": "matched-pleasure",
   "metadata": {},
   "outputs": [],
   "source": [
    "draw_growth_chart(\n",
    "    {\n",
    "        '1x Gold': etfs['1x_gold_us'],\n",
    "        '2x Gold': etfs['2x_gold_us'],\n",
    "    },\n",
    "    \"Gold (US)\",\n",
    "    overlapping_only = True,\n",
    ")   "
   ]
  },
  {
   "cell_type": "markdown",
   "id": "unlikely-specification",
   "metadata": {},
   "source": [
    "The leveraged Gold ETFs is hardly making any returns. Due to long phases of sidewards movement, the volatility decay combined with the costs is eating up all returns. "
   ]
  },
  {
   "cell_type": "code",
   "execution_count": null,
   "id": "friendly-dinner",
   "metadata": {},
   "outputs": [],
   "source": [
    "draw_growth_chart(\n",
    "    {\n",
    "        '1x Gold': etfs['1x_gold_eu'],\n",
    "        '3x Gold': etfs['3x_gold_eu'],\n",
    "    },\n",
    "    \"Gold (US)\",\n",
    "    overlapping_only = True,\n",
    ")   "
   ]
  },
  {
   "cell_type": "markdown",
   "id": "social-carol",
   "metadata": {},
   "source": [
    "This effect is even worse for the 3x leveraged Gold fund in europe. "
   ]
  },
  {
   "cell_type": "markdown",
   "id": "three-colon",
   "metadata": {},
   "source": [
    "## Review: Long Term Treasury ETFs"
   ]
  },
  {
   "cell_type": "code",
   "execution_count": null,
   "id": "competitive-firmware",
   "metadata": {},
   "outputs": [],
   "source": [
    "draw_growth_chart(\n",
    "    {\n",
    "        '1x LTT': etfs['1x_ltt_us'],\n",
    "        '2x LTT': etfs['2x_ltt_us'],\n",
    "        '3x LTT': etfs['3x_ltt_us'],\n",
    "    },\n",
    "    \"Long Term Treasuries (US)\",\n",
    "    overlapping_only = True,\n",
    ")   "
   ]
  },
  {
   "cell_type": "code",
   "execution_count": null,
   "id": "alternate-young",
   "metadata": {},
   "outputs": [],
   "source": [
    "draw_growth_chart(\n",
    "    {\n",
    "        '1x LTT (EU)': etfs['1x_ltt_eu'],\n",
    "        '1x LTT (US)': etfs['1x_ltt_us'],\n",
    "    },\n",
    "    \"Long Term Treasuries\",\n",
    "    overlapping_only = True,\n",
    ")   "
   ]
  },
  {
   "cell_type": "markdown",
   "id": "patient-junction",
   "metadata": {},
   "source": [
    "It seems, that the EU LTT ETF is a little bit ahead of the US version. The reason for that is the reference we have used: The US reference was a normal fund from the times, where ETFs did not exist. Such a fund has normally much higher costs compared to modern ETFs. "
   ]
  },
  {
   "cell_type": "markdown",
   "id": "upper-bones",
   "metadata": {},
   "source": [
    "## Review: Intermediate Term Treasury ETFs"
   ]
  },
  {
   "cell_type": "code",
   "execution_count": null,
   "id": "eleven-engagement",
   "metadata": {},
   "outputs": [],
   "source": [
    "draw_growth_chart(\n",
    "    {\n",
    "        '1x ITT': etfs['1x_itt_us'],\n",
    "        '2x ITT': etfs['2x_itt_us'],\n",
    "        '3x ITT': etfs['3x_itt_us'],\n",
    "    },\n",
    "    \"Intermediate Term Treasuries (US)\",\n",
    "    overlapping_only = True,\n",
    ")   "
   ]
  },
  {
   "cell_type": "markdown",
   "id": "seasonal-malaysia",
   "metadata": {},
   "source": [
    "This is interesting: While the leveraged LTT ETFs were lacking behind the unleveraged reference over such a long periode of time, the leveraged ITT ETFs perform much better then the unleveraged reference. But also here the reason is the strong periode of growth from 1985 until today. During the years 1965 to 1985 betting on leveraged bond funds would have been a bad idea. "
   ]
  },
  {
   "cell_type": "code",
   "execution_count": null,
   "id": "chief-tooth",
   "metadata": {},
   "outputs": [],
   "source": [
    "draw_growth_chart(\n",
    "    {\n",
    "        '1x ITT': etfs['1x_itt_eu'],\n",
    "        '2x ITT (same as US)': etfs['2x_itt_eu'],\n",
    "        '3x ITT': etfs['3x_itt_eu'],\n",
    "    },\n",
    "    \"Intermediate Term Treasuries (EU)\",\n",
    "    overlapping_only = True,\n",
    ")  "
   ]
  },
  {
   "cell_type": "markdown",
   "id": "hired-salvation",
   "metadata": {},
   "source": [
    "For the european ETFs the situation is different. Keep in mind, that the 2x ITT ETF does not exist in Europe, it is just the US version as reference. So the 3x ITT ETN has a very bad performance compared to the unleveraged one. The reason for this are clearly the high costs of the WisdomTree ETN, which makes it hard for this ETN to recover from the years 1965 t0 1985. Let's restrict the graph to the years of strong growth beginnin in 1985."
   ]
  },
  {
   "cell_type": "code",
   "execution_count": null,
   "id": "valuable-memory",
   "metadata": {},
   "outputs": [],
   "source": [
    "draw_growth_chart(\n",
    "    {\n",
    "        '1x ITT': normalize(etfs['1x_itt_eu'].loc['1985':], start_value=10000),\n",
    "        '2x ITT (same as US)': normalize(etfs['2x_itt_eu'].loc['1985':], start_value=10000),\n",
    "        '3x ITT': normalize(etfs['3x_itt_eu'].loc['1985':], start_value=10000),\n",
    "    },\n",
    "    \"Intermediate Term Treasuries (EU)\",\n",
    "    overlapping_only = True,\n",
    ")  "
   ]
  },
  {
   "cell_type": "code",
   "execution_count": null,
   "id": "330e762c",
   "metadata": {},
   "outputs": [],
   "source": [
    "draw_growth_chart(\n",
    "    {\n",
    "        '1x ITT (EU)': etfs['1x_itt_eu'],\n",
    "        '1x ITT (US)': etfs['1x_itt_us'],\n",
    "    },\n",
    "    \"Intermediate Term Treasuries\",\n",
    "    overlapping_only = True,\n",
    ")   "
   ]
  },
  {
   "cell_type": "markdown",
   "id": "associate-breathing",
   "metadata": {},
   "source": [
    "So we can see that the 3x leveraged ETN has the highest gain in an ideal growth environment for bonds. \n",
    "\n",
    "However, my hypothesis is: We most probably do not have an ideal growth environment for bonds in the next years. "
   ]
  },
  {
   "cell_type": "markdown",
   "id": "greater-drink",
   "metadata": {},
   "source": [
    "## Review: Short Term Treasury ETFs"
   ]
  },
  {
   "cell_type": "code",
   "execution_count": null,
   "id": "banner-wilderness",
   "metadata": {},
   "outputs": [],
   "source": [
    "draw_growth_chart(\n",
    "    {\n",
    "        '1x STT': etfs['1x_stt_us'],\n",
    "        '2x STT': etfs['2x_stt_us'],\n",
    "        '3x STT': etfs['3x_stt_us'],\n",
    "    },\n",
    "    \"Short Term Treasuries (US)\",\n",
    "    overlapping_only = True,\n",
    ") "
   ]
  },
  {
   "cell_type": "code",
   "execution_count": null,
   "id": "083d61ee",
   "metadata": {},
   "outputs": [],
   "source": [
    "draw_growth_chart(\n",
    "    {\n",
    "        '1x STT': etfs['1x_stt_eu'],\n",
    "        '2x STT': etfs['2x_stt_eu'],\n",
    "        '3x STT': etfs['3x_stt_eu'],\n",
    "    },\n",
    "    \"Short Term Treasuries (EU)\",\n",
    "    overlapping_only = True,\n",
    ") "
   ]
  },
  {
   "cell_type": "code",
   "execution_count": null,
   "id": "ebe2653e",
   "metadata": {},
   "outputs": [],
   "source": [
    "draw_growth_chart(\n",
    "    {\n",
    "        '1x STT (EU)': etfs['1x_stt_eu'],\n",
    "        '1x STT (US)': etfs['1x_stt_us'],\n",
    "    },\n",
    "    \"Short Term Treasuries\",\n",
    "    overlapping_only = True,\n",
    ")   "
   ]
  },
  {
   "cell_type": "markdown",
   "id": "tropical-boundary",
   "metadata": {},
   "source": [
    "And now we store the ETFs as excel file."
   ]
  },
  {
   "cell_type": "code",
   "execution_count": null,
   "id": "dietary-cookie",
   "metadata": {},
   "outputs": [],
   "source": [
    "etfs.to_excel(clean_data_path / \"etfs.xlsx\")"
   ]
  }
 ],
 "metadata": {
  "kernelspec": {
   "display_name": "Python 3",
   "language": "python",
   "name": "python3"
  },
  "language_info": {
   "codemirror_mode": {
    "name": "ipython",
    "version": 3
   },
   "file_extension": ".py",
   "mimetype": "text/x-python",
   "name": "python",
   "nbconvert_exporter": "python",
   "pygments_lexer": "ipython3",
   "version": "3.9.12"
  }
 },
 "nbformat": 4,
 "nbformat_minor": 5
}
