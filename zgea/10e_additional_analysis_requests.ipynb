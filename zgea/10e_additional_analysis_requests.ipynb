{
 "cells": [
  {
   "cell_type": "markdown",
   "id": "attractive-climb",
   "metadata": {},
   "source": [
    "# Mixed 2x S&P 500 + 3x Nasdaq Portfolios"
   ]
  },
  {
   "cell_type": "code",
   "execution_count": null,
   "id": "coral-tumor",
   "metadata": {},
   "outputs": [],
   "source": [
    "import pandas as pd\n",
    "from pathlib import Path\n",
    "from dateutil.relativedelta import relativedelta"
   ]
  },
  {
   "cell_type": "code",
   "execution_count": null,
   "id": "assured-wheel",
   "metadata": {},
   "outputs": [],
   "source": [
    "from utils.plots import compare_portfolios\n",
    "from utils.portfolio import Portfolio"
   ]
  },
  {
   "cell_type": "code",
   "execution_count": null,
   "id": "twenty-thousand",
   "metadata": {},
   "outputs": [],
   "source": [
    "clean_data_path = Path(\"clean_data\")\n",
    "cache_path = Path(\"cached_data\")"
   ]
  },
  {
   "cell_type": "code",
   "execution_count": null,
   "id": "applicable-undergraduate",
   "metadata": {},
   "outputs": [],
   "source": [
    "input_path = clean_data_path / \"etfs.xlsx\"\n",
    "etfs = pd.read_excel(input_path, index_col=0)\n",
    "etfs.index = pd.to_datetime(etfs.index)\n",
    "etfs['cash'] = 100.0\n",
    "etfs.head()"
   ]
  },
  {
   "cell_type": "code",
   "execution_count": null,
   "id": "healthy-arabic",
   "metadata": {},
   "outputs": [],
   "source": [
    "p_sp500 = Portfolio(\n",
    "    {\n",
    "        '1x_sp500_eu': 100.0,\n",
    "    },\n",
    "    start_value = 1000,\n",
    ").backtest(etfs)\n",
    "\n",
    "p_hfea = Portfolio(\n",
    "    {\n",
    "        '3x_sp500_us': 55.0,\n",
    "        '3x_ltt_us': 45.0,\n",
    "    },\n",
    "    start_value = 1000,\n",
    "    rebalancing = relativedelta(months=3),\n",
    "    rebalancing_offset = relativedelta(days=-6),\n",
    ").backtest(etfs)\n",
    "\n",
    "p_pari = Portfolio(\n",
    "    {\n",
    "        '1x_sp500_eu': 60.0,\n",
    "        '1x_ltt_eu': 40.0,\n",
    "    },\n",
    "    start_value = 1000,\n",
    "    rebalancing = relativedelta(months=3),\n",
    "    rebalancing_offset = relativedelta(days=-6),\n",
    ").backtest(etfs)"
   ]
  },
  {
   "cell_type": "markdown",
   "id": "absent-library",
   "metadata": {},
   "source": [
    "## 50% Portfolio"
   ]
  },
  {
   "cell_type": "code",
   "execution_count": null,
   "id": "pointed-ferry",
   "metadata": {},
   "outputs": [],
   "source": [
    "allocations = list(range(0,101,5))\n",
    "growth_allocation = 50\n",
    "\n",
    "short_names = []\n",
    "portfolios = {}\n",
    "for p in allocations:\n",
    "    name = f\"{p}%\"\n",
    "    print(f\"Calculate: {name} Nasdaq-100\")\n",
    "    short_names.append(name)\n",
    "    portfolios[name] = Portfolio(\n",
    "        {\n",
    "            \"2x_sp500_eu\": (growth_allocation*(100-p))/100,\n",
    "            \"3x_ndx100_eu\": (growth_allocation*p)/100,\n",
    "            \"1x_ltt_eu\": 100-growth_allocation,\n",
    "        },\n",
    "        start_value = 1000,\n",
    "        rebalancing = relativedelta(months=3),\n",
    "        rebalancing_offset = relativedelta(days=-6),\n",
    "    ).backtest(etfs)\n",
    "    \n",
    "\n",
    "portfolios['HFEA'] = p_hfea\n",
    "short_names.append(\"HFEA\")\n",
    "portfolios['S&P500'] = p_sp500\n",
    "short_names.append('S&P500')\n",
    "portfolios['P'] = p_pari\n",
    "short_names.append('P')\n",
    "\n",
    "compare_portfolios(\n",
    "    portfolios,\n",
    "    short_names = short_names,\n",
    "    details=True,\n",
    ") "
   ]
  },
  {
   "cell_type": "markdown",
   "id": "committed-visibility",
   "metadata": {},
   "source": [
    "## 65% Portfolio"
   ]
  },
  {
   "cell_type": "code",
   "execution_count": null,
   "id": "following-architecture",
   "metadata": {},
   "outputs": [],
   "source": [
    "allocations = list(range(0,101,5))\n",
    "growth_allocation = 65\n",
    "\n",
    "short_names = []\n",
    "portfolios = {}\n",
    "for p in allocations:\n",
    "    name = f\"{p}%\"\n",
    "    print(f\"Calculate: {name} Nasdaq-100\")\n",
    "    short_names.append(name)\n",
    "    portfolios[name] = Portfolio(\n",
    "        {\n",
    "            \"2x_sp500_eu\": (growth_allocation*(100-p))/100,\n",
    "            \"3x_ndx100_eu\": (growth_allocation*p)/100,\n",
    "            \"1x_ltt_eu\": 100-growth_allocation,\n",
    "        },\n",
    "        start_value = 1000,\n",
    "        rebalancing = relativedelta(months=3),\n",
    "        rebalancing_offset = relativedelta(days=-6),\n",
    "    ).backtest(etfs)\n",
    "    \n",
    "\n",
    "portfolios['HFEA'] = p_hfea\n",
    "short_names.append(\"HFEA\")\n",
    "portfolios['S&P500'] = p_sp500\n",
    "short_names.append('S&P500')\n",
    "portfolios['P'] = p_pari\n",
    "short_names.append('P')\n",
    "\n",
    "compare_portfolios(\n",
    "    portfolios,\n",
    "    short_names = short_names,\n",
    "    details=True,\n",
    ")"
   ]
  },
  {
   "cell_type": "markdown",
   "id": "recognized-investor",
   "metadata": {},
   "source": [
    "## 80% Portfolio"
   ]
  },
  {
   "cell_type": "code",
   "execution_count": null,
   "id": "mighty-palestinian",
   "metadata": {},
   "outputs": [],
   "source": [
    "allocations = list(range(0,101,5))\n",
    "growth_allocation = 80\n",
    "\n",
    "short_names = []\n",
    "portfolios = {}\n",
    "for p in allocations:\n",
    "    name = f\"{p}%\"\n",
    "    print(f\"Calculate: {name} Nasdaq-100\")\n",
    "    short_names.append(name)\n",
    "    portfolios[name] = Portfolio(\n",
    "        {\n",
    "            \"2x_sp500_eu\": (growth_allocation*(100-p))/100,\n",
    "            \"3x_ndx100_eu\": (growth_allocation*p)/100,\n",
    "            \"1x_ltt_eu\": 100-growth_allocation,\n",
    "        },\n",
    "        start_value = 1000,\n",
    "        rebalancing = relativedelta(months=3),\n",
    "        rebalancing_offset = relativedelta(days=-6),\n",
    "    ).backtest(etfs)\n",
    "    \n",
    "\n",
    "portfolios['HFEA'] = p_hfea\n",
    "short_names.append(\"HFEA\")\n",
    "portfolios['S&P500'] = p_sp500\n",
    "short_names.append('S&P500')\n",
    "portfolios['P'] = p_pari\n",
    "short_names.append('P')\n",
    "\n",
    "compare_portfolios(\n",
    "    portfolios,\n",
    "    short_names = short_names,\n",
    "    details=True,\n",
    ")"
   ]
  }
 ],
 "metadata": {
  "kernelspec": {
   "display_name": "Python 3",
   "language": "python",
   "name": "python3"
  },
  "language_info": {
   "codemirror_mode": {
    "name": "ipython",
    "version": 3
   },
   "file_extension": ".py",
   "mimetype": "text/x-python",
   "name": "python",
   "nbconvert_exporter": "python",
   "pygments_lexer": "ipython3",
   "version": "3.9.12"
  }
 },
 "nbformat": 4,
 "nbformat_minor": 5
}
