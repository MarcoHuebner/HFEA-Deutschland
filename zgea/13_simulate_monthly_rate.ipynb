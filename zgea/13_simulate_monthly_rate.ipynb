{
 "cells": [
  {
   "cell_type": "markdown",
   "id": "annual-rubber",
   "metadata": {},
   "source": [
    "# Simulate Monthly Rate"
   ]
  },
  {
   "cell_type": "code",
   "execution_count": null,
   "id": "completed-interest",
   "metadata": {},
   "outputs": [],
   "source": [
    "import pandas as pd\n",
    "from pathlib import Path\n",
    "from dateutil.relativedelta import relativedelta"
   ]
  },
  {
   "cell_type": "code",
   "execution_count": null,
   "id": "durable-saudi",
   "metadata": {},
   "outputs": [],
   "source": [
    "from utils.math import perform_monte_carlo_simulation\n",
    "from utils.portfolio import GermanTaxModel, MAPortfolio, Portfolio"
   ]
  },
  {
   "cell_type": "code",
   "execution_count": null,
   "id": "stable-encounter",
   "metadata": {},
   "outputs": [],
   "source": [
    "# load raw and clean data\n",
    "clean_data_path = Path(\"clean_data\")\n",
    "cache_path = Path(\"cached_data\")"
   ]
  },
  {
   "cell_type": "code",
   "execution_count": null,
   "id": "portable-storage",
   "metadata": {},
   "outputs": [],
   "source": [
    "# get preprocessed asset data and convert to have useable index\n",
    "input_path = clean_data_path / \"etfs.xlsx\"\n",
    "etfs = pd.read_excel(input_path, index_col=0)\n",
    "etfs.index = pd.to_datetime(etfs.index)\n",
    "etfs['cash'] = 100.0\n",
    "etfs.head()"
   ]
  },
  {
   "cell_type": "code",
   "execution_count": null,
   "id": "hearing-acquisition",
   "metadata": {},
   "outputs": [],
   "source": [
    "p_cash = MAPortfolio(\n",
    "    {\n",
    "        'cash': dict(dist=100),\n",
    "    },\n",
    "    start_value = 10000,\n",
    ").backtest(etfs)"
   ]
  },
  {
   "cell_type": "code",
   "execution_count": null,
   "id": "convenient-lancaster",
   "metadata": {},
   "outputs": [],
   "source": [
    "p_50 = MAPortfolio(\n",
    "    {\n",
    "        '2x_sp500_eu': dict(dist=50),\n",
    "        '1x_ltt_eu': dict(dist=50),\n",
    "    },\n",
    "    start_value = 10000,\n",
    "    rebalancing = relativedelta(months=3),\n",
    "    rebalancing_offset = relativedelta(days=-8), \n",
    "    spread = 0.002,\n",
    "    tax_model=GermanTaxModel(),\n",
    ").backtest(etfs)"
   ]
  },
  {
   "cell_type": "code",
   "execution_count": null,
   "id": "continued-kidney",
   "metadata": {},
   "outputs": [],
   "source": [
    "p_80 = MAPortfolio(\n",
    "    {\n",
    "        '2x_sp500_eu': dict(dist=80),\n",
    "        '1x_ltt_eu': dict(dist=20),\n",
    "    },\n",
    "    start_value = 10000,\n",
    "    rebalancing = relativedelta(months=3),\n",
    "    rebalancing_offset = relativedelta(days=-8), \n",
    "    spread = 0.002,\n",
    "    tax_model=GermanTaxModel(),\n",
    ").backtest(etfs)"
   ]
  },
  {
   "cell_type": "code",
   "execution_count": null,
   "id": "identical-influence",
   "metadata": {},
   "outputs": [],
   "source": [
    "p_65_3x = MAPortfolio(\n",
    "    {\n",
    "        '3x_sp500_eu': dict(dist=65),\n",
    "        '3x_itt_eu': dict(dist=35),\n",
    "    },\n",
    "    start_value = 10000,\n",
    "    rebalancing = relativedelta(months=3),\n",
    "    rebalancing_offset = relativedelta(days=-8), \n",
    "    spread = 0.002,\n",
    "    tax_model=GermanTaxModel(),\n",
    ").backtest(etfs)"
   ]
  },
  {
   "cell_type": "code",
   "execution_count": null,
   "id": "joined-slope",
   "metadata": {},
   "outputs": [],
   "source": [
    "p_2x_sp500_ma = MAPortfolio(\n",
    "    {\n",
    "        \"2x_sp500_eu\": dict(dist=100, ma=290, ma_asset=\"1x_sp500_eu\"),\n",
    "    },\n",
    "    start_value = 10000,\n",
    "    tax_model=GermanTaxModel(),\n",
    ").backtest(etfs)"
   ]
  },
  {
   "cell_type": "code",
   "execution_count": null,
   "id": "least-scholarship",
   "metadata": {},
   "outputs": [],
   "source": [
    "p_hfea = MAPortfolio(\n",
    "    {\n",
    "        '3x_sp500_us': dict(dist=55),\n",
    "        '3x_ltt_us': dict(dist=45),\n",
    "    },\n",
    "    start_value = 10000,\n",
    "    rebalancing = relativedelta(months=3),\n",
    "    rebalancing_offset = relativedelta(days=-8), \n",
    "    spread = 0.002,\n",
    "    tax_model=GermanTaxModel(),\n",
    ").backtest(etfs)"
   ]
  },
  {
   "cell_type": "markdown",
   "id": "centered-alexander",
   "metadata": {},
   "source": [
    "### Settings"
   ]
  },
  {
   "cell_type": "code",
   "execution_count": null,
   "id": "tropical-brain",
   "metadata": {},
   "outputs": [],
   "source": [
    "start_value = 10000\n",
    "monthly_rate = 100\n",
    "simulation_time = relativedelta(years = 15)"
   ]
  },
  {
   "cell_type": "markdown",
   "id": "unknown-cooperation",
   "metadata": {},
   "source": [
    "### 50% Portfolio"
   ]
  },
  {
   "cell_type": "code",
   "execution_count": null,
   "id": "hollow-sensitivity",
   "metadata": {},
   "outputs": [],
   "source": [
    "perform_monte_carlo_simulation(\n",
    "    portfolio = p_50,\n",
    "    portfolio_name = '50% Portfolio',\n",
    "    reference = p_cash,\n",
    "    reference_name = 'cash',\n",
    "    simulation_time = simulation_time,\n",
    "    start_value = start_value,\n",
    "    monthly_rate = monthly_rate,\n",
    "    portfolio_simulations = 300,\n",
    "    reference_simulations = 10,\n",
    ")"
   ]
  },
  {
   "cell_type": "markdown",
   "id": "endangered-abortion",
   "metadata": {},
   "source": [
    "### 80% Portfolio"
   ]
  },
  {
   "cell_type": "code",
   "execution_count": null,
   "id": "guilty-covering",
   "metadata": {},
   "outputs": [],
   "source": [
    "perform_monte_carlo_simulation(\n",
    "    portfolio = p_80,\n",
    "    portfolio_name = '80% Portfolio',\n",
    "    reference = p_cash,\n",
    "    reference_name = 'cash',\n",
    "    simulation_time = simulation_time,\n",
    "    start_value = start_value,\n",
    "    monthly_rate = monthly_rate,\n",
    "    portfolio_simulations = 300,\n",
    "    reference_simulations = 10,\n",
    ")"
   ]
  },
  {
   "cell_type": "markdown",
   "id": "valued-motion",
   "metadata": {},
   "source": [
    "### 65% (3x) Portfolio"
   ]
  },
  {
   "cell_type": "code",
   "execution_count": null,
   "id": "agricultural-schema",
   "metadata": {},
   "outputs": [],
   "source": [
    "perform_monte_carlo_simulation(\n",
    "    portfolio = p_65_3x,\n",
    "    portfolio_name = '65% (3x) Portfolio',\n",
    "    reference = p_cash,\n",
    "    reference_name = 'cash',\n",
    "    simulation_time = simulation_time,\n",
    "    start_value = start_value,\n",
    "    monthly_rate = monthly_rate,\n",
    "    portfolio_simulations = 300,\n",
    "    reference_simulations = 10,\n",
    ")"
   ]
  },
  {
   "cell_type": "markdown",
   "id": "needed-organ",
   "metadata": {},
   "source": [
    "### HFEA"
   ]
  },
  {
   "cell_type": "code",
   "execution_count": null,
   "id": "drawn-words",
   "metadata": {},
   "outputs": [],
   "source": [
    "perform_monte_carlo_simulation(\n",
    "    portfolio = p_hfea,\n",
    "    portfolio_name = 'HFEA',\n",
    "    reference = p_cash,\n",
    "    reference_name = 'cash',\n",
    "    simulation_time = simulation_time,\n",
    "    start_value = start_value,\n",
    "    monthly_rate = monthly_rate,\n",
    "    portfolio_simulations = 300,\n",
    "    reference_simulations = 10,\n",
    ")"
   ]
  },
  {
   "cell_type": "markdown",
   "id": "wrapped-duration",
   "metadata": {},
   "source": [
    "### 2x S&P 500 (MA) Portfolio"
   ]
  },
  {
   "cell_type": "code",
   "execution_count": null,
   "id": "mounted-hampton",
   "metadata": {},
   "outputs": [],
   "source": [
    "perform_monte_carlo_simulation(\n",
    "    portfolio = p_2x_sp500_ma,\n",
    "    portfolio_name = '2x S&P 500 (MA)',\n",
    "    reference = p_cash,\n",
    "    reference_name = 'cash',\n",
    "    simulation_time = simulation_time,\n",
    "    start_value = start_value,\n",
    "    monthly_rate = monthly_rate,\n",
    "    portfolio_simulations = 300,\n",
    "    reference_simulations = 10,\n",
    ")"
   ]
  },
  {
   "cell_type": "markdown",
   "id": "sustainable-african",
   "metadata": {},
   "source": [
    "### Wishes"
   ]
  },
  {
   "cell_type": "code",
   "execution_count": null,
   "id": "statewide-nudist",
   "metadata": {},
   "outputs": [],
   "source": [
    "perform_monte_carlo_simulation(\n",
    "    portfolio = p_2x_sp500_ma,\n",
    "    portfolio_name = '2x S&P 500 (MA)',\n",
    "    reference = p_cash,\n",
    "    reference_name = 'cash',\n",
    "    simulation_time = simulation_time,\n",
    "    start_value = 5800,\n",
    "    monthly_rate = 250,\n",
    "    portfolio_simulations = 300,\n",
    "    reference_simulations = 10,\n",
    ")"
   ]
  }
 ],
 "metadata": {
  "kernelspec": {
   "display_name": "Python 3",
   "language": "python",
   "name": "python3"
  },
  "language_info": {
   "codemirror_mode": {
    "name": "ipython",
    "version": 3
   },
   "file_extension": ".py",
   "mimetype": "text/x-python",
   "name": "python",
   "nbconvert_exporter": "python",
   "pygments_lexer": "ipython3",
   "version": "3.9.12"
  }
 },
 "nbformat": 4,
 "nbformat_minor": 5
}
