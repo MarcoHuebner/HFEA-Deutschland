{
 "cells": [
  {
   "cell_type": "markdown",
   "id": "sharing-clarity",
   "metadata": {},
   "source": [
    "# Basic Analysis of the ETF Data\n",
    "\n",
    "In this notebook, we will analyze the different ETF variants in the same way as we did it with the asset classes. We want to find out, which ETF is under which conditation a good investment choice. "
   ]
  },
  {
   "cell_type": "code",
   "execution_count": null,
   "id": "formed-dollar",
   "metadata": {},
   "outputs": [],
   "source": [
    "import numpy as np\n",
    "import pandas as pd\n",
    "import plotly.graph_objects as go\n",
    "from pathlib import Path"
   ]
  },
  {
   "cell_type": "code",
   "execution_count": null,
   "id": "piano-fellowship",
   "metadata": {},
   "outputs": [],
   "source": [
    "from utils.plots import draw_growth_chart, draw_risk_reward_chart\n",
    "from utils.math import get_annual_roi, gmean, calc_min_returns, calc_max_drawdown, normalize, calc_returns\n",
    "from utils.data import cached"
   ]
  },
  {
   "cell_type": "code",
   "execution_count": null,
   "id": "friendly-reporter",
   "metadata": {},
   "outputs": [],
   "source": [
    "# load raw and clean data\n",
    "clean_data_path = Path(\"clean_data\")\n",
    "cache_path = Path(\"cached_data\")"
   ]
  },
  {
   "cell_type": "code",
   "execution_count": null,
   "id": "bizarre-malaysia",
   "metadata": {},
   "outputs": [],
   "source": [
    "# get preprocessed ETF data and convert to have useable index\n",
    "input_path = clean_data_path / \"etfs.xlsx\"\n",
    "etfs = pd.read_excel(input_path, index_col=0)\n",
    "etfs.index = pd.to_datetime(etfs.index)\n",
    "etfs.head()"
   ]
  },
  {
   "cell_type": "code",
   "execution_count": null,
   "id": "civil-precipitation",
   "metadata": {},
   "outputs": [],
   "source": [
    "min_returns, min_returns_date = cached(cache_path / \"06_min_returns.pkl\")(calc_min_returns)(\n",
    "    etfs,\n",
    "    list(range(1,31)),\n",
    ")\n",
    "min_returns.head()"
   ]
  },
  {
   "cell_type": "code",
   "execution_count": null,
   "id": "strategic-alberta",
   "metadata": {},
   "outputs": [],
   "source": [
    "max_drawdown, max_drawdown_start, max_drawdown_end = cached(cache_path / \"06_max_drawdown.pkl\")(calc_max_drawdown)(etfs)"
   ]
  },
  {
   "cell_type": "code",
   "execution_count": null,
   "id": "pleased-collection",
   "metadata": {},
   "outputs": [],
   "source": [
    "def draw_max_drawdown(c, name):\n",
    "    print(f\"'{name}' max. drawdown: {max_drawdown[c]:.2f}% (from {max_drawdown_start[c]} to {max_drawdown_end[c]})\")\n",
    "    draw_growth_chart(\n",
    "        {\n",
    "            name: etfs.loc[max_drawdown_start[c]:max_drawdown_end[c], c]\n",
    "        },\n",
    "        f\"Max. Drawdown of {name}\"\n",
    "    )"
   ]
  },
  {
   "cell_type": "code",
   "execution_count": null,
   "id": "convertible-corruption",
   "metadata": {},
   "outputs": [],
   "source": [
    "yearly_returns = etfs.pct_change(1, freq=\"Y\")\n",
    "yearly_returns = yearly_returns.dropna()\n",
    "yearly_returns.head()"
   ]
  },
  {
   "cell_type": "code",
   "execution_count": null,
   "id": "infrared-warren",
   "metadata": {},
   "outputs": [],
   "source": [
    "risk_reward = pd.DataFrame(\n",
    "    index = max_drawdown.index,\n",
    "    columns = ['risk', 'reward']\n",
    ")\n",
    "for asset in risk_reward.index:\n",
    "    risk_reward.loc[asset, 'risk'] = max_drawdown[asset] * -1\n",
    "    risk_reward.loc[asset, 'reward'] = gmean(yearly_returns[asset]) * 100\n",
    "risk_reward.head()"
   ]
  },
  {
   "cell_type": "code",
   "execution_count": null,
   "id": "auburn-disco",
   "metadata": {},
   "outputs": [],
   "source": [
    "max_drawdown_1986, max_drawdown_start_1986, max_drawdown_end_1986 = cached(cache_path / \"06_max_drawdown_1986.pkl\")(calc_max_drawdown)(etfs.loc['1986':,:])\n",
    "yearly_returns_1986 = etfs.loc['1986':,:].pct_change(1, freq=\"Y\")\n",
    "yearly_returns_1986 = yearly_returns_1986.dropna()\n",
    "risk_reward_1986 = pd.DataFrame(\n",
    "    index = max_drawdown_1986.index,\n",
    "    columns = ['risk', 'reward']\n",
    ")\n",
    "for asset in risk_reward_1986.index:\n",
    "    risk_reward_1986.loc[asset, 'risk'] = max_drawdown_1986[asset] * -1\n",
    "    risk_reward_1986.loc[asset, 'reward'] = gmean(yearly_returns_1986[asset]) * 100\n",
    "risk_reward_1986.head()"
   ]
  },
  {
   "cell_type": "markdown",
   "id": "durable-theorem",
   "metadata": {},
   "source": [
    "## Volatilty-Decay of Leveraged ETFs\n",
    "\n",
    "An often mentioned argument against leveraged ETFs is the volatility-decay. This decay cames from the fact, that if an asset is on the one day loosing 1% and on the other day gaining 1%, the total value is still less on the second day. Thus every kind of investment has this decay. However, due to the leverage factor the decay is stronger for leveraged ETFs, thus they suffer stronger from it.\n",
    "\n",
    "For asset classes, which do not grow strongly and for periodes of times, where the value goes more or less sidewards, we just lose money due to the volatility-decay. \n",
    "\n",
    "However does this mean, we should avoid leveraged ETFs in general? We will now investigate the leveraged ETFs compared to unleveraged ETFs in different asset classes for different time periods. The first time period is from 1943 until 1986. The second from 1986 to 2021. We chose this separation, because `Hedgefundie` has done his/ her original backtests from 1986 to 2018. The third is taking the whole period from 1943 until 2021 into account."
   ]
  },
  {
   "cell_type": "code",
   "execution_count": null,
   "id": "prescribed-disability",
   "metadata": {},
   "outputs": [],
   "source": [
    "def analyze_gains(data, assets, title, additional_data = None, show=True):\n",
    "    # get first asset and normalize to start value\n",
    "    first_asset = list(assets.keys())[0]\n",
    "    first = normalize(data[first_asset], start_value=1000)\n",
    "\n",
    "    data_to_show = {}\n",
    "    for a, n in assets.items():\n",
    "        # normalize with first value of previously normalized series\n",
    "        data_to_show[n] = normalize(data[a], first)\n",
    "    \n",
    "    if additional_data is not None:\n",
    "        for n, d in additional_data.items():\n",
    "            data_to_show[n] = d\n",
    "    \n",
    "    # draw growth chart\n",
    "    fig = draw_growth_chart(\n",
    "        data_to_show,\n",
    "        title,\n",
    "        show = show,\n",
    "    )\n",
    "\n",
    "    # calculate returns and print them\n",
    "    yearly_returns = calc_returns(data, freq=\"Y\").iloc[1:]\n",
    "    for a, n in assets.items():\n",
    "        print(f\"{n}: Average Return: {gmean(yearly_returns[a])*100:.2f}% (min. {yearly_returns[a].min()*100:.2f}%, max. \" + \\\n",
    "              f\"{yearly_returns[a].max()*100:.2f}%, std. {yearly_returns[a].std()*100:.2f}%)\")\n",
    "\n",
    "    return fig"
   ]
  },
  {
   "cell_type": "markdown",
   "id": "monthly-wallpaper",
   "metadata": {},
   "source": [
    "### S&P 500 (U.S. ETFs)"
   ]
  },
  {
   "cell_type": "code",
   "execution_count": null,
   "id": "green-solomon",
   "metadata": {},
   "outputs": [],
   "source": [
    "assets = {\n",
    "    '1x_sp500_us': \"1x S&P 500\", \n",
    "    '2x_sp500_us': \"2x S&P 500\", \n",
    "    '3x_sp500_us': \"3x S&P 500\",\n",
    "}"
   ]
  },
  {
   "cell_type": "code",
   "execution_count": null,
   "id": "incoming-fisher",
   "metadata": {},
   "outputs": [],
   "source": [
    "# analyze gains of different assets and in different time periods\n",
    "analyze_gains(etfs.loc['1943':'1986'], assets, \"Growth of S&P 500 (US) ETFs from 1943 to 1986\")"
   ]
  },
  {
   "cell_type": "code",
   "execution_count": null,
   "id": "behind-crest",
   "metadata": {},
   "outputs": [],
   "source": [
    "analyze_gains(etfs.loc['1986':], assets, \"Growth of S&P 500 (US) ETFs from 1986 until today\")"
   ]
  },
  {
   "cell_type": "markdown",
   "id": "identical-reduction",
   "metadata": {},
   "source": [
    "While the 3x leveraged S&P 500 has outperformed from 1943 to 1985 without any exception, it dropped several times below the value of the normal S&P 500 ETF during crisis started after 1985. Expecially 2007-2009 was a very bad crisis for leveraged ETFs. However in the end it is outperforming the the other ETFs due to the fast growth after any crisis. "
   ]
  },
  {
   "cell_type": "code",
   "execution_count": null,
   "id": "lined-nepal",
   "metadata": {},
   "outputs": [],
   "source": [
    "analyze_gains(etfs.loc[:], assets, \"Growth of S&P 500 (US) ETFs from 1943 until today\")"
   ]
  },
  {
   "cell_type": "markdown",
   "id": "steady-payment",
   "metadata": {},
   "source": [
    "In the whole periode from 1943 until today, the 3x leveraged ETFs is clearly outperforming the remaining ETFs. This is because of the strong start in the years after 1950, which gives the 3x leveraged ETF such a strong advantage over the others, that upcoming crisis cannot change the excellent performance. So in the end we can conclude, that for the US market and S&P 500 the 3x leveraged ETFs is giving the stronged performance. "
   ]
  },
  {
   "cell_type": "markdown",
   "id": "smoking-annex",
   "metadata": {},
   "source": [
    "As a next step, we look at the minimum-return of different U.S. S&P 500 ETFs when we invest for a fixed periode of years."
   ]
  },
  {
   "cell_type": "code",
   "execution_count": null,
   "id": "expensive-velvet",
   "metadata": {},
   "outputs": [],
   "source": [
    "zero = pd.Series(index=min_returns.index, dtype=np.float64)\n",
    "zero.loc[:] = 0\n",
    "draw_growth_chart(\n",
    "    {\n",
    "        'zero': zero,\n",
    "        '1x S&P 500 (US)': get_annual_roi(min_returns['1x_sp500_us'], min_returns.index),\n",
    "        '2x S&P 500 (US)': get_annual_roi(min_returns['2x_sp500_us'], min_returns.index),\n",
    "        '3x S&P 500 (US)': get_annual_roi(min_returns['3x_sp500_us'], min_returns.index),\n",
    "    },\n",
    "    \"Minimum Returns over Years\",\n",
    "    y_log = False,\n",
    "    y_title = \"returns in %\",\n",
    "    x_title = \"years holding\",\n",
    "    y_range = [-10, 10],\n",
    ")"
   ]
  },
  {
   "cell_type": "markdown",
   "id": "subject-tablet",
   "metadata": {},
   "source": [
    "It is not surprisingly that the higher the leverage factor is, the longer we must wait in the worst case until we are back to breakeven. While the 1x leveraged S&P 500 ETF is at breakeven after 12 years, the 2x leveraged S&P 500 ETF already takes 21 years and the 3x leveraged S&P 500 ETF even 25 years. After 30 years of waiting, the 1x S&P 500 ETFs is still far ahead from the other ETFs by at least give a performance of 8.6% per year. The 2x S&P 500 ETFs just dilivers 6.1% per year and the 3x leveraged S&P 500 ETF has just 2.6% per year."
   ]
  },
  {
   "cell_type": "markdown",
   "id": "becoming-shade",
   "metadata": {},
   "source": [
    "Let's look at the maximum drawdown of all those ETFs:"
   ]
  },
  {
   "cell_type": "code",
   "execution_count": null,
   "id": "alleged-detection",
   "metadata": {},
   "outputs": [],
   "source": [
    "draw_max_drawdown('1x_sp500_us', \"1x S&P 500 (US)\")"
   ]
  },
  {
   "cell_type": "markdown",
   "id": "earlier-ocean",
   "metadata": {},
   "source": [
    "The max. drawdown of the unleveraged ETF was the finincial crisis started in October 2007 and lasted until March 2009. During this time the ETF had a total los of 55%."
   ]
  },
  {
   "cell_type": "code",
   "execution_count": null,
   "id": "informational-witness",
   "metadata": {},
   "outputs": [],
   "source": [
    "draw_max_drawdown('2x_sp500_us', \"2x S&P 500 (US)\")"
   ]
  },
  {
   "cell_type": "code",
   "execution_count": null,
   "id": "military-james",
   "metadata": {},
   "outputs": [],
   "source": [
    "draw_max_drawdown('3x_sp500_us', \"3x S&P 500 (US)\")"
   ]
  },
  {
   "cell_type": "markdown",
   "id": "active-audit",
   "metadata": {},
   "source": [
    "For the leveraged ETFs the max. drawdown was the dot-com crisis. Afterwards the leveraged ETFs did not recover before the next crisis (financial crisis) started. So in total it took 9 years, until the floor was reached and during this time the 2x leveraged S&P 500 ETF was losing almost 90% of its value and the 3x leveraged S6P 500 ETF even 98%. \n",
    "\n",
    "This explains very well the extreme risk of leveraged ETFs, when those are used in a buy-and-hold strategy.\n",
    "\n",
    "Also this is very well reflected by the risk/reward chart, where the 3x leveraged ETF has with 16% the highest average annual gain, but also the highest possible loss."
   ]
  },
  {
   "cell_type": "code",
   "execution_count": null,
   "id": "intellectual-turning",
   "metadata": {},
   "outputs": [],
   "source": [
    "draw_risk_reward_chart(\n",
    "    risk_reward.loc[list(assets.keys()),:],\n",
    "    \"Average Annual Returns vs. Max. Drawdown\",\n",
    "    x_title = \"max. drawdown in %\",\n",
    "    y_title = \"average annual returns in %\"\n",
    ")"
   ]
  },
  {
   "cell_type": "markdown",
   "id": "invisible-vegetarian",
   "metadata": {},
   "source": [
    "### S&P 500 (EU ETFs)\n",
    "\n",
    "Now let's repeat this analysis for the european market and see, if we get here to the same conclusion."
   ]
  },
  {
   "cell_type": "code",
   "execution_count": null,
   "id": "exposed-headset",
   "metadata": {},
   "outputs": [],
   "source": [
    "assets = {\n",
    "    '1x_sp500_eu': \"1x S&P 500\", \n",
    "    '2x_sp500_eu': \"2x S&P 500\", \n",
    "    '3x_sp500_eu': \"3x S&P 500\",\n",
    "}"
   ]
  },
  {
   "cell_type": "code",
   "execution_count": null,
   "id": "patient-bobby",
   "metadata": {},
   "outputs": [],
   "source": [
    "analyze_gains(etfs.loc['1943':'1986'], assets, \"Growth of S&P 500 (EU) ETFs from 1943 to 1986\")"
   ]
  },
  {
   "cell_type": "markdown",
   "id": "juvenile-freeze",
   "metadata": {},
   "source": [
    "We can clearly see that all ETFs have a smaller average return. The reason for that are the higher costs of ETFs in Europe. But especially the 3x S&P 500 ETF (3USL from WisdomTree) is performing much more worse then the US one (UPRO). During the modelling of this ETF, we already noticed, that the costs are almost twice as much as for the US ETF. This reduced the gain drastically in the years after 1970.\n",
    "\n",
    "Thanks to the strong growth after 1950 the 3x leveraged ETN is still higher then the others in 1986, but we can clearly see how the strong sideward periode between 1970 and 1984 is reducing the the gap between the 2x leveraged and 3x leveraged ETN. "
   ]
  },
  {
   "cell_type": "code",
   "execution_count": null,
   "id": "divine-candidate",
   "metadata": {},
   "outputs": [],
   "source": [
    "analyze_gains(etfs.loc['1986':], assets, \"Growth of S&P 500 (EU) ETFs from 1986 until today\")"
   ]
  },
  {
   "cell_type": "markdown",
   "id": "atmospheric-serve",
   "metadata": {},
   "source": [
    "This effect gets even more worse in the years after 1986. Here the 2x leveraged ETF is clearly outperforming both other products. The 3x leveraged ETN can hardly reach the same level of the unleveraged ETF and its average performance is almost similar, but for a more than 2x lover minimum return. "
   ]
  },
  {
   "cell_type": "code",
   "execution_count": null,
   "id": "criminal-asset",
   "metadata": {},
   "outputs": [],
   "source": [
    "analyze_gains(etfs.loc[:], assets, \"Growth of S&P 500 (EU) ETFs from 1943 until today\")"
   ]
  },
  {
   "cell_type": "markdown",
   "id": "removable-conducting",
   "metadata": {},
   "source": [
    "Also when taking the whole time periode from 1943 until today into account, the 3x leveraged ETN is just at the same level as the 2x leveraged ETF. Surprisingly the 2x leveraged ETF in Europe performs much better then the 2x leveraged ETF in US. \n",
    "\n",
    "Thus the conclusion is: Due to the high costs of the 3x leveraged ETN, the 2x leveraged ETF is the better choice in Europe. "
   ]
  },
  {
   "cell_type": "code",
   "execution_count": null,
   "id": "active-barcelona",
   "metadata": {},
   "outputs": [],
   "source": [
    "zero = pd.Series(index=min_returns.index, dtype=np.float64)\n",
    "zero.loc[:] = 0\n",
    "draw_growth_chart(\n",
    "    {\n",
    "        'zero': zero,\n",
    "        '1x S&P 500 (EU)': get_annual_roi(min_returns['1x_sp500_eu'], min_returns.index),\n",
    "        '2x S&P 500 (EU)': get_annual_roi(min_returns['2x_sp500_eu'], min_returns.index),\n",
    "        '3x S&P 500 (EU)': get_annual_roi(min_returns['3x_sp500_eu'], min_returns.index),\n",
    "    },\n",
    "    \"Minimum Returns over Years\",\n",
    "    y_log = False,\n",
    "    y_title = \"returns in %\",\n",
    "    x_title = \"years holding\",\n",
    "    y_range = [-10, 10],\n",
    ")"
   ]
  },
  {
   "cell_type": "markdown",
   "id": "stable-payday",
   "metadata": {},
   "source": [
    "We see similar results for the worst case performance: While the unleveraged ETF behaves similar and reaches break even after 12 years, the 2x leveraged ETF in Europe is a little better than the US ETF. It already reached breakeven after 19 yers instead of 21 and after 30 years the worst case performance is 7% instead of 6%. The 3x leveraged ETN is with 27 years for breakeven and 1% worst case performance after 30 years much worse than the US ETF. "
   ]
  },
  {
   "cell_type": "code",
   "execution_count": null,
   "id": "structured-invasion",
   "metadata": {},
   "outputs": [],
   "source": [
    "draw_max_drawdown('1x_sp500_eu', \"1x S&P 500 (EU)\")"
   ]
  },
  {
   "cell_type": "code",
   "execution_count": null,
   "id": "turned-consent",
   "metadata": {},
   "outputs": [],
   "source": [
    "draw_max_drawdown('2x_sp500_eu', \"2x S&P 500 (EU)\")"
   ]
  },
  {
   "cell_type": "code",
   "execution_count": null,
   "id": "equipped-amsterdam",
   "metadata": {},
   "outputs": [],
   "source": [
    "draw_max_drawdown('3x_sp500_eu', \"3x S&P 500 (EU)\")"
   ]
  },
  {
   "cell_type": "markdown",
   "id": "regular-rider",
   "metadata": {},
   "source": [
    "The maximum drawdown for european ETFs and ETNs is very similar to the US ones. But also here the 2x leveraged ETF slightly better and the 3x leveraged ETN is slightly worse. "
   ]
  },
  {
   "cell_type": "code",
   "execution_count": null,
   "id": "czech-meaning",
   "metadata": {},
   "outputs": [],
   "source": [
    "draw_risk_reward_chart(\n",
    "    risk_reward.loc[list(assets.keys()),:],\n",
    "    \"Average Annual Returns vs. Max. Drawdown\",\n",
    "    x_title = \"max. drawdown in %\",\n",
    "    y_title = \"average annual returns in %\"\n",
    ")"
   ]
  },
  {
   "cell_type": "markdown",
   "id": "bright-listening",
   "metadata": {},
   "source": [
    "In the risk/reward chart we can clearly see, that the 2x leveraged ETF in Europe is the better choice. It is delivering the same average performance for much lower risk. "
   ]
  },
  {
   "cell_type": "markdown",
   "id": "intelligent-stadium",
   "metadata": {},
   "source": [
    "## Nasdaq-100 ETF in US\n",
    "\n",
    "For the Nasdaq-100 we don't need to investigate into the periode from 1943 to 1986, since it has just been introduced in 1985 and before the time-series is just the same as the S&P 500. "
   ]
  },
  {
   "cell_type": "code",
   "execution_count": null,
   "id": "external-treat",
   "metadata": {},
   "outputs": [],
   "source": [
    "assets = {\n",
    "    '1x_ndx100_us': \"1x Nasdaq-100\", \n",
    "    '2x_ndx100_us': \"2x Nasdaq-100\", \n",
    "    '3x_ndx100_us': \"3x Nasdaq-100\",\n",
    "}"
   ]
  },
  {
   "cell_type": "code",
   "execution_count": null,
   "id": "comfortable-sixth",
   "metadata": {},
   "outputs": [],
   "source": [
    "analyze_gains(etfs.loc['1986':], assets, \"Growth of Nasdaq-100 (US) ETFs from 1986 until today\")"
   ]
  },
  {
   "cell_type": "markdown",
   "id": "first-convergence",
   "metadata": {},
   "source": [
    "The 3x Nasdaq-100 ETF (TQQQ) suffers drastically from volatility decay during the dot-com crisis. Here the 2x Nasdaq-100 ETF has a clearly better performance. It has recovered faster from the crisis and reches an average performance of 17% per year, which is almost as good as the 3x S&P 500 ETF (US) in the strong years from 1943 to 1986. "
   ]
  },
  {
   "cell_type": "code",
   "execution_count": null,
   "id": "distinguished-drama",
   "metadata": {},
   "outputs": [],
   "source": [
    "analyze_gains(etfs.loc[:], assets, \"Growth of Nasdaq-100 (US) ETFs from 1943 until today\")"
   ]
  },
  {
   "cell_type": "markdown",
   "id": "metric-meaning",
   "metadata": {},
   "source": [
    "Even if we look at the full periode (with S&P 500 instead of Nasdaq-100 before 1985) the 3x leveraged ETF is hardly reaching the same performance as the 2x leveraged ETF. "
   ]
  },
  {
   "cell_type": "code",
   "execution_count": null,
   "id": "mysterious-gallery",
   "metadata": {},
   "outputs": [],
   "source": [
    "zero = pd.Series(index=min_returns.index, dtype=np.float64)\n",
    "zero.loc[:] = 0\n",
    "data = {\n",
    "    'zero': zero,\n",
    "}\n",
    "for a, n in assets.items():\n",
    "    data[n] = get_annual_roi(min_returns[a], min_returns.index)    \n",
    "draw_growth_chart(\n",
    "    data,\n",
    "    \"Minimum Returns over Years\",\n",
    "    y_log = False,\n",
    "    y_title = \"returns in %\",\n",
    "    x_title = \"years holding\",\n",
    "    y_range = [-10, 10],\n",
    ")"
   ]
  },
  {
   "cell_type": "markdown",
   "id": "adult-malaysia",
   "metadata": {},
   "source": [
    "If we consider the worst case performance of the Nasdaq-100 ETFs, we can see that investing in Nasdaq-100 is in general more risky than in S&P 500. The unleveraged ETF takes 16 years until reaching breakeven. And after 30 years the performance is with 8.5% in the same region as for S&P 500. The 2x leveraged ETFs need 21 years for breakeven, which is similar to the 2x leveraged S&P 500 ETF and the 3x leveraged ETF is not reaching breakeven within 30 years. \n",
    "\n",
    "So from this chart it is clear, that the 2x leveraged ETF is for Nasdaq-100 the better choice. "
   ]
  },
  {
   "cell_type": "code",
   "execution_count": null,
   "id": "specialized-quilt",
   "metadata": {},
   "outputs": [],
   "source": [
    "for a, n in assets.items():\n",
    "    draw_max_drawdown(a, n)"
   ]
  },
  {
   "cell_type": "markdown",
   "id": "dirty-inventory",
   "metadata": {},
   "source": [
    "The periode of the max. drawdown is for all ETFs the same as for S&P 500. However here already the 2x leverged ETF has a maximum drawdown of 99%, while the 3x leveraged ETF reaches even 99.98%. "
   ]
  },
  {
   "cell_type": "code",
   "execution_count": null,
   "id": "purple-yahoo",
   "metadata": {},
   "outputs": [],
   "source": [
    "draw_risk_reward_chart(\n",
    "    risk_reward_1986.loc[list(assets.keys()),:],\n",
    "    \"Average Annual Returns vs. Max. Drawdown\",\n",
    "    x_title = \"max. drawdown in %\",\n",
    "    y_title = \"average annual returns in %\"\n",
    ")"
   ]
  },
  {
   "cell_type": "code",
   "execution_count": null,
   "id": "internal-heating",
   "metadata": {},
   "outputs": [],
   "source": [
    "draw_risk_reward_chart(\n",
    "    risk_reward.loc[list(assets.keys()),:],\n",
    "    \"Average Annual Returns vs. Max. Drawdown\",\n",
    "    x_title = \"max. drawdown in %\",\n",
    "    y_title = \"average annual returns in %\"\n",
    ")"
   ]
  },
  {
   "cell_type": "markdown",
   "id": "literary-copper",
   "metadata": {},
   "source": [
    "The preference for the 2x leveraged ETF can also be seen in the risk/reward chart, where the 2x levereaged ETF is getting a much higher average yearly return then the others, with a slightly less max. drawdown as the 3x leveraged ETF. "
   ]
  },
  {
   "cell_type": "markdown",
   "id": "contained-committee",
   "metadata": {},
   "source": [
    "## Nasdaq-100 ETF in EU"
   ]
  },
  {
   "cell_type": "code",
   "execution_count": null,
   "id": "physical-withdrawal",
   "metadata": {},
   "outputs": [],
   "source": [
    "assets = {\n",
    "    '1x_ndx100_eu': \"1x Nasdaq-100\", \n",
    "    '2x_ndx100_eu': \"2x Nasdaq-100\", \n",
    "    '3x_ndx100_eu': \"3x Nasdaq-100\",\n",
    "}"
   ]
  },
  {
   "cell_type": "code",
   "execution_count": null,
   "id": "waiting-singer",
   "metadata": {},
   "outputs": [],
   "source": [
    "analyze_gains(etfs.loc['1986':], assets, \"Growth of Nasdaq-100 (EU) ETFs from 1986 until today\")"
   ]
  },
  {
   "cell_type": "markdown",
   "id": "balanced-russia",
   "metadata": {},
   "source": [
    "For the european ETFs/ETNs, we can see the same pattern: The 3x leveraged ETN is performing very bad, even worse then the 3x leveraged US ETF. But the 2x leveraged ETF in Europe is performing better then the 2x leveraged in US. It is already clear, that the 2x leveraged ETF is also in Europe the best choice. "
   ]
  },
  {
   "cell_type": "code",
   "execution_count": null,
   "id": "balanced-pension",
   "metadata": {},
   "outputs": [],
   "source": [
    "analyze_gains(etfs.loc[:], assets, \"Growth of Nasdaq-100 (EU) ETFs from 1943 until today\")"
   ]
  },
  {
   "cell_type": "code",
   "execution_count": null,
   "id": "fresh-burden",
   "metadata": {},
   "outputs": [],
   "source": [
    "zero = pd.Series(index=min_returns.index, dtype=np.float64)\n",
    "zero.loc[:] = 0\n",
    "data = {\n",
    "    'zero': zero,\n",
    "}\n",
    "for a, n in assets.items():\n",
    "    data[n] = get_annual_roi(min_returns[a], min_returns.index)    \n",
    "draw_growth_chart(\n",
    "    data,\n",
    "    \"Minimum Returns over Years\",\n",
    "    y_log = False,\n",
    "    y_title = \"returns in %\",\n",
    "    x_title = \"years holding\",\n",
    "    y_range = [-10, 10],\n",
    ")"
   ]
  },
  {
   "cell_type": "markdown",
   "id": "animated-circular",
   "metadata": {},
   "source": [
    "In the worst case, the european ETFs are behaving similar to the US ones: The unleveraged ETF is reaching breakeven after 17 years and the 2x leveraged one after 21 years. After 30 years, the 2x leveraged ETF has a similar performance as the unleveraged one. The 3x leveraged ETF is not reaching breakeven within 30 years. "
   ]
  },
  {
   "cell_type": "code",
   "execution_count": null,
   "id": "fourth-routine",
   "metadata": {},
   "outputs": [],
   "source": [
    "for a, n in assets.items():\n",
    "    draw_max_drawdown(a, n)"
   ]
  },
  {
   "cell_type": "code",
   "execution_count": null,
   "id": "polar-institute",
   "metadata": {},
   "outputs": [],
   "source": [
    "draw_risk_reward_chart(\n",
    "    risk_reward_1986.loc[list(assets.keys()),:],\n",
    "    \"Average Annual Returns vs. Max. Drawdown\",\n",
    "    x_title = \"max. drawdown in %\",\n",
    "    y_title = \"average annual returns in %\"\n",
    ")"
   ]
  },
  {
   "cell_type": "markdown",
   "id": "breathing-split",
   "metadata": {},
   "source": [
    "Of course also the risk/reward chart is showing clearly the advantage of the 2x leveraged ETF over the 3x leveraged one. "
   ]
  },
  {
   "cell_type": "markdown",
   "id": "traditional-bracket",
   "metadata": {},
   "source": [
    "## Gold ETF (US)"
   ]
  },
  {
   "cell_type": "code",
   "execution_count": null,
   "id": "mighty-preservation",
   "metadata": {},
   "outputs": [],
   "source": [
    "assets = {\n",
    "    '1x_gold_us': \"1x Gold\", \n",
    "    '2x_gold_us': \"2x Gold\", \n",
    "}"
   ]
  },
  {
   "cell_type": "code",
   "execution_count": null,
   "id": "quick-string",
   "metadata": {},
   "outputs": [],
   "source": [
    "analyze_gains(etfs.loc['1943':'1986'], assets, \"Growth of Gold (US) ETFs from 1943 to 1986\")"
   ]
  },
  {
   "cell_type": "markdown",
   "id": "continuing-action",
   "metadata": {},
   "source": [
    "We can see that gold suffers strongly from high costs for leveraged ETFs in the years before 1970 where the Gold price was mostly stable. Since the time of stable gold price is over, we start the comparison of Gold ETFs from 1970."
   ]
  },
  {
   "cell_type": "code",
   "execution_count": null,
   "id": "changed-education",
   "metadata": {},
   "outputs": [],
   "source": [
    "analyze_gains(etfs.loc['1970':'1986'], assets, \"Growth of Gold (US) ETFs from 1970 to 1986\")"
   ]
  },
  {
   "cell_type": "markdown",
   "id": "expected-cache",
   "metadata": {},
   "source": [
    "But even if we start at 19767, the 2x leveraged Gold ETC is performing worse than the unleveraged ETC. The reason is that the slow growth of the gold price cannot compensate the volatility decay and high costs of such an ETC. "
   ]
  },
  {
   "cell_type": "code",
   "execution_count": null,
   "id": "collective-order",
   "metadata": {},
   "outputs": [],
   "source": [
    "analyze_gains(etfs.loc['1986':], assets, \"Growth of Gold (US) ETFs from 1986 until today\")"
   ]
  },
  {
   "cell_type": "markdown",
   "id": "dependent-opinion",
   "metadata": {},
   "source": [
    "In the years after 1986 the Gold price was slowly decreasing until 2001. Thus also in this periode the volatility decay and the high costs for an leveraged ETC cannot be compensated by a stronger growth due to leverage factor. "
   ]
  },
  {
   "cell_type": "code",
   "execution_count": null,
   "id": "pursuant-cheese",
   "metadata": {},
   "outputs": [],
   "source": [
    "analyze_gains(etfs.loc['1970':], assets, \"Growth of Gold (US) ETFs from 1970 until today\")"
   ]
  },
  {
   "cell_type": "code",
   "execution_count": null,
   "id": "mineral-magnitude",
   "metadata": {},
   "outputs": [],
   "source": [
    "zero = pd.Series(index=min_returns.index, dtype=np.float64)\n",
    "zero.loc[:] = 0\n",
    "data = {\n",
    "    'zero': zero,\n",
    "}\n",
    "for a, n in assets.items():\n",
    "    data[n] = get_annual_roi(min_returns[a], min_returns.index)    \n",
    "draw_growth_chart(\n",
    "    data,\n",
    "    \"Minimum Returns over Years\",\n",
    "    y_log = False,\n",
    "    y_title = \"returns in %\",\n",
    "    x_title = \"years holding\",\n",
    "    y_range = [-10, 10],\n",
    ")"
   ]
  },
  {
   "cell_type": "markdown",
   "id": "colonial-macro",
   "metadata": {},
   "source": [
    "As we already know from our basic asset analysis, on worst case Gold is reaching breakeven just after 29 years. The leveraged Gold ETC is not reaching breakeven whithin 30 years. "
   ]
  },
  {
   "cell_type": "code",
   "execution_count": null,
   "id": "least-chosen",
   "metadata": {},
   "outputs": [],
   "source": [
    "for a, n in assets.items():\n",
    "    draw_max_drawdown(a, n)"
   ]
  },
  {
   "cell_type": "markdown",
   "id": "interior-cartridge",
   "metadata": {},
   "source": [
    "The max. drawdown of Gold happened from 1980 until year 2000. Giving Gold investers a two decades long time of pain. "
   ]
  },
  {
   "cell_type": "code",
   "execution_count": null,
   "id": "gross-gauge",
   "metadata": {},
   "outputs": [],
   "source": [
    "draw_risk_reward_chart(\n",
    "    risk_reward.loc[list(assets.keys()),:],\n",
    "    \"Average Annual Returns vs. Max. Drawdown\",\n",
    "    x_title = \"max. drawdown in %\",\n",
    "    y_title = \"average annual returns in %\"\n",
    ")"
   ]
  },
  {
   "cell_type": "markdown",
   "id": "weekly-scottish",
   "metadata": {},
   "source": [
    "Also from the risk/reward chart it is clear, that leveraged Gold ETF are not an option. "
   ]
  },
  {
   "cell_type": "markdown",
   "id": "complicated-fitting",
   "metadata": {},
   "source": [
    "## Gold ETFs (EU)\n",
    "\n",
    "In the EU we don't have 2x leveraged Gold ETCs. But we have a 3x leveraged Gold ETN from WisdomTree. We do not expect that this performs better then the 2x leveraged Gold ETC from US. "
   ]
  },
  {
   "cell_type": "code",
   "execution_count": null,
   "id": "satisfied-patrick",
   "metadata": {},
   "outputs": [],
   "source": [
    "assets = {\n",
    "    '1x_gold_eu': \"1x Gold\", \n",
    "    '3x_gold_eu': \"3x Gold\", \n",
    "}"
   ]
  },
  {
   "cell_type": "code",
   "execution_count": null,
   "id": "golden-finder",
   "metadata": {},
   "outputs": [],
   "source": [
    "analyze_gains(etfs.loc['1970':'1986'], assets, \"Growth of Gold (EU) ETFs from 1967 to 1986\")"
   ]
  },
  {
   "cell_type": "code",
   "execution_count": null,
   "id": "occupational-dining",
   "metadata": {},
   "outputs": [],
   "source": [
    "analyze_gains(etfs.loc['1986':], assets, \"Growth of Gold (EU) ETFs from 1986 until today\")"
   ]
  },
  {
   "cell_type": "code",
   "execution_count": null,
   "id": "smart-executive",
   "metadata": {},
   "outputs": [],
   "source": [
    "analyze_gains(etfs.loc['1970':], assets, \"Growth of Gold (EU) ETFs from 1967 until today\")"
   ]
  },
  {
   "cell_type": "code",
   "execution_count": null,
   "id": "incomplete-tokyo",
   "metadata": {},
   "outputs": [],
   "source": [
    "zero = pd.Series(index=min_returns.index, dtype=np.float64)\n",
    "zero.loc[:] = 0\n",
    "data = {\n",
    "    'zero': zero,\n",
    "}\n",
    "for a, n in assets.items():\n",
    "    data[n] = get_annual_roi(min_returns[a], min_returns.index)    \n",
    "draw_growth_chart(\n",
    "    data,\n",
    "    \"Minimum Returns over Years\",\n",
    "    y_log = False,\n",
    "    y_title = \"returns in %\",\n",
    "    x_title = \"years holding\",\n",
    "    y_range = [-10, 10],\n",
    ")"
   ]
  },
  {
   "cell_type": "code",
   "execution_count": null,
   "id": "static-microphone",
   "metadata": {},
   "outputs": [],
   "source": [
    "for a, n in assets.items():\n",
    "    draw_max_drawdown(a, n)"
   ]
  },
  {
   "cell_type": "code",
   "execution_count": null,
   "id": "humanitarian-astronomy",
   "metadata": {},
   "outputs": [],
   "source": [
    "draw_risk_reward_chart(\n",
    "    risk_reward.loc[list(assets.keys()),:],\n",
    "    \"Average Annual Returns vs. Max. Drawdown\",\n",
    "    x_title = \"max. drawdown in %\",\n",
    "    y_title = \"average annual returns in %\"\n",
    ")"
   ]
  },
  {
   "cell_type": "markdown",
   "id": "aquatic-butter",
   "metadata": {},
   "source": [
    "So it is clear, that also for Europe leveraged Gold ETCs are not an option. "
   ]
  },
  {
   "cell_type": "markdown",
   "id": "spatial-medicare",
   "metadata": {},
   "source": [
    "## Long Term Treasury ETFs (US)"
   ]
  },
  {
   "cell_type": "code",
   "execution_count": null,
   "id": "adjustable-florence",
   "metadata": {},
   "outputs": [],
   "source": [
    "ffr = pd.read_excel(clean_data_path / \"ffr.xlsx\", index_col=0)\n",
    "ffr.index = pd.to_datetime(ffr.index)\n",
    "ffr = ffr['ffr']\n",
    "ffr.head()"
   ]
  },
  {
   "cell_type": "code",
   "execution_count": null,
   "id": "corporate-surfing",
   "metadata": {},
   "outputs": [],
   "source": [
    "assets = {\n",
    "    '1x_ltt_us': \"1x LTT\", \n",
    "    '2x_ltt_us': \"2x LTT\", \n",
    "    '3x_ltt_us': \"3x LTT\", \n",
    "}"
   ]
  },
  {
   "cell_type": "code",
   "execution_count": null,
   "id": "desperate-genius",
   "metadata": {},
   "outputs": [],
   "source": [
    "fig = analyze_gains(\n",
    "    etfs.loc[:'1986'], \n",
    "    assets, \n",
    "    \"Growth of LTT (US) ETFs from 1943 to 1986\", \n",
    "    show=False,\n",
    ")\n",
    "fig.update_yaxes(title_text=\"federal funds rate (FFR) in %\", secondary_y=True, showgrid=False, type=\"linear\")\n",
    "fig.add_trace(\n",
    "    go.Scatter(\n",
    "        x=ffr.loc[:'1986'].index,\n",
    "        y=ffr.loc[:'1986'],\n",
    "        mode='lines',\n",
    "        name=\"federal funds rate\",\n",
    "    ),\n",
    "    secondary_y=True\n",
    ")\n",
    "\n",
    "fig.show()"
   ]
  },
  {
   "cell_type": "markdown",
   "id": "widespread-western",
   "metadata": {},
   "source": [
    "As we can see the long term treasury ETFs with leverage factor are suffering enormously from volatility-decay in the years from 1943 to 1986. While the 2x leveraged ETF is still reaching a slightly positive return at 1986, the 3x leveraged ETF is not even reaching breakeven. \n",
    "\n",
    "The strongest downward trend for the leveraged ETFs is starting between 1975 and 1980. This was a time of drastically rising interest rates. "
   ]
  },
  {
   "cell_type": "code",
   "execution_count": null,
   "id": "useful-tobago",
   "metadata": {},
   "outputs": [],
   "source": [
    "fig = analyze_gains(\n",
    "    etfs.loc['1986':], \n",
    "    assets, \n",
    "    \"Growth of LTT (US) ETFs from 1986 until today\", \n",
    "    show=False,\n",
    ")\n",
    "fig.update_yaxes(title_text=\"interest rate (FFR) in %\", secondary_y=True, showgrid=False, type=\"linear\")\n",
    "fig.add_trace(\n",
    "    go.Scatter(\n",
    "        x=ffr.loc['1986':].index,\n",
    "        y=ffr.loc['1986':],\n",
    "        mode='lines',\n",
    "        name=\"interest rate (FFR)\",\n",
    "    ),\n",
    "    secondary_y=True\n",
    ")\n",
    "\n",
    "fig.show()"
   ]
  },
  {
   "cell_type": "markdown",
   "id": "weekly-collins",
   "metadata": {},
   "source": [
    "In the years after 1986, we can see the oposite effect: interest rates are decreasing and thus long term treasury ETFs are growing. Since it is a time of steady growth the leveraged ETFs are outperfroming the unleveraged ETF drastically. Here the 3x leveraged ETF is the best. "
   ]
  },
  {
   "cell_type": "code",
   "execution_count": null,
   "id": "dressed-implementation",
   "metadata": {},
   "outputs": [],
   "source": [
    "analyze_gains(\n",
    "    etfs.loc[:], \n",
    "    assets, \n",
    "    \"Growth of LTT (US) ETFs from 1943 until today\", \n",
    "    show=True,\n",
    ")"
   ]
  },
  {
   "cell_type": "markdown",
   "id": "curious-sight",
   "metadata": {},
   "source": [
    "Despite this strong growth of treasury funds after 1986, the leveraged ETFs are not recovering until today from the decline in the years before 1986. Thus it seems, that in general the unleveraged ETF is the best choice. At least without rebalancing. "
   ]
  },
  {
   "cell_type": "code",
   "execution_count": null,
   "id": "empirical-outline",
   "metadata": {},
   "outputs": [],
   "source": [
    "zero = pd.Series(index=min_returns.index, dtype=np.float64)\n",
    "zero.loc[:] = 0\n",
    "data = {\n",
    "    'zero': zero,\n",
    "}\n",
    "for a, n in assets.items():\n",
    "    data[n] = get_annual_roi(min_returns[a], min_returns.index)    \n",
    "draw_growth_chart(\n",
    "    data,\n",
    "    \"Minimum Returns over Years\",\n",
    "    y_log = False,\n",
    "    y_title = \"returns in %\",\n",
    "    x_title = \"years holding\",\n",
    "    y_range = [-10, 10],\n",
    ")"
   ]
  },
  {
   "cell_type": "markdown",
   "id": "congressional-electricity",
   "metadata": {},
   "source": [
    "We can see this also in the worst case return over a variable number of investment years: only the unleveraged ETF is able to reach breakeven within 30 years (it takes 17 years), but the worst case performance is with 0.7% very low at year 30. "
   ]
  },
  {
   "cell_type": "code",
   "execution_count": null,
   "id": "golden-explanation",
   "metadata": {},
   "outputs": [],
   "source": [
    "for a, n in assets.items():\n",
    "    draw_max_drawdown(a, n)"
   ]
  },
  {
   "cell_type": "markdown",
   "id": "uniform-maria",
   "metadata": {},
   "source": [
    "We also see long times of drawdown for all leveraged ETFs. While the unleveraged ETF has just a bad drawdown from 1980 to 1981, the leveraged ETFs show this issue from 1950 or 1949 onwards with 78% and 97% loss in value. "
   ]
  },
  {
   "cell_type": "code",
   "execution_count": null,
   "id": "exposed-amber",
   "metadata": {},
   "outputs": [],
   "source": [
    "draw_risk_reward_chart(\n",
    "    risk_reward.loc[list(assets.keys()),:],\n",
    "    \"Average Annual Returns vs. Max. Drawdown\",\n",
    "    x_title = \"max. drawdown in %\",\n",
    "    y_title = \"average annual returns in %\"\n",
    ")"
   ]
  },
  {
   "cell_type": "markdown",
   "id": "particular-dancing",
   "metadata": {},
   "source": [
    "The good performance of the unleveraged ETF compared to the leveraged ones can also be seen in the risk/reward chart."
   ]
  },
  {
   "cell_type": "markdown",
   "id": "polar-timer",
   "metadata": {},
   "source": [
    "## Long Term Treasury ETF (EU)\n",
    "\n",
    "In the EU, we don't have leveraged ETFs for LTT. Thus we just look at the unleveraged one and compare it with the US version."
   ]
  },
  {
   "cell_type": "code",
   "execution_count": null,
   "id": "embedded-plymouth",
   "metadata": {},
   "outputs": [],
   "source": [
    "assets = {\n",
    "    '1x_ltt_eu': \"1x LTT (EU)\", \n",
    "    '1x_ltt_us': \"1x LTT (US)\", \n",
    "}"
   ]
  },
  {
   "cell_type": "code",
   "execution_count": null,
   "id": "conceptual-novelty",
   "metadata": {},
   "outputs": [],
   "source": [
    "analyze_gains(\n",
    "    etfs.loc[:'1986'], \n",
    "    assets, \n",
    "    \"Growth of LTT (US/EU) ETFs from 1943 to 1986\", \n",
    "    show=True,\n",
    ")"
   ]
  },
  {
   "cell_type": "code",
   "execution_count": null,
   "id": "veterinary-clone",
   "metadata": {},
   "outputs": [],
   "source": [
    "analyze_gains(\n",
    "    etfs.loc['1986':], \n",
    "    assets, \n",
    "    \"Growth of LTT (US/EU) ETFs from 1986 until today\", \n",
    "    show=True,\n",
    ")"
   ]
  },
  {
   "cell_type": "code",
   "execution_count": null,
   "id": "expressed-perth",
   "metadata": {},
   "outputs": [],
   "source": [
    "analyze_gains(\n",
    "    etfs.loc[:], \n",
    "    assets, \n",
    "    \"Growth of LTT (US/EU) ETFs from 1943 until today\", \n",
    "    show=True,\n",
    ")"
   ]
  },
  {
   "cell_type": "markdown",
   "id": "specified-jacksonville",
   "metadata": {},
   "source": [
    "We can see that the EU LTT ETFs has a slightly better formance than the US ETF. "
   ]
  },
  {
   "cell_type": "code",
   "execution_count": null,
   "id": "removed-restoration",
   "metadata": {},
   "outputs": [],
   "source": [
    "for a, n in assets.items():\n",
    "    draw_max_drawdown(a, n)"
   ]
  },
  {
   "cell_type": "code",
   "execution_count": null,
   "id": "biblical-arkansas",
   "metadata": {},
   "outputs": [],
   "source": [
    "draw_risk_reward_chart(\n",
    "    risk_reward.loc[list(assets.keys()),:],\n",
    "    \"Average Annual Returns vs. Max. Drawdown\",\n",
    "    x_title = \"max. drawdown in %\",\n",
    "    y_title = \"average annual returns in %\"\n",
    ")"
   ]
  },
  {
   "cell_type": "markdown",
   "id": "empty-magnet",
   "metadata": {},
   "source": [
    "All other characteristics are more or less the same. "
   ]
  },
  {
   "cell_type": "markdown",
   "id": "willing-behalf",
   "metadata": {},
   "source": [
    "## Intermediate Term Treasury ETFs (US)"
   ]
  },
  {
   "cell_type": "code",
   "execution_count": null,
   "id": "difficult-requirement",
   "metadata": {},
   "outputs": [],
   "source": [
    "assets = {\n",
    "    '1x_itt_us': \"1x ITT\", \n",
    "    '2x_itt_us': \"2x ITT\", \n",
    "    '3x_itt_us': \"3x ITT\", \n",
    "}"
   ]
  },
  {
   "cell_type": "code",
   "execution_count": null,
   "id": "partial-turner",
   "metadata": {},
   "outputs": [],
   "source": [
    "fig = analyze_gains(\n",
    "    etfs.loc[:'1986'], \n",
    "    assets, \n",
    "    \"Growth of ITT (US) ETFs from 1943 to 1986\", \n",
    "    show=False,\n",
    ")\n",
    "fig.update_yaxes(title_text=\"interest rate (FFR) in %\", secondary_y=True, showgrid=False, type=\"linear\")\n",
    "fig.add_trace(\n",
    "    go.Scatter(\n",
    "        x=ffr.loc[:'1986'].index,\n",
    "        y=ffr.loc[:'1986'],\n",
    "        mode='lines',\n",
    "        name=\"interest rate (FFR)\",\n",
    "    ),\n",
    "    secondary_y=True\n",
    ")\n",
    "\n",
    "fig.show()"
   ]
  },
  {
   "cell_type": "markdown",
   "id": "automotive-general",
   "metadata": {},
   "source": [
    "It is quite hard to see, but the ITT ETFs show a much faster recovery after the interest rates are decreasing than the LTTs. Thus all ETFs have a positive return on 1986, eventhough the leveraged ETFs drop a lot in the years of high interest rates. "
   ]
  },
  {
   "cell_type": "code",
   "execution_count": null,
   "id": "approximate-hungarian",
   "metadata": {},
   "outputs": [],
   "source": [
    "fig = analyze_gains(\n",
    "    etfs.loc['1986':], \n",
    "    assets, \n",
    "    \"Growth of LTT (US) ETFs from 1986 until today\", \n",
    "    show=False,\n",
    ")\n",
    "fig.update_yaxes(title_text=\"interest rate (FFR) in %\", secondary_y=True, showgrid=False, type=\"linear\")\n",
    "fig.add_trace(\n",
    "    go.Scatter(\n",
    "        x=ffr.loc['1986':].index,\n",
    "        y=ffr.loc['1986':],\n",
    "        mode='lines',\n",
    "        name=\"interest rate (FFR)\",\n",
    "    ),\n",
    "    secondary_y=True\n",
    ")\n",
    "\n",
    "fig.show()"
   ]
  },
  {
   "cell_type": "markdown",
   "id": "geological-spanking",
   "metadata": {},
   "source": [
    "For the years after 1986 we also see here a strong growth. The 3x leveraged ETF is growing very fast with more than 11% average annual return, which is similar to the unleveraged S&P 500 ETF. "
   ]
  },
  {
   "cell_type": "code",
   "execution_count": null,
   "id": "early-flavor",
   "metadata": {},
   "outputs": [],
   "source": [
    "analyze_gains(\n",
    "    etfs.loc[:], \n",
    "    assets, \n",
    "    \"Growth of LTT (US) ETFs from 1943 until today\", \n",
    "    show=True,\n",
    ")"
   ]
  },
  {
   "cell_type": "markdown",
   "id": "empirical-entertainment",
   "metadata": {},
   "source": [
    "When we combine both periods, the 3x leveraged ETF is still the stronged one. But it had a very hard loss in the beginning of the 1980s."
   ]
  },
  {
   "cell_type": "code",
   "execution_count": null,
   "id": "cardiac-porter",
   "metadata": {},
   "outputs": [],
   "source": [
    "zero = pd.Series(index=min_returns.index, dtype=np.float64)\n",
    "zero.loc[:] = 0\n",
    "data = {\n",
    "    'zero': zero,\n",
    "}\n",
    "for a, n in assets.items():\n",
    "    data[n] = get_annual_roi(min_returns[a], min_returns.index)    \n",
    "draw_growth_chart(\n",
    "    data,\n",
    "    \"Minimum Returns over Years\",\n",
    "    y_log = False,\n",
    "    y_title = \"returns in %\",\n",
    "    x_title = \"years holding\",\n",
    "    y_range = [-10, 10],\n",
    ")"
   ]
  },
  {
   "cell_type": "markdown",
   "id": "protecting-least",
   "metadata": {},
   "source": [
    "The worst case analysis shows a negative image about the leverged ETFs: Only the unleveraged ETF is reaching breakeven, but this already after 7 years. However even after 30 years the worst case return is just 2% per year. "
   ]
  },
  {
   "cell_type": "code",
   "execution_count": null,
   "id": "italian-barrier",
   "metadata": {},
   "outputs": [],
   "source": [
    "for a, n in assets.items():\n",
    "    draw_max_drawdown(a, n)"
   ]
  },
  {
   "cell_type": "markdown",
   "id": "environmental-phenomenon",
   "metadata": {},
   "source": [
    "The maximum drawdown is for all ETFs during the time of mid. 1970s to beginning 1980s. The 3x leveraged ETF is just losing 75% of its value, which is not too bad compared with other assets. "
   ]
  },
  {
   "cell_type": "code",
   "execution_count": null,
   "id": "graduate-experiment",
   "metadata": {},
   "outputs": [],
   "source": [
    "draw_risk_reward_chart(\n",
    "    risk_reward.loc[list(assets.keys()),:],\n",
    "    \"Average Annual Returns vs. Max. Drawdown\",\n",
    "    x_title = \"max. drawdown in %\",\n",
    "    y_title = \"average annual returns in %\"\n",
    ")"
   ]
  },
  {
   "cell_type": "markdown",
   "id": "saved-skating",
   "metadata": {},
   "source": [
    "We can clearly see, that every ETF has advantages and disadvantages. With growing leverage factor the risk is increasing and but also the reward. Thus for ITT, there is no clear winner. If we assume a high interest phase is ahead, we should probably take the unleveraged ETF. If we assume the interest rates will still be low in the next years, the 3x leveraged ETF might be a good choice. And if don't know, maybe the 2x leveraged ETF is a good compromise. "
   ]
  },
  {
   "cell_type": "markdown",
   "id": "blocked-enzyme",
   "metadata": {},
   "source": [
    "## Intermediate Term Treasury ETFs (EU)\n",
    "\n",
    "For Europe, we do not have a 2x leveraged ETF, thus we do our analysis only with unleveraged and 3x leveraged ETN. "
   ]
  },
  {
   "cell_type": "code",
   "execution_count": null,
   "id": "stretch-martial",
   "metadata": {},
   "outputs": [],
   "source": [
    "assets = {\n",
    "    '1x_itt_eu': \"1x ITT\", \n",
    "    '3x_itt_eu': \"3x ITT\", \n",
    "}"
   ]
  },
  {
   "cell_type": "code",
   "execution_count": null,
   "id": "substantial-hurricane",
   "metadata": {},
   "outputs": [],
   "source": [
    "analyze_gains(\n",
    "    etfs.loc[:'1986'], \n",
    "    assets, \n",
    "    \"Growth of ITT (EU) ETFs from 1943 to 1986\", \n",
    "    show=True,\n",
    ")"
   ]
  },
  {
   "cell_type": "markdown",
   "id": "standing-wyoming",
   "metadata": {},
   "source": [
    "Also in Europe the 3x leveraged ETF is able to archive a positive performance end of 1986. However it's gain is almost just the half of the gain from the US ETF. This is due to the high costs of the ETN. "
   ]
  },
  {
   "cell_type": "code",
   "execution_count": null,
   "id": "incorporate-armstrong",
   "metadata": {},
   "outputs": [],
   "source": [
    "analyze_gains(\n",
    "    etfs.loc['1986':], \n",
    "    assets, \n",
    "    \"Growth of ITT (EU) ETFs from 1986 until today\", \n",
    "    show=True,\n",
    ")"
   ]
  },
  {
   "cell_type": "code",
   "execution_count": null,
   "id": "photographic-anger",
   "metadata": {},
   "outputs": [],
   "source": [
    "analyze_gains(\n",
    "    etfs.loc[:], \n",
    "    assets, \n",
    "    \"Growth of ITT (EU) ETFs from 1943 until today\", \n",
    "    show=True,\n",
    ")"
   ]
  },
  {
   "cell_type": "markdown",
   "id": "devoted-richardson",
   "metadata": {},
   "source": [
    "Even long term, the 3x leveraged ETN is not able to catch up with the unleveraged ETF. Thus it is more or less clear, that this ETN is not a good investment, unless it is somehow hedged. "
   ]
  },
  {
   "cell_type": "code",
   "execution_count": null,
   "id": "detected-package",
   "metadata": {},
   "outputs": [],
   "source": [
    "zero = pd.Series(index=min_returns.index, dtype=np.float64)\n",
    "zero.loc[:] = 0\n",
    "data = {\n",
    "    'zero': zero,\n",
    "}\n",
    "for a, n in assets.items():\n",
    "    data[n] = get_annual_roi(min_returns[a], min_returns.index)    \n",
    "draw_growth_chart(\n",
    "    data,\n",
    "    \"Minimum Returns over Years\",\n",
    "    y_log = False,\n",
    "    y_title = \"returns in %\",\n",
    "    x_title = \"years holding\",\n",
    "    y_range = [-10, 10],\n",
    ")"
   ]
  },
  {
   "cell_type": "markdown",
   "id": "favorite-hundred",
   "metadata": {},
   "source": [
    "The worst case analysis is very simialar to the one from the US ETFs. However the unleveraged ETF is already reaching breakeven after 6 instead of 7 years and the 30 years worst case performance is 2.4% per year instead of 2%. So also here the European unleveraged ETF is performing slightly better than the US one. "
   ]
  },
  {
   "cell_type": "code",
   "execution_count": null,
   "id": "failing-receiver",
   "metadata": {},
   "outputs": [],
   "source": [
    "for a, n in assets.items():\n",
    "    draw_max_drawdown(a, n)"
   ]
  },
  {
   "cell_type": "markdown",
   "id": "reported-fusion",
   "metadata": {},
   "source": [
    "The unleveraged ETF has a maximum drawdown of only 19% while the leveraged ETF has a drawdown of 81% for more than 30 years. "
   ]
  },
  {
   "cell_type": "code",
   "execution_count": null,
   "id": "integrated-bahrain",
   "metadata": {},
   "outputs": [],
   "source": [
    "draw_risk_reward_chart(\n",
    "    risk_reward.loc[list(assets.keys()),:],\n",
    "    \"Average Annual Returns vs. Max. Drawdown\",\n",
    "    x_title = \"max. drawdown in %\",\n",
    "    y_title = \"average annual returns in %\"\n",
    ")"
   ]
  },
  {
   "cell_type": "markdown",
   "id": "spanish-hartford",
   "metadata": {},
   "source": [
    "So also the risk/reward chart makes it clear, that the unleveraged ETF is the better choice. "
   ]
  },
  {
   "cell_type": "markdown",
   "id": "durable-hurricane",
   "metadata": {},
   "source": [
    "## Short Term Treasury ETFs (US vs. EU)\n",
    "\n",
    "Since there is no leveraged ETF available for STT, we just compare the EU ETF with the US one. "
   ]
  },
  {
   "cell_type": "code",
   "execution_count": null,
   "id": "congressional-ceremony",
   "metadata": {},
   "outputs": [],
   "source": [
    "assets = {\n",
    "    '1x_stt_us': \"1x STT (US)\", \n",
    "    '1x_stt_eu': \"1x STT (EU)\", \n",
    "}"
   ]
  },
  {
   "cell_type": "code",
   "execution_count": null,
   "id": "relative-wichita",
   "metadata": {},
   "outputs": [],
   "source": [
    "fig = analyze_gains(\n",
    "    etfs.loc[:'1986'], \n",
    "    assets, \n",
    "    \"Growth of STT (US/EU) ETFs from 1943 to 1986\", \n",
    "    show=False,\n",
    ")\n",
    "fig.update_yaxes(title_text=\"interest rate in %\", secondary_y=True, showgrid=False, type=\"linear\")\n",
    "fig.add_trace(\n",
    "    go.Scatter(\n",
    "        x=ffr.loc[:'1986'].index,\n",
    "        y=ffr.loc[:'1986'],\n",
    "        mode='lines',\n",
    "        name=\"interest rate\",\n",
    "    ),\n",
    "    secondary_y=True\n",
    ")\n",
    "\n",
    "fig.show()"
   ]
  },
  {
   "cell_type": "markdown",
   "id": "velvet-empire",
   "metadata": {},
   "source": [
    "And once again: The european ETF is slightly better performaing than the US ETF. In the years from 1943 to 1986 the average annual return was always positive and around 5%, which is similar to the average annual return onf ITT and LTT. "
   ]
  },
  {
   "cell_type": "code",
   "execution_count": null,
   "id": "incoming-recipe",
   "metadata": {},
   "outputs": [],
   "source": [
    "fig = analyze_gains(\n",
    "    etfs.loc['1986':], \n",
    "    assets, \n",
    "    \"Growth of STT (US/EU) ETFs from 1986 until today\", \n",
    "    show=False,\n",
    ")\n",
    "fig.update_yaxes(title_text=\"interest rate (FFR) in %\", secondary_y=True, showgrid=False, type=\"linear\")\n",
    "fig.add_trace(\n",
    "    go.Scatter(\n",
    "        x=ffr.loc['1986':].index,\n",
    "        y=ffr.loc['1986':],\n",
    "        mode='lines',\n",
    "        name=\"interest rate (FFR)\",\n",
    "    ),\n",
    "    secondary_y=True\n",
    ")\n",
    "\n",
    "fig.show()"
   ]
  },
  {
   "cell_type": "markdown",
   "id": "absolute-bristol",
   "metadata": {},
   "source": [
    "In the years after 1986 the returns decreases a little bit to 4-5% While in those years ITT and LTT has an average return of 8% to 11%. "
   ]
  },
  {
   "cell_type": "code",
   "execution_count": null,
   "id": "norman-earthquake",
   "metadata": {},
   "outputs": [],
   "source": [
    "analyze_gains(\n",
    "    etfs.loc[:], \n",
    "    assets, \n",
    "    \"Growth of STT (US/EU) ETFs from 1943 until today\", \n",
    "    show=True,\n",
    ")"
   ]
  },
  {
   "cell_type": "markdown",
   "id": "active-mambo",
   "metadata": {},
   "source": [
    "Thus also the average return over the whole peride is 4%-5%."
   ]
  },
  {
   "cell_type": "code",
   "execution_count": null,
   "id": "violent-spouse",
   "metadata": {},
   "outputs": [],
   "source": [
    "zero = pd.Series(index=min_returns.index, dtype=np.float64)\n",
    "zero.loc[:] = 0\n",
    "data = {\n",
    "    'zero': zero,\n",
    "}\n",
    "for a, n in assets.items():\n",
    "    data[n] = get_annual_roi(min_returns[a], min_returns.index)    \n",
    "draw_growth_chart(\n",
    "    data,\n",
    "    \"Minimum Returns over Years\",\n",
    "    y_log = False,\n",
    "    y_title = \"returns in %\",\n",
    "    x_title = \"years holding\",\n",
    "    y_range = [-10, 10],\n",
    ")"
   ]
  },
  {
   "cell_type": "markdown",
   "id": "surprising-saturday",
   "metadata": {},
   "source": [
    "The good think about STTs is that they reach breakeven very fast. Only 2 (EU) or 3 (EU) yeras are necessary to reach breakeven in the worst case. After 30 years the worst case performance is around 3%, which is higher then the worst case performance of unleveraged LTT and ITT. "
   ]
  },
  {
   "cell_type": "code",
   "execution_count": null,
   "id": "another-insured",
   "metadata": {},
   "outputs": [],
   "source": [
    "for a, n in assets.items():\n",
    "    draw_max_drawdown(a, n)"
   ]
  },
  {
   "cell_type": "code",
   "execution_count": null,
   "id": "olympic-bullet",
   "metadata": {},
   "outputs": [],
   "source": [
    "draw_risk_reward_chart(\n",
    "    risk_reward.loc[list(assets.keys()),:],\n",
    "    \"Average Annual Returns vs. Max. Drawdown\",\n",
    "    x_title = \"max. drawdown in %\",\n",
    "    y_title = \"average annual returns in %\"\n",
    ")"
   ]
  },
  {
   "cell_type": "markdown",
   "id": "reserved-shanghai",
   "metadata": {},
   "source": [
    "So it is clear, that the STTs are extremly low risk investments with also low reward. But it is still better to invest in STTs than keeping Cash, which is just burned from inflation. "
   ]
  }
 ],
 "metadata": {
  "kernelspec": {
   "display_name": "Python 3",
   "language": "python",
   "name": "python3"
  },
  "language_info": {
   "codemirror_mode": {
    "name": "ipython",
    "version": 3
   },
   "file_extension": ".py",
   "mimetype": "text/x-python",
   "name": "python",
   "nbconvert_exporter": "python",
   "pygments_lexer": "ipython3",
   "version": "3.9.12"
  }
 },
 "nbformat": 4,
 "nbformat_minor": 5
}
