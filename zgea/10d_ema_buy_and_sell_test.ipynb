{
 "cells": [
  {
   "cell_type": "markdown",
   "id": "f6a0777f",
   "metadata": {},
   "source": [
    "# EMA Buy and Sell Test (HFEA)\n",
    "\n",
    "With the gained insights from 10c on the different risks and rewards of the moving average strategies, test HFEA strategy with moving averages."
   ]
  },
  {
   "cell_type": "code",
   "execution_count": null,
   "id": "precious-fairy",
   "metadata": {},
   "outputs": [],
   "source": [
    "import pandas as pd\n",
    "from pathlib import Path\n",
    "from dateutil.relativedelta import relativedelta"
   ]
  },
  {
   "cell_type": "code",
   "execution_count": null,
   "id": "violent-buying",
   "metadata": {},
   "outputs": [],
   "source": [
    "from utils.plots import draw_growth_chart\n",
    "from utils.portfolio import MAPortfolio"
   ]
  },
  {
   "cell_type": "code",
   "execution_count": null,
   "id": "chubby-africa",
   "metadata": {},
   "outputs": [],
   "source": [
    "clean_data_path = Path(\"clean_data\")\n",
    "cache_path = Path(\"cached_data\")"
   ]
  },
  {
   "cell_type": "code",
   "execution_count": null,
   "id": "genuine-drain",
   "metadata": {},
   "outputs": [],
   "source": [
    "input_path = clean_data_path / \"etfs.xlsx\"\n",
    "etfs = pd.read_excel(input_path, index_col=0)\n",
    "etfs.index = pd.to_datetime(etfs.index)\n",
    "etfs['cash'] = 100.0\n",
    "etfs.head()"
   ]
  },
  {
   "cell_type": "code",
   "execution_count": null,
   "id": "animated-skirt",
   "metadata": {},
   "outputs": [],
   "source": [
    "details_memory = {}\n",
    "p_hfea_ma = MAPortfolio(\n",
    "    {\n",
    "        '3x_sp500_us': dict(dist=55.0, ma=290, ma_asset=\"1x_sp500_us\"),\n",
    "        '3x_ltt_us': dict(dist=45.0, ma=70, ma_asset=\"1x_ltt_us\"),\n",
    "    },\n",
    "    start_value = 1000,\n",
    "    rebalancing = relativedelta(months=3),\n",
    "    rebalancing_offset = relativedelta(days=-6),\n",
    "    detailed_output=True,\n",
    "    details_memory=details_memory,\n",
    ").backtest(etfs)"
   ]
  },
  {
   "cell_type": "code",
   "execution_count": null,
   "id": "fourth-vertex",
   "metadata": {},
   "outputs": [],
   "source": [
    "# display growth with *_value referring to the leveraged portfolio value which was bought and sold\n",
    "draw_growth_chart(details_memory['chart'])"
   ]
  }
 ],
 "metadata": {
  "kernelspec": {
   "display_name": "Python 3",
   "language": "python",
   "name": "python3"
  },
  "language_info": {
   "codemirror_mode": {
    "name": "ipython",
    "version": 3
   },
   "file_extension": ".py",
   "mimetype": "text/x-python",
   "name": "python",
   "nbconvert_exporter": "python",
   "pygments_lexer": "ipython3",
   "version": "3.9.12"
  }
 },
 "nbformat": 4,
 "nbformat_minor": 5
}
