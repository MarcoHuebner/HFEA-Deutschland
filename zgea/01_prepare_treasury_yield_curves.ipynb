{
 "cells": [
  {
   "cell_type": "markdown",
   "metadata": {
    "collapsed": true,
    "pycharm": {
     "name": "#%% md\n"
    }
   },
   "source": [
    "# Yield Curve Calculation\n",
    "\n",
    "This notebook calculates daily yield curves for US Treasury Bonds. It takes data from two sources:\n",
    "\n",
    "* Bogleheads, yield curves book data: https://drive.google.com/file/d/1azbWYdUDHjjtgxJ-logORbsGOmKanqxJ/view\n",
    "    * This excel sheet was created by using two sources:\n",
    "        * Historical US Treasury Yield Curves, 1993 Edition, Thomas Coleman and al.\n",
    "        * Table 9-2, Estimated PAR Bond Yields, Fully Taxable, pages 116 to 129\n",
    "* Market Yield on U.S. Treasury Securities at x-Year Constant Maturity (DGSx) from [FRED](https://fred.stlouisfed.org/categories/22)\n",
    "\n",
    "The data of both sources are combined in this notebook, to generate the yield curve for 1 year, 3 years, 5 years, 7 years, 10 years, 20 years and 30 years treasury bonds. In order to verify, if the data from one sources aligns with the data from the other source, the overlapping years are accumulated and shown in a growth chart.\n",
    "\n",
    "The data is combined by using a linear interpolation between two data-points inside the overlapping region."
   ]
  },
  {
   "cell_type": "code",
   "execution_count": null,
   "metadata": {
    "pycharm": {
     "name": "#%%\n"
    }
   },
   "outputs": [],
   "source": [
    "import numpy as np\n",
    "import pandas as pd\n",
    "import pandas.tseries.offsets as pd_offsets\n",
    "from pathlib import Path\n",
    "from dateutil.relativedelta import relativedelta"
   ]
  },
  {
   "cell_type": "code",
   "execution_count": null,
   "metadata": {},
   "outputs": [],
   "source": [
    "from utils.math import reindex_and_fill, reindex_and_interpolate, calc_growth, normalize\n",
    "from utils.data import download_from_fred, read_csv, merge_series\n",
    "from utils.plots import draw_growth_chart"
   ]
  },
  {
   "cell_type": "markdown",
   "metadata": {
    "pycharm": {
     "name": "#%% md\n"
    }
   },
   "source": [
    "The first step is to load all data into memory."
   ]
  },
  {
   "cell_type": "code",
   "execution_count": null,
   "metadata": {
    "pycharm": {
     "name": "#%%\n"
    }
   },
   "outputs": [],
   "source": [
    "# load raw and clean data\n",
    "raw_data_path = Path(\"raw_data\")\n",
    "clean_data_path = Path(\"clean_data\")\n",
    "# define individual paths with base paths set\n",
    "bogleheads_yield_curve_path = raw_data_path / \"bogleheads_yield_curves.xlsx\"\n",
    "gs1_path = raw_data_path / \"DGS1.csv\"\n",
    "gs3_path = raw_data_path / \"DGS3.csv\"\n",
    "gs5_path = raw_data_path / \"DGS5.csv\"\n",
    "gs7_path = raw_data_path / \"DGS7.csv\"\n",
    "gs10_path = raw_data_path / \"DGS10.csv\"\n",
    "gs20_path = raw_data_path / \"DGS20.csv\"\n",
    "gs30_path = raw_data_path / \"DGS30.csv\""
   ]
  },
  {
   "cell_type": "code",
   "execution_count": null,
   "metadata": {
    "pycharm": {
     "name": "#%%\n"
    }
   },
   "outputs": [],
   "source": [
    "# read one example into a processable pd.DataFrame and display first 5 lines\n",
    "bg_yield_curve = pd.read_excel(bogleheads_yield_curve_path, skiprows=1)\n",
    "bg_yield_curve['date'] = pd.to_datetime(bg_yield_curve['date'], format=\"%Y\")\n",
    "bg_yield_curve.index = bg_yield_curve['date']\n",
    "bg_yield_curve.drop(columns=['date'], inplace=True)\n",
    "bg_yield_curve.head()"
   ]
  },
  {
   "cell_type": "markdown",
   "metadata": {
    "pycharm": {
     "name": "#%% md\n"
    }
   },
   "source": [
    "The bogleheads yield curves are just given as monthly data. Thus, we need to bring it to daily data somehow. For this we have actually 3 alternatives:\n",
    "1. We can simply forward fill the last valid value (from the first day of the month) for the whole month. This solution would introduce a huge step for every new month, which is not nice and could lead in further analysis to misinterpretations.\n",
    "2. We can interpolate linearly between two values. This solution does not lead to a huge step and is very smooth. It should not harm further analysis. However, with this solution we introduce the assumption into the data, that there have not been any extreme events within the month. For example a strong dip with a V-shaped recovery.\n",
    "3. Additionally, it would be possible to overlay the linear interpolation with random values, based on a distribution, which has been calculated out of the existing daily values. This is not very easy, since it must start at a certain point and also end at a certain point (the next datapoint), thus a simple random walk is not possible. Furthermore, we must ensure, that we do not artificially introduce extreme events, which are not reflected by the existing daily data.\n",
    "\n",
    "For the sake of simplicity, we will just use the solution number 2. The yields for treasury bonds are not falling out of heaven, thus the assumption, that there are no extreme events between two data points is not completely wrong. Furthermore, we will later use real daily data, so any error, introduced by our interpolation, is just existing in the early years, where the volatility at the market was not as high as today."
   ]
  },
  {
   "cell_type": "code",
   "execution_count": null,
   "metadata": {
    "pycharm": {
     "name": "#%%\n"
    }
   },
   "outputs": [],
   "source": [
    "# reindex and linearly interpolate monthly data\n",
    "bg_yield_curve = reindex_and_interpolate(bg_yield_curve, min(bg_yield_curve.index), max(bg_yield_curve.index), 'D')\n",
    "bg_yield_curve.head()"
   ]
  },
  {
   "cell_type": "markdown",
   "metadata": {
    "pycharm": {
     "name": "#%% md\n"
    }
   },
   "source": [
    "The data from FRED is already daily, however it contains for every day, since on some days the market was closed or data is sometimes just missing. In our further analysis, we don't want to take care about days, where the market was closed. Thus, we also reindex those data to keep valid values for every day in the year. However, since the gaps are quite small, we don't need to use linear interpolation for that. We can just forward fill missing data-points, which introduced the (correct) assumption, that on those days, the change in value was just 0%.\n",
    "\n",
    "On the days, where the values are missing, even through the market should have been open, there is just a dot `.` inside the dataframe. We must substitute this dot by a `NAN` value, before we fill up the gaps."
   ]
  },
  {
   "cell_type": "code",
   "execution_count": null,
   "metadata": {},
   "outputs": [],
   "source": [
    "def read_and_clean_fred_data(file_path, column_name, fred_name = None):\n",
    "    if fred_name is None:\n",
    "        fred_name = column_name\n",
    "        \n",
    "    gs_a = read_csv(file_path, column_name=column_name)\n",
    "    gs_a = reindex_and_fill(gs_a, min(gs_a.index), max(gs_a.index), freq=\"D\")\n",
    "    \n",
    "    gs_b = download_from_fred(fred_name)\n",
    "    gs_b = reindex_and_fill(gs_b, min(gs_b.index), max(gs_b.index), freq=\"D\")\n",
    "        \n",
    "    return merge_series(gs_a, gs_b)"
   ]
  },
  {
   "cell_type": "code",
   "execution_count": null,
   "metadata": {
    "pycharm": {
     "name": "#%%\n"
    }
   },
   "outputs": [],
   "source": [
    "# clean data in this and the upcoming cells accordingly\n",
    "gs1 = read_and_clean_fred_data(gs1_path, \"DGS1\")\n",
    "gs1.head()"
   ]
  },
  {
   "cell_type": "markdown",
   "metadata": {
    "pycharm": {
     "name": "#%% md\n"
    }
   },
   "source": [
    "We can now do this for all FRED data."
   ]
  },
  {
   "cell_type": "code",
   "execution_count": null,
   "metadata": {
    "pycharm": {
     "name": "#%%\n"
    }
   },
   "outputs": [],
   "source": [
    "gs3 = read_and_clean_fred_data(gs3_path, 'DGS3')\n",
    "gs3.head()"
   ]
  },
  {
   "cell_type": "code",
   "execution_count": null,
   "metadata": {
    "pycharm": {
     "name": "#%%\n"
    }
   },
   "outputs": [],
   "source": [
    "gs5 = read_and_clean_fred_data(gs5_path, 'DGS5')\n",
    "gs5.head()"
   ]
  },
  {
   "cell_type": "code",
   "execution_count": null,
   "metadata": {
    "pycharm": {
     "name": "#%%\n"
    }
   },
   "outputs": [],
   "source": [
    "gs7 = read_and_clean_fred_data(gs7_path, 'DGS7')\n",
    "gs7.head()"
   ]
  },
  {
   "cell_type": "code",
   "execution_count": null,
   "metadata": {
    "pycharm": {
     "name": "#%%\n"
    }
   },
   "outputs": [],
   "source": [
    "gs10 = read_and_clean_fred_data(gs10_path, 'DGS10')\n",
    "gs10.head()"
   ]
  },
  {
   "cell_type": "code",
   "execution_count": null,
   "metadata": {
    "pycharm": {
     "name": "#%%\n"
    }
   },
   "outputs": [],
   "source": [
    "gs20 = read_and_clean_fred_data(gs20_path, 'DGS20')\n",
    "gs20.head()"
   ]
  },
  {
   "cell_type": "code",
   "execution_count": null,
   "metadata": {
    "pycharm": {
     "name": "#%%\n"
    }
   },
   "outputs": [],
   "source": [
    "gs30 = read_and_clean_fred_data(gs30_path, 'DGS30')\n",
    "gs30.head()"
   ]
  },
  {
   "cell_type": "markdown",
   "metadata": {
    "pycharm": {
     "name": "#%% md\n"
    }
   },
   "source": [
    "Now we have all data as daily data available without any gaps. Thus, we can check if the data aligns within the overlapping regions."
   ]
  },
  {
   "cell_type": "code",
   "execution_count": null,
   "metadata": {
    "pycharm": {
     "name": "#%%\n"
    }
   },
   "outputs": [],
   "source": [
    "# calculate growth for bogleheads data and compare to real FRED data (normalized first datapoint)\n",
    "b = calc_growth(bg_yield_curve['1y']/36500)\n",
    "f = normalize(calc_growth(gs1/36500), b)\n",
    "draw_growth_chart(\n",
    "    {\n",
    "        \"bogleheads 1y\": b,\n",
    "        \"FRED 1y\": f,\n",
    "    },\n",
    "    \"1 year to maturity growth comparison\",\n",
    "    overlapping_only = True,\n",
    ")"
   ]
  },
  {
   "cell_type": "code",
   "execution_count": null,
   "metadata": {
    "pycharm": {
     "name": "#%%\n"
    }
   },
   "outputs": [],
   "source": [
    "# calculate growth for bogleheads data and compare to real FRED data (normalized first datapoint)\n",
    "b = calc_growth(bg_yield_curve['3y']/36500)\n",
    "f = normalize(calc_growth(gs3/36500), b)\n",
    "draw_growth_chart(\n",
    "    {\n",
    "        \"bogleheads 3y\": b,\n",
    "        \"FRED 3y\": f,\n",
    "    },\n",
    "    \"3 years to maturity growth comparison\",\n",
    "    overlapping_only = True,\n",
    ")"
   ]
  },
  {
   "cell_type": "code",
   "execution_count": null,
   "metadata": {
    "pycharm": {
     "name": "#%%\n"
    }
   },
   "outputs": [],
   "source": [
    "# calculate growth for bogleheads data and compare to real FRED data (normalized first datapoint)\n",
    "b = calc_growth(bg_yield_curve['5y']/36500)\n",
    "f = normalize(calc_growth(gs5/36500), b)\n",
    "draw_growth_chart(\n",
    "    {\n",
    "        \"bogleheads 5y\": b,\n",
    "        \"FRED 5y\": f,\n",
    "    },\n",
    "    \"5 years to maturity growth comparison\",\n",
    "    overlapping_only = True,\n",
    ")"
   ]
  },
  {
   "cell_type": "code",
   "execution_count": null,
   "metadata": {
    "pycharm": {
     "name": "#%%\n"
    }
   },
   "outputs": [],
   "source": [
    "# calculate growth for bogleheads data and compare to real FRED data (normalized first datapoint)\n",
    "b = calc_growth(bg_yield_curve['7y']/36500)\n",
    "f = normalize(calc_growth(gs7/36500), b)\n",
    "draw_growth_chart(\n",
    "    {\n",
    "        \"bogleheads 7y\": b,\n",
    "        \"FRED 7y\": f,\n",
    "    },\n",
    "    \"7 years to maturity growth comparison\",\n",
    "    overlapping_only = True,\n",
    ")"
   ]
  },
  {
   "cell_type": "code",
   "execution_count": null,
   "metadata": {
    "pycharm": {
     "name": "#%%\n"
    }
   },
   "outputs": [],
   "source": [
    "# calculate growth for bogleheads data and compare to real FRED data (normalized first datapoint)\n",
    "b = calc_growth(bg_yield_curve['10y']/36500)\n",
    "f = normalize(calc_growth(gs10/36500), b)\n",
    "draw_growth_chart(\n",
    "    {\n",
    "        \"bogleheads 10y\": b,\n",
    "        \"FRED 10y\": f,\n",
    "    },\n",
    "    \"10 years to maturity growth comparison\",\n",
    "    overlapping_only = True,\n",
    ")"
   ]
  },
  {
   "cell_type": "code",
   "execution_count": null,
   "metadata": {
    "pycharm": {
     "name": "#%%\n"
    }
   },
   "outputs": [],
   "source": [
    "# calculate growth for bogleheads data and compare to real FRED data (normalized first datapoint)\n",
    "b = calc_growth(bg_yield_curve['20y']/36500)\n",
    "f = normalize(calc_growth(gs20/36500), b)\n",
    "draw_growth_chart(\n",
    "    {\n",
    "        \"bogleheads 20y\": b,\n",
    "        \"FRED 20y\": f,\n",
    "    },\n",
    "    \"20 years to maturity growth comparison\",\n",
    "    overlapping_only = True,\n",
    ")"
   ]
  },
  {
   "cell_type": "code",
   "execution_count": null,
   "metadata": {
    "pycharm": {
     "name": "#%%\n"
    }
   },
   "outputs": [],
   "source": [
    "# calculate growth for bogleheads data and compare to real FRED data (normalized first datapoint)\n",
    "b = calc_growth(bg_yield_curve['Long']/36500)\n",
    "f = normalize(calc_growth(gs30/36500), b)\n",
    "draw_growth_chart(\n",
    "    {\n",
    "        \"bogleheads 30y\": b,\n",
    "        \"FRED 30y\": f,\n",
    "    },\n",
    "    \"30 years to maturity growth comparison\",\n",
    "    overlapping_only = True,\n",
    ")"
   ]
  },
  {
   "cell_type": "markdown",
   "metadata": {
    "pycharm": {
     "name": "#%% md\n"
    }
   },
   "source": [
    "We can clearly see, that both time-series are mostly aligned, when we accumulate the value growth over all years. Thus, our assumption from the beginning, that the yield values can safely interpolate between the monthly data points seems to hold. The next step is now to merge both time-series for every yield category. Even though, the overlapping between both data-sources is very high, we will do a smooth fading from one data-source to the other in the first 2 month."
   ]
  },
  {
   "cell_type": "code",
   "execution_count": null,
   "metadata": {
    "pycharm": {
     "name": "#%%\n"
    }
   },
   "outputs": [],
   "source": [
    "def calc_data1_weight(date, first_common_date, last_common_date):\n",
    "    if date < first_common_date:\n",
    "        return 1.0\n",
    "\n",
    "    elif date > last_common_date:\n",
    "        return 0.0\n",
    "\n",
    "    else:\n",
    "        delta = relativedelta(first_common_date, last_common_date)\n",
    "        total = delta.years + delta.months/12 + delta.days/365.25\n",
    "        delta = relativedelta(first_common_date, date)\n",
    "        current = delta.years + delta.months/12 + delta.days/365.25\n",
    "        return 1 - current/total\n",
    "\n",
    "\n",
    "def merge_data(data1, data2):\n",
    "    assert min(data1.index) < min(data2.index), \"Data 1 must be the data with the earlier start date!\"\n",
    "    assert max(data1.index) < max(data2.index), \"Data 2 must be the data with the later end date!\"\n",
    "\n",
    "    first_common_date = max(min(data1.index), min(data2.index))\n",
    "    last_merge_date = first_common_date + pd_offsets.MonthEnd(2)\n",
    "    print(f\"First overlapping date: {first_common_date}\")\n",
    "    print(f\"Last merge date: {last_merge_date}\")\n",
    "\n",
    "    combined = pd.Series(\n",
    "        index=pd.date_range(min(data1.index), max(data2.index), freq=\"D\"),\n",
    "        dtype=np.float64\n",
    "    )\n",
    "    for i in combined.index:\n",
    "        data1_weight = calc_data1_weight(i, first_common_date, last_merge_date)\n",
    "\n",
    "        if data1_weight >= 0.999:\n",
    "            combined.loc[i] = data1.loc[i]\n",
    "\n",
    "        elif data1_weight <= 0.001:\n",
    "            combined.loc[i] = data2.loc[i]\n",
    "\n",
    "        else:\n",
    "            combined.loc[i] = data1_weight * data1.loc[i] + (1 - data1_weight) * data2.loc[i]\n",
    "\n",
    "    return combined"
   ]
  },
  {
   "cell_type": "code",
   "execution_count": null,
   "metadata": {
    "pycharm": {
     "name": "#%%\n"
    }
   },
   "outputs": [],
   "source": [
    "# create overall DataFrame with combined yield curves\n",
    "yield_curve = pd.DataFrame()\n",
    "yield_curve['1y'] = merge_data(bg_yield_curve['1y'], gs1)\n",
    "yield_curve['3y'] = merge_data(bg_yield_curve['3y'], gs3)\n",
    "yield_curve['5y'] = merge_data(bg_yield_curve['5y'], gs5)\n",
    "yield_curve['7y'] = merge_data(bg_yield_curve['7y'], gs7)\n",
    "yield_curve['10y'] = merge_data(bg_yield_curve['10y'], gs10)\n",
    "yield_curve['20y'] = merge_data(bg_yield_curve['20y'], gs20)\n",
    "yield_curve['30y'] = merge_data(bg_yield_curve['Long'], gs30)\n",
    "yield_curve.head()"
   ]
  },
  {
   "cell_type": "code",
   "execution_count": null,
   "metadata": {
    "pycharm": {
     "name": "#%%\n"
    }
   },
   "outputs": [],
   "source": [
    "# check that no NaNs are contained in the DataFrames\n",
    "assert not yield_curve.isna().any().any()"
   ]
  },
  {
   "cell_type": "markdown",
   "metadata": {
    "pycharm": {
     "name": "#%% md\n"
    }
   },
   "source": [
    "Finally, we check if our combined curve is aligned with both input curves."
   ]
  },
  {
   "cell_type": "code",
   "execution_count": null,
   "metadata": {
    "pycharm": {
     "name": "#%%\n"
    }
   },
   "outputs": [],
   "source": [
    "# calculate growth for combined data and compare to bogleheads and real FRED data (normalized first datapoint)\n",
    "c = calc_growth(yield_curve['1y']/36500)\n",
    "b = normalize(calc_growth(bg_yield_curve['1y']/36500), c)\n",
    "f = normalize(calc_growth(gs1/36500), c)\n",
    "draw_growth_chart(\n",
    "    {\n",
    "        \"combined 1y\": c,\n",
    "        \"boglehead 1y\": b,\n",
    "    },\n",
    "    \"1 year to maturity growth comparison\",\n",
    "    overlapping_only = True,\n",
    ")\n",
    "draw_growth_chart(\n",
    "    {\n",
    "        \"combined 1y\": c,\n",
    "        \"FRED 1y\": f,\n",
    "    },\n",
    "    \"1 year to maturity growth comparison\",\n",
    "    overlapping_only = True,\n",
    ")"
   ]
  },
  {
   "cell_type": "code",
   "execution_count": null,
   "metadata": {
    "pycharm": {
     "name": "#%%\n"
    }
   },
   "outputs": [],
   "source": [
    "# calculate growth for combined data and compare to bogleheads and real FRED data (normalized first datapoint)\n",
    "c = calc_growth(yield_curve['3y']/36500)\n",
    "b = normalize(calc_growth(bg_yield_curve['3y']/36500), c)\n",
    "f = normalize(calc_growth(gs3/36500), c)\n",
    "draw_growth_chart(\n",
    "    {\n",
    "        \"combined 3y\": c,\n",
    "        \"boglehead 3y\": b,\n",
    "    },\n",
    "    \"3 years to maturity growth comparison\",\n",
    "    overlapping_only = True,\n",
    ")\n",
    "draw_growth_chart(\n",
    "    {\n",
    "        \"combined 3y\": c,\n",
    "        \"FRED 3y\": f,\n",
    "    },\n",
    "    \"3 years to maturity growth comparison\",\n",
    "    overlapping_only = True,\n",
    ")"
   ]
  },
  {
   "cell_type": "code",
   "execution_count": null,
   "metadata": {
    "pycharm": {
     "name": "#%%\n"
    }
   },
   "outputs": [],
   "source": [
    "# calculate growth for combined data and compare to bogleheads and real FRED data (normalized first datapoint)\n",
    "c = calc_growth(yield_curve['5y']/36500)\n",
    "b = normalize(calc_growth(bg_yield_curve['5y']/36500), c)\n",
    "f = normalize(calc_growth(gs5/36500), c)\n",
    "draw_growth_chart(\n",
    "    {\n",
    "        \"combined 5y\": c,\n",
    "        \"boglehead 5y\": b,\n",
    "    },\n",
    "    \"5 years to maturity growth comparison\",\n",
    "    overlapping_only = True,\n",
    ")\n",
    "draw_growth_chart(\n",
    "    {\n",
    "        \"combined 5y\": c,\n",
    "        \"FRED 5y\": f,\n",
    "    },\n",
    "    \"5 years to maturity growth comparison\",\n",
    "    overlapping_only = True,\n",
    ")"
   ]
  },
  {
   "cell_type": "code",
   "execution_count": null,
   "metadata": {
    "pycharm": {
     "name": "#%%\n"
    }
   },
   "outputs": [],
   "source": [
    "# calculate growth for combined data and compare to bogleheads and real FRED data (normalized first datapoint)\n",
    "c = calc_growth(yield_curve['7y']/36500)\n",
    "b = normalize(calc_growth(bg_yield_curve['7y']/36500), c)\n",
    "f = normalize(calc_growth(gs7/36500), c)\n",
    "draw_growth_chart(\n",
    "    {\n",
    "        \"combined 7y\": c,\n",
    "        \"boglehead 7y\": b,\n",
    "    },\n",
    "    \"7 years to maturity growth comparison\",\n",
    "    overlapping_only = True,\n",
    ")\n",
    "draw_growth_chart(\n",
    "    {\n",
    "        \"combined 7y\": c,\n",
    "        \"FRED 7y\": f,\n",
    "    },\n",
    "    \"7 years to maturity growth comparison\",\n",
    "    overlapping_only = True,\n",
    ")"
   ]
  },
  {
   "cell_type": "code",
   "execution_count": null,
   "metadata": {
    "pycharm": {
     "name": "#%%\n"
    }
   },
   "outputs": [],
   "source": [
    "c = calc_growth(yield_curve['10y']/36500)\n",
    "b = normalize(calc_growth(bg_yield_curve['10y']/36500), c)\n",
    "f = normalize(calc_growth(gs10/36500), c)\n",
    "draw_growth_chart(\n",
    "    {\n",
    "        \"combined 10y\": c,\n",
    "        \"boglehead 10y\": b,\n",
    "    },\n",
    "    \"10 years to maturity growth comparison\",\n",
    "    overlapping_only = True,\n",
    ")\n",
    "draw_growth_chart(\n",
    "    {\n",
    "        \"combined 10y\": c,\n",
    "        \"FRED 10y\": f,\n",
    "    },\n",
    "    \"10 years to maturity growth comparison\",\n",
    "    overlapping_only = True,\n",
    ")"
   ]
  },
  {
   "cell_type": "code",
   "execution_count": null,
   "metadata": {
    "pycharm": {
     "name": "#%%\n"
    }
   },
   "outputs": [],
   "source": [
    "# calculate growth for combined data and compare to bogleheads and real FRED data (normalized first datapoint)\n",
    "c = calc_growth(yield_curve['20y']/36500)\n",
    "b = normalize(calc_growth(bg_yield_curve['20y']/36500), c)\n",
    "f = normalize(calc_growth(gs20/36500), c)\n",
    "draw_growth_chart(\n",
    "    {\n",
    "        \"combined 20y\": c,\n",
    "        \"boglehead 20y\": b,\n",
    "    },\n",
    "    \"20 years to maturity growth comparison\",\n",
    "    overlapping_only = True,\n",
    ")\n",
    "draw_growth_chart(\n",
    "    {\n",
    "        \"combined 20y\": c,\n",
    "        \"FRED 20y\": f,\n",
    "    },\n",
    "    \"20 years to maturity growth comparison\",\n",
    "    overlapping_only = True,\n",
    ")"
   ]
  },
  {
   "cell_type": "code",
   "execution_count": null,
   "metadata": {
    "pycharm": {
     "name": "#%%\n"
    }
   },
   "outputs": [],
   "source": [
    "# calculate growth for combined data and compare to bogleheads and real FRED data (normalized first datapoint)\n",
    "c = calc_growth(yield_curve['30y']/36500)\n",
    "b = normalize(calc_growth(bg_yield_curve['Long']/36500), c)\n",
    "f = normalize(calc_growth(gs30/36500), c)\n",
    "draw_growth_chart(\n",
    "    {\n",
    "        \"combined 30y\": c,\n",
    "        \"boglehead 30y\": b,\n",
    "    },\n",
    "    \"30 years to maturity growth comparison\",\n",
    "    overlapping_only = True,\n",
    ")\n",
    "draw_growth_chart(\n",
    "    {\n",
    "        \"combined 30y\": c,\n",
    "        \"FRED 30y\": f,\n",
    "    },\n",
    "    \"30 years to maturity growth comparison\",\n",
    "    overlapping_only = True,\n",
    ")"
   ]
  },
  {
   "cell_type": "markdown",
   "metadata": {
    "pycharm": {
     "name": "#%% md\n"
    }
   },
   "source": [
    "As we can see, all time-series are very well aligned. We now have daily U.S. treasury yields for 1, 3, 5, 7, 10, 20 and 30 years. Especially in the early years, the values are not always 100% correct (just interpolated), but they are at least reasonable. For our goal of backtesting treasury bond fund returns over a long periode of time, this should be good enough. Thus we can store the data as cleaned."
   ]
  },
  {
   "cell_type": "code",
   "execution_count": null,
   "metadata": {},
   "outputs": [],
   "source": [
    "# draw overall results\n",
    "# NOTE: after copying the raw data and executing the 20y yield curve has an awkward/ unexplained behaviour, \n",
    "# not present in the [02_SchatzkistenDaten](https://github.com/Finanzflunder/HFEA-Deutschland/blob/main/text/02_SchatzkistenDaten.md) Post\n",
    "draw_growth_chart(\n",
    "    {\n",
    "        \"combined 1y\": yield_curve['1y'],\n",
    "        \"combined 3y\": yield_curve['3y'],\n",
    "        \"combined 5y\": yield_curve['5y'],\n",
    "        \"combined 7y\": yield_curve['7y'],\n",
    "        \"combined 10y\": yield_curve['10y'],\n",
    "        \"combined 20y\": yield_curve['20y'],\n",
    "        \"combined 30y\": yield_curve['30y'],\n",
    "    },\n",
    "    \"Yields over Time\",\n",
    "    y_log = False,\n",
    "    y_title = \"yields in %\",\n",
    ")"
   ]
  },
  {
   "cell_type": "code",
   "execution_count": null,
   "metadata": {
    "pycharm": {
     "name": "#%%\n"
    }
   },
   "outputs": [],
   "source": [
    "# save combined (clean) data\n",
    "output_file_path = clean_data_path / \"yield_curve.xlsx\"\n",
    "yield_curve.to_excel(output_file_path)"
   ]
  }
 ],
 "metadata": {
  "kernelspec": {
   "display_name": "Python 3",
   "language": "python",
   "name": "python3"
  },
  "language_info": {
   "codemirror_mode": {
    "name": "ipython",
    "version": 3
   },
   "file_extension": ".py",
   "mimetype": "text/x-python",
   "name": "python",
   "nbconvert_exporter": "python",
   "pygments_lexer": "ipython3",
   "version": "3.9.12"
  }
 },
 "nbformat": 4,
 "nbformat_minor": 1
}
