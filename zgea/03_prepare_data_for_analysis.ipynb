{
 "cells": [
  {
   "cell_type": "markdown",
   "id": "operating-denver",
   "metadata": {},
   "source": [
    "# Prepare Data for Anaylsis\n",
    "\n",
    "In the last notebooks, we created simulated U.S. Treausry Bond fund values from beginngin 1943 until today. Now we collect also the data from other data-sources, like S&P500, Nasdaq-100 and Gold."
   ]
  },
  {
   "cell_type": "code",
   "execution_count": null,
   "id": "statistical-advancement",
   "metadata": {},
   "outputs": [],
   "source": [
    "from pathlib import Path\n",
    "import pandas as pd\n",
    "import numpy as np\n",
    "import pandas.tseries.offsets as pd_offsets"
   ]
  },
  {
   "cell_type": "code",
   "execution_count": null,
   "id": "blessed-encyclopedia",
   "metadata": {},
   "outputs": [],
   "source": [
    "from utils.plots import draw_growth_chart, draw_telltale_chart\n",
    "from utils.data import read_csv, download_from_yahoo, download_from_investing, read_excel, download_from_nasdaq\n",
    "from utils.data import download_from_fred\n",
    "from utils.math import reindex_and_fill, normalize, calc_growth, calc_returns, add_dividends, to_float, gmean\n",
    "from utils.math import reindex_and_interpolate"
   ]
  },
  {
   "cell_type": "code",
   "execution_count": null,
   "id": "supported-impossible",
   "metadata": {},
   "outputs": [],
   "source": [
    "data = pd.DataFrame()"
   ]
  },
  {
   "cell_type": "markdown",
   "id": "acquired-header",
   "metadata": {},
   "source": [
    "## Add Treasury Bond Data "
   ]
  },
  {
   "cell_type": "code",
   "execution_count": null,
   "id": "phantom-ethernet",
   "metadata": {},
   "outputs": [],
   "source": [
    "# load raw and clean data\n",
    "clean_data_path = Path(\"clean_data\")\n",
    "raw_data_path = Path(\"raw_data\")"
   ]
  },
  {
   "cell_type": "code",
   "execution_count": null,
   "id": "generous-loading",
   "metadata": {},
   "outputs": [],
   "source": [
    "# define individual path with base paths set and convert to useable pd.DataFrame\n",
    "bonds_path = clean_data_path / \"bond_funds.xlsx\"\n",
    "bonds = pd.read_excel(bonds_path, index_col = 0)\n",
    "bonds.index = pd.to_datetime(bonds.index)\n",
    "bonds.head()"
   ]
  },
  {
   "cell_type": "code",
   "execution_count": null,
   "id": "earlier-tract",
   "metadata": {},
   "outputs": [],
   "source": [
    "# define all duration types of treasuries\n",
    "data['stt_us'] = bonds['stt_us']\n",
    "data['itt_us'] = bonds['itt_us']\n",
    "data['ltt_us'] = bonds['ltt_us']\n",
    "data['stt_eu'] = bonds['stt_eu']\n",
    "data['itt_eu'] = bonds['itt_eu']\n",
    "data['ltt_eu'] = bonds['ltt_eu']\n",
    "data.head()"
   ]
  },
  {
   "cell_type": "code",
   "execution_count": null,
   "id": "heated-accountability",
   "metadata": {},
   "outputs": [],
   "source": [
    "# get datetime overall period\n",
    "first_date = min(data.index)\n",
    "last_date = max(data.index)\n",
    "print(f\"First Date is: {first_date}\")\n",
    "print(f\"Last Date is: {last_date}\")"
   ]
  },
  {
   "cell_type": "code",
   "execution_count": null,
   "id": "virtual-cycle",
   "metadata": {},
   "outputs": [],
   "source": [
    "# show performance\n",
    "draw_growth_chart(\n",
    "    {\n",
    "        'ltt': data['ltt_eu'],\n",
    "        'itt': data['itt_eu'],\n",
    "        'stt': data['stt_eu'],\n",
    "    },\n",
    "    \"Growth of U.S. Treasury Bond Funds\"\n",
    ")"
   ]
  },
  {
   "cell_type": "markdown",
   "id": "departmental-trust",
   "metadata": {},
   "source": [
    "## Add S&P500 Data\n",
    "\n",
    "For the S&P 500 data, we have a CSV file with historical data from 1927 until 2021 without dividends. But we will also load the latest data from yahoo directly and concat this to an S&P 500 series without dividends. \n",
    "\n",
    "Afterwards we create a time-series with the same length, which has dividends included (reinvested), which corresponds to the S&P 500 Total Return index. "
   ]
  },
  {
   "cell_type": "code",
   "execution_count": null,
   "id": "eligible-infrastructure",
   "metadata": {},
   "outputs": [],
   "source": [
    "sp500_1 = read_csv(raw_data_path / \"s&p500_raw.csv\", \"Adj Close**\", sep=\";\")\n",
    "sp500_1.head()"
   ]
  },
  {
   "cell_type": "code",
   "execution_count": null,
   "id": "broke-teach",
   "metadata": {},
   "outputs": [],
   "source": [
    "sp500_2 = download_from_yahoo(\"^GSPC\", name=\"s&p500_raw\")\n",
    "sp500_2.head()"
   ]
  },
  {
   "cell_type": "markdown",
   "id": "incorporate-namibia",
   "metadata": {},
   "source": [
    "All S&P 500 data is given as daily data. However, also here some days have missing values and also days, where the market was closed is missing. Thus we will fill the gaps."
   ]
  },
  {
   "cell_type": "code",
   "execution_count": null,
   "id": "burning-ending",
   "metadata": {},
   "outputs": [],
   "source": [
    "# fill missing and non-trading days\n",
    "sp500_1 = reindex_and_fill(sp500_1, min(sp500_1.index), max(sp500_1.index), freq=\"D\")\n",
    "sp500_1.head()"
   ]
  },
  {
   "cell_type": "code",
   "execution_count": null,
   "id": "animated-adoption",
   "metadata": {},
   "outputs": [],
   "source": [
    "# fill missing and non-trading days\n",
    "sp500_2 = reindex_and_fill(sp500_2, min(sp500_2.index), max(sp500_2.index), freq=\"D\")\n",
    "sp500_2.head()"
   ]
  },
  {
   "cell_type": "markdown",
   "id": "ethical-recorder",
   "metadata": {},
   "source": [
    "Now we check, if both are aligned with eachother."
   ]
  },
  {
   "cell_type": "code",
   "execution_count": null,
   "id": "blond-combine",
   "metadata": {},
   "outputs": [],
   "source": [
    "draw_growth_chart(\n",
    "    {\n",
    "        'sp500_1': sp500_1,\n",
    "        'sp500_2': sp500_2\n",
    "    },\n",
    "    \"Compare S&P 500 from two sources (Growth Chart)\",\n",
    "    overlapping_only = True\n",
    ")\n",
    "draw_telltale_chart(\n",
    "    sp500_1,\n",
    "    {\n",
    "        'sp500_2': sp500_2\n",
    "    },\n",
    "    \"Compare S&P 500 from two sources (Telltale Chart) \",\n",
    "    overlapping_only = True,\n",
    "    y_range = [-1,1],\n",
    "    y_log = False\n",
    ")"
   ]
  },
  {
   "cell_type": "markdown",
   "id": "posted-catering",
   "metadata": {},
   "source": [
    "In the overlapping region this is a perfect fit. But this is clear, since both datasets are coming from yahoo finance. Not we can combine both to get the whole history and also the most recent values. "
   ]
  },
  {
   "cell_type": "code",
   "execution_count": null,
   "id": "aggressive-likelihood",
   "metadata": {},
   "outputs": [],
   "source": [
    "sp500 = pd.Series(\n",
    "    index=pd.date_range(\n",
    "        min(min(sp500_1.index), min(sp500_2.index)),\n",
    "        max(max(sp500_1.index), max(sp500_2.index)),\n",
    "        freq=\"D\",\n",
    "    ),\n",
    "    dtype=np.float64,\n",
    "    name=\"sp500\"\n",
    ")\n",
    "sp500.loc[min(sp500_1.index):max(sp500_1.index)] = sp500_1\n",
    "sp500.loc[min(sp500_2.index):max(sp500_2.index)] = sp500_2\n",
    "sp500.head()"
   ]
  },
  {
   "cell_type": "code",
   "execution_count": null,
   "id": "fresh-promotion",
   "metadata": {},
   "outputs": [],
   "source": [
    "# normalize to percentage scale\n",
    "data['sp500'] = normalize(sp500.loc[first_date:last_date], start_value=100)\n",
    "data.head()"
   ]
  },
  {
   "cell_type": "code",
   "execution_count": null,
   "id": "controlled-output",
   "metadata": {},
   "outputs": [],
   "source": [
    "draw_growth_chart(\n",
    "    {\n",
    "        'ltt': data['ltt_eu'],\n",
    "        's&p500': data['sp500'],\n",
    "    },\n",
    "    \"Growth LTT vs. S&P 500\"\n",
    ")"
   ]
  },
  {
   "cell_type": "markdown",
   "id": "popular-fairy",
   "metadata": {},
   "source": [
    "## Add S&P 500 Total Return\n",
    "\n",
    "Many stocks inside the S&P 500 index are paying dividends along the year. However those dividends are not reinvested inside the S&P 500. If we want to know the total returns of the S&P 500, we have to take those dividends into account and also reinvest them for upcoming days and years. \n",
    "\n",
    "On yahoo finance the S&P 500 Total Return index is available. However the starting time of this time-series is not 1943 but 1988. So, we have to simulate the years before 1988 by adding the payed dividends to the normal S&P 500 returns. Then we can compare our constructed total return index in the overlapping area with the real one and merge them together."
   ]
  },
  {
   "cell_type": "markdown",
   "id": "comic-interview",
   "metadata": {},
   "source": [
    "In the first step, we download the real S&P 500 Total Return index from yahoo."
   ]
  },
  {
   "cell_type": "code",
   "execution_count": null,
   "id": "religious-palestine",
   "metadata": {},
   "outputs": [],
   "source": [
    "sp500_tr_1 = download_from_yahoo(\"^SP500TR\", name=\"s&p500_tr\")\n",
    "sp500_tr_1.head()"
   ]
  },
  {
   "cell_type": "markdown",
   "id": "medical-alfred",
   "metadata": {},
   "source": [
    "Here again, we have to reindex and fill missing values, like weekends or bank holidays."
   ]
  },
  {
   "cell_type": "code",
   "execution_count": null,
   "id": "spare-scene",
   "metadata": {},
   "outputs": [],
   "source": [
    "sp500_tr_1 = reindex_and_fill(sp500_tr_1, min(sp500_tr_1.index), max(sp500_tr_1.index), \"D\")\n",
    "sp500_tr_1.head()"
   ]
  },
  {
   "cell_type": "markdown",
   "id": "pregnant-inflation",
   "metadata": {},
   "source": [
    "Then we load the dividend payments of the S&P 500 from the past. It is stored in a CSV file."
   ]
  },
  {
   "cell_type": "code",
   "execution_count": null,
   "id": "private-behalf",
   "metadata": {},
   "outputs": [],
   "source": [
    "def map_month_names(indices):\n",
    "    month={\n",
    "        'Jan': 1,\n",
    "        'Feb': 2,\n",
    "        'Mar': 3,\n",
    "        'Apr': 4,\n",
    "        'May': 5,\n",
    "        'Jun': 6,\n",
    "        'Jul': 7,\n",
    "        'Aug': 8,\n",
    "        'Sep': 9,\n",
    "        'Oct': 10,\n",
    "        'Nov': 11,\n",
    "        'Dec': 12,\n",
    "    }\n",
    "    def map_single_index(index):\n",
    "        index = str(index)\n",
    "        for month_name, month_number in month.items():\n",
    "            if month_name in index:\n",
    "                return index.replace(month_name, str(month_number)+',').strip()\n",
    "        return index.strip()\n",
    "    return pd.to_datetime([map_single_index(i) for i in indices], format=\"%m, %d, %Y\")\n",
    "    \n",
    "\n",
    "def convert_percent(value):\n",
    "    return float(str(value).replace(\"%\",\"\"))/100\n",
    "    \n",
    "\n",
    "sp500_div = read_csv(\n",
    "    raw_data_path / \"s&p500_dividends.csv\", \n",
    "    column_name = 'percent',\n",
    "    sep = \";\", \n",
    "    index_mapping = map_month_names,\n",
    "    value_mapping = convert_percent,\n",
    ")\n",
    "\n",
    "sp500_div.head()"
   ]
  },
  {
   "cell_type": "markdown",
   "id": "sublime-republic",
   "metadata": {},
   "source": [
    "The dividends are defined monthly as percentage. We will now calculate the daily returns of the S&P 500. Then we can iterate over the dividends and add 1/365 of every the percentage-dividends to the returns of the same month. This logic is done in function, since we might need this logic later also for other assets. "
   ]
  },
  {
   "cell_type": "code",
   "execution_count": null,
   "id": "natural-constitution",
   "metadata": {},
   "outputs": [],
   "source": [
    "sp500_tr_sim = add_dividends(calc_returns(sp500), sp500_div)\n",
    "sp500_tr_sim = calc_growth(sp500_tr_sim, start_value=sp500.iloc[0])\n",
    "sp500_tr_sim.head()"
   ]
  },
  {
   "cell_type": "code",
   "execution_count": null,
   "id": "intended-husband",
   "metadata": {},
   "outputs": [],
   "source": [
    "draw_growth_chart(\n",
    "    {\n",
    "        'S&P 500 Total Return': normalize(sp500_tr_1, sp500_tr_sim),\n",
    "        's&p 500 + Div': sp500_tr_sim,\n",
    "    },\n",
    "    \"Growth Chart S&P 500\",\n",
    "    overlapping_only=True,\n",
    ")\n",
    "draw_telltale_chart(\n",
    "    normalize(sp500_tr_1, sp500_tr_sim),\n",
    "    {        \n",
    "        's&p 500 + Div': sp500_tr_sim,\n",
    "    },\n",
    "    \"Telltale Chart S&P 500 (Reference: Total Return Index)\",\n",
    "    overlapping_only=True,\n",
    "    y_log=False,\n",
    ")"
   ]
  },
  {
   "cell_type": "markdown",
   "id": "perfect-wayne",
   "metadata": {},
   "source": [
    "As we can see, we are now reaching the right magnitude, but our simulated total return index is diverging a little bit.  The reason for that is unclear. Maybe the dividend tracking is slightly wrong, or the day, when the dividends must be added is not 100 percent correct. After trying different possibilities, I decided to just add a very small positive adjustment factor to the dividends. The factor is 0.075% per year. "
   ]
  },
  {
   "cell_type": "code",
   "execution_count": null,
   "id": "applicable-governor",
   "metadata": {},
   "outputs": [],
   "source": [
    "sp500_tr_sim = add_dividends(calc_returns(sp500), sp500_div, adjustment_factor=0.075/100)\n",
    "sp500_tr_sim = calc_growth(sp500_tr_sim, start_value=sp500.iloc[0])\n",
    "sp500_tr_sim.head()"
   ]
  },
  {
   "cell_type": "code",
   "execution_count": null,
   "id": "noble-programming",
   "metadata": {},
   "outputs": [],
   "source": [
    "draw_growth_chart(\n",
    "    {\n",
    "        'S&P 500 Total Return': normalize(sp500_tr_1, sp500_tr_sim),\n",
    "        's&p 500 + Div': sp500_tr_sim,\n",
    "    },\n",
    "    \"Growth Chart S&P 500\",\n",
    "    overlapping_only=True,\n",
    ")\n",
    "draw_telltale_chart(\n",
    "    normalize(sp500_tr_1, sp500_tr_sim),\n",
    "    {        \n",
    "        's&p 500 + Div': sp500_tr_sim,\n",
    "    },\n",
    "    \"Telltale Chart S&P 500 (Reference: Total Return Index)\",\n",
    "    overlapping_only=True,\n",
    "    y_log=False,\n",
    ")"
   ]
  },
  {
   "cell_type": "markdown",
   "id": "valued-spotlight",
   "metadata": {},
   "source": [
    "We have almost a perfect fit. So we can combine the simulated total return index with the real one."
   ]
  },
  {
   "cell_type": "code",
   "execution_count": null,
   "id": "rental-designer",
   "metadata": {},
   "outputs": [],
   "source": [
    "sp500_tr = pd.Series(\n",
    "    index=pd.date_range(\n",
    "        min(min(sp500_tr_1.index), min(sp500_tr_sim.index)),\n",
    "        max(max(sp500_tr_1.index), max(sp500_tr_sim.index)),\n",
    "        freq=\"D\",\n",
    "    ),\n",
    "    dtype=np.float64,\n",
    "    name=\"sp500+div\"\n",
    ")\n",
    "sp500_tr.loc[min(sp500_tr_sim.index):max(sp500_tr_sim.index)] = sp500_tr_sim\n",
    "sp500_tr.loc[min(sp500_tr_1.index):max(sp500_tr_1.index)] = normalize(sp500_tr_1, sp500_tr_sim)\n",
    "sp500_tr"
   ]
  },
  {
   "cell_type": "code",
   "execution_count": null,
   "id": "looking-cuisine",
   "metadata": {},
   "outputs": [],
   "source": [
    "draw_growth_chart(\n",
    "    {\n",
    "        'S&P 500 + Div': sp500_tr,\n",
    "        's&p 500 + Div (sim)': sp500_tr_sim,\n",
    "        's&p 500 + Div (real)': normalize(sp500_tr_1, sp500_tr_sim),\n",
    "    },\n",
    "    \"Growth Chart S&P 500\",\n",
    ")"
   ]
  },
  {
   "cell_type": "markdown",
   "id": "hidden-copyright",
   "metadata": {},
   "source": [
    "We can now normalize the simulated total return index and store it in our data-set."
   ]
  },
  {
   "cell_type": "code",
   "execution_count": null,
   "id": "australian-charles",
   "metadata": {},
   "outputs": [],
   "source": [
    "data['sp500+div'] = normalize(sp500_tr_sim.loc[first_date:last_date], start_value=100)\n",
    "data.head()"
   ]
  },
  {
   "cell_type": "code",
   "execution_count": null,
   "id": "handy-dayton",
   "metadata": {},
   "outputs": [],
   "source": [
    "# compare to data without dividends\n",
    "draw_growth_chart(\n",
    "    {\n",
    "        's&p500': data['sp500'],\n",
    "        's&p500+div': data['sp500+div'],\n",
    "    },\n",
    "    \"Growth S&P 500 with and without dividends\"\n",
    ")"
   ]
  },
  {
   "cell_type": "markdown",
   "id": "shared-monday",
   "metadata": {},
   "source": [
    "## Add Nasdaq-100 Data\n",
    "\n",
    "As next step, we prepare the Nasdaq-100 data. We have file with historical data and we also can reload most recent data from yahoo. Both data-sets can easily combined with eachother. \n",
    "\n",
    "Both data-sets contain daily data, but here again we have several gaps inside. So before combining the data we reindex it to every day data and fill the gaps as we did it with S&P 500."
   ]
  },
  {
   "cell_type": "code",
   "execution_count": null,
   "id": "noble-rental",
   "metadata": {},
   "outputs": [],
   "source": [
    "nd100_1 = read_csv(raw_data_path / \"nasdaq-100.csv\", \"Adj Close\")\n",
    "nd100_1.head()"
   ]
  },
  {
   "cell_type": "code",
   "execution_count": null,
   "id": "wound-retailer",
   "metadata": {},
   "outputs": [],
   "source": [
    "# fill missing and non trading days\n",
    "nd100_1 = reindex_and_fill(nd100_1, min(nd100_1.index), max(nd100_1.index), \"D\")\n",
    "nd100_1.head()"
   ]
  },
  {
   "cell_type": "code",
   "execution_count": null,
   "id": "ceramic-cleveland",
   "metadata": {},
   "outputs": [],
   "source": [
    "nd100_2 = download_from_yahoo(\"NDX\")\n",
    "nd100_2.head()"
   ]
  },
  {
   "cell_type": "code",
   "execution_count": null,
   "id": "backed-laptop",
   "metadata": {},
   "outputs": [],
   "source": [
    "# fill missing and non trading days\n",
    "nd100_2 = reindex_and_fill(nd100_2, min(nd100_2.index), max(nd100_2.index), \"D\")\n",
    "nd100_2.head()"
   ]
  },
  {
   "cell_type": "code",
   "execution_count": null,
   "id": "confirmed-burke",
   "metadata": {},
   "outputs": [],
   "source": [
    "draw_growth_chart(\n",
    "    {\n",
    "        'nasdaq-100 (source 1)': nd100_1,\n",
    "        'nasdaq-100 (source 2)': nd100_2,\n",
    "    },\n",
    "    \"Growth Chart of Nasdaq-100\"\n",
    ")\n",
    "draw_telltale_chart(\n",
    "    nd100_1,\n",
    "    {\n",
    "        'nasdaq-100 (source 2)': nd100_2,\n",
    "    },\n",
    "    \"Telltale Chart Nasdaq-100 (reference: source 1)\",\n",
    "    overlapping_only=True,\n",
    "    y_range=[-2, 2]\n",
    ")"
   ]
  },
  {
   "cell_type": "markdown",
   "id": "moved-blanket",
   "metadata": {},
   "source": [
    "We habe an almost perfect fit. Only on some days in November and December 2021 there is a small difference of 1%. This does not change the overall result. So we can easily fit the data and just overwrite the most recent dates with the most recent data."
   ]
  },
  {
   "cell_type": "code",
   "execution_count": null,
   "id": "digital-bouquet",
   "metadata": {},
   "outputs": [],
   "source": [
    "nd100 = pd.Series(\n",
    "    index=pd.date_range(\n",
    "        min(min(nd100_1.index), min(nd100_2.index)),\n",
    "        max(max(nd100_1.index), max(nd100_2.index)),\n",
    "        freq=\"D\",\n",
    "    ),\n",
    "    dtype=np.float64,\n",
    ")\n",
    "nd100.loc[min(nd100_1.index):max(nd100_1.index)] = nd100_1\n",
    "nd100.loc[min(nd100_2.index):max(nd100_2.index)] = nd100_2\n",
    "nd100.head()"
   ]
  },
  {
   "cell_type": "markdown",
   "id": "temporal-thursday",
   "metadata": {},
   "source": [
    "The next problem is, that the nasdaq-100 is just available from October 1985. Before the index did not exist. So if we want to use this index directly in our data, we would have a huge gap from 1944 to 1985 without data for it. This would make backtesting with the nasdaq-100 quite complicated. Thus we will fill the data just with the data from S&P 500. With this we bring in a huge assumption, we must not forget later, when we interpret our results: The assumption is, that everyone who invested later in the nasdaq-100 would have chosen the s&p 500 as substitute before. "
   ]
  },
  {
   "cell_type": "code",
   "execution_count": null,
   "id": "controversial-number",
   "metadata": {},
   "outputs": [],
   "source": [
    "data['ndx100'] = data['sp500']\n",
    "data.head()"
   ]
  },
  {
   "cell_type": "code",
   "execution_count": null,
   "id": "extra-slide",
   "metadata": {},
   "outputs": [],
   "source": [
    "# add NASDAQ as soon as possible and normalize for smooth continuing\n",
    "first_ndx100_date = min(nd100.index)\n",
    "data.loc[first_ndx100_date:, 'ndx100'] = normalize(nd100, data['sp500'])\n",
    "data.head()"
   ]
  },
  {
   "cell_type": "code",
   "execution_count": null,
   "id": "wrong-struggle",
   "metadata": {},
   "outputs": [],
   "source": [
    "draw_growth_chart(\n",
    "    {\n",
    "        'ltt': data['ltt_eu'],\n",
    "        'nasdaq-100': data['ndx100'],\n",
    "        's&p500': data['sp500'],\n",
    "    },\n",
    "    \"Growth LTT vs. S&P 500 vs. Nasdaq-100\"\n",
    ")"
   ]
  },
  {
   "cell_type": "markdown",
   "id": "lesser-identity",
   "metadata": {},
   "source": [
    "## Nasdaq-100 Total Return Index\n",
    "\n",
    "Also some companies in the Nasdaq-100 are paying dividends. Thus we have to create a total return index for it, which contains those dividends. Unfortunately the history of the Nasdaq-100 Total Return Index is not available on yahoo-finance, but on investing.com. \n",
    "\n",
    "On investing.com, we can download the Nasdaq-100 Total Return index starting from 1999. Unfortunately, the system only divers at maximum 20 years. So I prepared two csv files from investing.com, which contains the years 1999-2019 and 2009 until beginning of 2022. Furthermore we can load the most recent changes of this index, directly from investing.com to update the data. \n",
    "\n",
    "Afterwards we have to reindex, fill and combine the data from all three sources."
   ]
  },
  {
   "cell_type": "code",
   "execution_count": null,
   "id": "diverse-elimination",
   "metadata": {},
   "outputs": [],
   "source": [
    "nd100_tr_1 = read_csv(raw_data_path / \"nasdaq-100-tr_1.csv\", column_name=\"Price\")\n",
    "nd100_tr_1.head()"
   ]
  },
  {
   "cell_type": "code",
   "execution_count": null,
   "id": "numerous-substitute",
   "metadata": {},
   "outputs": [],
   "source": [
    "nd100_tr_2 = read_csv(raw_data_path / \"nasdaq-100-tr_2.csv\", column_name=\"Price\")\n",
    "nd100_tr_2.head()"
   ]
  },
  {
   "cell_type": "code",
   "execution_count": null,
   "id": "variable-board",
   "metadata": {},
   "outputs": [],
   "source": [
    "nd100_tr_3 = download_from_investing('nasdaq-100-tr', start_date=\"01-01-2019\")\n",
    "nd100_tr_3.head()"
   ]
  },
  {
   "cell_type": "code",
   "execution_count": null,
   "id": "similar-messaging",
   "metadata": {},
   "outputs": [],
   "source": [
    "# fill missing and non trading days\n",
    "nd100_tr_1 = reindex_and_fill(nd100_tr_1, min(nd100_tr_1.index), max(nd100_tr_1.index), freq=\"D\")\n",
    "nd100_tr_1.head()"
   ]
  },
  {
   "cell_type": "code",
   "execution_count": null,
   "id": "filled-marble",
   "metadata": {},
   "outputs": [],
   "source": [
    "# fill missing and non trading days\n",
    "nd100_tr_2 = reindex_and_fill(nd100_tr_2, min(nd100_tr_2.index), max(nd100_tr_2.index), freq=\"D\")\n",
    "nd100_tr_2.head()"
   ]
  },
  {
   "cell_type": "code",
   "execution_count": null,
   "id": "oriental-feature",
   "metadata": {},
   "outputs": [],
   "source": [
    "# fill missing and non trading days\n",
    "nd100_tr_3 = reindex_and_fill(nd100_tr_3, min(nd100_tr_3.index), max(nd100_tr_3.index), freq=\"D\")\n",
    "nd100_tr_3.head()"
   ]
  },
  {
   "cell_type": "code",
   "execution_count": null,
   "id": "advisory-diana",
   "metadata": {},
   "outputs": [],
   "source": [
    "nd100_tr_real = pd.Series(\n",
    "    index=pd.date_range(\n",
    "        min(min(nd100_tr_1.index), min(nd100_tr_2.index), min(nd100_tr_3.index)),\n",
    "        max(max(nd100_tr_1.index), max(nd100_tr_2.index), max(nd100_tr_3.index)),\n",
    "    ),\n",
    "    dtype=np.float64,\n",
    "    name = \"nd100_tr\",\n",
    ")\n",
    "nd100_tr_real.loc[min(nd100_tr_1.index):max(nd100_tr_1.index)] = nd100_tr_1\n",
    "nd100_tr_real.loc[min(nd100_tr_2.index):max(nd100_tr_2.index)] = nd100_tr_2\n",
    "nd100_tr_real.loc[min(nd100_tr_3.index):max(nd100_tr_3.index)] = nd100_tr_3\n",
    "nd100_tr_real.head()"
   ]
  },
  {
   "cell_type": "code",
   "execution_count": null,
   "id": "dated-procurement",
   "metadata": {},
   "outputs": [],
   "source": [
    "draw_growth_chart(\n",
    "    {\n",
    "        'nasdaq-100': nd100,\n",
    "        'nasdaq-100 total return (real)': nd100_tr_real,\n",
    "    },\n",
    "    \"Nasdaq-100 (with and without dividends)\"\n",
    ")\n",
    "first_common_date = max(min(nd100.index), min(nd100_tr_real.index))\n",
    "print(f\"Value on first day ({first_common_date}): ${nd100.loc[first_common_date]:.2f} vs. ${nd100.loc[first_common_date]:.2f}\")"
   ]
  },
  {
   "cell_type": "markdown",
   "id": "liable-governor",
   "metadata": {},
   "source": [
    "As we can see the Total Return index of the Nasdaq-100 starts at the same value as the normal Nasdaq-100 index at it first day and is then adding up dividends. To get a realistic total return growth from the beginning of the Nasdaq-100 in 1985, we would at least need the yearly dividends, which have been payed for the Nasdaq-100. However I was not able to find this information anywhere.\n",
    "\n",
    "Thus we have to simulate a realistic dividend time-line for the years from 1985 to 1999. As proxy for the dividends in this year, we could use the S&P 500 dividends. However, we need to scale them that they are fitting to the ranges of the Nasdaq-100. For this we calculate first the dividends payed in Nasdaq-100 as monthly percentage values. Then we can calculate the annual average of the payed dividends. \n",
    "\n",
    "We do the same for the S&P 500 in the same periode and this helps us to calculate a scaling factor out of it. Then we apply the S&P 500 dividends with this scaling factor to the Nasdaq-100 without dividends.\n",
    "\n",
    "Is is absolutly clear, that this will not give us a accurate Total Return index for the Nasdaq-100. However it will give us at least reasonable numbers. The good thing about this is, that exactly when the year 2000 dot-com crisis started, we can switch over to the real Total Return index."
   ]
  },
  {
   "cell_type": "code",
   "execution_count": null,
   "id": "parliamentary-detector",
   "metadata": {},
   "outputs": [],
   "source": [
    "first_common_date = max(min(nd100.index), min(nd100_tr_real.index)) + pd_offsets.MonthEnd(0)\n",
    "nd100_dividends_real = calc_returns(nd100_tr_real.loc[first_common_date:], freq=\"M\") - calc_returns(nd100.loc[first_common_date:], freq=\"M\")\n",
    "nd100_average_dividends = gmean(nd100_dividends_real)\n",
    "nd100_average_dividends"
   ]
  },
  {
   "cell_type": "code",
   "execution_count": null,
   "id": "defensive-cache",
   "metadata": {},
   "outputs": [],
   "source": [
    "sp500_dividends = calc_returns(sp500_tr_sim, freq=\"M\") - calc_returns(sp500, freq=\"M\")\n",
    "sp500_dividends.head()"
   ]
  },
  {
   "cell_type": "code",
   "execution_count": null,
   "id": "intense-ukraine",
   "metadata": {},
   "outputs": [],
   "source": [
    "sp500_average_dividends = gmean(sp500_dividends.loc[first_common_date:])\n",
    "sp500_average_dividends"
   ]
  },
  {
   "cell_type": "code",
   "execution_count": null,
   "id": "derived-strand",
   "metadata": {},
   "outputs": [],
   "source": [
    "nd100_dividends = sp500_dividends.loc[min(nd100.index):]\n",
    "nd100_dividends = (nd100_dividends * nd100_average_dividends)/sp500_average_dividends\n",
    "nd100_dividends"
   ]
  },
  {
   "cell_type": "code",
   "execution_count": null,
   "id": "growing-voltage",
   "metadata": {},
   "outputs": [],
   "source": [
    "nd100_dividends.loc[first_common_date:] = nd100_dividends_real\n",
    "nd100_dividends"
   ]
  },
  {
   "cell_type": "code",
   "execution_count": null,
   "id": "homeless-bridges",
   "metadata": {},
   "outputs": [],
   "source": [
    "# calculate total return with both S&P500 and NASDAQrespective dividends\n",
    "nd100_tr_sim = add_dividends(calc_returns(nd100, freq=\"D\"), nd100_dividends, monthly=True)\n",
    "nd100_tr_sim = calc_growth(nd100_tr_sim, start_value=nd100.iloc[0])\n",
    "nd100_tr_sim.head()"
   ]
  },
  {
   "cell_type": "code",
   "execution_count": null,
   "id": "dated-juvenile",
   "metadata": {},
   "outputs": [],
   "source": [
    "draw_growth_chart(\n",
    "    {\n",
    "        'nasdaq-100': nd100,\n",
    "        'nasdaq-100 total return (sim)': nd100_tr_sim,\n",
    "        'nasdaq-100 total return (real)': normalize(nd100_tr_real, nd100_tr_sim),\n",
    "    },\n",
    "    \"Nasdaq-100 (with and without dividends)\"\n",
    ")\n",
    "draw_telltale_chart(\n",
    "    normalize(nd100_tr_real, nd100_tr_sim),\n",
    "    {\n",
    "        'nasdaq-100 total return (sim)': nd100_tr_sim,\n",
    "    },\n",
    "    \"Nasdaq-100 Telltale Chart (Reference: real total return index)\",\n",
    "    overlapping_only=True,\n",
    ")"
   ]
  },
  {
   "cell_type": "markdown",
   "id": "smaller-error",
   "metadata": {},
   "source": [
    "The overlapping region between the simulated and real Total Return index looks very good. From 2012 on it diverges a little bit, but the error is very small at max. 0.2% after more then 30 years. Also the simulated timeline before 1999 looks reasonable. Eventhough we know, that we cannot get accurate numbers with it, it will give us a good feeling about the theoretical performance the Nasdaq-100 Total Return index could have at that time. \n",
    "\n",
    "Now we can concat the simulated and real Total Return index."
   ]
  },
  {
   "cell_type": "code",
   "execution_count": null,
   "id": "turkish-brunswick",
   "metadata": {},
   "outputs": [],
   "source": [
    "nd100_tr = pd.Series(\n",
    "    index=pd.date_range(\n",
    "        min(min(nd100_tr_real.index), min(nd100_tr_sim.index)),\n",
    "        max(max(nd100_tr_real.index), max(nd100_tr_sim.index)),\n",
    "        freq=\"D\",\n",
    "    ),\n",
    "    dtype=np.float64,\n",
    "    name=\"nd100+div\"\n",
    ")\n",
    "nd100_tr.loc[min(nd100_tr_sim.index):max(nd100_tr_sim.index)] = nd100_tr_sim\n",
    "nd100_tr.loc[min(nd100_tr_real.index):max(nd100_tr_real.index)] = normalize(nd100_tr_real, nd100_tr_sim)\n",
    "nd100_tr"
   ]
  },
  {
   "cell_type": "markdown",
   "id": "limiting-cologne",
   "metadata": {},
   "source": [
    "The last step is to concat the time before 1985 with the S&P 500 Total Return index, as we did this already with the pure Nasdaq-100 and then we can store the time-series inside our data-frame. "
   ]
  },
  {
   "cell_type": "code",
   "execution_count": null,
   "id": "roman-rwanda",
   "metadata": {},
   "outputs": [],
   "source": [
    "data['ndx100+div'] = data['sp500+div']\n",
    "first_ndx100_tr_date = min(nd100_tr.index)\n",
    "data.loc[first_ndx100_tr_date:, 'ndx100+div'] = normalize(nd100_tr, data['sp500+div'])\n",
    "data.head()"
   ]
  },
  {
   "cell_type": "code",
   "execution_count": null,
   "id": "religious-honor",
   "metadata": {},
   "outputs": [],
   "source": [
    "draw_growth_chart(\n",
    "    {\n",
    "        'ltt': data['ltt_eu'],\n",
    "        'nasdaq-100 total return': data['ndx100+div'],\n",
    "        's&p500 total return': data['sp500+div'],\n",
    "    },\n",
    "    \"Growth LTT vs. S&P 500 vs. Nasdaq-100\"\n",
    ")"
   ]
  },
  {
   "cell_type": "markdown",
   "id": "illegal-declaration",
   "metadata": {},
   "source": [
    "## Add Gold Data\n",
    "\n",
    "For the Gold data, we have 4 different sources:\n",
    "* annual data from http://www.nma.org/pdf/gold/his_gold_prices.pdf, which contains the gold price starting from 1833 to 2011\n",
    "* daily data from an unknown web source starting from 1970 to Nov. 2021\n",
    "* daily data from the nasdaq api starting from 2012 until today\n",
    "\n",
    "We have to combine all those sources to a single source. First we load the annual data and interpolate it to daily data. Especially in the early years the gold price was anyway very stable, so interpolating it to daily data, should not harm our later analysis."
   ]
  },
  {
   "cell_type": "code",
   "execution_count": null,
   "id": "weekly-bacteria",
   "metadata": {},
   "outputs": [],
   "source": [
    "gold = pd.DataFrame()"
   ]
  },
  {
   "cell_type": "code",
   "execution_count": null,
   "id": "irish-strand",
   "metadata": {},
   "outputs": [],
   "source": [
    "gold1 = read_excel(\n",
    "    raw_data_path / \"gold_yearly.xlsx\", \n",
    "    column_name=\"gold\",\n",
    "    index_mapping= lambda v: pd.to_datetime(v, format=\"%Y\"),\n",
    "    skiprows=1,\n",
    ")\n",
    "gold1.head()"
   ]
  },
  {
   "cell_type": "code",
   "execution_count": null,
   "id": "elder-session",
   "metadata": {},
   "outputs": [],
   "source": [
    "# fill missing and non trading days\n",
    "gold1 = reindex_and_interpolate(gold1, min(gold1.index), max(gold1.index), \"D\")\n",
    "gold1.head()"
   ]
  },
  {
   "cell_type": "code",
   "execution_count": null,
   "id": "found-protection",
   "metadata": {},
   "outputs": [],
   "source": [
    "draw_growth_chart(\n",
    "    {\n",
    "        'gold1': gold1,\n",
    "    },\n",
    "    \"Growth of Gold depending on Source\"\n",
    ")"
   ]
  },
  {
   "cell_type": "code",
   "execution_count": null,
   "id": "juvenile-indication",
   "metadata": {},
   "outputs": [],
   "source": [
    "gold = gold1.copy()\n",
    "gold.head()"
   ]
  },
  {
   "cell_type": "markdown",
   "id": "unavailable-habitat",
   "metadata": {},
   "source": [
    "Now we load the data from the unknown web source. This data is already daily, thus we just need to fill the gaps. Then we bring the data to the same scale as the current data and compare it in a growth chart with our current curve. If it fits the current curve, we substitute the data inside our target dataframe by the new data, starting from the first date of the new data."
   ]
  },
  {
   "cell_type": "code",
   "execution_count": null,
   "id": "protecting-madison",
   "metadata": {},
   "outputs": [],
   "source": [
    "gold2 = read_excel(\n",
    "    raw_data_path / \"gold_web.xlsx\", \n",
    "    column_name=\"value\",\n",
    "    index_mapping=lambda v: pd.to_datetime(pd.to_datetime(v).date)\n",
    ")\n",
    "\n",
    "# fill missing and non trading days\n",
    "gold2 = reindex_and_fill(gold2, min(gold2.index), max(gold2.index), \"D\")\n",
    "gold2.head()"
   ]
  },
  {
   "cell_type": "code",
   "execution_count": null,
   "id": "suspended-imagination",
   "metadata": {},
   "outputs": [],
   "source": [
    "assert not gold2.isna().any().any()"
   ]
  },
  {
   "cell_type": "code",
   "execution_count": null,
   "id": "infrared-remainder",
   "metadata": {},
   "outputs": [],
   "source": [
    "# correct starting value to be able to compare\n",
    "gold2 = normalize(gold2, gold)\n",
    "gold2.head()"
   ]
  },
  {
   "cell_type": "code",
   "execution_count": null,
   "id": "suited-affairs",
   "metadata": {},
   "outputs": [],
   "source": [
    "draw_growth_chart(\n",
    "    {\n",
    "        'gold1': gold1,\n",
    "        'gold2': gold2,\n",
    "    },\n",
    "    \"Growth of Gold depending on Source\"\n",
    ")"
   ]
  },
  {
   "cell_type": "code",
   "execution_count": null,
   "id": "sunset-leave",
   "metadata": {},
   "outputs": [],
   "source": [
    "gold = gold.reindex(pd.date_range(min(gold.index), max(gold2.index), freq=\"D\"))\n",
    "gold.loc[min(gold2.index):] = gold2\n",
    "gold.head()"
   ]
  },
  {
   "cell_type": "markdown",
   "id": "protective-filename",
   "metadata": {},
   "source": [
    "As a last step we load the data from the nasdaq. Also here we fill the gaps and scale it to the same values as our current data. Then we compare it in a growth graph with the other sources and add it to the target dataframe."
   ]
  },
  {
   "cell_type": "code",
   "execution_count": null,
   "id": "legendary-mason",
   "metadata": {},
   "outputs": [],
   "source": [
    "try:\n",
    "    gold3 = download_from_nasdaq(\"LBMA/GOLD\", column_name=\"USD (PM)\")\n",
    "except Exception as e:\n",
    "    print(e)\n",
    "    # if source is not available (most likely due to missing API key), copy previous source\n",
    "    gold3 = gold2.copy()\n",
    "\n",
    "gold3 = reindex_and_fill(gold3, min(gold3.index), max(gold3.index), \"D\")\n",
    "gold3.head()"
   ]
  },
  {
   "cell_type": "code",
   "execution_count": null,
   "id": "athletic-universal",
   "metadata": {},
   "outputs": [],
   "source": [
    "assert not gold3.isna().any().any()"
   ]
  },
  {
   "cell_type": "code",
   "execution_count": null,
   "id": "martial-netherlands",
   "metadata": {},
   "outputs": [],
   "source": [
    "# correct starting value to be able to compare\n",
    "gold3 = normalize(gold3, gold)"
   ]
  },
  {
   "cell_type": "code",
   "execution_count": null,
   "id": "tribal-tsunami",
   "metadata": {},
   "outputs": [],
   "source": [
    "draw_growth_chart(\n",
    "    {\n",
    "        'gold1': gold1,\n",
    "        'gold2': gold2,\n",
    "        'gold3': gold3,\n",
    "    },\n",
    "    \"Growth of Gold depending on Source\"\n",
    ")"
   ]
  },
  {
   "cell_type": "code",
   "execution_count": null,
   "id": "offshore-relation",
   "metadata": {},
   "outputs": [],
   "source": [
    "gold = gold.reindex(pd.date_range(min(gold.index), max(gold3.index), freq=\"D\"))\n",
    "gold.loc[min(gold3.index):] = gold3\n",
    "gold.head()"
   ]
  },
  {
   "cell_type": "markdown",
   "id": "accepted-hormone",
   "metadata": {},
   "source": [
    "Now we can scale add it to the existing data."
   ]
  },
  {
   "cell_type": "code",
   "execution_count": null,
   "id": "canadian-course",
   "metadata": {},
   "outputs": [],
   "source": [
    "data['gold'] = normalize(gold.loc[min(data.index):max(data.index)], start_value=100)\n",
    "data.head()"
   ]
  },
  {
   "cell_type": "code",
   "execution_count": null,
   "id": "flying-coffee",
   "metadata": {},
   "outputs": [],
   "source": [
    "draw_growth_chart(\n",
    "    {\n",
    "        'ltt': data['ltt_eu'],\n",
    "        's&p500': data['sp500'],\n",
    "        'nasdaq-100': data['ndx100'],\n",
    "        's&p500 (incl. dividends)': data['sp500+div'],\n",
    "        'nasdaq-100 (incl. dividends)': data['ndx100+div'],\n",
    "        'gold': data['gold'],\n",
    "    },\n",
    "    \"Growth LTT vs. S&P 500 vs. Nasdaq-100 vs. Gold\"\n",
    ")"
   ]
  },
  {
   "cell_type": "markdown",
   "id": "brief-juice",
   "metadata": {},
   "source": [
    "We have collected all data we need for our analysis and can now store the data."
   ]
  },
  {
   "cell_type": "code",
   "execution_count": null,
   "id": "juvenile-proposal",
   "metadata": {},
   "outputs": [],
   "source": [
    "assets_output_path = clean_data_path / \"assets.xlsx\"\n",
    "data.to_excel(assets_output_path)"
   ]
  },
  {
   "cell_type": "markdown",
   "id": "juvenile-warehouse",
   "metadata": {},
   "source": [
    "## Inflation Rate\n",
    "\n",
    "Beside of the assets data, we might also need some other data for our analysis, like the inflation rate. \n",
    "\n",
    "The U.S. inflation rate is also given from two sources: \n",
    " * A table with monthly year-over-year values, where the years are the rows and the month are columns. \n",
    " * From the Nasdaq, we can query the most recent data directly as dataframe.\n",
    "\n",
    "We start with the first souce, the table. Here we will transform it from a wide table to a long table, where we have a value for every month. Furthermore we interpolate it for daily data."
   ]
  },
  {
   "cell_type": "code",
   "execution_count": null,
   "id": "powerful-prize",
   "metadata": {},
   "outputs": [],
   "source": [
    "inflation_path = raw_data_path / \"us_inflation.csv\"\n",
    "inflation1 = pd.read_csv(inflation_path, sep=';', index_col=0)\n",
    "inflation1.head()"
   ]
  },
  {
   "cell_type": "code",
   "execution_count": null,
   "id": "large-latter",
   "metadata": {},
   "outputs": [],
   "source": [
    "# rename months\n",
    "inflation1 = inflation1.rename(columns=lambda c: c.strip())\n",
    "month_mapping = {\n",
    "    'Jan': 1,\n",
    "    'Feb': 2,\n",
    "    'Mar': 3,\n",
    "    'Apr': 4,\n",
    "    'May': 5,\n",
    "    'Jun': 6,\n",
    "    'Jul': 7,\n",
    "    'Aug': 8,\n",
    "    'Sep': 9,\n",
    "    'Oct': 10,\n",
    "    'Nov': 11,\n",
    "    'Dec': 12,\n",
    "}\n",
    "inflation1 = inflation1.rename(columns=month_mapping)\n",
    "inflation1.head()"
   ]
  },
  {
   "cell_type": "code",
   "execution_count": null,
   "id": "polish-father",
   "metadata": {},
   "outputs": [],
   "source": [
    "# remove average and stack table into series\n",
    "inflation1 = inflation1.drop(columns=[\"Ave\"])\n",
    "inflation1 = inflation1.stack()\n",
    "inflation1.index = [f'{y}-{m}' for y, m in inflation1.index]\n",
    "inflation1.head()"
   ]
  },
  {
   "cell_type": "code",
   "execution_count": null,
   "id": "amateur-scale",
   "metadata": {},
   "outputs": [],
   "source": [
    "inflation1.index = pd.to_datetime(inflation1.index, format=\"%Y-%m\")\n",
    "inflation1.head()"
   ]
  },
  {
   "cell_type": "code",
   "execution_count": null,
   "id": "plain-cleanup",
   "metadata": {},
   "outputs": [],
   "source": [
    "# interpolate linearly for daily inflation\n",
    "inflation1.name = \"yoy\"\n",
    "inflation1 = inflation1.apply(to_float)\n",
    "inflation1 = reindex_and_interpolate(inflation1, min(inflation1.index), max(inflation1.index), freq=\"D\")\n",
    "inflation1.head()"
   ]
  },
  {
   "cell_type": "markdown",
   "id": "wound-chapel",
   "metadata": {},
   "source": [
    "Now we load the most recent data from Nasdaq and combine it with this inflation data."
   ]
  },
  {
   "cell_type": "code",
   "execution_count": null,
   "id": "incoming-treasure",
   "metadata": {},
   "outputs": [],
   "source": [
    "try:\n",
    "    inflation2 = download_from_nasdaq(\"RATEINF/INFLATION_USA\", column_name=\"Value\")\n",
    "except Exception as e:\n",
    "    print(e)\n",
    "    # if source is not available (most likely due to missing API key), copy previous source\n",
    "    inflation2 = inflation1.copy()\n",
    "\n",
    "inflation2 = reindex_and_interpolate(inflation2, min(inflation2.index), max(inflation2.index), freq=\"D\")\n",
    "inflation2.head()"
   ]
  },
  {
   "cell_type": "code",
   "execution_count": null,
   "id": "bronze-setup",
   "metadata": {},
   "outputs": [],
   "source": [
    "inflation_yoy = pd.Series(\n",
    "    index = pd.date_range(\n",
    "        min(min(inflation1.index), min(inflation2.index)),\n",
    "        max(max(inflation2.index), max(inflation2.index)),\n",
    "        freq=\"D\",\n",
    "    ),\n",
    "    name = \"yoy\",\n",
    "    dtype = np.float64,\n",
    ")\n",
    "inflation_yoy.loc[min(inflation1.index):max(inflation1.index)] = inflation1\n",
    "inflation_yoy.loc[min(inflation2.index):max(inflation2.index)] = inflation2\n",
    "inflation_yoy.head()"
   ]
  },
  {
   "cell_type": "code",
   "execution_count": null,
   "id": "greenhouse-mirror",
   "metadata": {},
   "outputs": [],
   "source": [
    "draw_growth_chart(\n",
    "    {\n",
    "        'inflation (yoy)': inflation_yoy\n",
    "    },\n",
    "    \"Inflation Rate (YoY)\",\n",
    "    y_log=False,\n",
    ")"
   ]
  },
  {
   "cell_type": "markdown",
   "id": "fatty-proposal",
   "metadata": {},
   "source": [
    "Now, we load and add the CPI (customer price index). Also here we have two sources: \n",
    " * A file from FRED with historical data.\n",
    " * The current data, directly downloaded from FRED.\n",
    " \n",
    "We start by reading the stroed hinstorical data."
   ]
  },
  {
   "cell_type": "code",
   "execution_count": null,
   "id": "clinical-optics",
   "metadata": {},
   "outputs": [],
   "source": [
    "cpi1 = read_csv(raw_data_path / \"CPIAUCNS.csv\", column_name=\"CPIAUCNS\")\n",
    "# interpolate linearly for daily CPI\n",
    "cpi1 = reindex_and_interpolate(cpi1, min(cpi1.index), max(cpi1.index), freq=\"D\")\n",
    "cpi1.head()"
   ]
  },
  {
   "cell_type": "markdown",
   "id": "eastern-influence",
   "metadata": {},
   "source": [
    "Now we load the most recent data directly from FRED."
   ]
  },
  {
   "cell_type": "code",
   "execution_count": null,
   "id": "colonial-battlefield",
   "metadata": {},
   "outputs": [],
   "source": [
    "cpi2 = download_from_fred(\"CPIAUCNS\")\n",
    "# interpolate linearly for daily CPI\n",
    "cpi2 = reindex_and_interpolate(cpi2, min(cpi2.index), max(cpi2.index), freq=\"D\")\n",
    "cpi2.head()"
   ]
  },
  {
   "cell_type": "code",
   "execution_count": null,
   "id": "irish-settlement",
   "metadata": {},
   "outputs": [],
   "source": [
    "cpi = pd.Series(\n",
    "    index=pd.date_range(\n",
    "        min(min(cpi1.index), min(cpi2.index)),\n",
    "        max(max(cpi1.index), max(cpi2.index)),\n",
    "        freq=\"D\",\n",
    "    ),\n",
    "    name=\"cpi\",\n",
    "    dtype=np.float64,\n",
    ")\n",
    "cpi.loc[min(cpi1.index):max(cpi1.index)] = cpi1\n",
    "cpi.loc[min(cpi2.index):max(cpi2.index)] = cpi2\n",
    "cpi.head()"
   ]
  },
  {
   "cell_type": "code",
   "execution_count": null,
   "id": "absent-drill",
   "metadata": {},
   "outputs": [],
   "source": [
    "inflation = pd.DataFrame(\n",
    "    index=pd.date_range(\n",
    "        min(data.index),\n",
    "        max(data.index),\n",
    "        freq=\"D\",\n",
    "    ),\n",
    "    columns=['yoy', 'cpi']\n",
    ")\n",
    "inflation['yoy'] = inflation_yoy.loc[min(data.index):max(data.index)]\n",
    "inflation['cpi'] = normalize(cpi.loc[min(data.index):max(data.index)], start_value=100)\n",
    "inflation = reindex_and_fill(inflation, min(inflation.index), max(inflation.index), freq=\"D\")\n",
    "inflation.head()"
   ]
  },
  {
   "cell_type": "code",
   "execution_count": null,
   "id": "vanilla-curtis",
   "metadata": {},
   "outputs": [],
   "source": [
    "draw_growth_chart(\n",
    "    {\n",
    "        'inflation in % (yoy)': inflation['yoy'],\n",
    "    },\n",
    "    \"Inflation in % (YoY)\",\n",
    "    y_log = False,\n",
    "    y_title = \"percent\",\n",
    ")\n",
    "draw_growth_chart(\n",
    "    {\n",
    "        'cpi': inflation['cpi'],\n",
    "    },\n",
    "    \"Inflation (CPI)\",\n",
    ")"
   ]
  },
  {
   "cell_type": "code",
   "execution_count": null,
   "id": "loose-glossary",
   "metadata": {},
   "outputs": [],
   "source": [
    "inflation_output_path = clean_data_path / \"inflation.xlsx\"\n",
    "inflation.to_excel(inflation_output_path)"
   ]
  },
  {
   "cell_type": "markdown",
   "id": "bearing-window",
   "metadata": {},
   "source": [
    "## Federal Funds Rate (U.S. base interest rate)\n",
    "\n",
    "We also could need the federal funds rate (ffr) for our analysis. The effective federal funds rate from 1954 until today is given as monthly data. For the years before, there is only the low and high federaul funds rate as monthly data. Due to a lack of knowledge about the system behind, it is hard to understand the differences between both.\n",
    "However, for the sake of simplicity, we will just assume the low federal funds rate is the same as the effective federal funds rate, thus we can combine both data. Eventually the low federal funds rate, just needs to be scaled to the same value region as the effective one.\n",
    "\n",
    "We start to load the effective federal funds rate. As usual, we are using two sources. First a file and then we query the latest data from FRED directly and combine both."
   ]
  },
  {
   "cell_type": "code",
   "execution_count": null,
   "id": "severe-wildlife",
   "metadata": {},
   "outputs": [],
   "source": [
    "effr1 = read_csv(raw_data_path / \"FEDFUNDS.csv\", column_name=\"FEDFUNDS\")\n",
    "# interpolate linearly for daily FFR\n",
    "effr1 = reindex_and_interpolate(effr1, min(effr1.index), max(effr1.index), freq=\"D\")\n",
    "effr1.head()"
   ]
  },
  {
   "cell_type": "code",
   "execution_count": null,
   "id": "seeing-charleston",
   "metadata": {},
   "outputs": [],
   "source": [
    "effr2 = download_from_fred(\"FEDFUNDS\")\n",
    "# interpolate linearly for daily FFR\n",
    "effr2 = reindex_and_interpolate(effr2, min(effr2.index), max(effr2.index), freq=\"D\")\n",
    "effr2.head()"
   ]
  },
  {
   "cell_type": "code",
   "execution_count": null,
   "id": "comic-syracuse",
   "metadata": {},
   "outputs": [],
   "source": [
    "draw_growth_chart(\n",
    "    {\n",
    "        'effr1': effr1,\n",
    "        'effr2': effr2,\n",
    "    },\n",
    "    \"The effective federal funds rate (comparison of sources)\"\n",
    ")"
   ]
  },
  {
   "cell_type": "code",
   "execution_count": null,
   "id": "periodic-maldives",
   "metadata": {},
   "outputs": [],
   "source": [
    "effr = pd.Series(\n",
    "    index=pd.date_range(\n",
    "        min(min(effr1.index), min(effr2.index)),\n",
    "        max(max(effr1.index), max(effr2.index)),\n",
    "        freq=\"D\",\n",
    "    ),\n",
    "    dtype=np.float64,\n",
    "    name=\"effr\"\n",
    ")\n",
    "effr.loc[min(effr1.index):max(effr1.index)] = effr1\n",
    "effr.loc[min(effr2.index):max(effr2.index)] = effr2\n",
    "effr.head()"
   ]
  },
  {
   "cell_type": "markdown",
   "id": "mounted-period",
   "metadata": {},
   "source": [
    "Now we load the low federal funds rate in the same way."
   ]
  },
  {
   "cell_type": "code",
   "execution_count": null,
   "id": "drawn-extreme",
   "metadata": {},
   "outputs": [],
   "source": [
    "lffr = read_csv(raw_data_path / \"FFWSJLOW.csv\", column_name=\"FFWSJLOW\")\n",
    "# effectively do fill part of reindex_and_fill\n",
    "lffr = lffr.ffill().bfill()\n",
    "lffr.head()"
   ]
  },
  {
   "cell_type": "markdown",
   "id": "personal-smith",
   "metadata": {},
   "source": [
    "As we can see, the low federal funds rate is sometimes given daily with quite different values. We will smooth this, by calculating the monthly average value."
   ]
  },
  {
   "cell_type": "code",
   "execution_count": null,
   "id": "international-possibility",
   "metadata": {},
   "outputs": [],
   "source": [
    "lffr = lffr.groupby([lffr.index.year, lffr.index.month]).mean()\n",
    "lffr.index = lffr.index = [f'{y}-{m}' for y, m in lffr.index]\n",
    "lffr.head()"
   ]
  },
  {
   "cell_type": "code",
   "execution_count": null,
   "id": "empirical-tract",
   "metadata": {},
   "outputs": [],
   "source": [
    "lffr.index = pd.to_datetime(lffr.index, format=\"%Y-%m\")\n",
    "lffr.head()"
   ]
  },
  {
   "cell_type": "code",
   "execution_count": null,
   "id": "alike-brother",
   "metadata": {},
   "outputs": [],
   "source": [
    "# interpolate linearly for daily FFR\n",
    "lffr = reindex_and_interpolate(lffr, min(lffr.index), max(lffr.index), freq=\"D\")\n",
    "lffr.head()"
   ]
  },
  {
   "cell_type": "code",
   "execution_count": null,
   "id": "wicked-tackle",
   "metadata": {},
   "outputs": [],
   "source": [
    "draw_growth_chart(\n",
    "    {\n",
    "        'lffr': lffr,\n",
    "        'effr': effr,\n",
    "    },\n",
    "    \"Federal Funds Rate (in %)\",\n",
    "    y_log = False,\n",
    "    y_title = \"percent\",\n",
    ")"
   ]
  },
  {
   "cell_type": "markdown",
   "id": "intellectual-livestock",
   "metadata": {},
   "source": [
    "The transition between both rates in 1954 does not look very nice, but at least reasonable. Maybe the concept behind the low ferderal funds rate is a little bit different than the effective one, but at least it is in the same value range and thus gives an qualitative understanding how the effective federal funds rate was at that time. We now can merge both series, forward fill it to daily data and restrict the range to the same range we use for the assets data."
   ]
  },
  {
   "cell_type": "code",
   "execution_count": null,
   "id": "surface-neighbor",
   "metadata": {},
   "outputs": [],
   "source": [
    "ffr = pd.DataFrame(\n",
    "    index = pd.date_range(\n",
    "        min(lffr.index), \n",
    "        max(effr.index), \n",
    "        freq=\"D\"\n",
    "    )\n",
    ")\n",
    "ffr.loc[min(lffr.index):max(lffr.index),'ffr'] = lffr\n",
    "ffr.loc[min(effr.index):max(effr.index),'ffr'] = effr\n",
    "ffr.head()"
   ]
  },
  {
   "cell_type": "code",
   "execution_count": null,
   "id": "welcome-amendment",
   "metadata": {},
   "outputs": [],
   "source": [
    "ffr = reindex_and_fill(ffr, min(data.index), max(data.index), \"D\")\n",
    "ffr.head()"
   ]
  },
  {
   "cell_type": "code",
   "execution_count": null,
   "id": "chubby-overview",
   "metadata": {},
   "outputs": [],
   "source": [
    "draw_growth_chart(\n",
    "    {\n",
    "        'ffr': ffr['ffr'],\n",
    "    },\n",
    "    \"Federal Funds Rate (in %)\",\n",
    "    y_log = False,\n",
    "    y_title = \"percent\",\n",
    ")"
   ]
  },
  {
   "cell_type": "code",
   "execution_count": null,
   "id": "skilled-skating",
   "metadata": {},
   "outputs": [],
   "source": [
    "ffr_output_path = clean_data_path / \"ffr.xlsx\"\n",
    "ffr.to_excel(ffr_output_path)"
   ]
  },
  {
   "cell_type": "markdown",
   "id": "every-ethics",
   "metadata": {},
   "source": [
    "## The Overnight Borrowing Rate\n",
    "\n",
    "Since we want to model leveraged ETFs later, we need the overnight borrowing rate to estimate the borrowing costs of a leveraged ETF. This data is given by the LIBOR overnight values from FRED. However the history is quite short. But since the values are more or less in the same region like the effective federal funds rate, we can use the EFFR as proxy for the years before. \n",
    "\n",
    "Here again, we read the LIBOR data from a csv file and load the most recent data from FRED directly. "
   ]
  },
  {
   "cell_type": "code",
   "execution_count": null,
   "id": "fitted-copper",
   "metadata": {},
   "outputs": [],
   "source": [
    "libor1 = read_csv(raw_data_path / \"USDONTD156N.csv\", column_name=\"USDONTD156N\")\n",
    "libor1 = reindex_and_fill(libor1, min(libor1.index), max(libor1.index), freq=\"D\")\n",
    "libor1.head()"
   ]
  },
  {
   "cell_type": "code",
   "execution_count": null,
   "id": "ongoing-illinois",
   "metadata": {},
   "outputs": [],
   "source": [
    "try:\n",
    "    libor2 = download_from_fred(\"USDONTD156N\")\n",
    "except Exception as e:\n",
    "    print(e)\n",
    "    # if source is not available (maybe due to wrong/ changed/ altered symbol?), copy previous source\n",
    "    libor2 = libor1\n",
    "\n",
    "libor2 = reindex_and_fill(libor2, min(libor2.index), max(libor2.index), freq=\"D\")\n",
    "libor2.head()"
   ]
  },
  {
   "cell_type": "code",
   "execution_count": null,
   "id": "fifteen-dublin",
   "metadata": {},
   "outputs": [],
   "source": [
    "draw_growth_chart(\n",
    "    {\n",
    "        'libor1': libor1,\n",
    "        'libor2': libor2,\n",
    "    },\n",
    "    \"The overnight LIBOR (comparison between sources)\"\n",
    ")"
   ]
  },
  {
   "cell_type": "code",
   "execution_count": null,
   "id": "flying-corporation",
   "metadata": {},
   "outputs": [],
   "source": [
    "borrowing_rate = pd.DataFrame(\n",
    "    index=pd.date_range(\n",
    "        min(min(ffr.index), min(libor1.index), min(libor2.index), min(data.index)),\n",
    "        max(max(ffr.index), max(libor1.index), max(libor2.index), max(data.index)),\n",
    "        freq=\"D\",\n",
    "    ),\n",
    "    dtype=np.float64,\n",
    "    columns=[\"borrowing_rate\"]\n",
    ")\n",
    "borrowing_rate.loc[min(ffr.index):max(ffr.index), \"borrowing_rate\"] = ffr['ffr']\n",
    "borrowing_rate.loc[min(libor1.index):max(libor1.index), \"borrowing_rate\"] = libor1\n",
    "borrowing_rate.loc[min(libor2.index):max(libor2.index), \"borrowing_rate\"] = libor2\n",
    "borrowing_rate = borrowing_rate.loc[min(data.index):max(data.index),:]\n",
    "borrowing_rate = reindex_and_fill(borrowing_rate, min(data.index), max(data.index), freq=\"D\")\n",
    "borrowing_rate.head()"
   ]
  },
  {
   "cell_type": "code",
   "execution_count": null,
   "id": "educational-wallpaper",
   "metadata": {},
   "outputs": [],
   "source": [
    "draw_growth_chart(\n",
    "    {\n",
    "        'ffr': ffr['ffr'],\n",
    "        'borrowing rate': borrowing_rate[\"borrowing_rate\"],\n",
    "    },\n",
    "    \"FFR vs. Borrowing Rate\"\n",
    ")\n",
    "draw_telltale_chart(\n",
    "    ffr['ffr'],\n",
    "    {        \n",
    "        'borrowing rate': borrowing_rate[\"borrowing_rate\"],\n",
    "    },\n",
    "    \"Telltale Chart Borrowing Rate (reference: FFR)\"\n",
    ")"
   ]
  },
  {
   "cell_type": "markdown",
   "id": "pediatric-thompson",
   "metadata": {},
   "source": [
    "While both curves are in general following each other, there are sometimes huge differences, which spikes in the telltale chart. Especially the in finanical crises 2008 we see very huge spikes. Thus using the borrowing rate instead of the FFR, will give us a higher accuracy at thos days, when we model leveraged ETFs. "
   ]
  },
  {
   "cell_type": "code",
   "execution_count": null,
   "id": "driven-campus",
   "metadata": {},
   "outputs": [],
   "source": [
    "borrowing_rate.to_excel(clean_data_path / \"borrowing_rate.xlsx\")"
   ]
  },
  {
   "cell_type": "markdown",
   "id": "animal-senator",
   "metadata": {},
   "source": [
    "## Original HFEA Data\n",
    "\n",
    "Headefundie added the original data for his/her backtest to the thread https://www.bogleheads.org/forum/viewtopic.php?f=10&t=272007 and for comparison reasons, we now add this data to our clean data. In this way we always have some kind of reference."
   ]
  },
  {
   "cell_type": "code",
   "execution_count": null,
   "id": "appropriate-plaza",
   "metadata": {},
   "outputs": [],
   "source": [
    "upro = read_csv(\n",
    "    raw_data_path / \"UPROSIM.csv\", \n",
    "    column_name=\"UPRO\", \n",
    "    value_mapping=lambda v: to_float(v.replace(\"%\", \"\"))/100\n",
    ")\n",
    "upro = upro.reindex(pd.date_range(min(upro.index), max(upro.index), freq=\"D\"))\n",
    "upro = upro.fillna(value=0)\n",
    "upro = calc_growth(upro)\n",
    "upro = normalize(upro.loc['1986-12-31':'2019-01-31'], start_value=100)\n",
    "upro.head()"
   ]
  },
  {
   "cell_type": "code",
   "execution_count": null,
   "id": "pleasant-skating",
   "metadata": {},
   "outputs": [],
   "source": [
    "raw_data_path = Path(\"raw_data\")\n",
    "tmf = read_csv(\n",
    "    raw_data_path / \"TMFSIM.csv\", \n",
    "    column_name=\"TMF\", \n",
    "    value_mapping=lambda v: to_float(v.replace(\"%\", \"\"))/100\n",
    ")\n",
    "tmf = tmf.reindex(pd.date_range(min(upro.index), max(upro.index), freq=\"D\"))\n",
    "tmf = tmf.fillna(value=0)\n",
    "tmf = calc_growth(tmf)\n",
    "tmf = normalize(tmf.loc['1986-12-31':'2019-01-31'], start_value=100)\n",
    "tmf.head()"
   ]
  },
  {
   "cell_type": "code",
   "execution_count": null,
   "id": "labeled-assumption",
   "metadata": {},
   "outputs": [],
   "source": [
    "hfea_data = pd.DataFrame(columns=['TMF', 'UPRO'])\n",
    "hfea_data.loc[:, 'TMF'] = tmf\n",
    "hfea_data.loc[:, 'UPRO'] = upro\n",
    "hfea_data.head()"
   ]
  },
  {
   "cell_type": "code",
   "execution_count": null,
   "id": "optimum-matter",
   "metadata": {},
   "outputs": [],
   "source": [
    "hfea_data.to_excel(clean_data_path / \"hfea_data.xlsx\")"
   ]
  }
 ],
 "metadata": {
  "kernelspec": {
   "display_name": "Python 3",
   "language": "python",
   "name": "python3"
  },
  "language_info": {
   "codemirror_mode": {
    "name": "ipython",
    "version": 3
   },
   "file_extension": ".py",
   "mimetype": "text/x-python",
   "name": "python",
   "nbconvert_exporter": "python",
   "pygments_lexer": "ipython3",
   "version": "3.9.12"
  }
 },
 "nbformat": 4,
 "nbformat_minor": 5
}
