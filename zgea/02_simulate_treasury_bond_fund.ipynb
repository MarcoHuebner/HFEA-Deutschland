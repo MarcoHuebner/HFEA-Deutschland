{
 "cells": [
  {
   "cell_type": "markdown",
   "metadata": {
    "collapsed": true,
    "pycharm": {
     "name": "#%% md\n"
    }
   },
   "source": [
    "# Simulate Treasury Bond Funds\n",
    "\n",
    "The HFEA strategy is based on treasury bond funds as hedge for the growth part of the portfolio. Thus, it is important to have the value of all interesting treasury bond funds available for many years. Ideally even before 1970, where the oil crises started. However, all treasury bond funds, just exist since some years. So the oldest fund was available around 2010. Therefore, we have to simulate such a fond to do a long term backtest with this kind of hedge.\n",
    "\n",
    "In the [bogleheads thread](https://www.bogleheads.org/forum/viewtopic.php?t=179425) the user `longinvest` explains how a treasury bond fund could be simulated. In this notebook we try out different approaches, compare them with each other and calculate the simulated treasury bond fund values on daily base beginning of 1943."
   ]
  },
  {
   "cell_type": "code",
   "execution_count": null,
   "metadata": {
    "pycharm": {
     "name": "#%%\n"
    }
   },
   "outputs": [],
   "source": [
    "import numpy as np\n",
    "import pandas as pd\n",
    "import numpy_financial as npf\n",
    "import pandas.tseries.offsets as pd_offsets\n",
    "from pathlib import Path"
   ]
  },
  {
   "cell_type": "code",
   "execution_count": null,
   "metadata": {},
   "outputs": [],
   "source": [
    "from utils.plots import draw_growth_chart, draw_telltale_chart\n",
    "from utils.data import cached, read_csv\n",
    "from utils.math import normalize, reindex_and_fill, calc_growth"
   ]
  },
  {
   "cell_type": "markdown",
   "metadata": {
    "pycharm": {
     "name": "#%% md\n"
    }
   },
   "source": [
    "In order to check our simulated values, we have to compare those values, with the simulated values from the [backtest](https://www.bogleheads.org/forum/viewtopic.php?p=5815123#p5815123), available at bogleheads. I combined the interesting long term treasury (ltt), intermediate term treasury (itt) and short term treasury (stt) in a single excel file. The first step is to load this file and to restrict the values to the time period, which fits to our treasury yield curves."
   ]
  },
  {
   "cell_type": "code",
   "execution_count": null,
   "metadata": {
    "pycharm": {
     "name": "#%%\n"
    }
   },
   "outputs": [],
   "source": [
    "# load raw and clean data\n",
    "raw_data_path = Path(\"raw_data\")\n",
    "clean_data_path = Path(\"clean_data\")\n",
    "cached_data_path = Path(\"cached_clean_data\")\n",
    "# define individual paths with base paths set\n",
    "simba_path = raw_data_path  / \"simba_data.xlsx\"\n",
    "simba = pd.read_excel(simba_path, skiprows=1, index_col=0)\n",
    "simba.index = pd.to_datetime(simba.index, format=\"%Y\")\n",
    "simba = simba.loc['1943':,:]\n",
    "simba.head()"
   ]
  },
  {
   "cell_type": "markdown",
   "metadata": {
    "pycharm": {
     "name": "#%% md\n"
    }
   },
   "source": [
    "This data is just yearly available, but we can use it to compare our calculated daily values with the yearly values from Simba. So the next step is to calculate the portfolio growth we would have by investing on the first day on those funds."
   ]
  },
  {
   "cell_type": "code",
   "execution_count": null,
   "metadata": {
    "pycharm": {
     "name": "#%%\n"
    }
   },
   "outputs": [],
   "source": [
    "# calculate growth with gains in percent by wrapping around math/calc_growth.py\n",
    "def calc_growth_local(gain_series, start_value=100, ticks_per_year=1):\n",
    "    return calc_growth(gain_series, start_value, percent = (ticks_per_year * 100))\n",
    "\n",
    "simba['stt_g'] = calc_growth_local(simba['stt'])\n",
    "simba['itt_g'] = calc_growth_local(simba['itt'])\n",
    "simba['ltt_g'] = calc_growth_local(simba['ltt'])\n",
    "simba.head()"
   ]
  },
  {
   "cell_type": "code",
   "execution_count": null,
   "metadata": {
    "pycharm": {
     "name": "#%%\n"
    }
   },
   "outputs": [],
   "source": [
    "draw_growth_chart(\n",
    "    {\n",
    "        'ltt (30-10y)': simba['ltt_g'],\n",
    "        'itt (10-5y)': simba['itt_g'],\n",
    "        'stt (3-1y)': simba['stt_g'],\n",
    "    },\n",
    "    \"Growth of different U.S. treasury bonds (Simba's Data)\"\n",
    ")"
   ]
  },
  {
   "cell_type": "markdown",
   "metadata": {
    "pycharm": {
     "name": "#%%\n"
    }
   },
   "source": [
    "Now, we can load our precalculated treasury yields and start with the simulation of a treasury bond fund. "
   ]
  },
  {
   "cell_type": "code",
   "execution_count": null,
   "metadata": {},
   "outputs": [],
   "source": [
    "yield_curves_path = clean_data_path / \"yield_curve.xlsx\"\n",
    "yields = pd.read_excel(yield_curves_path, index_col=0)\n",
    "yields.head()"
   ]
  },
  {
   "cell_type": "markdown",
   "metadata": {},
   "source": [
    "Our first try is to simulate the yearly values of the treasury bond. This can better be comapared with the yearly values from Simbas backtest sheet. Therefore, we just take the value from the first day of the first month."
   ]
  },
  {
   "cell_type": "code",
   "execution_count": null,
   "metadata": {},
   "outputs": [],
   "source": [
    "yearly_yields = yields[(yields.index.month == 1) & (yields.index.day == 1)]\n",
    "yearly_yields.head()"
   ]
  },
  {
   "cell_type": "markdown",
   "metadata": {},
   "source": [
    "## Simulate 10-5 Years Bond Fund\n",
    "\n",
    "We first focus an simulating the 10-5 years bond fund and compare it to the ITT growth of Simbas Spreadsheet.\n"
   ]
  },
  {
   "cell_type": "markdown",
   "metadata": {},
   "source": [
    "### Accumulating Approach\n",
    "\n",
    "The first approach is to accumulate the yields as they would be gains. This is the most simply approach but it ignores completly the math and theory behind a treasury bond. We chose the 10 years yields for the aggregation.\n"
   ]
  },
  {
   "cell_type": "code",
   "execution_count": null,
   "metadata": {},
   "outputs": [],
   "source": [
    "itt_sim = pd.DataFrame(index=yearly_yields.index)\n",
    "itt_sim['agg'] = calc_growth_local(yearly_yields['10y'])\n",
    "itt_sim['agg'].head()"
   ]
  },
  {
   "cell_type": "code",
   "execution_count": null,
   "metadata": {},
   "outputs": [],
   "source": [
    "draw_growth_chart(\n",
    "    {\n",
    "        'itt (simba)': simba['itt_g'],\n",
    "        'aggregated yields 10y': itt_sim['agg']\n",
    "    },\n",
    "    \"Compare ITT (10-5 years) bond growth\",\n",
    ")"
   ]
  },
  {
   "cell_type": "markdown",
   "metadata": {},
   "source": [
    "As we can see, our simulated bond fund follows the comparison line, but it is in general too smooth and has for many years a high positive offset and later a negative offset."
   ]
  },
  {
   "cell_type": "markdown",
   "metadata": {},
   "source": [
    "In the thread \"Historical Bond Returns - From Rates to Returns [Bond Fund Simulator]\" from user `longinvest` of the [bogleheads forum](https://www.bogleheads.org/forum/viewtopic.php?t=179425), the user describes three different approaches how to simulate a bond fund.\n",
    "\n",
    "The first approach is based on the idea, that the bond fund buys every year a single 10 years bond. On the next year the fund collects the coupon (yield) and sells the bond. For calculating the remaining price of the bond, the function \"present value\" (PV in excel) is used. This calculation introduced two errors: First of all, for calculating the present value of the bond, we would need the 9 years bond yield, which is not available for us. Thus we have to use the 10 years bond yield, which tends to lead to lower values. The second issue is, that this is not the way a real bond fund works. Thus the characteristics of the simulates bond fund is different to the reality. But it is still a nice starting point.\n",
    "\n",
    "To implement this, we create a class, which models a single bond. It has a method to calculate the current value of the bond, based on the currend date (remaining time to maturity) and the current bond interest rate for such type of bond. It also has a method to collect the gains of this bond, since the last call. Thus we can also collect partly coupons (within a year).\n",
    "\n",
    "It also provides two convenience methods, for calculating the ramining years until the bond matures and to interpolate between two bond interest rates. Those methods are needed later for the more complex approaches. "
   ]
  },
  {
   "cell_type": "code",
   "execution_count": null,
   "metadata": {},
   "outputs": [],
   "source": [
    "def year_addition_with_leap_years(init_date: pd.Timestamp) -> pd.Timedelta:\n",
    "    \"\"\"\n",
    "    Use pd.Timedelta instead of relativedelta(years=years) for faster date conversion as overall\n",
    "    return calculation is bottlenecked by relativedelta __add__ and __init__\n",
    "\n",
    "    :param init_data: pd.Timestamp, initial timestamp required for leap year determination\n",
    "    :return: pd.Timedelta, additional amount of days to the next year\n",
    "    \"\"\"\n",
    "    # check for leap years, ordered in descending amount of occurence\n",
    "    if not init_date.year % 4:\n",
    "        # normal year\n",
    "        add_year = pd.Timedelta(days = 365)\n",
    "    \n",
    "    else:\n",
    "        # leap year\n",
    "        add_year = pd.Timedelta(days = 366)\n",
    "        # exceptions and exception from exceptions\n",
    "        if init_date.year % 100:\n",
    "            add_year = pd.Timedelta(days = 365)\n",
    "            if init_date.year % 400:\n",
    "                add_year = pd.Timedelta(days = 366)\n",
    "\n",
    "    return add_year\n",
    "\n",
    "\n",
    "\n",
    "# with the new pd.Timestamp lookup, the calculation is now \"bottlenecked\" by numpy financial methods which I suppose are close to optimal\n",
    "class Bond():\n",
    "    def __init__(self, buy_date: pd.Timestamp, buy_value: float, current_yield: float, years: int):\n",
    "        self._buy_date = buy_date\n",
    "        self._buy_value = buy_value\n",
    "        self._yield = current_yield\n",
    "        self._last_gain_collect = buy_date\n",
    "\n",
    "        for _ in range(years):\n",
    "            # even with the for loop, this only takes 1/100th of the time of the npf.pv calls for the short bonds\n",
    "            buy_date += year_addition_with_leap_years(buy_date)\n",
    "\n",
    "        self._last_date = buy_date\n",
    "        \n",
    "        \n",
    "    def _get_fractional_years(self, start: pd.Timestamp, end: pd.Timestamp) -> float:\n",
    "        # replace relativedelta(end, start) with faster pandas lookup and rough calculation\n",
    "        return end.year - start.year + (end.month - start.month) / 12 + (end.day - start.day) / 365.25\n",
    "        \n",
    "               \n",
    "    def current_value(self, current_date: pd.Timestamp, current_interest: float) -> float:\n",
    "        diff_years = int(self.remaining_years(current_date))\n",
    "        interest_bought = self._yield / 100\n",
    "        interest_sold = current_interest / 100\n",
    "        return -npf.pv(interest_sold, diff_years, self._buy_value * interest_bought, self._buy_value)\n",
    "        \n",
    "        \n",
    "    def collect_gain(self, current_date: pd.Timestamp) -> float:\n",
    "        if (current_date > self._last_date) or (current_date < self._last_gain_collect):\n",
    "            return 0.0\n",
    "        diff_years = self._get_fractional_years(self._last_gain_collect, current_date)\n",
    "        self._last_gain_collect = current_date\n",
    "        return diff_years * (self._yield * self._buy_value) / 100\n",
    "    \n",
    "    \n",
    "    def remaining_years(self, current_date: pd.Timestamp) -> float:\n",
    "        diff_years = self._get_fractional_years(current_date, self._last_date)\n",
    "        return diff_years\n",
    "    \n",
    "    \n",
    "    @staticmethod\n",
    "    def calc_interest(rate1: float, years1: int, rate2: float, years2: int, current_years: float) -> float:\n",
    "        return rate2 + (rate1 - rate2) * (current_years - years2) / (years1 - years2)"
   ]
  },
  {
   "cell_type": "markdown",
   "metadata": {},
   "source": [
    "We test the bond with the example, provided by user `longinvest`: In 1960, we buy a 10-year-bond with a bond rate of 4.72%. Then we collect until 1969 the coupon and sell it in 1969 for the remining price, which can be calculated by the 1-year-bond rate, which was 8.05%."
   ]
  },
  {
   "cell_type": "code",
   "execution_count": null,
   "metadata": {},
   "outputs": [],
   "source": [
    "buy_date = pd.Timestamp(year=1960, month=1, day=1)\n",
    "\n",
    "bond = Bond(\n",
    "    buy_date = buy_date,\n",
    "    buy_value = 100,\n",
    "    current_yield = 4.72,\n",
    "    years = 10,\n",
    ")\n",
    "\n",
    "for y in range(10):\n",
    "    current_date = buy_date + pd_offsets.YearBegin(y)\n",
    "    coupon = bond.collect_gain(current_date)\n",
    "    remaining_years = bond.remaining_years(current_date)\n",
    "    remaining_value = bond.current_value(\n",
    "        current_date, \n",
    "        bond.calc_interest(\n",
    "            4.72, \n",
    "            10, \n",
    "            8.05, \n",
    "            1, \n",
    "            remaining_years,\n",
    "        ))\n",
    "    print(f\"Year: {current_date}, Coupon: ${coupon:.2f}, Years to mature: {remaining_years}, Value: ${remaining_value:.2f}\")"
   ]
  },
  {
   "cell_type": "markdown",
   "metadata": {},
   "source": [
    "With our bond-class we can calculate exactly the same values, as `longinvest` presented in the first post of the thread. Now we implement a na&iuml;ve bond simulator, which always holds a single bond.\n",
    "\n",
    "In the beginning of the a calculation-tick (once a year for example), it collects the coupon from the bond as sells it for the price, which is calculated out of the current 10-years-bond yield. Then it is reinvesting the collected money in a new 10-years-bond."
   ]
  },
  {
   "cell_type": "code",
   "execution_count": null,
   "metadata": {},
   "outputs": [],
   "source": [
    "class NaiveBondSimulator():\n",
    "    def __init__(self, start_value: float, years: int):\n",
    "        self._start_value = start_value\n",
    "        self._bond = None\n",
    "        self._years = years\n",
    "        \n",
    "        \n",
    "    def calculate_tick(self, date: pd.Timestamp, current_yield: float):\n",
    "        self._last_yield = current_yield\n",
    "        self._last_tick_date = date\n",
    "        \n",
    "        income = self._start_value\n",
    "        self._start_value = 0\n",
    "        \n",
    "        if self._bond is not None:\n",
    "            income += self._bond.collect_gain(date)\n",
    "            income += self._bond.current_value(date, current_yield)\n",
    "            self._bond = None\n",
    "            \n",
    "        self._bond = Bond(\n",
    "            buy_date = date,\n",
    "            buy_value = income,\n",
    "            current_yield = current_yield,\n",
    "            years = self._years,\n",
    "        )\n",
    "        \n",
    "        return income\n",
    "        \n",
    "        \n",
    "    @property\n",
    "    def current_value(self) -> float:\n",
    "        if self._last_tick_date is None:\n",
    "            return 0\n",
    "        \n",
    "        return self._bond.current_value(\n",
    "            self._last_tick_date, \n",
    "            self._last_yield,\n",
    "        )\n"
   ]
  },
  {
   "cell_type": "code",
   "execution_count": null,
   "metadata": {},
   "outputs": [],
   "source": [
    "# test naive bond simulator\n",
    "itt_sim['naive'] = None\n",
    "bond_fund = NaiveBondSimulator(100, 10)\n",
    "\n",
    "for i, row in yearly_yields.iterrows():\n",
    "    income = bond_fund.calculate_tick(row.name, row['10y'])\n",
    "    itt_sim.loc[i, 'naive'] = bond_fund.current_value\n",
    "    print(f\"{row.name}: income: ${income:.2f}, value: ${bond_fund.current_value:.2f}\")\n",
    "    \n",
    "itt_sim['naive'].head()"
   ]
  },
  {
   "cell_type": "code",
   "execution_count": null,
   "metadata": {},
   "outputs": [],
   "source": [
    "draw_growth_chart(\n",
    "    {\n",
    "        'itt (simba)': simba['itt_g'],\n",
    "        'aggregated yields 10y': itt_sim['agg'],\n",
    "        'naive simulation 10y': itt_sim['naive'],\n",
    "    },\n",
    "    \"Compare ITT (10-5 years) bond growth\",\n",
    ")"
   ]
  },
  {
   "cell_type": "markdown",
   "metadata": {},
   "source": [
    "As we can see the na&iuml;ve approach is following the blue reference line very well, but it has mostly a negative offset to this line. This offset is espeacially getting worse in the last years. "
   ]
  },
  {
   "cell_type": "markdown",
   "metadata": {},
   "source": [
    "The next approach user `longinvest` describes introduces a simple improvement compared to the first apporach. We will call it now \"simple approach\". Here we simulate a bond fund, which buys every year two bonds: A 10-years bond and a 1-years bond. Next year it collects the coupon from both bonds and the remaining value of both and invest it again into two bonds. The ramaining value of the 9-years bond is interpolated from the 10-years yield. But the remaining value of the former 1-years bond can be directly taken be calculated. \n",
    "\n",
    "The advantage of this approach is, that characteristics of this bond follow stronger a real bond fund, but it still accumulates an error due to the 9-years yield approximation and it still works different to a real bond fund."
   ]
  },
  {
   "cell_type": "code",
   "execution_count": null,
   "metadata": {},
   "outputs": [],
   "source": [
    "class SimpleBondSimulator():\n",
    "    def __init__(self, start_value: float, years1: int, years2: int):\n",
    "        self._start_value = start_value\n",
    "        self._bonds = []\n",
    "        self._years1 = years1\n",
    "        self._years2 = years2\n",
    "        \n",
    "        \n",
    "    def calculate_tick(self, date: pd.Timestamp, current_yield1: float, current_yield2: float):\n",
    "        self._last_yield1 = current_yield1\n",
    "        self._last_yield2 = current_yield2\n",
    "        self._last_tick_date = date\n",
    "        \n",
    "        income = self._start_value\n",
    "        self._start_value = 0\n",
    "        \n",
    "        assert len(self._bonds) == 2 or len(self._bonds) == 0\n",
    "\n",
    "        if len(self._bonds) == 2:\n",
    "            bond_coupon1 = self._bonds[0].collect_gain(date)\n",
    "            bond_value1 = self._bonds[0].current_value(date, self._bonds[0].calc_interest(\n",
    "                self._last_yield1, \n",
    "                self._years1, \n",
    "                self._last_yield2, \n",
    "                self._years2, \n",
    "                self._bonds[0].remaining_years(date),\n",
    "            ))\n",
    "            income += (bond_value1 + bond_coupon1)\n",
    "            \n",
    "            bond_coupon2 = self._bonds[1].collect_gain(date)\n",
    "            bond_value2 = self._bonds[1].current_value(date, current_yield2)\n",
    "            income += (bond_value2 + bond_coupon2)\n",
    "            \n",
    "        self._bonds = []        \n",
    "        self._bonds.append(Bond(\n",
    "            buy_date = date,\n",
    "            buy_value = income/2,\n",
    "            current_yield = current_yield1,\n",
    "            years = self._years1,\n",
    "        ))\n",
    "        self._bonds.append(Bond(\n",
    "            buy_date = date,\n",
    "            buy_value = income/2,\n",
    "            current_yield = current_yield2,\n",
    "            years = self._years2,\n",
    "        ))\n",
    "        \n",
    "        return income\n",
    "        \n",
    "        \n",
    "    @property\n",
    "    def current_value(self) -> float:\n",
    "        if self._last_tick_date is None:\n",
    "            return 0\n",
    "        \n",
    "        value = 0\n",
    "        value += self._bonds[0].current_value(\n",
    "            self._last_tick_date, \n",
    "            self._last_yield1,\n",
    "        )\n",
    "        value += self._bonds[1].current_value(\n",
    "            self._last_tick_date, \n",
    "            self._last_yield2,\n",
    "        )\n",
    "        return value"
   ]
  },
  {
   "cell_type": "code",
   "execution_count": null,
   "metadata": {},
   "outputs": [],
   "source": [
    "# test simple bond simulator\n",
    "itt_sim['simple'] = None\n",
    "bond_fund = SimpleBondSimulator(100, 10, 1)\n",
    "\n",
    "for i, row in yearly_yields.iterrows():\n",
    "    income = bond_fund.calculate_tick(row.name, row['10y'], row['1y'])\n",
    "    itt_sim.loc[i, 'simple'] = bond_fund.current_value\n",
    "    print(f\"{row.name}: income: ${income:.2f}, value: ${bond_fund.current_value:.2f}\")\n",
    "    \n",
    "itt_sim['simple'].head()"
   ]
  },
  {
   "cell_type": "code",
   "execution_count": null,
   "metadata": {},
   "outputs": [],
   "source": [
    "draw_growth_chart(\n",
    "    {\n",
    "        'itt (simba)': simba['itt_g'],\n",
    "        'aggregated yields 10y': itt_sim['agg'],\n",
    "        'naive simulation 10y': itt_sim['naive'],\n",
    "        'simple simulation 10-1y': itt_sim['simple'],\n",
    "    },\n",
    "    \"Compare ITT (10-5 years) bond growth\",\n",
    ")"
   ]
  },
  {
   "cell_type": "markdown",
   "metadata": {},
   "source": [
    "In the first half of the chart, until 1985 the simple approach is very well following the blue reverence line, but then it diverges away from it and it ends up with a small negative offset. The reason for this, could be that the difference bettween 1-year and 10-year yields gets higher after 1985, which leads to a more step yield curve and thus to a higher approximation error.\n",
    "\n",
    "In order to check this, we can simply plot the difference between both values in a diagram. In the following diagram the difference is smoothed by using a moving average of 10 years."
   ]
  },
  {
   "cell_type": "code",
   "execution_count": null,
   "metadata": {},
   "outputs": [],
   "source": [
    "draw_growth_chart(\n",
    "    {\n",
    "        \"difference (10y - 1y)\": (yearly_yields['10y'] - yearly_yields['1y']).rolling(window=10).mean()\n",
    "    },\n",
    "    \"Difference between 10 and 1 year yields over time.\",\n",
    "    y_title = \"difference in %\",\n",
    "    y_log = False,\n",
    ")"
   ]
  },
  {
   "cell_type": "markdown",
   "metadata": {},
   "source": [
    "We can clearly see how the moving average of the difference started to increase strongly after 1985, which explains why the simple and naive approach faded away in those years. "
   ]
  },
  {
   "cell_type": "markdown",
   "metadata": {},
   "source": [
    "To workaround those approximiation errors, the user `longinvest` came up with a new idea: Why not simulating bond funds as they are actually work?\n",
    "\n",
    "Let's say we want to simulate a bond fund, which holds bonds with 5-10 years maturity. The bond fund would collect all the coupons from all bonds, it holds and invest it into a new bond with 10 years matrurity. If any of the hold bonds falls to 5 year maturity, it sells this bond for the actual value of this bond. In short a bond fund is working like a bond ladder: It holds for every year a bond with decreasing maturity from 10 to 6. \n",
    "\n",
    "We can exactly calculate the buy value of a 10 years bond and we can also exactly calculate the sell value of a 5 year bond. Only the current value of the whole fund, which contains also 9, 8, 7, and 6 years bonds needs an approximation, but this approximation does not accumulate over time: the current value of the bond fund is not used for reinvestment, only the coupons and sell-values of the bonds are used and those can be calculates exactly. "
   ]
  },
  {
   "cell_type": "code",
   "execution_count": null,
   "metadata": {},
   "outputs": [],
   "source": [
    "class BondFundSimulator():\n",
    "    def __init__(self, start_value: float, start_year: int, end_year: int):\n",
    "        self._start_value = start_value\n",
    "        self._bonds = []\n",
    "        self._year1 = start_year\n",
    "        self._year2 = end_year\n",
    "        self._interest1 = 0\n",
    "        self._interest2 = 0\n",
    "        self._last_tick_date = None\n",
    "        \n",
    "        \n",
    "        \n",
    "    def calculate_tick(self, current_date: pd.Timestamp, interest1: float, interest2: float):\n",
    "        if self._last_tick_date == current_date:\n",
    "            return\n",
    "        \n",
    "        self._interest1 = interest1\n",
    "        self._interest2 = interest2\n",
    "        self._last_tick_date = current_date\n",
    "        \n",
    "        new_bonds = []\n",
    "        income = self._start_value\n",
    "        self._start_value = 0\n",
    "        \n",
    "        for b in self._bonds:\n",
    "            income += b.collect_gain(current_date)\n",
    "            if b.remaining_years(current_date) <= self._year2:\n",
    "                income +=b.current_value(current_date, self._interest2)\n",
    "            else:\n",
    "                new_bonds.append(b)\n",
    "            \n",
    "        new_bonds.append(Bond(\n",
    "            buy_date=current_date, \n",
    "            buy_value=income, \n",
    "            current_yield=self._interest1, \n",
    "            years=self._year1\n",
    "        ))\n",
    "                \n",
    "        self._bonds = new_bonds\n",
    "        \n",
    "        return income\n",
    "        \n",
    "        \n",
    "        \n",
    "    @property\n",
    "    def current_value(self) -> float:\n",
    "        if self._last_tick_date is None:\n",
    "            return 0\n",
    "        \n",
    "        value = self._start_value\n",
    "        for b in self._bonds:\n",
    "            value += b.current_value(\n",
    "                self._last_tick_date, \n",
    "                b.calc_interest(\n",
    "                    self._interest1, \n",
    "                    self._year1, \n",
    "                    self._interest2, \n",
    "                    self._year2, \n",
    "                    b.remaining_years(self._last_tick_date)\n",
    "                )\n",
    "            )\n",
    "        return value"
   ]
  },
  {
   "cell_type": "code",
   "execution_count": null,
   "metadata": {},
   "outputs": [],
   "source": [
    "# test bond fund simulator\n",
    "itt_sim['fund'] = None\n",
    "bond_fund = BondFundSimulator(100, 10, 5)\n",
    "\n",
    "for i, row in yearly_yields.iterrows():\n",
    "    income = bond_fund.calculate_tick(row.name, row['10y'], row['5y'])\n",
    "    itt_sim.loc[i, 'fund'] = bond_fund.current_value\n",
    "    print(f\"{row.name}: income: ${income:.2f}, value: ${bond_fund.current_value:.2f}\")\n",
    "    \n",
    "itt_sim['fund'].head()"
   ]
  },
  {
   "cell_type": "code",
   "execution_count": null,
   "metadata": {},
   "outputs": [],
   "source": [
    "draw_growth_chart(\n",
    "    {\n",
    "        'itt (simba)': simba['itt_g'],\n",
    "        'aggregated yields 10y': itt_sim['agg'],\n",
    "        'naive simulation 10y': itt_sim['naive'],\n",
    "        'simple simulation 10-1y': itt_sim['simple'],\n",
    "        'fund simulation 10-5y': itt_sim['fund'],\n",
    "    },\n",
    "    \"Compare ITT (10-5 years) bond growth\",\n",
    ")"
   ]
  },
  {
   "cell_type": "markdown",
   "metadata": {},
   "source": [
    "It is obvoise that the simulated bond-fund almost exactly follows the blue line. It is clearly the most exact model."
   ]
  },
  {
   "cell_type": "markdown",
   "metadata": {},
   "source": [
    "Just for completness we now draw also a telltale diagram. A telltale diagram has been used my Mr. Bogle to better highlight phases of strong and weak performance of investments compared a reference investment. In our case we chose the ITT values from the Simba Backtest Sheet as reference, thus we can clearly see how well our simulated bond values follow this reference."
   ]
  },
  {
   "cell_type": "code",
   "execution_count": null,
   "metadata": {},
   "outputs": [],
   "source": [
    "draw_telltale_chart(\n",
    "    simba['itt_g'],\n",
    "    {\n",
    "        'aggregated yields 10y': itt_sim['agg'],\n",
    "        'naive simulation 10y': itt_sim['naive'],\n",
    "        'simple simulation 10-1y': itt_sim['simple'],\n",
    "        'fund simulation 10-5y': itt_sim['fund'],\n",
    "    },\n",
    "    \"Compare ITT (10-5 years) bond simulations (reference: ITT from Simba Backtest Sheet)\",\n",
    ")"
   ]
  },
  {
   "cell_type": "markdown",
   "metadata": {},
   "source": [
    "Also from this image, it is obvoise, that the simulated bond fund is following the values from Simbas Backtest Sheet the best. Thus for all further calculations, we will chose this model.\n"
   ]
  },
  {
   "cell_type": "markdown",
   "metadata": {},
   "source": [
    "## Simulate 3-1 Years Bond Fund\n",
    "\n",
    "In the next step, we simulate a short term treasury bond, which holds bonds from 3 to 1 years. In the simba dataset it is called stt. We directly simulate it with the bond fund simulator and compare the result with a growth chart and a telltale shart."
   ]
  },
  {
   "cell_type": "code",
   "execution_count": null,
   "metadata": {},
   "outputs": [],
   "source": [
    "# test bond fund simulator for short term bonds\n",
    "stt_sim = pd.DataFrame(index=yearly_yields.index)\n",
    "stt_sim['fund'] = None\n",
    "bond_fund = BondFundSimulator(100, 3, 1)\n",
    "\n",
    "for i, row in yearly_yields.iterrows():\n",
    "    income = bond_fund.calculate_tick(row.name, row['3y'], row['1y'])\n",
    "    stt_sim.loc[i, 'fund'] = bond_fund.current_value\n",
    "    print(f\"{row.name}: income: ${income:.2f}, value: ${bond_fund.current_value:.2f}\")\n",
    "    \n",
    "stt_sim['fund'].head()"
   ]
  },
  {
   "cell_type": "code",
   "execution_count": null,
   "metadata": {},
   "outputs": [],
   "source": [
    "draw_growth_chart(\n",
    "    {\n",
    "        'stt (simba)': simba['stt_g'],\n",
    "        'fund simulation 3-1y': stt_sim['fund'],\n",
    "    },\n",
    "    \"Compare STT (3-1 years) bond growth\",\n",
    ")\n",
    "draw_telltale_chart(\n",
    "    simba['stt_g'],\n",
    "    {\n",
    "        'fund simulation 3-1y': stt_sim['fund'],\n",
    "    },\n",
    "    \"Compare STT (3-1 years) bond simulations (reference: STT from Simba Backtest Sheet)\",\n",
    ")"
   ]
  },
  {
   "cell_type": "markdown",
   "metadata": {},
   "source": [
    "Also here we achieve similar performance than with 10-5 years bonds (note the different scaling of the y-axis in the telltale chart).\n"
   ]
  },
  {
   "cell_type": "markdown",
   "metadata": {},
   "source": [
    "## Simulate 30-10 Years Bond Fund\n",
    "\n",
    "In the next step, we simulate a long term treasury bond, which holds bonds from 30 to 10 years. In the simba dataset it is called ltt. We directly simulate it with the bond fund simulator and compare the result with a growth chart and a telltale shart."
   ]
  },
  {
   "cell_type": "code",
   "execution_count": null,
   "metadata": {},
   "outputs": [],
   "source": [
    "# test bond fund simulator for long term bonds\n",
    "ltt_sim = pd.DataFrame(index=yearly_yields.index)\n",
    "ltt_sim['fund'] = None\n",
    "bond_fund = BondFundSimulator(100, 30, 10)\n",
    "\n",
    "for i, row in yearly_yields.iterrows():\n",
    "    income = bond_fund.calculate_tick(row.name, row['30y'], row['10y'])\n",
    "    ltt_sim.loc[i, 'fund'] = bond_fund.current_value\n",
    "    print(f\"{row.name}: income: ${income:.2f}, value: ${bond_fund.current_value:.2f}\")\n",
    "    \n",
    "ltt_sim['fund'].head()"
   ]
  },
  {
   "cell_type": "code",
   "execution_count": null,
   "metadata": {},
   "outputs": [],
   "source": [
    "draw_growth_chart(\n",
    "    {\n",
    "        'ltt (simba)': simba['ltt_g'],\n",
    "        'fund simulation 30-10y': ltt_sim['fund'],\n",
    "    },\n",
    "    \"Compare LTT (30-10 years) bond growth\",\n",
    ")\n",
    "draw_telltale_chart(\n",
    "    simba['ltt_g'],\n",
    "    {\n",
    "        'fund simulation 30-10y': ltt_sim['fund'],\n",
    "    },\n",
    "    \"Compare LTT (30-10 years) bond simulations (reference: LTT from Simba Backtest Sheet)\",\n",
    ")"
   ]
  },
  {
   "cell_type": "markdown",
   "metadata": {},
   "source": [
    "The 30-10 years simulation is not as good as the other bond simulations. The error remains small until beginning of the 1970s and is then increasing to up to -20%. When looking at the data-sheet of simba we can see, that the time-series for LTT is switching from longinvest's simulation to real fund values in 1972, which fits perfect to the year, where the error get so strong. The fund data, which is used by Simbas Sheet is later the VUSUX fund from Vanguard. In the portfomio page of the homepage, we can see, that half of the bonds in the fund have 25 years maturity and almost the whole other half has more then 15 years maturity. Thus our fund model does not fit exactly to this fund."
   ]
  },
  {
   "cell_type": "markdown",
   "metadata": {},
   "source": [
    "## Calculate Daily Values\n",
    "\n",
    "Our goal was not to calculate yearly values but to calculate daily values for a more detailed analysis and backtest then Simbas Backtest Worksheet would allow. Now we have a proper model for yearly values and we can adapt it to also generate monthly values.\n",
    "\n",
    "Our bond fund simulator needs to collect only 1/365 of the coupon each tick (day) and it must buy a new bond every new day and sell bonds, which are out of the bond maturity range. The current class, should already provide all those changes, we simply need to test it against the current data.\n",
    "\n",
    "Let's start with the 3-1 year bond fund simulation."
   ]
  },
  {
   "cell_type": "code",
   "execution_count": null,
   "metadata": {},
   "outputs": [],
   "source": [
    "bond_fund_sim = pd.DataFrame(index=yields.index)"
   ]
  },
  {
   "cell_type": "code",
   "execution_count": null,
   "metadata": {},
   "outputs": [],
   "source": [
    "def simulate_bond_fund(start_years, end_years):\n",
    "    bond_fund_series = pd.Series(index=yields.index, dtype=np.float32)\n",
    "    bond_fund = BondFundSimulator(100, start_years, end_years)\n",
    "\n",
    "    last_print = None\n",
    "    for i, row in yields.iterrows():\n",
    "        income = bond_fund.calculate_tick(row.name, row[f'{start_years}y'], row[f'{end_years}y'])\n",
    "        bond_fund_series.loc[i] = bond_fund.current_value\n",
    "\n",
    "        # output values every first day of the year to not spam output messages\n",
    "        # replace nice (relativedelta(row.name, last_print).months > 0) with simple Timestamp lookup\n",
    "        if (last_print is None) or (i.month == 1 and i.day == 1):\n",
    "            last_print = row.name\n",
    "            print(f\"{row.name}: income: ${income:.2f}, value: ${bond_fund.current_value:.2f}\")\n",
    "            \n",
    "    return bond_fund_series"
   ]
  },
  {
   "cell_type": "code",
   "execution_count": null,
   "metadata": {},
   "outputs": [],
   "source": [
    "# The old implementation of Bond took a long time (overall ~81min/ 15s 1st year, 45s 2nd year, 1min 3rd year, 1min15s 4th year stagnating due to equal amount of bonds)\n",
    "# with the new implementation via pd.Timestamp lookup, this can be shortened to ~ 10min30s\n",
    "bond_fund_sim['stt_us'] = cached(cached_data_path / \"02_stt_us_bond.pkl\")(simulate_bond_fund)(3, 1)  \n",
    "bond_fund_sim['stt_us'].head()"
   ]
  },
  {
   "cell_type": "code",
   "execution_count": null,
   "metadata": {},
   "outputs": [],
   "source": [
    "# Results of the new method follow the old one closely, with a 15% difference of the last value (for me on Jan 13th)\n",
    "draw_growth_chart(\n",
    "    {\n",
    "        'stt (simba)': simba['stt_g'],\n",
    "        'fund simulation 3-1y': bond_fund_sim['stt_us'],\n",
    "    },\n",
    "    \"Compare STT (3-1 years) bond growth\",\n",
    ")"
   ]
  },
  {
   "cell_type": "markdown",
   "metadata": {},
   "source": [
    "We can see, that the daily bond fund simulation is following mostly the same way as the yearly simulation. However mid of the 1980th the daily simulation starts to diverge from the yearly simulation. This was a time of high bond yields and thus the daily calculation could have an advantage over the yearly calculation, by reinvesting coupons already in the middle of the year in new high yield bonds. "
   ]
  },
  {
   "cell_type": "code",
   "execution_count": null,
   "metadata": {},
   "outputs": [],
   "source": [
    "bond_fund_sim['itt_us'] = cached(cached_data_path / \"02_itt_us_bond.pkl\")(simulate_bond_fund)(10, 5)    \n",
    "bond_fund_sim['itt_us'].head()"
   ]
  },
  {
   "cell_type": "code",
   "execution_count": null,
   "metadata": {},
   "outputs": [],
   "source": [
    "draw_growth_chart(\n",
    "    {\n",
    "        'itt (simba)': simba['itt_g'],\n",
    "        'fund simulation 10-5y': bond_fund_sim['itt_us'],\n",
    "    },\n",
    "    \"Compare ITT (10-5 years) bond growth\",\n",
    ")"
   ]
  },
  {
   "cell_type": "markdown",
   "metadata": {},
   "source": [
    "The ITT bonds shows the same behavior. "
   ]
  },
  {
   "cell_type": "code",
   "execution_count": null,
   "metadata": {},
   "outputs": [],
   "source": [
    "# with new methodology, this still takes around 90 minutes\n",
    "bond_fund_sim['ltt_us'] = cached(cached_data_path / \"02_ltt_us_bond.pkl\")(simulate_bond_fund)(30, 10)    \n",
    "bond_fund_sim['ltt_us'].head()"
   ]
  },
  {
   "cell_type": "code",
   "execution_count": null,
   "metadata": {},
   "outputs": [],
   "source": [
    "draw_growth_chart(\n",
    "    {\n",
    "        'ltt (simba)': simba['ltt_g'],\n",
    "        'fund simulation 30-10y': bond_fund_sim['ltt_us'],\n",
    "    },\n",
    "    \"Compare LTT (30-10 years) bond growth\",\n",
    ")"
   ]
  },
  {
   "cell_type": "markdown",
   "metadata": {},
   "source": [
    "This time, our simulation machtes the LTT values from Simba almost perfectly. "
   ]
  },
  {
   "cell_type": "markdown",
   "metadata": {},
   "source": [
    "## Simulate Europe Treasury Bond ETFs\n",
    "\n",
    "In europe, we cannot buy the ETFs, used by bogleheads (stt, itt and ltt) but we can buy other ETFs. For my further analysis I decide to select the following ETFs:\n",
    "\n",
    "* `iShares $ Treasury Bond 20+yr UCITS ETF` (DTLA) => LTT\n",
    "* `iShares $ Treasury Bond 7-10yr UCITS ETF` (SXRM) => ITT\n",
    "* `iShares $ Treasury Bond 1-3yr UCITS ETF` (IBTA) => STT\n",
    "\n",
    "In this section, we simulate the bond funds for those ETFs and compare it with the real values."
   ]
  },
  {
   "cell_type": "markdown",
   "metadata": {},
   "source": [
    "First we try to simulate the IBTA ETF, which contains bonds with maturity duration of 1-3 years. We simulate it with a bond fund, which contains bonds from 3 to 1 years. So the first step is to load the data for IBTA, which is also given as daily data. Afterwards we fill some gaps in it."
   ]
  },
  {
   "cell_type": "code",
   "execution_count": null,
   "metadata": {},
   "outputs": [],
   "source": [
    "# read data and fill time gaps to obtain daily data\n",
    "ibta = read_csv(raw_data_path / \"IBTA.csv\", column_name=\"Adj Close\")\n",
    "ibta = reindex_and_fill(ibta, min(ibta.index), max(ibta.index), freq=\"D\")\n",
    "ibta.head()"
   ]
  },
  {
   "cell_type": "code",
   "execution_count": null,
   "metadata": {},
   "outputs": [],
   "source": [
    "bond_fund_sim['stt_eu'] = cached(cached_data_path / \"02_stt_eu_bond.pkl\")(simulate_bond_fund)(3, 1)    \n",
    "bond_fund_sim['stt_eu'].head()"
   ]
  },
  {
   "cell_type": "code",
   "execution_count": null,
   "metadata": {},
   "outputs": [],
   "source": [
    "reference = normalize(ibta, bond_fund_sim['stt_eu'])\n",
    "draw_growth_chart(\n",
    "    {\n",
    "        'IBTA ETF (3-1y)': reference,\n",
    "        'fund simulation 3-1y': bond_fund_sim['stt_eu'],\n",
    "    },\n",
    "    \"Compare STT (3-1 years) bond growth\",\n",
    "    overlapping_only = True,\n",
    ")\n",
    "draw_telltale_chart(\n",
    "    reference,\n",
    "    {\n",
    "        'fund simulation 3-1y': bond_fund_sim['stt_eu'],\n",
    "    },\n",
    "    \"Compare STT (3-1 years) bond growth (Reference: IBTA ETF)\",\n",
    "    overlapping_only = True,\n",
    ")"
   ]
  },
  {
   "cell_type": "markdown",
   "metadata": {},
   "source": [
    "Our bond fund simulation of the IBTA ETF, follows the ETF almost perfectly. The abslute maximum error is below 1%, which is extremly good."
   ]
  },
  {
   "cell_type": "markdown",
   "metadata": {},
   "source": [
    "As the next step, we simulate an europeen ITT fund, for which SXRM seems to be the perfect coparison candidate. So, again, we load the SXRM data, fill the gaps, calculate our simulation and compare it in a growth and telltale chart."
   ]
  },
  {
   "cell_type": "code",
   "execution_count": null,
   "metadata": {},
   "outputs": [],
   "source": [
    "# read data and fill time gaps to obtain daily data\n",
    "sxrm = read_csv(raw_data_path / \"SXRM.csv\", column_name=\"Adj Close\")\n",
    "sxrm = reindex_and_fill(sxrm, min(sxrm.index), max(sxrm.index), 'D')\n",
    "sxrm.head()"
   ]
  },
  {
   "cell_type": "code",
   "execution_count": null,
   "metadata": {},
   "outputs": [],
   "source": [
    "bond_fund_sim['itt_eu'] = cached(cached_data_path / \"02_itt_eu_bond.pkl\")(simulate_bond_fund)(10, 7)    \n",
    "bond_fund_sim['itt_eu'].head()"
   ]
  },
  {
   "cell_type": "code",
   "execution_count": null,
   "metadata": {},
   "outputs": [],
   "source": [
    "reference = normalize(sxrm, bond_fund_sim['itt_eu'])\n",
    "draw_growth_chart(\n",
    "    {\n",
    "        'SXRM ETF (10-7y)': reference,\n",
    "        'fund simulation 10-7y': bond_fund_sim['itt_eu'],        \n",
    "    },\n",
    "    \"Compare ITT (10-7 years) bond growth\",\n",
    "    overlapping_only=True,\n",
    ")\n",
    "draw_telltale_chart(\n",
    "    reference,\n",
    "    {\n",
    "        'fund simulation 10-7y': bond_fund_sim['itt_eu'],\n",
    "    },\n",
    "    \"Compare ITT (10-7 years) bond growth (Reference: SXRM ETF)\",\n",
    "    overlapping_only=True,\n",
    ")"
   ]
  },
  {
   "cell_type": "markdown",
   "metadata": {},
   "source": [
    "As we can see, our simulated 10-7 years bond fund is a good match for the SXRM ETF. It tracks very well the overall curve. In the beginning we have big errors, since we are missing some SXRM data points here. But aftewards the error is below 4%, which is a very good result. However, we also see a trend of our simulated bond fund, of growing a little bit too fast compared to the ETF. Maybe this is because of the TER. We will investigate in this later, when we model ETFs in more detail. "
   ]
  },
  {
   "cell_type": "markdown",
   "metadata": {},
   "source": [
    "Now, we can simulate an europeen LTT fund, for which DTLA seems to be the the ETF equavalent. Also here, we load the DTLA data, fill the gaps, calculate our simulation and compare it in a growth and telltale chart."
   ]
  },
  {
   "cell_type": "code",
   "execution_count": null,
   "metadata": {},
   "outputs": [],
   "source": [
    "# read data and fill time gaps to obtain daily data\n",
    "dtla = read_csv(raw_data_path / \"DTLA.csv\", column_name=\"Adj Close\")\n",
    "dtla = reindex_and_fill(dtla, min(dtla.index), max(dtla.index), 'D')\n",
    "dtla.head()"
   ]
  },
  {
   "cell_type": "code",
   "execution_count": null,
   "metadata": {},
   "outputs": [],
   "source": [
    "bond_fund_sim['ltt_eu'] = cached(cached_data_path / \"02_ltt_eu_bond.pkl\")(simulate_bond_fund)(30, 20)    \n",
    "bond_fund_sim['ltt_eu'].head()"
   ]
  },
  {
   "cell_type": "code",
   "execution_count": null,
   "metadata": {},
   "outputs": [],
   "source": [
    "reference = normalize(dtla, bond_fund_sim['ltt_eu'])\n",
    "draw_growth_chart(\n",
    "    {\n",
    "        'DTLA ETF (30-20y)': reference,\n",
    "        'fund simulation 30-20y': bond_fund_sim['ltt_eu'],\n",
    "    },\n",
    "    \"Compare LTT (30-20 years) bond growth\",\n",
    "    overlapping_only=True,\n",
    ")\n",
    "draw_telltale_chart(\n",
    "    reference,\n",
    "    {\n",
    "        'fund simulation 30-20y': bond_fund_sim['ltt_eu'],\n",
    "    },\n",
    "    \"Compare LTT (30-20 years) bond growth (Reference: DTLA ETF)\",\n",
    "    overlapping_only=True,\n",
    ")"
   ]
  },
  {
   "cell_type": "markdown",
   "metadata": {},
   "source": [
    "We have here almost a perfect fit. Only during the Corona crisis, the error jumps to around 6%, which is still very good."
   ]
  },
  {
   "cell_type": "markdown",
   "metadata": {},
   "source": [
    "Now we can store our results and proceed with the analysis. "
   ]
  },
  {
   "cell_type": "code",
   "execution_count": null,
   "metadata": {},
   "outputs": [],
   "source": [
    "bond_fund_sim.head()"
   ]
  },
  {
   "cell_type": "code",
   "execution_count": null,
   "metadata": {},
   "outputs": [],
   "source": [
    "output_path = clean_data_path / \"bond_funds.xlsx\"\n",
    "bond_fund_sim.to_excel(output_path)"
   ]
  }
 ],
 "metadata": {
  "kernelspec": {
   "display_name": "Python 3",
   "language": "python",
   "name": "python3"
  },
  "language_info": {
   "codemirror_mode": {
    "name": "ipython",
    "version": 3
   },
   "file_extension": ".py",
   "mimetype": "text/x-python",
   "name": "python",
   "nbconvert_exporter": "python",
   "pygments_lexer": "ipython3",
   "version": "3.9.12"
  }
 },
 "nbformat": 4,
 "nbformat_minor": 1
}
