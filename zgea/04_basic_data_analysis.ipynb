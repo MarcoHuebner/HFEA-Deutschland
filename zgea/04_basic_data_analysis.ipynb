{
 "cells": [
  {
   "cell_type": "markdown",
   "id": "southeast-vertical",
   "metadata": {},
   "source": [
    "# Basic Data Analysing\n",
    "\n",
    "In this notebook we analyse our input data on very basic levels, like calculating the yearly return, the correlation or seasonal returns of different assets. "
   ]
  },
  {
   "cell_type": "code",
   "execution_count": null,
   "id": "advised-samuel",
   "metadata": {},
   "outputs": [],
   "source": [
    "import numpy as np\n",
    "import pandas as pd\n",
    "import plotly.graph_objects as go\n",
    "import pandas.tseries.offsets as pd_offsets\n",
    "from pathlib import Path\n",
    "from dateutil.relativedelta import relativedelta"
   ]
  },
  {
   "cell_type": "code",
   "execution_count": null,
   "id": "spread-twist",
   "metadata": {},
   "outputs": [],
   "source": [
    "from utils.plots import draw_growth_chart, draw_risk_reward_chart, draw_periodic_return\n",
    "from utils.plots import draw_correlations\n",
    "from utils.math import get_annual_roi, gmean, calc_min_returns, calc_max_drawdown, calc_correlations_over_time\n",
    "from utils.math import calc_average_return_over_time\n",
    "from utils.data import cached"
   ]
  },
  {
   "cell_type": "markdown",
   "id": "opponent-infrared",
   "metadata": {},
   "source": [
    "The first step is to load the data, we have prepared for our backtest."
   ]
  },
  {
   "cell_type": "code",
   "execution_count": null,
   "id": "correct-margin",
   "metadata": {},
   "outputs": [],
   "source": [
    "# load raw and clean data\n",
    "clean_data_path = Path(\"clean_data\")\n",
    "cache_path = Path(\"cached_clean_data\")"
   ]
  },
  {
   "cell_type": "code",
   "execution_count": null,
   "id": "administrative-broad",
   "metadata": {},
   "outputs": [],
   "source": [
    "# get preprocessed asset data and convert to have useable index\n",
    "input_path = clean_data_path / \"assets.xlsx\"\n",
    "assets = pd.read_excel(input_path, index_col=0)\n",
    "assets.index = pd.to_datetime(assets.index)\n",
    "assets.head()"
   ]
  },
  {
   "cell_type": "code",
   "execution_count": null,
   "id": "entire-variance",
   "metadata": {},
   "outputs": [],
   "source": [
    "# get preprocessed inflation data and convert to have useable index\n",
    "inflation = pd.read_excel(clean_data_path / \"inflation.xlsx\", index_col=0)\n",
    "inflation.index = pd.to_datetime(inflation.index)\n",
    "inflation.head()"
   ]
  },
  {
   "cell_type": "code",
   "execution_count": null,
   "id": "illegal-exclusive",
   "metadata": {},
   "outputs": [],
   "source": [
    "# get preprocessed FFR data and convert to have useable index\n",
    "ffr = pd.read_excel(clean_data_path / \"ffr.xlsx\", index_col=0)\n",
    "ffr.index = pd.to_datetime(ffr.index)\n",
    "ffr.head()"
   ]
  },
  {
   "cell_type": "code",
   "execution_count": null,
   "id": "valid-vitamin",
   "metadata": {},
   "outputs": [],
   "source": [
    "draw_growth_chart(\n",
    "    {\n",
    "        'long term treasury bonds': assets['ltt_eu'],\n",
    "        'short term treasury bonds': assets['stt_eu'],\n",
    "        'gold': assets['gold'],\n",
    "        'nasdaq-100': assets['ndx100'],\n",
    "        's&p 500': assets['sp500'],\n",
    "        'nasdaq-100 (incl. div)': assets['ndx100+div'],\n",
    "        's&p 500 (incl. div)': assets['sp500+div'],\n",
    "    },\n",
    "    \"Growth of Assets from 1943 to 2021\"\n",
    ")"
   ]
  },
  {
   "cell_type": "markdown",
   "id": "higher-model",
   "metadata": {},
   "source": [
    "In this chart we see the growth of different asset classes we have in our data. The short term treasury bonds (stt) have the slowest growths over a period of almost 80 years. Gold and long term treasury bonds also have a rather slow growth.\n",
    "\n",
    "A very good growth has the S&P 500 (especially when taking the dividends into account), but it is even outperformed by the Nasdaq-100, which was introduced in 1985. The volatility of the Nasdaq-100 is higher, but in the end in 2021, the value of this investment is 5 times higher then the value of s&p 500. "
   ]
  },
  {
   "cell_type": "markdown",
   "id": "blessed-shame",
   "metadata": {},
   "source": [
    "## Mininum Returns and Maximum Drawdown\n",
    "\n",
    "We can now also calculate the minimum return, we expect, if we buy an assets at the worst time ever and hold it for a fixed amout of years, until we need it back."
   ]
  },
  {
   "cell_type": "code",
   "execution_count": null,
   "id": "solid-silly",
   "metadata": {},
   "outputs": [],
   "source": [
    "min_returns, min_returns_date = cached(cache_path / \"04_min_returns.pkl\")(calc_min_returns)(\n",
    "    assets,\n",
    "    list(range(1,31)),\n",
    ")\n",
    "min_returns.head()"
   ]
  },
  {
   "cell_type": "code",
   "execution_count": null,
   "id": "egyptian-conversation",
   "metadata": {},
   "outputs": [],
   "source": [
    "zero = pd.Series(index=min_returns.index, dtype=np.float64)\n",
    "zero.loc[:] = 0\n",
    "\n",
    "# visualize growth\n",
    "draw_growth_chart(\n",
    "    {\n",
    "        'zero': zero,\n",
    "        'STT (EU)': get_annual_roi(min_returns['stt_eu'], min_returns.index),\n",
    "        'ITT (EU)': get_annual_roi(min_returns['itt_eu'], min_returns.index),\n",
    "        'LTT (EU)': get_annual_roi(min_returns['ltt_eu'], min_returns.index),\n",
    "        'gold': get_annual_roi(min_returns['gold'], min_returns.index),\n",
    "        'S&P 500 (incl. dividends)': get_annual_roi(min_returns['sp500+div'], min_returns.index),\n",
    "        'Nasdaq-100 (incl. dividends)': get_annual_roi(min_returns['ndx100+div'], min_returns.index),\n",
    "    },\n",
    "    \"Minimum Returns over Years\",\n",
    "    y_log = False,\n",
    "    y_title = \"returns in %\",\n",
    "    x_title = \"years holding\",\n",
    "    y_range = [-5, 10],\n",
    ")"
   ]
  },
  {
   "cell_type": "markdown",
   "id": "explicit-keyboard",
   "metadata": {},
   "source": [
    "As we can see, the only short term investment, where we do not lose money if we invest at the worst time ever (ATH of markets directly before a crisis starts) are the Short Term Treasury bounds. If we hold this for a minimum of 2 years, we will still get a small positive return out of it. And if we are willing to hold it at least 15 years a 1.8% average return is the minimum we should expect. For 30 years, the worst case is an average return of 3%. \n",
    "\n",
    "The Intermediate Term Treasuries (ITT) are much worse then the STTs, since in worst case it would take at least 5 years to reach breakeven and even for 15 or 30 years, the worst case return of STTs is slightly higher. \n",
    "\n",
    "Gold and LTTs are performing even more worse, if we invest at the wrong time.\n",
    "\n",
    "S&P 500 and Nasdaq-100 have extremly high losses in the first years. But after around 12-15 years they reach breakeven and on the long term (thanks to the dividends), the minimum return of both is almost 9% for 30 years. \n",
    "\n",
    "This graph illustrates, why it is a bad idea to invest a huge amount of money at once at a single asset. This increases the risk of being a bagholder for at least 12 years drastically. In those cases, it is better to just invest it in STT and you are most probably safe with your investment. Or split it into smaller amounts and invest it over several month and years to avoid directly investing everything at the highest point directly before a crises starts. "
   ]
  },
  {
   "cell_type": "markdown",
   "id": "patent-brisbane",
   "metadata": {},
   "source": [
    "* The worst time to invest in gold was 1980, directly before the gold-price crashed. It did not recover for many years.\n",
    "* The worst time for Nasdaq-100 was 2000, directly before the dot-com bubble. It tool 17 years to recover.\n",
    "* The worst time for S&P 500 was 2008, directly before the financial crises. But it recovered quite fast. Investing in S&P 500 directly before the dot-com bubble took 13 years to recover. \n",
    "* For the LTTs there was not a single event, but more a periode of years before 1980 where those assets did not have any positive returns for many years."
   ]
  },
  {
   "cell_type": "code",
   "execution_count": null,
   "id": "attended-diving",
   "metadata": {},
   "outputs": [],
   "source": [
    "min_returns_date"
   ]
  },
  {
   "cell_type": "markdown",
   "id": "miniature-consideration",
   "metadata": {},
   "source": [
    "Now let's calculate the maximum drawdown of our assets. "
   ]
  },
  {
   "cell_type": "code",
   "execution_count": null,
   "id": "twelve-committee",
   "metadata": {},
   "outputs": [],
   "source": [
    "from utils.math import calc_max_drawdown\n",
    "max_drawdown, max_drawdown_start, max_drawdown_end = cached(cache_path / \"04_max_drawdown.pkl\")(calc_max_drawdown)(\n",
    "    assets\n",
    ")"
   ]
  },
  {
   "cell_type": "code",
   "execution_count": null,
   "id": "narrow-moldova",
   "metadata": {},
   "outputs": [],
   "source": [
    "def draw_max_drawdown(c, name):\n",
    "    print(f\"'{name}' max. drawdown: {max_drawdown[c]:.2f}% (from {max_drawdown_start[c]} to {max_drawdown_end[c]})\")\n",
    "    draw_growth_chart(\n",
    "        {\n",
    "            name: assets.loc[max_drawdown_start[c]:max_drawdown_end[c], c]\n",
    "        },\n",
    "        f\"Max. Drawdown of {name}\"\n",
    "    )"
   ]
  },
  {
   "cell_type": "code",
   "execution_count": null,
   "id": "sharing-enforcement",
   "metadata": {},
   "outputs": [],
   "source": [
    "# draw max drawdowns for the individual assets\n",
    "draw_max_drawdown('stt_eu', \"STT\")"
   ]
  },
  {
   "cell_type": "code",
   "execution_count": null,
   "id": "naked-manufacturer",
   "metadata": {},
   "outputs": [],
   "source": [
    "draw_max_drawdown('itt_eu', \"ITT\")"
   ]
  },
  {
   "cell_type": "code",
   "execution_count": null,
   "id": "abandoned-layer",
   "metadata": {},
   "outputs": [],
   "source": [
    "draw_max_drawdown('ltt_eu', \"LTT\")"
   ]
  },
  {
   "cell_type": "code",
   "execution_count": null,
   "id": "raised-election",
   "metadata": {},
   "outputs": [],
   "source": [
    "draw_max_drawdown('gold', \"Gold\")"
   ]
  },
  {
   "cell_type": "code",
   "execution_count": null,
   "id": "satisfactory-crystal",
   "metadata": {},
   "outputs": [],
   "source": [
    "draw_max_drawdown('sp500+div', \"S&P 500 (incl. dividends)\")"
   ]
  },
  {
   "cell_type": "code",
   "execution_count": null,
   "id": "choice-channel",
   "metadata": {},
   "outputs": [],
   "source": [
    "draw_max_drawdown('ndx100+div', \"Nasdaq-100 (incl. dividends)\")"
   ]
  },
  {
   "cell_type": "markdown",
   "id": "national-adobe",
   "metadata": {},
   "source": [
    "## Yearly Returns"
   ]
  },
  {
   "cell_type": "markdown",
   "id": "sunrise-bicycle",
   "metadata": {},
   "source": [
    "Now let's calculate the yearly return of all our assets. "
   ]
  },
  {
   "cell_type": "code",
   "execution_count": null,
   "id": "broad-crowd",
   "metadata": {},
   "outputs": [],
   "source": [
    "yearly_returns = assets.pct_change(1, freq=\"Y\")\n",
    "yearly_returns = yearly_returns.dropna()\n",
    "yearly_returns.head()"
   ]
  },
  {
   "cell_type": "code",
   "execution_count": null,
   "id": "chief-oakland",
   "metadata": {},
   "outputs": [],
   "source": [
    "for c in yearly_returns.columns:\n",
    "    # calculate average return for every asset with geometric mean\n",
    "    ret = gmean(yearly_returns[c])\n",
    "    print(f\"Average Annual Return of '{c}': {ret * 100:.2f}%\")"
   ]
  },
  {
   "cell_type": "markdown",
   "id": "velvet-calgary",
   "metadata": {},
   "source": [
    "Also those numbers reflect our interpretation from the growth chart above: All treasury bonds and gold have an anverage annual return in the same region around 5-6%. S&P 500 reaches an average annual return of 8% without dividends and 12% with dividends. Thus it is drastically outperforming the bonds and gold. But Nasdaq-100 has with 10% without dividends and 13% with dividends the highest average annual return.\n",
    "\n",
    "Keep in mind, that we calculated those numbers vom 1944, where the Nasdaq-100 did not exist. If we calcualte it form 1985, the average annual return of the Nasdaq-100 is even much higher. "
   ]
  },
  {
   "cell_type": "code",
   "execution_count": null,
   "id": "respiratory-bearing",
   "metadata": {},
   "outputs": [],
   "source": [
    "for c in yearly_returns.columns:\n",
    "    # calculate average return for every asset with geometric mean, but from 1985 onwards\n",
    "    ret = gmean(yearly_returns.loc['1985':,c])\n",
    "    print(f\"Average Annual Return of '{c}': {ret * 100:.2f}%\")"
   ]
  },
  {
   "cell_type": "markdown",
   "id": "worse-prairie",
   "metadata": {},
   "source": [
    "Now the Nasdaq-100 average annual return with dividends above 15%."
   ]
  },
  {
   "cell_type": "code",
   "execution_count": null,
   "id": "heavy-democrat",
   "metadata": {},
   "outputs": [],
   "source": [
    "for c in yearly_returns.columns:\n",
    "    # get max returns\n",
    "    ret = yearly_returns[c].max()\n",
    "    print(f\"Max Annual Return of '{c}': {ret * 100:.2f}%\")"
   ]
  },
  {
   "cell_type": "code",
   "execution_count": null,
   "id": "naval-softball",
   "metadata": {},
   "outputs": [],
   "source": [
    "for c in yearly_returns.columns:\n",
    "    # get min returns\n",
    "    ret = yearly_returns[c].min()\n",
    "    print(f\"Min Annual Return of '{c}': {ret * 100:.2f}%\")"
   ]
  },
  {
   "cell_type": "code",
   "execution_count": null,
   "id": "f90fccdb",
   "metadata": {},
   "outputs": [],
   "source": [
    "for c in yearly_returns.columns:\n",
    "    # get gmean and volatility/ standard deviation of the annual returns\n",
    "    ret = gmean(yearly_returns[c])\n",
    "    std = yearly_returns[c].std()\n",
    "    print(f\"Average Annual Return of '{c}': ({ret * 100:.2f}+/-{std * 100:.2f})%\")"
   ]
  },
  {
   "cell_type": "markdown",
   "id": "solar-expression",
   "metadata": {},
   "source": [
    "Let's review our average annual return and the max. drawdown in a risk/reward chart to get a better understanding of our assets."
   ]
  },
  {
   "cell_type": "code",
   "execution_count": null,
   "id": "pressing-match",
   "metadata": {},
   "outputs": [],
   "source": [
    "risk_reward = pd.DataFrame(\n",
    "    index = max_drawdown.index,\n",
    "    columns = ['risk', 'reward']\n",
    ")\n",
    "for asset in risk_reward.index:\n",
    "    risk_reward.loc[asset, 'risk'] = max_drawdown[asset] * -1\n",
    "    risk_reward.loc[asset, 'reward'] = gmean(yearly_returns[asset]) * 100\n",
    "    risk_reward\n",
    "\n",
    "draw_risk_reward_chart(\n",
    "    risk_reward,\n",
    "    \"Average Annual Returns vs. Max. Drawdown\",\n",
    "    x_title = \"max. drawdown in %\",\n",
    "    y_title = \"average annual returns in %\"\n",
    ")"
   ]
  },
  {
   "cell_type": "markdown",
   "id": "descending-swing",
   "metadata": {},
   "source": [
    "This chart gives us a good understanding about the risk and reward of different assets. In the left buttom corner we find the U.S. Treasury Bonds with very small average annual returns, but also not so much maximum drawdown. On the right side we can see those assets which are more risky. Surprisingly we see here Gold, which had a huge drawdown beginning of 1980 until 2000. Even S&P 500 has a better risk/reward ratio then gold. The best average annual returns delivers the Nasdaq-100, but this comes with an extreme huge max. drawdown of over 80% (which happened during the dot-com bubble). "
   ]
  },
  {
   "cell_type": "code",
   "execution_count": null,
   "id": "extended-struggle",
   "metadata": {},
   "outputs": [],
   "source": [
    "draw_periodic_return(\n",
    "    {\n",
    "        'ltt': yearly_returns['ltt_eu'],\n",
    "        'stt': yearly_returns['stt_eu'],\n",
    "        'gold': yearly_returns['gold'],\n",
    "        's&p 500 (incl. dividends)': yearly_returns['sp500+div'],\n",
    "        'nasdaq-100 (incl. dividends)': yearly_returns['ndx100+div'],\n",
    "    },\n",
    "    \"Yearly Returns\"\n",
    ")"
   ]
  },
  {
   "cell_type": "markdown",
   "id": "declared-closing",
   "metadata": {},
   "source": [
    "In this graph, we can see that in the 1970th until the 1980th gold had a very high annual return. But after the 1980th the return of gold was generally lower than for the other assets. The return of the S&P 500 seems to be quite steady without high peaks in the positive or negative direction. The Nasdaq-100 had very high returns in the years befor 2000 and in the years after, the return was strongly negative. This was the dot-com-bubble. We can also clearly see the 2008 financial crisis, where almost all assets had negative returns, except of the treasury bonds. The long term treasury bonds had their highest returns in the years after the 1980. \n",
    "\n",
    "Now, we will look closer at the years from 1965 to 1990 and compare this with the inflation rate at this time."
   ]
  },
  {
   "cell_type": "code",
   "execution_count": null,
   "id": "downtown-aquatic",
   "metadata": {},
   "outputs": [],
   "source": [
    "fig = draw_periodic_return(\n",
    "    {\n",
    "        'ltt': yearly_returns.loc['1965':'1990', 'ltt_eu'],\n",
    "        'gold': yearly_returns.loc['1965':'1990', 'gold'],\n",
    "        's&p 500 (incl. dividends)': yearly_returns.loc['1965':'1990', 'sp500+div'],\n",
    "    },\n",
    "    \"Yearly Returns\",\n",
    "    show=False\n",
    ")\n",
    "fig.update_yaxes(title_text=\"inflation in % (yoy)\", secondary_y=True, showgrid=False)\n",
    "fig.add_trace(\n",
    "    go.Scatter(\n",
    "        x=inflation.loc['1965':'1990', 'yoy'].index,\n",
    "        y=inflation.loc['1965':'1990', 'yoy'],\n",
    "        mode='lines',\n",
    "        name=\"inflation\",\n",
    "    ),\n",
    "    secondary_y=True\n",
    ")\n",
    "fig.show()"
   ]
  },
  {
   "cell_type": "markdown",
   "id": "foster-princess",
   "metadata": {},
   "source": [
    "In this graph we can see, that gold had extremly high gains in those years where the inflation was increasing a lot. On years where the inflation was decreasing, gold has very small or even negative returns. This might be important in case the inflation is further increasing in the upcomming years. "
   ]
  },
  {
   "cell_type": "markdown",
   "id": "unsigned-adult",
   "metadata": {},
   "source": [
    "## Seasonal Returns\n",
    "\n",
    "In the next section, we investigate into seasonal returns of our assets."
   ]
  },
  {
   "cell_type": "code",
   "execution_count": null,
   "id": "conventional-registrar",
   "metadata": {},
   "outputs": [],
   "source": [
    "monthly_returns = assets.pct_change(1, freq=\"M\")\n",
    "monthly_returns = monthly_returns.dropna()\n",
    "monthly_returns.head()"
   ]
  },
  {
   "cell_type": "markdown",
   "id": "acquired-experience",
   "metadata": {},
   "source": [
    "For investigating into seasonal effects, we should delete years, which has crisis. So we delete the years 1973, 1974, 2000, 2001, 2002, 2008 and 2020."
   ]
  },
  {
   "cell_type": "code",
   "execution_count": null,
   "id": "dangerous-thirty",
   "metadata": {},
   "outputs": [],
   "source": [
    "years_to_delete = [1973, 1974, 2000, 2001, 2002, 2008, 2020]\n",
    "monthly_returns_corrected = monthly_returns[~(monthly_returns.index.year.isin(years_to_delete))]\n",
    "monthly_returns_corrected.head()"
   ]
  },
  {
   "cell_type": "code",
   "execution_count": null,
   "id": "turkish-failure",
   "metadata": {},
   "outputs": [],
   "source": [
    "seasonal_returns = monthly_returns_corrected.groupby(monthly_returns_corrected.index.month).mean()\n",
    "fig = draw_periodic_return(\n",
    "    {\n",
    "        'ltt': seasonal_returns['ltt_eu'],\n",
    "        'gold': seasonal_returns['gold'],\n",
    "        's&p 500 (incl. dividends)': seasonal_returns['sp500+div'],\n",
    "    },\n",
    "    \"Seasonal Returns\",\n",
    "    show=True\n",
    ")"
   ]
  },
  {
   "cell_type": "code",
   "execution_count": null,
   "id": "present-korean",
   "metadata": {},
   "outputs": [],
   "source": [
    "month = 2\n",
    "month_returns = monthly_returns_corrected.loc[monthly_returns_corrected.groupby(monthly_returns_corrected.index.month).groups[month], :]\n",
    "returns_over_time = cached(cache_path / \"04_average_return_over_time_feb.pkl\")(calc_average_return_over_time)(\n",
    "    month_returns,\n",
    "    relativedelta(years=10),\n",
    "    relativedelta(months=1),\n",
    "    ['stt_eu', 'itt_eu', 'ltt_eu', 'gold', 'sp500+div']\n",
    ")    \n",
    "draw_growth_chart(\n",
    "    {\n",
    "        'Average Return (all years)': pd.Series(index = month_returns.index, data = month_returns['sp500+div'].mean() * 100),\n",
    "        'ltt': month_returns['ltt_us'] * 100,\n",
    "        'gold': month_returns['gold'] * 100,\n",
    "        'S&P 500 (incl. Dividends)': month_returns['sp500+div'] * 100,        \n",
    "    },\n",
    "    \"Average Returns for February over Years (10 Years Moving Average)\",\n",
    "    y_log=False,\n",
    "    y_title=\"Return in %\"\n",
    ")"
   ]
  },
  {
   "cell_type": "code",
   "execution_count": null,
   "id": "outstanding-herald",
   "metadata": {},
   "outputs": [],
   "source": [
    "month = 12\n",
    "month_returns = monthly_returns_corrected.loc[monthly_returns_corrected.groupby(monthly_returns_corrected.index.month).groups[month], :]\n",
    "returns_over_time = cached(cache_path / \"04_average_return_over_time_dec.pkl\")(calc_average_return_over_time)(\n",
    "    month_returns,\n",
    "    relativedelta(years=10),\n",
    "    relativedelta(months=1),\n",
    "    ['stt_eu', 'itt_eu', 'ltt_eu', 'gold', 'sp500+div']\n",
    ")    \n",
    "draw_growth_chart(\n",
    "    {\n",
    "        'Average Return (all years)': pd.Series(index = month_returns.index, data = month_returns['sp500+div'].mean() * 100),\n",
    "        'ltt': month_returns['ltt_us'] * 100,\n",
    "        'gold': month_returns['gold'] * 100,\n",
    "        'S&P 500 (incl. Dividends)': month_returns['sp500+div'] * 100,        \n",
    "    },\n",
    "    \"Average Returns for December over Years (10 Years Moving Average)\",\n",
    "    y_log=False,\n",
    "    y_title=\"Return in %\"\n",
    ")"
   ]
  },
  {
   "cell_type": "markdown",
   "id": "mysterious-lottery",
   "metadata": {},
   "source": [
    "## Daily Returns \n",
    "\n",
    "Now we concentrate on analysis, for which we use daily return rates."
   ]
  },
  {
   "cell_type": "code",
   "execution_count": null,
   "id": "seasonal-colonial",
   "metadata": {},
   "outputs": [],
   "source": [
    "daily_returns = assets.pct_change(1, freq=\"D\")\n",
    "daily_returns = daily_returns.dropna()\n",
    "daily_returns.head()"
   ]
  },
  {
   "cell_type": "code",
   "execution_count": null,
   "id": "spare-washington",
   "metadata": {},
   "outputs": [],
   "source": [
    "correlations_long = daily_returns.corr()"
   ]
  },
  {
   "cell_type": "code",
   "execution_count": null,
   "id": "electric-oklahoma",
   "metadata": {},
   "outputs": [],
   "source": [
    "# draw correlation matrices between individual assets\n",
    "draw_correlations(correlations_long, daily_returns, \"daily\", ['stt_eu', 'stt_us'], 1)"
   ]
  },
  {
   "cell_type": "code",
   "execution_count": null,
   "id": "cooperative-nothing",
   "metadata": {},
   "outputs": [],
   "source": [
    "draw_correlations(correlations_long, daily_returns, \"daily\", ['itt_eu', 'itt_us'], 1)"
   ]
  },
  {
   "cell_type": "code",
   "execution_count": null,
   "id": "pediatric-console",
   "metadata": {},
   "outputs": [],
   "source": [
    "draw_correlations(correlations_long, daily_returns, \"daily\", ['ltt_eu', 'ltt_us'], 1)"
   ]
  },
  {
   "cell_type": "markdown",
   "id": "competitive-elizabeth",
   "metadata": {},
   "source": [
    "As we can see, the US and EU treasury bonds are very high correlated to eachother. This is expected, since they are based on the same yields, just with slightly different maturity durations. "
   ]
  },
  {
   "cell_type": "code",
   "execution_count": null,
   "id": "driving-liechtenstein",
   "metadata": {},
   "outputs": [],
   "source": [
    "draw_correlations(correlations_long, daily_returns, \"daily\", ['stt_eu', 'itt_eu', 'ltt_eu'], 2)"
   ]
  },
  {
   "cell_type": "markdown",
   "id": "lesser-premium",
   "metadata": {},
   "source": [
    "But also to eachother (STT vs. ITT vs. LTT) the correlation is very high. However, with increasing maturity duration the correlations is decreasing."
   ]
  },
  {
   "cell_type": "code",
   "execution_count": null,
   "id": "civilian-steering",
   "metadata": {},
   "outputs": [],
   "source": [
    "draw_correlations(correlations_long, daily_returns, \"daily\", ['stt_eu', 'itt_eu', 'ltt_eu', 'gold'], 3)"
   ]
  },
  {
   "cell_type": "markdown",
   "id": "antique-honey",
   "metadata": {},
   "source": [
    "Gold is very less correlated to the Treasury Bonds. This makes gold to a good hedge inside the hedge. "
   ]
  },
  {
   "cell_type": "code",
   "execution_count": null,
   "id": "monetary-peripheral",
   "metadata": {},
   "outputs": [],
   "source": [
    "draw_correlations(correlations_long, daily_returns, \"daily\", ['stt_eu', 'itt_eu', 'ltt_eu', 'sp500'], 3)"
   ]
  },
  {
   "cell_type": "markdown",
   "id": "hundred-tribune",
   "metadata": {},
   "source": [
    "Also the correlation between Treasury bonds and the S&P 500 is very low. "
   ]
  },
  {
   "cell_type": "code",
   "execution_count": null,
   "id": "buried-centre",
   "metadata": {},
   "outputs": [],
   "source": [
    "draw_correlations(correlations_long, daily_returns, \"daily\", ['ltt_eu', 'gold', 'sp500'], 2)"
   ]
  },
  {
   "cell_type": "markdown",
   "id": "adequate-closer",
   "metadata": {},
   "source": [
    "Also the correlation between Gold and S&P 500 is very low. With LTT, Gold and S&P 500, we have 3 almost completly uncorrelated assets. "
   ]
  },
  {
   "cell_type": "markdown",
   "id": "forty-drilling",
   "metadata": {},
   "source": [
    "For analysing the correlations of Nasdaq-100, we need to start from 1986, instead of 1944. Otherwise the the correlations between S&P 500 and Nasdaq-100 is too high, because it is overlapping half of the time."
   ]
  },
  {
   "cell_type": "code",
   "execution_count": null,
   "id": "persistent-taxation",
   "metadata": {},
   "outputs": [],
   "source": [
    "correlations_short = daily_returns.loc['1986':, :].corr()"
   ]
  },
  {
   "cell_type": "code",
   "execution_count": null,
   "id": "hawaiian-question",
   "metadata": {},
   "outputs": [],
   "source": [
    "draw_correlations(correlations_long, daily_returns, \"daily\", ['ndx100', 'sp500'], 1)"
   ]
  },
  {
   "cell_type": "markdown",
   "id": "confidential-document",
   "metadata": {},
   "source": [
    "Since the introduction of the Nasdaq-100, the correlation between S&P 500 and Nasdaq-100 is quite high."
   ]
  },
  {
   "cell_type": "code",
   "execution_count": null,
   "id": "boxed-respect",
   "metadata": {},
   "outputs": [],
   "source": [
    "draw_correlations(correlations_long, daily_returns, \"daily\", ['ltt_eu', 'gold', 'sp500', 'ndx100'], 3)"
   ]
  },
  {
   "cell_type": "markdown",
   "id": "forbidden-arthritis",
   "metadata": {},
   "source": [
    "However, Nasdaq-100 seems to be in the same way uncorrelated to LTT and Gold as S&P 500 is. "
   ]
  },
  {
   "cell_type": "code",
   "execution_count": null,
   "id": "departmental-timing",
   "metadata": {},
   "outputs": [],
   "source": [
    "draw_correlations(daily_returns.corr(), daily_returns, \"daily\", ['ltt_eu', 'gold', 'sp500', 'ndx100'], 3)"
   ]
  },
  {
   "cell_type": "code",
   "execution_count": null,
   "id": "coordinate-america",
   "metadata": {},
   "outputs": [],
   "source": [
    "draw_correlations(monthly_returns.corr(), monthly_returns, \"monthly\", ['ltt_eu', 'gold', 'sp500', 'ndx100'], 3)"
   ]
  },
  {
   "cell_type": "code",
   "execution_count": null,
   "id": "stunning-recruitment",
   "metadata": {},
   "outputs": [],
   "source": [
    "draw_correlations(yearly_returns.corr(), yearly_returns, \"annual\", ['ltt_eu', 'gold', 'sp500', 'ndx100'], 3)"
   ]
  },
  {
   "cell_type": "markdown",
   "id": "political-reflection",
   "metadata": {},
   "source": [
    "We can also see, that the correlation does not change much when we calculate it on the monthly or yearly returns. Only the correlation between Gold and S&P500/Nasdaq-100 is increasing slightly, but in the negative way, thus when S&P 500 is shrinking gold is slightly increasing."
   ]
  },
  {
   "cell_type": "markdown",
   "id": "humanitarian-strategy",
   "metadata": {},
   "source": [
    "## Effect of Inflation on Returns\n",
    "\n",
    "Now let's investigate in the correlation between inflation and returns of different asset classes. First we print the inflation over all years together with Gold, S&P500 and LTTs. "
   ]
  },
  {
   "cell_type": "code",
   "execution_count": null,
   "id": "intense-approach",
   "metadata": {},
   "outputs": [],
   "source": [
    "fig = draw_periodic_return(\n",
    "    {\n",
    "        'ltt': yearly_returns.loc[:, 'ltt_eu'],\n",
    "        'gold': yearly_returns.loc[:, 'gold'],\n",
    "        's&p 500': yearly_returns.loc[:, 'sp500'],\n",
    "    },\n",
    "    \"Yearly Returns\",\n",
    "    show=False\n",
    ")\n",
    "fig.update_yaxes(title_text=\"inflation in % (yoy)\", secondary_y=True, showgrid=False)\n",
    "fig.add_trace(\n",
    "    go.Scatter(\n",
    "        x=inflation.loc[:, 'yoy'].index,\n",
    "        y=inflation.loc[:, 'yoy'],\n",
    "        mode='lines',\n",
    "        name=\"inflation\",\n",
    "    ),\n",
    "    secondary_y=True\n",
    ")\n",
    "fig.show()"
   ]
  },
  {
   "cell_type": "markdown",
   "id": "mathematical-moisture",
   "metadata": {},
   "source": [
    "On a first glance, it looks like small inflation is better for S&P 500 and high inflation is better for Gold. Let's now calculate the correlation."
   ]
  },
  {
   "cell_type": "code",
   "execution_count": null,
   "id": "solved-crowd",
   "metadata": {},
   "outputs": [],
   "source": [
    "correlation = yearly_returns.copy()\n",
    "correlation.index = correlation.index - pd_offsets.MonthBegin(0)\n",
    "correlation['inflation'] = inflation[(inflation.index.day == 1) & (inflation.index.month==1)]['yoy']\n",
    "draw_correlations(correlation.corr(), correlation, \"yearly\", ['ltt_eu', 'gold', 'sp500', 'inflation'], 3)"
   ]
  },
  {
   "cell_type": "markdown",
   "id": "pediatric-title",
   "metadata": {},
   "source": [
    "On the yearly data, we can see a small negative correlation on S&P 500 and a small positive on Gold. Thus when the inflation increases Gold returns are more likely to increase as well and S&P 500 returns are more likly to decrease. But the effect is very weak."
   ]
  },
  {
   "cell_type": "markdown",
   "id": "official-persian",
   "metadata": {},
   "source": [
    "## Effect of Interest Rates on Asset Returns\n",
    "\n",
    "Now we do the same investigation for interest rates. First we look at the returns and try to detect patterns."
   ]
  },
  {
   "cell_type": "code",
   "execution_count": null,
   "id": "nearby-adapter",
   "metadata": {},
   "outputs": [],
   "source": [
    "fig = draw_periodic_return(\n",
    "    {\n",
    "        'ltt': yearly_returns.loc[:, 'ltt_eu'],\n",
    "        'gold': yearly_returns.loc[:, 'gold'],\n",
    "        's&p 500': yearly_returns.loc[:, 'sp500'],\n",
    "    },\n",
    "    \"Yearly Returns\",\n",
    "    show=False\n",
    ")\n",
    "fig.update_yaxes(title_text=\"federal funds return in %\", secondary_y=True, showgrid=False)\n",
    "fig.add_trace(\n",
    "    go.Scatter(\n",
    "        x=ffr.index,\n",
    "        y=ffr['ffr'],\n",
    "        mode='lines',\n",
    "        name=\"federal funds return\",\n",
    "    ),\n",
    "    secondary_y=False\n",
    ")\n",
    "fig.show()"
   ]
  },
  {
   "cell_type": "markdown",
   "id": "brazilian-france",
   "metadata": {},
   "source": [
    "It looks like when the interest rate is decreasing, also Gold returns are decreasing. Furthermore the S&P 500 returns seems to increase at the same time. This makes sense, because of the small negative correlation between Gold and S&P 500 on yearly returns data. "
   ]
  },
  {
   "cell_type": "code",
   "execution_count": null,
   "id": "superb-delaware",
   "metadata": {},
   "outputs": [],
   "source": [
    "correlation = yearly_returns.copy()\n",
    "correlation.index = correlation.index - pd_offsets.MonthBegin(0)\n",
    "ffr_yearly = ffr.groupby(ffr.index.year).mean()['ffr']\n",
    "for i in correlation.index:\n",
    "    correlation.loc[i, 'interest'] = ffr_yearly.loc[i.year]\n",
    "draw_correlations(correlation.corr(), correlation, \"yearly\", ['ltt_eu', 'gold', 'sp500', 'interest'], 3)"
   ]
  },
  {
   "cell_type": "markdown",
   "id": "located-cement",
   "metadata": {},
   "source": [
    "The effect on Gold and S&P 500 is even weaker as it was for the inflation rate. This is a sign that the asset returns is maybe a little bit sensitive to inflation, and since inflation and interest rate has some kind of correlation, it is also sensitive (but not so much) on the interest rate."
   ]
  },
  {
   "cell_type": "code",
   "execution_count": null,
   "id": "pursuant-interest",
   "metadata": {},
   "outputs": [],
   "source": [
    "correlations_over_time = cached(cache_path / \"04_correlation_over_time_5_years.pkl\")(calc_correlations_over_time)(\n",
    "    daily_returns,\n",
    "    relativedelta(years=5),\n",
    "    relativedelta(months=1),\n",
    "    ['stt_eu', 'itt_eu', 'ltt_eu', 'gold', 'sp500']\n",
    ")    \n",
    "correlations_over_time.head()"
   ]
  },
  {
   "cell_type": "code",
   "execution_count": null,
   "id": "beginning-rotation",
   "metadata": {},
   "outputs": [],
   "source": [
    "draw_growth_chart(\n",
    "    {\n",
    "        'ltt vs. sp500': correlations_over_time['ltt_eu vs. sp500'] * 100,\n",
    "        'itt vs. sp500': correlations_over_time['itt_eu vs. sp500'] * 100,\n",
    "        'stt vs. sp500': correlations_over_time['stt_eu vs. sp500'] * 100,\n",
    "        'gold vs. sp500': correlations_over_time['gold vs. sp500'] * 100,\n",
    "        'ltt vs. gold': correlations_over_time['ltt_eu vs. gold'] * 100,        \n",
    "    },\n",
    "    \"Correlation over Years (5 Years Correlation)\",\n",
    "    y_log=False,\n",
    "    y_title=\"correlation in %\"\n",
    ")"
   ]
  },
  {
   "cell_type": "markdown",
   "id": "canadian-resolution",
   "metadata": {},
   "source": [
    "As we can see the correlation between stocks and bonds is changing drastically over time. There were periods of years, where the correlation was almost 40% and on other periods the correlation was negative.\n",
    "\n",
    "The correlation between gold and stocks and gold and bonds is almost the whole time very low below absolute 20%."
   ]
  },
  {
   "cell_type": "code",
   "execution_count": null,
   "id": "paperback-hometown",
   "metadata": {},
   "outputs": [],
   "source": [
    "correlations_over_time = cached(cache_path / \"04_correlation_over_time_3_month.pkl\")(calc_correlations_over_time)(\n",
    "    daily_returns,\n",
    "    relativedelta(months=3),\n",
    "    relativedelta(months=1),\n",
    "    ['stt_eu', 'itt_eu', 'ltt_eu', 'gold', 'sp500']\n",
    ")    \n",
    "correlations_over_time.head()"
   ]
  },
  {
   "cell_type": "code",
   "execution_count": null,
   "id": "operational-newfoundland",
   "metadata": {},
   "outputs": [],
   "source": [
    "draw_growth_chart(\n",
    "    {\n",
    "        'ltt vs. sp500': correlations_over_time['ltt_eu vs. sp500'] * 100,\n",
    "        'itt vs. sp500': correlations_over_time['itt_eu vs. sp500'] * 100,\n",
    "        'stt vs. sp500': correlations_over_time['stt_eu vs. sp500'] * 100,        \n",
    "        'gold vs. sp500': correlations_over_time['gold vs. sp500'] * 100,\n",
    "        'ltt vs. gold': correlations_over_time['ltt_eu vs. gold'] * 100,        \n",
    "    },\n",
    "    \"Correlation over Years (3 Month Correlation)\",\n",
    "    y_log=False,\n",
    "    y_title=\"correlation in %\"\n",
    ")"
   ]
  }
 ],
 "metadata": {
  "kernelspec": {
   "display_name": "Python 3",
   "language": "python",
   "name": "python3"
  },
  "language_info": {
   "codemirror_mode": {
    "name": "ipython",
    "version": 3
   },
   "file_extension": ".py",
   "mimetype": "text/x-python",
   "name": "python",
   "nbconvert_exporter": "python",
   "pygments_lexer": "ipython3",
   "version": "3.9.12"
  }
 },
 "nbformat": 4,
 "nbformat_minor": 5
}
