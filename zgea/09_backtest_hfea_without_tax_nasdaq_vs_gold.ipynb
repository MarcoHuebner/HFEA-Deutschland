{
 "cells": [
  {
   "cell_type": "markdown",
   "id": "competent-skill",
   "metadata": {},
   "source": [
    "# Backtest of HFEA strategy with Nasdaq and Gold"
   ]
  },
  {
   "cell_type": "code",
   "execution_count": null,
   "id": "functioning-actor",
   "metadata": {},
   "outputs": [],
   "source": [
    "import pandas as pd\n",
    "from pathlib import Path\n",
    "from dateutil.relativedelta import relativedelta"
   ]
  },
  {
   "cell_type": "code",
   "execution_count": null,
   "id": "challenging-cisco",
   "metadata": {},
   "outputs": [],
   "source": [
    "from utils.plots import compare_portfolios\n",
    "from utils.portfolio import Portfolio"
   ]
  },
  {
   "cell_type": "code",
   "execution_count": null,
   "id": "utility-ladder",
   "metadata": {},
   "outputs": [],
   "source": [
    "# load raw and clean data\n",
    "clean_data_path = Path(\"clean_data\")\n",
    "cache_path = Path(\"cached_data\")"
   ]
  },
  {
   "cell_type": "code",
   "execution_count": null,
   "id": "renewable-confusion",
   "metadata": {},
   "outputs": [],
   "source": [
    "# get preprocessed ETF data and convert to have useable index\n",
    "input_path = clean_data_path / \"etfs.xlsx\"\n",
    "etfs = pd.read_excel(input_path, index_col=0)\n",
    "etfs.index = pd.to_datetime(etfs.index)\n",
    "etfs['cash'] = 100.0\n",
    "etfs.head()"
   ]
  },
  {
   "cell_type": "code",
   "execution_count": null,
   "id": "hollow-patio",
   "metadata": {},
   "outputs": [],
   "source": [
    "# backtest S&P 500, HFEA and 50/50 as proxy\n",
    "p_sp500 = Portfolio(\n",
    "    {\n",
    "        '1x_sp500_eu': 100.0,\n",
    "    },\n",
    "    start_value = 1000,\n",
    ").backtest(etfs)\n",
    "\n",
    "p_hfea = Portfolio(\n",
    "    {\n",
    "        '3x_sp500_us': 55.0,\n",
    "        '3x_ltt_us': 45.0,\n",
    "    },\n",
    "    start_value = 1000,\n",
    "    rebalancing = relativedelta(months=3),\n",
    "    rebalancing_offset = relativedelta(days=-6),\n",
    ").backtest(etfs)\n",
    "\n",
    "p_pari = Portfolio(\n",
    "    {\n",
    "        '1x_sp500_eu': 60.0,\n",
    "        '1x_ltt_eu': 40.0,\n",
    "    },\n",
    "    start_value = 1000,\n",
    "    rebalancing = relativedelta(months=3),\n",
    "    rebalancing_offset = relativedelta(days=-6),\n",
    ").backtest(etfs)"
   ]
  },
  {
   "cell_type": "markdown",
   "id": "unusual-advocate",
   "metadata": {},
   "source": [
    "## Use Nasdaq-100 instead of S&P 500\n",
    "\n",
    "### 50% Growth Allocation"
   ]
  },
  {
   "cell_type": "code",
   "execution_count": null,
   "id": "professional-scheme",
   "metadata": {},
   "outputs": [],
   "source": [
    "allocations = list(range(0,101,5))\n",
    "growth_allocation = 50\n",
    "\n",
    "short_names = []\n",
    "portfolios = {}\n",
    "for p in allocations:\n",
    "    name = f\"{p}%\"\n",
    "    print(f\"Calculate: {name} Nasdaq-100\")\n",
    "    short_names.append(name)\n",
    "    portfolios[name] = Portfolio(\n",
    "        {\n",
    "            \"2x_sp500_eu\": (growth_allocation*(100-p))/100,\n",
    "            \"2x_ndx100_eu\": (growth_allocation*p)/100,\n",
    "            \"1x_ltt_eu\": 100-growth_allocation,\n",
    "        },\n",
    "        start_value = 1000,\n",
    "        rebalancing = relativedelta(months=3),\n",
    "        rebalancing_offset = relativedelta(days=-6),\n",
    "    ).backtest(etfs)\n",
    "    \n",
    "\n",
    "portfolios['HFEA'] = p_hfea\n",
    "short_names.append(\"HFEA\")\n",
    "portfolios['S&P500'] = p_sp500\n",
    "short_names.append('S&P500')\n",
    "portfolios['P'] = p_pari\n",
    "short_names.append('P')\n",
    "\n",
    "compare_portfolios(\n",
    "    portfolios,\n",
    "    short_names = short_names,\n",
    "    details=True,\n",
    ") "
   ]
  },
  {
   "cell_type": "markdown",
   "id": "dying-press",
   "metadata": {},
   "source": [
    "Is seems that 20% Nasdaq-100 allocation gives more returns without increasing the risk. "
   ]
  },
  {
   "cell_type": "markdown",
   "id": "narrow-dominican",
   "metadata": {},
   "source": [
    "### 65% Growth Allocation"
   ]
  },
  {
   "cell_type": "code",
   "execution_count": null,
   "id": "adopted-paste",
   "metadata": {},
   "outputs": [],
   "source": [
    "allocations = list(range(0,101,5))\n",
    "growth_allocation = 65\n",
    "\n",
    "short_names = []\n",
    "portfolios = {}\n",
    "for p in allocations:\n",
    "    name = f\"{p}%\"\n",
    "    print(f\"Calculate: {name} Nasdaq-100\")\n",
    "    short_names.append(name)\n",
    "    portfolios[name] = Portfolio(\n",
    "        {\n",
    "            \"2x_sp500_eu\": (growth_allocation*(100-p))/100,\n",
    "            \"2x_ndx100_eu\": (growth_allocation*p)/100,\n",
    "            \"1x_ltt_eu\": 100-growth_allocation,\n",
    "        },\n",
    "        start_value = 1000,\n",
    "        rebalancing = relativedelta(months=3),\n",
    "        rebalancing_offset = relativedelta(days=-6),\n",
    "    ).backtest(etfs)\n",
    "    \n",
    "\n",
    "portfolios['HFEA'] = p_hfea\n",
    "short_names.append(\"HFEA\")\n",
    "portfolios['S&P500'] = p_sp500\n",
    "short_names.append('S&P500')\n",
    "portfolios['P'] = p_pari\n",
    "short_names.append('P')\n",
    "\n",
    "compare_portfolios(\n",
    "    portfolios,\n",
    "    short_names = short_names,\n",
    "    details=True,\n",
    ")"
   ]
  },
  {
   "cell_type": "markdown",
   "id": "daily-arbitration",
   "metadata": {},
   "source": [
    "For 65% allocation, a portion of 10% for Nasdaq-100 in the growth part seems to be a good fit."
   ]
  },
  {
   "cell_type": "markdown",
   "id": "acting-color",
   "metadata": {},
   "source": [
    "### 80% Growth Allocation"
   ]
  },
  {
   "cell_type": "code",
   "execution_count": null,
   "id": "classical-district",
   "metadata": {},
   "outputs": [],
   "source": [
    "allocations = list(range(0,101,5))\n",
    "growth_allocation = 80\n",
    "\n",
    "short_names = []\n",
    "portfolios = {}\n",
    "for p in allocations:\n",
    "    name = f\"{p}%\"\n",
    "    print(f\"Calculate: {name} Nasdaq-100\")\n",
    "    short_names.append(name)\n",
    "    portfolios[name] = Portfolio(\n",
    "        {\n",
    "            \"2x_sp500_eu\": (growth_allocation*(100-p))/100,\n",
    "            \"2x_ndx100_eu\": (growth_allocation*p)/100,\n",
    "            \"1x_ltt_eu\": 100-growth_allocation,\n",
    "        },\n",
    "        start_value = 1000,\n",
    "        rebalancing = relativedelta(months=3),\n",
    "        rebalancing_offset = relativedelta(days=-6),\n",
    "    ).backtest(etfs)\n",
    "    \n",
    "\n",
    "portfolios['HFEA'] = p_hfea\n",
    "short_names.append(\"HFEA\")\n",
    "portfolios['S&P500'] = p_sp500\n",
    "short_names.append('S&P500')\n",
    "portfolios['P'] = p_pari\n",
    "short_names.append('P')\n",
    "\n",
    "compare_portfolios(\n",
    "    portfolios,\n",
    "    short_names = short_names,\n",
    "    details=True,\n",
    ")"
   ]
  },
  {
   "cell_type": "markdown",
   "id": "moral-giant",
   "metadata": {},
   "source": [
    "By adding Nasdaq-100 to the 80% growth allocation protfolio, we can increase the performance, but also the risk. So we decide to not take a Nasdaq-100 Part here. "
   ]
  },
  {
   "cell_type": "markdown",
   "id": "colored-rouge",
   "metadata": {},
   "source": [
    "### 65% Growth Allocation with 3x Leveraged ETNs"
   ]
  },
  {
   "cell_type": "code",
   "execution_count": null,
   "id": "powered-measurement",
   "metadata": {},
   "outputs": [],
   "source": [
    "allocations = list(range(0,101,5))\n",
    "growth_allocation = 65\n",
    "\n",
    "short_names = []\n",
    "portfolios = {}\n",
    "for p in allocations:\n",
    "    name = f\"{p}%\"\n",
    "    print(f\"Calculate: {name} Nasdaq-100\")\n",
    "    short_names.append(name)\n",
    "    portfolios[name] = Portfolio(\n",
    "        {\n",
    "            \"3x_sp500_eu\": (growth_allocation*(100-p))/100,\n",
    "            \"3x_ndx100_eu\": (growth_allocation*p)/100,\n",
    "            \"3x_itt_eu\": 100-growth_allocation,\n",
    "        },\n",
    "        start_value = 1000,\n",
    "        rebalancing = relativedelta(months=3),\n",
    "        rebalancing_offset = relativedelta(days=-6),\n",
    "    ).backtest(etfs)\n",
    "    \n",
    "\n",
    "portfolios['HFEA'] = p_hfea\n",
    "short_names.append(\"HFEA\")\n",
    "portfolios['S&P500'] = p_sp500\n",
    "short_names.append('S&P500')\n",
    "portfolios['P'] = p_pari\n",
    "short_names.append('P')\n",
    "\n",
    "compare_portfolios(\n",
    "    portfolios,\n",
    "    short_names = short_names,\n",
    "    details=True,\n",
    ")"
   ]
  },
  {
   "cell_type": "markdown",
   "id": "brilliant-element",
   "metadata": {},
   "source": [
    "Also here, we see an increase of risk together with the increase of performance. "
   ]
  },
  {
   "cell_type": "markdown",
   "id": "suspected-politics",
   "metadata": {},
   "source": [
    "### HFEA"
   ]
  },
  {
   "cell_type": "code",
   "execution_count": null,
   "id": "headed-commission",
   "metadata": {},
   "outputs": [],
   "source": [
    "allocations = list(range(0,101,5))\n",
    "growth_allocation = 55\n",
    "\n",
    "short_names = []\n",
    "portfolios = {}\n",
    "for p in allocations:\n",
    "    name = f\"{p}%\"\n",
    "    print(f\"Calculate: {name} Nasdaq-100\")\n",
    "    short_names.append(name)\n",
    "    portfolios[name] = Portfolio(\n",
    "        {\n",
    "            \"3x_sp500_us\": (growth_allocation*(100-p))/100,\n",
    "            \"3x_ndx100_us\": (growth_allocation*p)/100,\n",
    "            \"3x_ltt_us\": 100-growth_allocation,\n",
    "        },\n",
    "        start_value = 1000,\n",
    "        rebalancing = relativedelta(months=3),\n",
    "        rebalancing_offset = relativedelta(days=-6),\n",
    "    ).backtest(etfs)\n",
    "    \n",
    "\n",
    "portfolios['HFEA'] = p_hfea\n",
    "short_names.append(\"HFEA\")\n",
    "portfolios['S&P500'] = p_sp500\n",
    "short_names.append('S&P500')\n",
    "portfolios['P'] = p_pari\n",
    "short_names.append('P')\n",
    "\n",
    "compare_portfolios(\n",
    "    portfolios,\n",
    "    short_names = short_names,\n",
    "    details=True,\n",
    ")"
   ]
  },
  {
   "cell_type": "markdown",
   "id": "rational-merit",
   "metadata": {},
   "source": [
    "It seems that an allocation of 45% Nasdaq-100 is increasing the performance a lot, while not further increasing the risk. "
   ]
  },
  {
   "cell_type": "markdown",
   "id": "healthy-diving",
   "metadata": {},
   "source": [
    "## Nasdaq in Combination with Gold\n",
    "\n",
    "### 50% Growth Allocation (with 15% Nasdaq-100)"
   ]
  },
  {
   "cell_type": "code",
   "execution_count": null,
   "id": "fluid-layer",
   "metadata": {},
   "outputs": [],
   "source": [
    "allocations = list(range(0,101,5))\n",
    "growth_allocation = 50\n",
    "ndx_allocation = 15\n",
    "\n",
    "short_names = []\n",
    "portfolios = {}\n",
    "for p in allocations:\n",
    "    name = f\"{p}%\"\n",
    "    print(f\"Calculate: {name} Gold with Nasdaq-100\")\n",
    "    short_names.append(name)\n",
    "    portfolios[name] = Portfolio(\n",
    "        {\n",
    "            \"2x_sp500_eu\": (growth_allocation*(100-ndx_allocation))/100,\n",
    "            \"2x_ndx100_eu\": (growth_allocation*ndx_allocation)/100,\n",
    "            \"1x_ltt_eu\": ((100-growth_allocation)*(100-p))/100,\n",
    "            \"1x_gold_eu\": ((100-growth_allocation)*(p))/100,\n",
    "        },\n",
    "        start_value = 1000,\n",
    "        rebalancing = relativedelta(months=3),\n",
    "        rebalancing_offset = relativedelta(days=-6),\n",
    "    ).backtest(etfs)\n",
    "    \n",
    "\n",
    "portfolios['HFEA'] = p_hfea\n",
    "short_names.append(\"HFEA\")\n",
    "portfolios['S&P500'] = p_sp500\n",
    "short_names.append('S&P500')\n",
    "portfolios['P'] = p_pari\n",
    "short_names.append('P')\n",
    "\n",
    "compare_portfolios(\n",
    "    portfolios,\n",
    "    short_names = short_names,\n",
    "    details=True,\n",
    ") "
   ]
  },
  {
   "cell_type": "markdown",
   "id": "threaded-disclosure",
   "metadata": {},
   "source": [
    "Adding Gold to this portfolio is just increasing the risk. "
   ]
  },
  {
   "cell_type": "markdown",
   "id": "oriental-circuit",
   "metadata": {},
   "source": [
    "### 65% Growth Allocation (with 15% Nasdaq-100)"
   ]
  },
  {
   "cell_type": "code",
   "execution_count": null,
   "id": "loose-community",
   "metadata": {},
   "outputs": [],
   "source": [
    "allocations = list(range(0,101,5))\n",
    "growth_allocation = 65\n",
    "ndx_allocation = 15\n",
    "\n",
    "short_names = []\n",
    "portfolios = {}\n",
    "for p in allocations:\n",
    "    name = f\"{p}%\"\n",
    "    print(f\"Calculate: {name} Gold with Nasdaq-100\")\n",
    "    short_names.append(name)\n",
    "    portfolios[name] = Portfolio(\n",
    "        {\n",
    "            \"2x_sp500_eu\": (growth_allocation*(100-ndx_allocation))/100,\n",
    "            \"2x_ndx100_eu\": (growth_allocation*ndx_allocation)/100,\n",
    "            \"1x_ltt_eu\": ((100-growth_allocation)*(100-p))/100,\n",
    "            \"1x_gold_eu\": ((100-growth_allocation)*(p))/100,\n",
    "        },\n",
    "        start_value = 1000,\n",
    "        rebalancing = relativedelta(months=3),\n",
    "        rebalancing_offset = relativedelta(days=-6),\n",
    "    ).backtest(etfs)\n",
    "    \n",
    "\n",
    "portfolios['HFEA'] = p_hfea\n",
    "short_names.append(\"HFEA\")\n",
    "portfolios['S&P500'] = p_sp500\n",
    "short_names.append('S&P500')\n",
    "portfolios['P'] = p_pari\n",
    "short_names.append('P')\n",
    "\n",
    "compare_portfolios(\n",
    "    portfolios,\n",
    "    short_names = short_names,\n",
    "    details=True,\n",
    ") "
   ]
  },
  {
   "cell_type": "markdown",
   "id": "secure-context",
   "metadata": {},
   "source": [
    "Giving any Gold to this portfolio is just increasing the risk. "
   ]
  },
  {
   "cell_type": "markdown",
   "id": "infrared-strand",
   "metadata": {},
   "source": [
    "### 80% Growth without Nasdaq"
   ]
  },
  {
   "cell_type": "code",
   "execution_count": null,
   "id": "african-impression",
   "metadata": {},
   "outputs": [],
   "source": [
    "allocations = list(range(0,101,5))\n",
    "growth_allocation = 80\n",
    "ndx_allocation = 15\n",
    "\n",
    "short_names = []\n",
    "portfolios = {}\n",
    "for p in allocations:\n",
    "    name = f\"{p}%\"\n",
    "    print(f\"Calculate: {name} Gold with Nasdaq-100\")\n",
    "    short_names.append(name)\n",
    "    portfolios[name] = Portfolio(\n",
    "        {\n",
    "            \"2x_sp500_eu\": (growth_allocation*(100-0))/100,\n",
    "            \"2x_ndx100_eu\": (growth_allocation*0)/100,\n",
    "            \"1x_ltt_eu\": ((100-growth_allocation)*(100-p))/100,\n",
    "            \"1x_gold_eu\": ((100-growth_allocation)*(p))/100,\n",
    "        },\n",
    "        start_value = 1000,\n",
    "        rebalancing = relativedelta(months=3),\n",
    "        rebalancing_offset = relativedelta(days=-6),\n",
    "    ).backtest(etfs)\n",
    "    \n",
    "\n",
    "portfolios['HFEA'] = p_hfea\n",
    "short_names.append(\"HFEA\")\n",
    "portfolios['S&P500'] = p_sp500\n",
    "short_names.append('S&P500')\n",
    "portfolios['P'] = p_pari\n",
    "short_names.append('P')\n",
    "\n",
    "compare_portfolios(\n",
    "    portfolios,\n",
    "    short_names = short_names,\n",
    "    details=True,\n",
    ") "
   ]
  },
  {
   "cell_type": "markdown",
   "id": "banner-auckland",
   "metadata": {},
   "source": [
    "Adding gold to this portfolio is reducing the risk. Which is in line with our previous backtests. "
   ]
  },
  {
   "cell_type": "markdown",
   "id": "contrary-turning",
   "metadata": {},
   "source": [
    "### 65% Growth Allocation with 3x leveraged ETNs and without Nasdaq-100"
   ]
  },
  {
   "cell_type": "code",
   "execution_count": null,
   "id": "unlike-civilian",
   "metadata": {},
   "outputs": [],
   "source": [
    "allocations = list(range(0,101,5))\n",
    "growth_allocation = 65\n",
    "ndx_allocation = 15\n",
    "\n",
    "short_names = []\n",
    "portfolios = {}\n",
    "for p in allocations:\n",
    "    name = f\"{p}%\"\n",
    "    print(f\"Calculate: {name} Gold with Nasdaq-100\")\n",
    "    short_names.append(name)\n",
    "    portfolios[name] = Portfolio(\n",
    "        {\n",
    "            \"3x_sp500_eu\": (growth_allocation*(100-0))/100,\n",
    "            \"3x_ndx100_eu\": (growth_allocation*0)/100,\n",
    "            \"3x_itt_eu\": ((100-growth_allocation)*(100-p))/100,\n",
    "            \"1x_gold_eu\": ((100-growth_allocation)*(p))/100,\n",
    "        },\n",
    "        start_value = 1000,\n",
    "        rebalancing = relativedelta(months=3),\n",
    "        rebalancing_offset = relativedelta(days=-6),\n",
    "    ).backtest(etfs)\n",
    "    \n",
    "\n",
    "portfolios['HFEA'] = p_hfea\n",
    "short_names.append(\"HFEA\")\n",
    "portfolios['S&P500'] = p_sp500\n",
    "short_names.append('S&P500')\n",
    "portfolios['P'] = p_pari\n",
    "short_names.append('P')\n",
    "\n",
    "compare_portfolios(\n",
    "    portfolios,\n",
    "    short_names = short_names,\n",
    "    details=True,\n",
    ") "
   ]
  },
  {
   "cell_type": "markdown",
   "id": "terminal-square",
   "metadata": {},
   "source": [
    "So adding Gold here is slightly increasing the performance, but also the risk. "
   ]
  },
  {
   "cell_type": "markdown",
   "id": "reported-tamil",
   "metadata": {},
   "source": [
    "### HFEA with 25% of Nasdaq-100 allocation"
   ]
  },
  {
   "cell_type": "code",
   "execution_count": null,
   "id": "taken-temple",
   "metadata": {},
   "outputs": [],
   "source": [
    "allocations = list(range(0,101,5))\n",
    "growth_allocation = 55\n",
    "ndx_allocation = 25\n",
    "\n",
    "short_names = []\n",
    "portfolios = {}\n",
    "for p in allocations:\n",
    "    name = f\"{p}%\"\n",
    "    print(f\"Calculate: {name} Gold with Nasdaq-100\")\n",
    "    short_names.append(name)\n",
    "    portfolios[name] = Portfolio(\n",
    "        {\n",
    "            \"3x_sp500_us\": (growth_allocation*(100-40))/100,\n",
    "            \"3x_ndx100_us\": (growth_allocation*40)/100,\n",
    "            \"3x_ltt_us\": ((100-growth_allocation)*(100-p))/100,\n",
    "            \"1x_gold_us\": ((100-growth_allocation)*(p))/100,\n",
    "        },\n",
    "        start_value = 1000,\n",
    "        rebalancing = relativedelta(months=3),\n",
    "        rebalancing_offset = relativedelta(days=-6),\n",
    "    ).backtest(etfs)\n",
    "    \n",
    "\n",
    "portfolios['HFEA'] = p_hfea\n",
    "short_names.append(\"HFEA\")\n",
    "portfolios['S&P500'] = p_sp500\n",
    "short_names.append('S&P500')\n",
    "portfolios['P'] = p_pari\n",
    "short_names.append('P')\n",
    "\n",
    "compare_portfolios(\n",
    "    portfolios,\n",
    "    short_names = short_names,\n",
    "    details=True,\n",
    ") "
   ]
  },
  {
   "cell_type": "markdown",
   "id": "prime-sensitivity",
   "metadata": {},
   "source": [
    "So adding 5% Gold is giving less risk with more or less the same performance. "
   ]
  },
  {
   "cell_type": "markdown",
   "id": "painted-operation",
   "metadata": {},
   "source": [
    "## Summary\n",
    "\n",
    "It seems that it does not make too much sense to add Nasdaq-100 and Gold together. So actually is a decision where we either add Gold in order to anticipate higher inflation and interest rate or to add Nasdaq-100 to anticipate upcoming low interest rate for the next years and thus a strong performance of growth/tech stocks. "
   ]
  },
  {
   "cell_type": "code",
   "execution_count": null,
   "id": "floral-geography",
   "metadata": {},
   "outputs": [],
   "source": [
    "allocations = [\n",
    "    (\"2x S&P 500\",  ('2x_sp500_eu', 100), ('2x_ndx100_eu', 0),  ('1x_ltt_eu', 0),  ('1x_gold_eu', 0)),\n",
    "    \n",
    "    (\"50%\",         ('2x_sp500_eu', 50),  ('2x_ndx100_eu', 0),  ('1x_ltt_eu', 50), ('1x_gold_eu', 0)),\n",
    "    (\"50%+G\",       ('2x_sp500_eu', 50),  ('2x_ndx100_eu', 0),  ('1x_ltt_eu', 37.5), ('1x_gold_eu', 12.5)),\n",
    "    (\"50%+N\",       ('2x_sp500_eu', 42.5),  ('2x_ndx100_eu', 7.5), ('1x_ltt_eu', 50), ('1x_gold_eu', 0)),\n",
    "    (\"50%+NG\",      ('2x_sp500_eu', 42.5),  ('2x_ndx100_eu', 7.5),  ('1x_ltt_eu',37.50), ('1x_gold_eu', 12.5)),\n",
    "    \n",
    "    (\"65%\",         ('2x_sp500_eu', 65),  ('2x_ndx100_eu', 0),  ('1x_ltt_eu', 35), ('1x_gold_eu', 0)),\n",
    "    (\"65%+G\",       ('2x_sp500_eu', 65),  ('2x_ndx100_eu', 0),  ('1x_ltt_eu', 26.25), ('1x_gold_eu', 8.75)),\n",
    "    (\"65%+N\",       ('2x_sp500_eu', 55.25),  ('2x_ndx100_eu', 9.75),  ('1x_ltt_eu', 35), ('1x_gold_eu', 0)),\n",
    "    \n",
    "    (\"80%\",         ('2x_sp500_eu', 80),  ('2x_ndx100_eu', 0),  ('1x_ltt_eu', 20), ('1x_gold_eu', 0)),\n",
    "    (\"80%+G\",       ('2x_sp500_eu', 80),  ('2x_ndx100_eu', 0),  ('1x_ltt_eu', 15), ('1x_gold_eu', 5)),\n",
    "    (\"80%+N\",       ('2x_sp500_eu', 68),  ('2x_ndx100_eu', 12), ('1x_ltt_eu', 20), ('1x_gold_eu', 0)),\n",
    "    (\"80%+NG\",      ('2x_sp500_eu', 68),  ('2x_ndx100_eu', 12), ('1x_ltt_eu', 15), ('1x_gold_eu', 5)),\n",
    "    \n",
    "    (\"65% (3x)\",    ('3x_sp500_eu', 65),  ('3x_ndx100_eu', 0),  ('3x_itt_eu', 35), ('1x_gold_eu', 0)),\n",
    "    (\"65%+G (3x)\",  ('3x_sp500_eu', 65),  ('3x_ndx100_eu', 0),  ('3x_itt_eu', 26.25), ('1x_gold_eu', 8.75)),\n",
    "    (\"65%+N (3x)\",  ('3x_sp500_eu', 55.25), ('3x_ndx100_eu', 9.75),  ('3x_itt_eu', 35), ('1x_gold_eu', 0)),\n",
    "    \n",
    "    (\"HFEA\",        ('3x_sp500_us', 55),  ('3x_ndx100_us', 0),  ('3x_ltt_us', 45), ('1x_gold_us', 0)),\n",
    "    (\"HFEA+G\",      ('3x_sp500_us', 55),  ('3x_ndx100_us', 0),  ('3x_ltt_us', 33.75), ('1x_gold_us', 11.25)),\n",
    "    (\"HFEA+N\",      ('3x_sp500_us', 41.25),  ('3x_ndx100_us', 13.75), ('3x_ltt_us', 45), ('1x_gold_us', 0)),\n",
    "    (\"HFEA+NG\",     ('3x_sp500_us', 41.25),  ('3x_ndx100_us', 13.75),  ('3x_ltt_us', 38.25), ('1x_gold_us', 6.75)),\n",
    "]\n",
    "\n",
    "\n",
    "short_names = []\n",
    "portfolios = {}\n",
    "for a in allocations:\n",
    "    name = a[0]\n",
    "    print(f\"Calculate: {name}\")\n",
    "    short_names.append(name)\n",
    "    portfolios[name] = Portfolio(\n",
    "        {\n",
    "            a[1][0]: a[1][1],\n",
    "            a[2][0]: a[2][1],\n",
    "            a[3][0]: a[3][1],\n",
    "            a[4][0]: a[4][1],\n",
    "        },\n",
    "        start_value = 1000,\n",
    "        rebalancing = relativedelta(months=3),\n",
    "        rebalancing_offset = relativedelta(days=-6),\n",
    "    ).backtest(etfs)\n",
    "    \n",
    "\n",
    "portfolios['S&P500'] = p_sp500\n",
    "short_names.append('S&P500')\n",
    "\n",
    "compare_portfolios(\n",
    "    portfolios,\n",
    "    short_names = short_names,\n",
    "    details=True,\n",
    ") "
   ]
  }
 ],
 "metadata": {
  "kernelspec": {
   "display_name": "Python 3",
   "language": "python",
   "name": "python3"
  },
  "language_info": {
   "codemirror_mode": {
    "name": "ipython",
    "version": 3
   },
   "file_extension": ".py",
   "mimetype": "text/x-python",
   "name": "python",
   "nbconvert_exporter": "python",
   "pygments_lexer": "ipython3",
   "version": "3.9.12"
  }
 },
 "nbformat": 4,
 "nbformat_minor": 5
}
